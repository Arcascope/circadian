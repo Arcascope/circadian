{
 "cells": [
  {
   "attachments": {},
   "cell_type": "markdown",
   "metadata": {},
   "source": [
    "# Lights \n",
    "\n",
    "> Defines a LightSchedule class and implements typical schedules used in circadian models"
   ]
  },
  {
   "cell_type": "code",
   "execution_count": null,
   "metadata": {},
   "outputs": [],
   "source": [
    "#| default_exp lights"
   ]
  },
  {
   "cell_type": "code",
   "execution_count": 6,
   "metadata": {},
   "outputs": [],
   "source": [
    "#| hide\n",
    "from nbdev.showdoc import *\n",
    "from fastcore.test import *\n",
    "from fastcore.basics import *\n",
    "from circadian.plots import Actogram "
   ]
  },
  {
   "cell_type": "code",
   "execution_count": 4,
   "metadata": {},
   "outputs": [],
   "source": [
    "#| export \n",
    "import inspect\n",
    "import warnings\n",
    "import numpy as np\n",
    "import pylab as plt\n",
    "from typing import Callable\n",
    "from fastcore.basics import patch_to\n",
    "from numpy.core.fromnumeric import repeat"
   ]
  },
  {
   "cell_type": "code",
   "execution_count": 142,
   "metadata": {},
   "outputs": [],
   "source": [
    "#| export\n",
    "class LightSchedule:\n",
    "    \"Helper class for creating light schedules\"\n",
    "    def __init__(self, \n",
    "                 light: float | Callable, # light function that takes in a time value and returns a float, if a float is passed, then the light function is a constant set to that lux value \n",
    "                 period: float = None, # period in hours, if None, then the light pulse is not repeated. Must be positive\n",
    "                 ) -> None:\n",
    "        # period input checking\n",
    "        period_err_msg = \"`period` should be a positive `float` or `int`\"\n",
    "        if period != None:\n",
    "            if not isinstance(period, (int, float)):\n",
    "                raise TypeError(period_err_msg)\n",
    "            elif period <= 0:\n",
    "                raise ValueError(period_err_msg)\n",
    "            else:\n",
    "                period = float(period)\n",
    "        # light input checking \n",
    "        light_input_err_msg = \"`light` should be a nonnegative `float`, or a callable with a single `float` parameter which returns a `float`\"\n",
    "        if not callable(light):\n",
    "            try:\n",
    "                light = float(light)\n",
    "            except:\n",
    "                # catches when the provided light value can't be converted to a float\n",
    "                raise TypeError(light_input_err_msg)\n",
    "            if light < 0:\n",
    "                # catches when the provided light value is negative\n",
    "                raise ValueError(light_input_err_msg)\n",
    "            else:\n",
    "                # create a light function that is a constant set to the provided light value\n",
    "                light_fn = lambda t: light\n",
    "        else:\n",
    "            if len(inspect.signature(light).parameters) != 1:\n",
    "                # catches when the provided light function does not take in a single parameter\n",
    "                raise ValueError(light_input_err_msg)\n",
    "            else: \n",
    "                try:\n",
    "                    test_output = light(0.0)\n",
    "                    float(test_output)\n",
    "                except:\n",
    "                    # catches when the function created from light does not return values that can be cast to float\n",
    "                    raise ValueError(light_input_err_msg)\n",
    "            # create a light function that is the provided light function\n",
    "            if period != None:\n",
    "                light_fn = lambda t: light(np.mod(t, period))\n",
    "            else:\n",
    "                light_fn = light\n",
    "        # create a vectorized version of the light function that can take in numpy arrays\n",
    "        self._func = np.vectorize(light_fn, otypes=[float])\n",
    "\n",
    "    def __call__(self,\n",
    "                 time: np.ndarray, # time in hours \n",
    "                 ):\n",
    "        \"Returns the light intensity at the provided times\"\n",
    "        # t type checking\n",
    "        time_err_msg = \"`time` should be a `float` or a 1d `numpy.ndarray` of `float`\"\n",
    "        try:\n",
    "            time = np.array(time, dtype=float)\n",
    "            if time.ndim == 0:\n",
    "                try:\n",
    "                    time = float(time)\n",
    "                    time = np.array([time])\n",
    "                except:\n",
    "                    raise ValueError(time_err_msg)\n",
    "            elif time.ndim != 1:\n",
    "                raise ValueError(time_err_msg)\n",
    "        except:\n",
    "            raise ValueError(time_err_msg) \n",
    "        # calculate the light intensity at the provided times\n",
    "        light_values = self._func(time)\n",
    "        # throw a warning if any of the light values are negative\n",
    "        if np.any(light_values < 0):\n",
    "            warnings.warn(\"Some light values are negative\")\n",
    "        return light_values\n",
    "\n",
    "    @classmethod\n",
    "    def from_pulse(cls,\n",
    "                   lux: float, # light intensity of the pulse in lux. Must be nonnegative\n",
    "                   start: float, # start time in hours \n",
    "                   duration: float, # duration in hours. Must be positive\n",
    "                   period: float = None, # period in hours, if None, then the light pulse is not repeated. Must be positive\n",
    "                   baseline: float = 0.0, # baseline intensity outside of the light pulse in lux. Must be nonnegative\n",
    "                   ) -> \"LightSchedule\":\n",
    "        \"Define a light schedule with a single (or a repetitive) light pulse\"\n",
    "        # lux input checking\n",
    "        lux_err_msg = \"`lux` should be a nonnegative `float` or `int`\"\n",
    "        if not isinstance(lux, (int, float)):\n",
    "            raise TypeError(lux_err_msg)\n",
    "        elif lux < 0:\n",
    "            raise ValueError(lux_err_msg)\n",
    "        else:\n",
    "            lux = float(lux)\n",
    "        # start input checking\n",
    "        start_err_msg = \"`start` should be a `float` or `int`\"\n",
    "        if not isinstance(start, (int, float)):\n",
    "            raise TypeError(start_err_msg)\n",
    "        else:\n",
    "            start = float(start)\n",
    "        # duration input checking\n",
    "        duration_err_msg = \"`duration` should be a positive `float` or `int`\"\n",
    "        if not isinstance(duration, (int, float)):\n",
    "            raise TypeError(duration_err_msg)\n",
    "        elif duration <= 0:\n",
    "            raise ValueError(duration_err_msg)\n",
    "        else:\n",
    "            duration = float(duration)\n",
    "        # period input checking\n",
    "        period_err_msg = \"`period` should be a positive `float` or `int`\"\n",
    "        if period != None:\n",
    "            if not isinstance(period, (int, float)):\n",
    "                raise TypeError(period_err_msg)\n",
    "            elif period <= 0:\n",
    "                raise ValueError(period_err_msg)\n",
    "            else:\n",
    "                period = float(period)\n",
    "        # baseline input checking\n",
    "        baseline_err_msg = \"`baseline` should be a nonnegative `float` or `int`\"\n",
    "        if not isinstance(baseline, (int, float)):\n",
    "            raise TypeError(baseline_err_msg)\n",
    "        elif baseline < 0:\n",
    "            raise ValueError(baseline_err_msg)\n",
    "        else:\n",
    "            baseline = float(baseline)\n",
    "        # create the light schedule\n",
    "        def fn(time):\n",
    "            baseline_zone = (time < start) | (time > start + duration)\n",
    "            light_zone = (time >= start) & (time <= start + duration)\n",
    "            conditions = [baseline_zone, light_zone]\n",
    "            values = [baseline, lux]\n",
    "            return np.piecewise(time, conditions, values)\n",
    "        return cls(fn, period=period)"
   ]
  },
  {
   "cell_type": "code",
   "execution_count": 178,
   "metadata": {},
   "outputs": [],
   "source": [
    "#| hide\n",
    "# test LightSchedule's init\n",
    "test_eq(LightSchedule(1.0)._func(0.0), 1.0)\n",
    "test_eq(LightSchedule(1)._func(0.0), 1.0)\n",
    "test_eq(LightSchedule(lambda t: t)._func(0.0), 0.0)\n",
    "test_eq(LightSchedule(lambda t: 2*t)._func(10.0), 20.0)\n",
    "test_eq(LightSchedule(lambda t: t)._func([0.0, 1.0, 2.0]), [0.0, 1.0, 2.0])\n",
    "test_eq(LightSchedule(lambda t: t)._func(np.array([0.0, 1.0, 2.0])), np.array([0.0, 1.0, 2.0]))\n",
    "# test periodic light schedules\n",
    "test_eq(LightSchedule(lambda t: t, period=24.0)._func(0.0), 0.0)\n",
    "test_eq(LightSchedule(lambda t: t, period=24.0)._func(25.0), 1.0)\n",
    "# test error handling for light\n",
    "light_input_err_msg = \"`light` should be a `float`, or a callable with a single `float` parameter which returns `float`\"\n",
    "test_fail(lambda: LightSchedule('a'), msg=light_input_err_msg)\n",
    "test_fail(lambda: LightSchedule([]), msg=light_input_err_msg)\n",
    "test_fail(lambda: LightSchedule(lambda x: 'a'), msg=light_input_err_msg)\n",
    "test_fail(lambda: LightSchedule(lambda x: []), msg=light_input_err_msg)\n",
    "test_fail(lambda: LightSchedule(lambda x, y: 1.0), msg=light_input_err_msg)\n",
    "test_fail(lambda: LightSchedule(-1.0), msg=light_input_err_msg)\n",
    "# test error handling for period\n",
    "period_err_msg = \"`period` should be a positive `float` or `int`\"\n",
    "test_fail(lambda: LightSchedule(lambda t: t, period='a'), msg=period_err_msg)\n",
    "test_fail(lambda: LightSchedule(lambda t: t, period=[]), msg=period_err_msg)\n",
    "test_fail(lambda: LightSchedule(lambda t: t, period=lambda t: t), msg=period_err_msg)\n",
    "test_fail(lambda: LightSchedule(lambda t: t, period=-1.0), msg=period_err_msg)\n",
    "test_fail(lambda: LightSchedule(lambda t: t, period=0.0), msg=period_err_msg)"
   ]
  },
  {
   "cell_type": "code",
   "execution_count": 180,
   "metadata": {},
   "outputs": [],
   "source": [
    "#| hide\n",
    "# test LightSchedule's call\n",
    "test_eq(LightSchedule(1.0)(0.0), 1.0)\n",
    "test_eq(LightSchedule(1.0)([0.0, 1.0, 2.0]), [1.0, 1.0, 1.0])\n",
    "test_eq(LightSchedule(1.0)(np.array([0.0, 1.0, 2.0])), np.array([1.0, 1.0, 1.0]))\n",
    "test_eq(LightSchedule(lambda t: t)(0.0), 0.0)\n",
    "test_eq(LightSchedule(lambda t: t)([0.0, 1.0, 2.0]), [0.0, 1.0, 2.0])\n",
    "test_eq(LightSchedule(lambda t: t)(np.array([0.0, 1.0, 2.0])), np.array([0.0, 1.0, 2.0]))\n",
    "test_eq(LightSchedule(lambda t: 2*t)(10.0), 20.0)\n",
    "test_eq(LightSchedule(lambda t: 2*t)([0.0, 1.0, 2.0]), [0.0, 2.0, 4.0])\n",
    "# test periodic light schedules\n",
    "test_eq(LightSchedule(lambda t: t, period=24.0)(0.0), 0.0)\n",
    "test_eq(LightSchedule(lambda t: t, period=24.0)(25.0), 1.0)\n",
    "# test error handling\n",
    "time_err_msg = \"`time` should be a `float` or a 1d `numpy.ndarray` of `float`\"\n",
    "test_fail(lambda: LightSchedule(1.0)('a'), msg=time_err_msg)\n",
    "test_fail(lambda: LightSchedule(1.0)(np.zeros((2,2))), msg=time_err_msg)\n",
    "# test passing an object that can't be converted to numpy array\n",
    "test_fail(lambda: LightSchedule(1.0)(object()), msg=time_err_msg)\n",
    "# test warning of negative light values\n",
    "with warnings.catch_warnings(record=True) as w:\n",
    "    warnings.simplefilter(\"always\")\n",
    "    LightSchedule(lambda t: -1.0)(0.0)\n",
    "    assert len(w) == 1\n",
    "    assert issubclass(w[-1].category, UserWarning)\n",
    "    assert \"Some light values are negative\" in str(w[-1].message)"
   ]
  },
  {
   "cell_type": "code",
   "execution_count": 181,
   "metadata": {},
   "outputs": [],
   "source": [
    "#| hide\n",
    "# test LightSchedule.from_pulse\n",
    "def ground_truth_schedule(time):\n",
    "    if time < 1.0 or time > 3.0:\n",
    "        return 0.0\n",
    "    else:\n",
    "        return 100.0\n",
    "ground_truth_schedule = np.vectorize(ground_truth_schedule, otypes=[float])\n",
    "schedule = LightSchedule.from_pulse(100.0, 1.0, 2.0)\n",
    "time = np.linspace(0.0, 48.0, 1000)\n",
    "test_eq(schedule(time), ground_truth_schedule(time))\n",
    "# test repetitive pulse\n",
    "def ground_truth_repetitive_schedule(time):\n",
    "    t = np.mod(time, 24.0)\n",
    "    if t < 1.0 or t > 3.0:\n",
    "        return 0.0\n",
    "    else:\n",
    "        return 100.0\n",
    "ground_truth_repetitive_schedule = np.vectorize(ground_truth_repetitive_schedule, otypes=[float])\n",
    "repetitive_schedule = LightSchedule.from_pulse(100.0, 1.0, 2.0, 24.0)\n",
    "time = np.linspace(0.0, 48.0, 1000)\n",
    "test_eq(repetitive_schedule(time), ground_truth_repetitive_schedule(time))\n",
    "# test error handling\n",
    "lux_err_msg = \"`lux` should be a nonnegative `float` or `int`\"\n",
    "test_fail(lambda: LightSchedule.from_pulse(-1.0, 1.0, 2.0), msg=lux_err_msg)\n",
    "test_fail(lambda: LightSchedule.from_pulse('a', 1.0, 2.0), msg=lux_err_msg)\n",
    "test_fail(lambda: LightSchedule.from_pulse([], 1.0, 2.0), msg=lux_err_msg)\n",
    "test_fail(lambda: LightSchedule.from_pulse(lambda t: t, 1.0, 2.0), msg=lux_err_msg)\n",
    "start_err_msg = \"`start` should be a `float` or `int`\"\n",
    "test_fail(lambda: LightSchedule.from_pulse(100.0, 'a', 2.0), msg=start_err_msg)\n",
    "test_fail(lambda: LightSchedule.from_pulse(100.0, [], 2.0), msg=start_err_msg)\n",
    "test_fail(lambda: LightSchedule.from_pulse(100.0, lambda t: t, 2.0), msg=start_err_msg)\n",
    "duration_err_msg = \"`duration` should be a positive `float` or `int`\"\n",
    "test_fail(lambda: LightSchedule.from_pulse(100.0, 1.0, 0.0), msg=duration_err_msg)\n",
    "test_fail(lambda: LightSchedule.from_pulse(100.0, 1.0, -2.0), msg=duration_err_msg)\n",
    "test_fail(lambda: LightSchedule.from_pulse(100.0, 1.0, 'a'), msg=duration_err_msg)\n",
    "test_fail(lambda: LightSchedule.from_pulse(100.0, 1.0, []), msg=duration_err_msg)\n",
    "test_fail(lambda: LightSchedule.from_pulse(100.0, 1.0, lambda t: t), msg=duration_err_msg)\n",
    "period_err_msg = \"`period` should be a positive `float` or `int`\"\n",
    "test_fail(lambda: LightSchedule.from_pulse(100.0, 1.0, 2.0, 0.0), msg=period_err_msg)\n",
    "test_fail(lambda: LightSchedule.from_pulse(100.0, 1.0, 2.0, -2.0), msg=period_err_msg)\n",
    "test_fail(lambda: LightSchedule.from_pulse(100.0, 1.0, 2.0, 'a'), msg=period_err_msg)\n",
    "test_fail(lambda: LightSchedule.from_pulse(100.0, 1.0, 2.0, []), msg=period_err_msg)\n",
    "test_fail(lambda: LightSchedule.from_pulse(100.0, 1.0, 2.0, lambda t: t), msg=period_err_msg)\n",
    "baseline_err_msg = \"`baseline` should be a nonnegative `float` or `int`\"\n",
    "test_fail(lambda: LightSchedule.from_pulse(100.0, 1.0, 2.0, baseline=-1.0), msg=baseline_err_msg)\n",
    "test_fail(lambda: LightSchedule.from_pulse(100.0, 1.0, 2.0, baseline='a'), msg=baseline_err_msg)\n",
    "test_fail(lambda: LightSchedule.from_pulse(100.0, 1.0, 2.0, baseline=[]), msg=baseline_err_msg)\n",
    "test_fail(lambda: LightSchedule.from_pulse(100.0, 1.0, 2.0, baseline=lambda t: t), msg=baseline_err_msg)"
   ]
  },
  {
   "cell_type": "code",
   "execution_count": 182,
   "metadata": {},
   "outputs": [],
   "source": [
    "#| export\n",
    "@patch_to(LightSchedule)\n",
    "def __add__(self, \n",
    "            schedule: 'LightSchedule' # another LightSchedule object \n",
    "            ) -> 'LightSchedule':\n",
    "    \"Calculate the sum of the two LightSchedules\" \n",
    "    # check that the schedule input is a LightSchedule\n",
    "    schedule_err_msg = \"`schedule` should be a `LightSchedule` object\"\n",
    "    if not isinstance(schedule, LightSchedule):\n",
    "        raise TypeError(schedule_err_msg)\n",
    "    fn_1 = self._func\n",
    "    fn_2 = schedule._func\n",
    "    lux = lambda t: fn_1(t) + fn_2(t)\n",
    "    return LightSchedule(lux)"
   ]
  },
  {
   "cell_type": "code",
   "execution_count": 183,
   "metadata": {},
   "outputs": [],
   "source": [
    "#| hide\n",
    "# test LightSchedule's add\n",
    "time = np.linspace(0.0, 48.0, 1000)\n",
    "constant_1 = LightSchedule(1.0)\n",
    "constant_2 = LightSchedule(2.0)\n",
    "test_eq((constant_1 + constant_2)(time), 3.0*np.ones_like(time))\n",
    "# test combining two pulse schedules that don't repeat\n",
    "def ground_truth_pulses_combined(time):\n",
    "    if time < 1.0:\n",
    "        return 0.0\n",
    "    elif time >= 1.0 and time < 3.0:\n",
    "        return 100.0\n",
    "    elif time >= 3.0 and time < 5.0:\n",
    "        return 0.0\n",
    "    elif time >= 5.0 and time < 10.0:\n",
    "        return 50.0\n",
    "    else:\n",
    "        return 0.0\n",
    "\n",
    "ground_truth_pulses_combined = np.vectorize(ground_truth_pulses_combined, otypes=[float])\n",
    "schedule_1 = LightSchedule.from_pulse(100.0, 1.0, 2.0)\n",
    "schedule_2 = LightSchedule.from_pulse(50.0, 5.0, 5.0)\n",
    "schedule = schedule_1 + schedule_2\n",
    "time = np.linspace(0.0, 48.0, 1000)\n",
    "test_eq(schedule(time), ground_truth_pulses_combined(time))\n",
    "# test combining two repetitive pulses\n",
    "def ground_truth_repetitive_pulses_combined(time):\n",
    "    t = np.mod(time, 13.0) \n",
    "    if t < 1.0:\n",
    "        return 0.0\n",
    "    elif t >= 1.0 and t < 3.0:\n",
    "        return 100.0\n",
    "    elif t >= 3.0 and t < 5.0:\n",
    "        return 0.0\n",
    "    elif t >= 5.0 and t < 10.0:\n",
    "        return 50.0\n",
    "    else:\n",
    "        return 0.0\n",
    "\n",
    "ground_truth_repetitive_pulses_combined = np.vectorize(ground_truth_repetitive_pulses_combined, otypes=[float])\n",
    "repetitive_schedule_1 = LightSchedule.from_pulse(100.0, 1.0, 2.0, 13.0)\n",
    "repetitive_schedule_2 = LightSchedule.from_pulse(50.0, 5.0, 5.0, 13.0)\n",
    "repetitive_schedule = repetitive_schedule_1 + repetitive_schedule_2\n",
    "time = np.linspace(0.0, 150.0, 1000)\n",
    "test_eq(repetitive_schedule(time), ground_truth_repetitive_pulses_combined(time))\n",
    "# TODO: fix edge case when the two schedules match at a single point\n",
    "# test error handling\n",
    "schedule_err_msg = \"`schedule` should be a `LightSchedule` object\"\n",
    "test_fail(lambda: LightSchedule(1.0) + 1.0, msg=schedule_err_msg)\n",
    "test_fail(lambda: LightSchedule(1.0) + [], msg=schedule_err_msg)"
   ]
  },
  {
   "cell_type": "code",
   "execution_count": 184,
   "metadata": {},
   "outputs": [],
   "source": [
    "#| export\n",
    "@patch_to(LightSchedule)\n",
    "def __sub__(self,\n",
    "            schedule: 'LightSchedule' # another LightSchedule object\n",
    "            ) -> 'LightSchedule':\n",
    "    \"Calculate the difference between two LightSchedules\"\n",
    "    # check that the schedule input is a LightSchedule\n",
    "    schedule_err_msg = \"`schedule` should be a `LightSchedule` object\"\n",
    "    if not isinstance(schedule, LightSchedule):\n",
    "        raise TypeError(schedule_err_msg)\n",
    "    fn_1 = self._func\n",
    "    fn_2 = schedule._func\n",
    "    lux = lambda t: fn_1(t) - fn_2(t)\n",
    "    return LightSchedule(lux)"
   ]
  },
  {
   "cell_type": "code",
   "execution_count": 185,
   "metadata": {},
   "outputs": [],
   "source": [
    "#| hide\n",
    "# test LightSchedule's sub\n",
    "time = np.linspace(0.0, 48.0, 1000)\n",
    "constant_1 = LightSchedule(10.0)\n",
    "constant_2 = LightSchedule(3.0)\n",
    "test_eq((constant_1 - constant_2)(time), 7.0*np.ones_like(time))\n",
    "# test combining two pulse schedules that don't repeat\n",
    "def ground_truth_pulses_subtract(time):\n",
    "    if time >= 5.0 and time < 10.0:\n",
    "        return 50.0\n",
    "    else:\n",
    "        return 0.0\n",
    "\n",
    "ground_truth_pulses_subtract = np.vectorize(ground_truth_pulses_subtract, otypes=[float])\n",
    "schedule_1 = LightSchedule.from_pulse(100.0, 5.0, 5.0)\n",
    "schedule_2 = LightSchedule.from_pulse(50.0, 5.0, 5.0)\n",
    "schedule = schedule_1 - schedule_2\n",
    "test_eq(schedule(time), ground_truth_pulses_subtract(time))\n",
    "# test combining two repetitive pulses\n",
    "def ground_truth_repetitive_pulses_subtract(time):\n",
    "    t = np.mod(time, 13.0) \n",
    "    if t >= 5.0 and t < 10.0:\n",
    "        return 50.0\n",
    "    else:\n",
    "        return 0.0\n",
    "\n",
    "ground_truth_repetitive_pulses_subtract = np.vectorize(ground_truth_repetitive_pulses_subtract, otypes=[float])\n",
    "repetitive_schedule_1 = LightSchedule.from_pulse(100.0, 5.0, 5.0, 13.0)\n",
    "repetitive_schedule_2 = LightSchedule.from_pulse(50.0, 5.0, 5.0, 13.0)\n",
    "repetitive_schedule = repetitive_schedule_1 - repetitive_schedule_2\n",
    "test_eq(repetitive_schedule(time), ground_truth_repetitive_pulses_subtract(time))\n",
    "# TODO: fix edge case when the two schedules match at a single point\n",
    "# test error handling\n",
    "schedule_err_msg = \"`schedule` should be a `LightSchedule` object\"\n",
    "test_fail(lambda: LightSchedule(1.0) - 1.0, msg=schedule_err_msg)\n",
    "test_fail(lambda: LightSchedule(1.0) - [], msg=schedule_err_msg)"
   ]
  },
  {
   "cell_type": "code",
   "execution_count": 220,
   "metadata": {},
   "outputs": [],
   "source": [
    "# hide\n",
    "@patch_to(LightSchedule)\n",
    "def concatenate_at(self,\n",
    "                   schedule : 'LightSchedule', # another LightSchedule object\n",
    "                   timepoint: float, # timepoint (in hours) at which schedules are concatenated\n",
    "                   shift_schedule: bool = True, # if True, then the schedule is shifted by the timepoint value\n",
    "                   ) -> 'LightSchedule':\n",
    "    \"Concatenate in time two LightSchedules at the provided timepoint. Function calls for `schedule` are shifted by the timepoint value if `shift_schedule` is True. \"\n",
    "    # check that the schedule input is a LightSchedule\n",
    "    schedule_err_msg = \"`schedule` should be a `LightSchedule` object\"\n",
    "    if not isinstance(schedule, LightSchedule):\n",
    "        raise TypeError(schedule_err_msg)\n",
    "    # check that the timepoint input is a float\n",
    "    timepoint_err_msg = \"`timepoint` should be a `float` or `int`\"\n",
    "    if not isinstance(timepoint, (int, float)):\n",
    "        raise TypeError(timepoint_err_msg)\n",
    "    else:\n",
    "        timepoint = float(timepoint)\n",
    "    # check that the shift_schedule input is a bool\n",
    "    shift_schedule_err_msg = \"`shift_schedule` should be a `bool`\"\n",
    "    if not isinstance(shift_schedule, bool):\n",
    "        raise TypeError(shift_schedule_err_msg)\n",
    "    # create the new schedule\n",
    "    fn_1 = self._func\n",
    "    fn_2 = schedule._func\n",
    "    def fn(t):\n",
    "        func_1_zone = t < timepoint\n",
    "        func_2_zone = t >= timepoint\n",
    "        conditions = [func_1_zone, func_2_zone]\n",
    "        if shift_schedule:\n",
    "            values = [fn_1(t), fn_2(t-timepoint)]\n",
    "        else:\n",
    "            values = [fn_1(t), fn_2(t)]\n",
    "        return np.piecewise(t, conditions, values)\n",
    "    return LightSchedule(fn)"
   ]
  },
  {
   "cell_type": "code",
   "execution_count": 237,
   "metadata": {},
   "outputs": [],
   "source": [
    "#| hide\n",
    "# test LightSchedule's concatenate_at\n",
    "time = np.linspace(0.0, 48.0, 1000)\n",
    "timepoint = 24.0\n",
    "constant_1 = LightSchedule(1.0)\n",
    "constant_2 = LightSchedule(2.0)\n",
    "ground_truth_before = np.ones_like(time[time < timepoint])\n",
    "ground_truth_after = 2.0*np.ones_like(time[time >= timepoint])\n",
    "test_eq(constant_1.concatenate_at(constant_2, timepoint)(time), np.concatenate((ground_truth_before, ground_truth_after)))\n",
    "# test combining two pulse schedules that don't repeat\n",
    "def ground_truth_pulses_concatenate(time):\n",
    "    if time < 1.0:\n",
    "        return 0.0\n",
    "    elif time >= 1.0 and time < 3.0:\n",
    "        return 100.0\n",
    "    elif time >= 3.0 and time < 5.0:\n",
    "        return 0.0\n",
    "    elif time >= 5.0 and time < 10.0:\n",
    "        return 50.0\n",
    "    else:\n",
    "        return 0.0\n",
    "\n",
    "ground_truth_pulses_concatenate = np.vectorize(ground_truth_pulses_concatenate, otypes=[float])\n",
    "schedule_1 = LightSchedule.from_pulse(100.0, 1.0, 2.0)\n",
    "schedule_2 = LightSchedule.from_pulse(50.0, 2.0, 5.0)\n",
    "schedule = schedule_1.concatenate_at(schedule_2, 3.0)\n",
    "test_eq(schedule(time), ground_truth_pulses_concatenate(time))\n",
    "# same schedule but built from constant portions\n",
    "constant_1 = LightSchedule(0.0)\n",
    "constant_2 = LightSchedule(100.0)\n",
    "constant_3 = LightSchedule(50.0)\n",
    "schedule_const = constant_1.concatenate_at(constant_2, 1.0)\n",
    "schedule_const = schedule_const.concatenate_at(constant_1, 3.0)\n",
    "schedule_const = schedule_const.concatenate_at(constant_3, 5.0)\n",
    "schedule_const = schedule_const.concatenate_at(constant_1, 10.0)\n",
    "test_eq(schedule_const(time), ground_truth_pulses_concatenate(time))\n",
    "# test combining two repetitive pulses\n",
    "def ground_truth_repetitive_pulses_concatenate(time):\n",
    "    if time < 13*4 + 2:\n",
    "        t = np.mod(time, 13.0) \n",
    "        if t < 1.0:\n",
    "            return 0.0\n",
    "        elif t >= 1.0 and t < 3.0:\n",
    "            return 100.0\n",
    "        else:\n",
    "            return 0.0\n",
    "    else:\n",
    "        t = np.mod(time - 2, 26.0) # note the shift in time\n",
    "        if t < 1.0:\n",
    "            return 0.0\n",
    "        elif t >= 2.0 and t < 5.0:\n",
    "            return 50.0\n",
    "        else:\n",
    "            return 0.0\n",
    "\n",
    "ground_truth_repetitive_pulses_concatenate = np.vectorize(ground_truth_repetitive_pulses_concatenate, otypes=[float])\n",
    "repetitive_schedule_1 = LightSchedule.from_pulse(100.0, 1.0, 2.0, 13.0)\n",
    "repetitive_schedule_2 = LightSchedule.from_pulse(50.0, 2.0, 3.0, 26.0)\n",
    "repetitive_schedule = repetitive_schedule_1.concatenate_at(repetitive_schedule_2, 13*4 + 2)\n",
    "time = np.linspace(0.0, 13*4 + 26*4, 5000)\n",
    "test_eq(repetitive_schedule(time), ground_truth_repetitive_pulses_concatenate(time))\n",
    "# test combining two repetitive pulses with shift_schedule=False\n",
    "def ground_truth_repetitive_pulses_concatenate_no_shift(time):\n",
    "    if time < 13*4:\n",
    "        t = np.mod(time, 13.0) \n",
    "        if t < 1.0:\n",
    "            return 0.0\n",
    "        elif t >= 1.0 and t < 3.0:\n",
    "            return 100.0\n",
    "        else:\n",
    "            return 0.0\n",
    "    else:\n",
    "        t = np.mod(time, 26.0) \n",
    "        if t < 1.0:\n",
    "            return 0.0\n",
    "        elif t >= 2.0 and t < 5.0:\n",
    "            return 50.0\n",
    "        else:\n",
    "            return 0.0\n",
    "\n",
    "ground_truth_repetitive_pulses_concatenate_no_shift = np.vectorize(ground_truth_repetitive_pulses_concatenate_no_shift, otypes=[float])\n",
    "repetitive_schedule_1 = LightSchedule.from_pulse(100.0, 1.0, 2.0, 13.0)\n",
    "repetitive_schedule_2 = LightSchedule.from_pulse(50.0, 2.0, 3.0, 26.0)\n",
    "repetitive_schedule = repetitive_schedule_1.concatenate_at(repetitive_schedule_2, 13*4, shift_schedule=False)\n",
    "test_eq(repetitive_schedule(time), ground_truth_repetitive_pulses_concatenate_no_shift(time))\n",
    "# test error handling\n",
    "schedule_err_msg = \"`schedule` should be a `LightSchedule` object\"\n",
    "test_fail(lambda: LightSchedule(1.0).concatenate_at(1.0, 1.0), msg=schedule_err_msg)\n",
    "test_fail(lambda: LightSchedule(1.0).concatenate_at([], 1.0), msg=schedule_err_msg)\n",
    "test_fail(lambda: LightSchedule(1.0).concatenate_at(lambda t: t, 1.0), msg=schedule_err_msg)\n",
    "timepoint_err_msg = \"`timepoint` should be a `float` or `int`\"\n",
    "test_fail(lambda: LightSchedule(1.0).concatenate_at(LightSchedule(1.0), 'a'), msg=timepoint_err_msg)\n",
    "test_fail(lambda: LightSchedule(1.0).concatenate_at(LightSchedule(1.0), []), msg=timepoint_err_msg)\n",
    "test_fail(lambda: LightSchedule(1.0).concatenate_at(LightSchedule(1.0), lambda t: t), msg=timepoint_err_msg)\n",
    "shift_schedule_err_msg = \"`shift_schedule` should be a `bool`\"\n",
    "test_fail(lambda: LightSchedule(1.0).concatenate_at(LightSchedule(1.0), 1.0, shift_schedule='a'), msg=shift_schedule_err_msg)"
   ]
  },
  {
   "cell_type": "code",
   "execution_count": 238,
   "metadata": {},
   "outputs": [],
   "source": [
    "#| export\n",
    "@patch_to(LightSchedule)\n",
    "def plot(self, \n",
    "         plot_start_time: float, # start time of the plot in hours\n",
    "         plot_end_time: float, # end time of the plot in hours\n",
    "         num_samples: int=10000, # number of samples to plot\n",
    "         ax=None, # matplotlib axis to plot on\n",
    "         *args, # arguments to pass to matplotlib.pyplot.plot\n",
    "         **kwargs # keyword arguments to pass to matplotlib.pyplot.plot\n",
    "         ) -> plt.Axes:\n",
    "    \"Plot the light function between `start_time` and `end_time` with `num_samples` samples\"\n",
    "    # type checking\n",
    "    if not isinstance(plot_start_time, (float, int)):\n",
    "        raise ValueError(f\"plot_start_time must be a float or int, got {type(plot_start_time)}\")\n",
    "    if not isinstance(plot_end_time, (float, int)):\n",
    "        raise ValueError(f\"plot_end_time must be a float or int, got {type(plot_end_time)}\")\n",
    "    if ax is not None:\n",
    "        if not isinstance(ax, plt.Axes):\n",
    "            raise ValueError(f\"ax must be a matplotlib Axes object, got {type(ax)}\")\n",
    "    if num_samples is not None:\n",
    "        if not isinstance(num_samples, int):\n",
    "            raise ValueError(f\"num_samples must be an int, got {type(num_samples)}\")\n",
    "    \n",
    "    t = np.linspace(plot_start_time, plot_end_time, num_samples)\n",
    "    vals = self.__call__(t)\n",
    "    if ax is None:\n",
    "        plt.figure()\n",
    "        ax = plt.gca()\n",
    "\n",
    "    ax.plot(t, vals, *args, **kwargs)\n",
    "    return ax"
   ]
  },
  {
   "cell_type": "code",
   "execution_count": 239,
   "metadata": {},
   "outputs": [],
   "source": [
    "#| hide\n",
    "# Tests: Plot type checking\n",
    "schedule = LightSchedule.from_pulse(100.0, 1.0, 2.0, 24.0)\n",
    "test_fail(lambda: schedule.plot(\"a\", 1), contains=\"plot_start_time must be a float or int\")\n",
    "test_fail(lambda: schedule.plot(0, \"a\"), contains=\"plot_end_time must be a float or int\")\n",
    "test_fail(lambda: schedule.plot(0, 1, num_samples=\"a\"), contains=\"num_samples must be an int\")\n",
    "test_fail(lambda: schedule.plot(0, 1, ax=\"a\"), contains=\"ax must be a matplotlib Axes object\")"
   ]
  },
  {
   "cell_type": "code",
   "execution_count": 240,
   "metadata": {},
   "outputs": [
    {
     "data": {
      "image/png": "[encoded data removed]",
      "text/plain": [
       "<Figure size 640x480 with 1 Axes>"
      ]
     },
     "metadata": {},
     "output_type": "display_data"
    }
   ],
   "source": [
    "#| hide\n",
    "schedule = LightSchedule.from_pulse(100.0, 1.0, 2.0, 24.0)\n",
    "ax = schedule.plot(0.0, 48.0)\n",
    "ax.set_xlabel('Time (hours)');\n",
    "ax.set_ylabel('Light (lux)');\n",
    "ax.set_ylim(-5, 110);"
   ]
  },
  {
   "cell_type": "code",
   "execution_count": 241,
   "metadata": {},
   "outputs": [
    {
     "data": {
      "image/png": "[encoded data removed]",
      "text/plain": [
       "<Figure size 640x480 with 1 Axes>"
      ]
     },
     "metadata": {},
     "output_type": "display_data"
    }
   ],
   "source": [
    "#| hide\n",
    "sum_schedule = LightSchedule.from_pulse(100.0, 6.0, 2.0, 24.0) + LightSchedule.from_pulse(50.0, 5.0, 5.0, 24.0)\n",
    "ax = sum_schedule.plot(0.0, 48.0)\n",
    "ax.set_xlabel('Time (hours)');\n",
    "ax.set_ylabel('Light (lux)');\n",
    "ax.set_ylim(-5, 160);"
   ]
  },
  {
   "cell_type": "code",
   "execution_count": 242,
   "metadata": {},
   "outputs": [
    {
     "data": {
      "image/png": "[encoded data removed]",
      "text/plain": [
       "<Figure size 640x480 with 1 Axes>"
      ]
     },
     "metadata": {},
     "output_type": "display_data"
    }
   ],
   "source": [
    "#| hide\n",
    "sum_schedule = LightSchedule.from_pulse(50.0, 5.0, 5.0, 24.0) - LightSchedule.from_pulse(20.0, 6.0, 2.0, 24.0)\n",
    "ax = sum_schedule.plot(0.0, 48.0)\n",
    "ax.set_xlabel('Time (hours)');\n",
    "ax.set_ylabel('Light (lux)');\n",
    "ax.set_ylim(-5, 60);"
   ]
  },
  {
   "cell_type": "code",
   "execution_count": 243,
   "metadata": {},
   "outputs": [],
   "source": [
    "#| export\n",
    "@patch_to(LightSchedule)\n",
    "def RegularLight(lux: float=150.0, # intensity of the light in lux\n",
    "                 lights_on: float=7.0, # time of the day for lights to come on in hours\n",
    "                 lights_off: float=23.0, # time of the day for lights to go off in hours\n",
    "                 ) -> 'LightSchedule':\n",
    "    \"Create a regular light and darkness 24 hour schedule\"\n",
    "    # type checking\n",
    "    if not isinstance(lux, (float, int)):\n",
    "        raise TypeError(f\"lux must be a nonnegative float or int, got {type(lux)}\")\n",
    "    elif lux < 0.0:\n",
    "        raise ValueError(f\"lux must be a nonnegative float or int, got {lux}\")\n",
    "    if not isinstance(lights_on, (float, int)):\n",
    "        raise TypeError(f\"lights_on must be a float or int, got {type(lights_on)}\")\n",
    "    elif lights_on < 0.0 or lights_on > 24.0:\n",
    "        raise ValueError(f\"lights_on must be between 0.0 and 24.0, got {lights_on}\")\n",
    "    if not isinstance(lights_off, (float, int)):\n",
    "        raise TypeError(f\"lights_off must be a float or int, got {type(lights_off)}\")\n",
    "    elif lights_off < 0.0 or lights_off > 24.0:\n",
    "        raise ValueError(f\"lights_off must be between 0.0 and 24.0, got {lights_off}\")\n",
    "    \n",
    "    if lights_off > lights_on:\n",
    "        schedule = LightSchedule.from_pulse(lux, lights_on, lights_off - lights_on, 24.0)\n",
    "        return schedule\n",
    "    elif lights_off < lights_on:\n",
    "        schedule = LightSchedule.from_pulse(lux, lights_on, 24.0 - lights_on, 24.0)\n",
    "        schedule = schedule + LightSchedule.from_pulse(lux, 0.0, lights_off, 24.0)\n",
    "        return schedule\n",
    "    elif lights_off == lights_on:\n",
    "        raise ValueError(\"lights_off and lights_on cannot be equal\")"
   ]
  },
  {
   "cell_type": "code",
   "execution_count": 244,
   "metadata": {},
   "outputs": [],
   "source": [
    "#| hide\n",
    "# test RegularLight\n",
    "time = np.linspace(0.0, 48.0, 1000)\n",
    "# correct creation of standard RegularLight\n",
    "regular_light = LightSchedule.RegularLight()\n",
    "test_eq(np.all(regular_light(time[time < 7.0]) == 0.0), True)\n",
    "test_eq(np.all(regular_light(time[(time >= 7.0) & (time <= 23.0)]) == 150.0), True)\n",
    "test_eq(np.all(regular_light(time[(time > 23.0) & (time < 24.0)]) == 0.0), True)\n",
    "test_eq(np.all(regular_light(time[(time >= 24.0) & (time < 7.0 + 24.0)]) == 0.0), True)\n",
    "test_eq(np.all(regular_light(time[(time >= 7.0 + 24.0) & (time <= 23.0 + 24.0)]) == 150.0), True)\n",
    "test_eq(np.all(regular_light(time[(time > 23.0 + 24.0) & (time < 24.0 + 24.0)]) == 0.0), True)\n",
    "# correct creation of RegularLight with custom lux\n",
    "regular_light = LightSchedule.RegularLight(lux=100.0)\n",
    "test_eq(np.all(regular_light(time[time < 7.0]) == 0.0), True)\n",
    "test_eq(np.all(regular_light(time[(time >= 7.0) & (time <= 23.0)]) == 100.0), True)\n",
    "test_eq(np.all(regular_light(time[(time > 23.0) & (time < 24.0)]) == 0.0), True)\n",
    "test_eq(np.all(regular_light(time[(time >= 24.0) & (time < 7.0 + 24.0)]) == 0.0), True)\n",
    "test_eq(np.all(regular_light(time[(time >= 7.0 + 24.0) & (time <= 23.0 + 24.0)]) == 100.0), True)\n",
    "test_eq(np.all(regular_light(time[(time > 23.0 + 24.0) & (time < 24.0 + 24.0)]) == 0.0), True)\n",
    "# correct creation of RegularLight with custom lights_on\n",
    "regular_light = LightSchedule.RegularLight(lights_on=6.0)\n",
    "test_eq(np.all(regular_light(time[time < 6.0]) == 0.0), True)\n",
    "test_eq(np.all(regular_light(time[(time >= 6.0) & (time <= 23.0)]) == 150.0), True)\n",
    "test_eq(np.all(regular_light(time[(time > 23.0) & (time < 24.0)]) == 0.0), True)\n",
    "test_eq(np.all(regular_light(time[(time >= 24.0) & (time < 6.0 + 24.0)]) == 0.0), True)\n",
    "test_eq(np.all(regular_light(time[(time >= 6.0 + 24.0) & (time <= 23.0 + 24.0)]) == 150.0), True)\n",
    "test_eq(np.all(regular_light(time[(time > 23.0 + 24.0) & (time < 24.0 + 24.0)]) == 0.0), True)\n",
    "# correct creation of RegularLight with custom lights_off\n",
    "regular_light = LightSchedule.RegularLight(lights_off=18.0)\n",
    "test_eq(np.all(regular_light(time[time < 7.0]) == 0.0), True)\n",
    "test_eq(np.all(regular_light(time[(time >= 7.0) & (time <= 18.0)]) == 150.0), True)\n",
    "test_eq(np.all(regular_light(time[(time > 18.0) & (time < 24.0)]) == 0.0), True)\n",
    "test_eq(np.all(regular_light(time[(time >= 24.0) & (time < 7.0 + 24.0)]) == 0.0), True)\n",
    "test_eq(np.all(regular_light(time[(time >= 7.0 + 24.0) & (time <= 18.0 + 24.0)]) == 150.0), True)\n",
    "test_eq(np.all(regular_light(time[(time > 18.0 + 24.0) & (time < 24.0 + 24.0)]) == 0.0), True)\n",
    "# correct creation of RegularLight with custom lights_on > lights_off\n",
    "regular_light = LightSchedule.RegularLight(lights_on=18.0, lights_off=6.0)\n",
    "test_eq(np.all(regular_light(time[time < 6.0]) == 150.0), True)\n",
    "test_eq(np.all(regular_light(time[(time >= 6.0) & (time <= 18.0)]) == 0.0), True)\n",
    "test_eq(np.all(regular_light(time[(time > 18.0) & (time < 24.0)]) == 150.0), True)\n",
    "test_eq(np.all(regular_light(time[(time >= 24.0) & (time < 6.0 + 24.0)]) == 150.0), True)\n",
    "test_eq(np.all(regular_light(time[(time >= 6.0 + 24.0) & (time <= 18.0 + 24.0)]) == 0.0), True)\n",
    "test_eq(np.all(regular_light(time[(time > 18.0 + 24.0) & (time < 24.0 + 24.0)]) == 150.0), True)\n",
    "# Tests: Type checking\n",
    "test_fail(lambda: LightSchedule.RegularLight(lux='a'), contains=\"lux must be a nonnegative float or int\")\n",
    "test_fail(lambda: LightSchedule.RegularLight(lux=-1.0), contains=\"lux must be a nonnegative float or int\")\n",
    "test_fail(lambda: LightSchedule.RegularLight(lights_on='a'), contains=\"lights_on must be a float or int\")\n",
    "test_fail(lambda: LightSchedule.RegularLight(lights_on=-1.0), contains=\"lights_on must be between 0.0 and 24.0\")\n",
    "test_fail(lambda: LightSchedule.RegularLight(lights_on=25.0), contains=\"lights_on must be between 0.0 and 24.0\")\n",
    "test_fail(lambda: LightSchedule.RegularLight(lights_off='a'), contains=\"lights_off must be a float or int\")\n",
    "test_fail(lambda: LightSchedule.RegularLight(lights_off=-1.0), contains=\"lights_off must be between 0.0 and 24.0\")\n",
    "test_fail(lambda: LightSchedule.RegularLight(lights_off=25.0), contains=\"lights_off must be between 0.0 and 24.0\")"
   ]
  },
  {
   "cell_type": "code",
   "execution_count": 253,
   "metadata": {},
   "outputs": [],
   "source": [
    "#| export\n",
    "@patch_to(LightSchedule)\n",
    "def ShiftWorkLight(lux: float=150.0, # lux intensity of the light. Must be a nonnegative float or int\n",
    "                   days_on: int=5, # number of days on the night shift. Must be a positive int\n",
    "                   days_off: int=2, # number of days off shift. Must be a positive int\n",
    "                   lights_on_workday: float=17.0, # hour of the day for lights to come on on a workday. Must be between 0.0 and 24.0\n",
    "                   lights_off_workday: float=9.0, # hour of the day for lights to go off on a workday. Must be between 0.0 and 24.0\n",
    "                   lights_on_day_off: float=9.0, # hour of the day for lights to come on on a day off. Must be between 0.0 and 24.0\n",
    "                   lights_off_day_off: float=24.0, # hour of the day for lights to go off on a day off. Must be between 0.0 and 24.0\n",
    "                   ) -> 'LightSchedule':\n",
    "    \"Create a light schedule for a shift worker\" \n",
    "    # type checking\n",
    "    lux_err_msg = \"lux must be a nonnegative float or int, got \"\n",
    "    if not isinstance(lux, (float, int)):\n",
    "        raise TypeError(lux_err_msg + f\"{type(lux)}\")\n",
    "    elif lux < 0.0:\n",
    "        raise ValueError(lux_err_msg + f\"{lux}\")\n",
    "    days_on_err_msg = \"days_on must be an int > 1, got \"\n",
    "    if not isinstance(days_on, int):\n",
    "        raise TypeError(days_on_err_msg + f\"{type(days_on)}\")\n",
    "    elif days_on < 2:\n",
    "        raise ValueError(days_on_err_msg + f\"{days_on}\")\n",
    "    days_off_err_msg = \"days_off must be an int > 1, got \"\n",
    "    if not isinstance(days_off, int):\n",
    "        raise TypeError(days_off_err_msg + f\"{type(days_off)}\")\n",
    "    elif days_off < 2:\n",
    "        raise ValueError(days_off_err_msg + f\"{days_off}\")\n",
    "    lights_on_workday_err_msg = \"lights_on_workday must be a float or int between 0.0 and 24.0, got \"\n",
    "    if not isinstance(lights_on_workday, (float, int)):\n",
    "        raise TypeError(lights_on_workday_err_msg + f\"{type(lights_on_workday)}\")\n",
    "    elif lights_on_workday < 0.0 or lights_on_workday > 24.0:\n",
    "        raise ValueError(lights_on_workday_err_msg + f\"{lights_on_workday}\")\n",
    "    lights_off_workday_err_msg = \"lights_off_workday must be a float or int between 0.0 and 24.0, got \"\n",
    "    if not isinstance(lights_off_workday, (float, int)):\n",
    "        raise TypeError(lights_off_workday_err_msg + f\"{type(lights_off_workday)}\")\n",
    "    elif lights_off_workday < 0.0 or lights_off_workday > 24.0:\n",
    "        raise ValueError(lights_off_workday_err_msg + f\"{lights_off_workday}\")\n",
    "    lights_on_day_off_err_msg = \"lights_on_day_off must be a float or int between 0.0 and 24.0, got \"\n",
    "    if not isinstance(lights_on_day_off, (float, int)):\n",
    "        raise TypeError(lights_on_day_off_err_msg + f\"{type(lights_on_day_off)}\")\n",
    "    elif lights_on_day_off < 0.0 or lights_on_day_off > 24.0:\n",
    "        raise ValueError(lights_on_day_off_err_msg + f\"{lights_on_day_off}\")\n",
    "    lights_off_day_off_err_msg = \"lights_off_day_off must be a float or int between 0.0 and 24.0, got \"\n",
    "    if not isinstance(lights_off_day_off, (float, int)):\n",
    "        raise TypeError(lights_off_day_off_err_msg + f\"{type(lights_off_day_off)}\")\n",
    "    elif lights_off_day_off < 0.0 or lights_off_day_off > 24.0:\n",
    "        raise ValueError(lights_off_day_off_err_msg + f\"{lights_off_day_off}\")\n",
    "    workweek_period = 24.0 * (days_on + days_off)\n",
    "    # work days regular schedule\n",
    "    work_schedule = LightSchedule.RegularLight(lux, lights_on_workday, lights_off_workday)\n",
    "    # transition between work days and day off - sleep half of the time between `lights_off_workday` and `lights_on_day_off`\n",
    "    workdays_finish = 24*(days_on - 1) + lights_on_workday\n",
    "    first_transition_end = 24*days_on + lights_on_day_off\n",
    "    transition_sleep_time = 0.5 * (workdays_finish + first_transition_end) - workdays_finish\n",
    "    transition_day = LightSchedule.from_pulse(lux, workdays_finish, transition_sleep_time)\n",
    "    # days off regular schedule\n",
    "    days_off_schedule = LightSchedule.RegularLight(lux, lights_on_day_off, lights_off_day_off)\n",
    "    # transition between day off and work day - sleep, in two chunks, a third of what's left until next workday\n",
    "    second_transition_start = 24*(days_on + days_off - 2) + lights_off_day_off \n",
    "    workdays_start_again = 24*(days_on + days_off - 1) + lights_on_workday\n",
    "    sleep_bank = (workdays_start_again - second_transition_start) / 3.0\n",
    "    transition_sleep = LightSchedule.from_pulse(lux, second_transition_start + sleep_bank, sleep_bank, workweek_period)\n",
    "    # create the schedule\n",
    "    total_schedule = work_schedule.concatenate_at(transition_day, workdays_finish, shift_schedule=False)\n",
    "    total_schedule = total_schedule.concatenate_at(days_off_schedule, first_transition_end, shift_schedule=False)\n",
    "    total_schedule = total_schedule.concatenate_at(transition_sleep, second_transition_start, shift_schedule=False)\n",
    "    total_schedule = total_schedule.concatenate_at(work_schedule, workdays_start_again, shift_schedule=False)\n",
    "    # add workweek periodicity\n",
    "    final_schedule = LightSchedule(total_schedule, period=workweek_period)\n",
    "    return final_schedule"
   ]
  },
  {
   "cell_type": "code",
   "execution_count": 248,
   "metadata": {},
   "outputs": [],
   "source": [
    "#| hide\n",
    "# test ShiftWorkLight\n",
    "# correct creation of standard ShiftWorkLight\n",
    "shift_work_light = LightSchedule.ShiftWorkLight()\n",
    "def ground_truth_shift_schedule(time):\n",
    "    lux = 150.0 \n",
    "    days_on = 5 \n",
    "    days_off = 2\n",
    "    t = np.mod(time, 24*(days_on + days_off))\n",
    "    lights_on_workday = 17.0\n",
    "    lights_off_workday = 9.0\n",
    "    lights_on_day_off = 9.0\n",
    "    lights_off_day_off = 24.0\n",
    "    workdays_finish = 24*(days_on - 1) + lights_on_workday\n",
    "    first_transition_end = 24*days_on + lights_on_day_off\n",
    "    second_transition_start = 24*(days_on + days_off - 2) + lights_off_day_off \n",
    "    workdays_start_again = 24*(days_on + days_off - 1) + lights_on_workday\n",
    "    if t < workdays_finish:\n",
    "        # work days\n",
    "        schedule = LightSchedule.RegularLight(lux, lights_on_workday, lights_off_workday)\n",
    "        return schedule(time)\n",
    "    elif t >= workdays_finish and t < first_transition_end:\n",
    "        # transition from workday to day off\n",
    "        sleep_time = 0.5 * (workdays_finish + first_transition_end)\n",
    "        if t < sleep_time:\n",
    "            return lux\n",
    "        else:\n",
    "            return 0.0\n",
    "    elif t >= first_transition_end and t < second_transition_start:\n",
    "        # days off\n",
    "        schedule = LightSchedule.RegularLight(lux, lights_on_day_off, lights_off_day_off)\n",
    "        return schedule(time)\n",
    "    elif t >= second_transition_start and t < workdays_start_again:\n",
    "        # transition from day off to workday\n",
    "        sleep_bank = (24*(days_on + days_off - 1) + lights_on_workday - second_transition_start) / 3.0\n",
    "        schedule = LightSchedule.from_pulse(lux, second_transition_start + sleep_bank, sleep_bank, 24*(days_on + days_off))\n",
    "        return schedule(time)\n",
    "    else:\n",
    "        # work days\n",
    "        schedule = LightSchedule.RegularLight(lux, lights_on_workday, lights_off_workday)\n",
    "        return schedule(time)\n",
    "\n",
    "time = np.linspace(0.0, 3* 24*(5+2), 5000)\n",
    "ground_truth_shift_schedule = np.vectorize(ground_truth_shift_schedule, otypes=[float])\n",
    "test_eq(shift_work_light(time), ground_truth_shift_schedule(time))\n",
    "# test error handling\n",
    "test_fail(lambda: LightSchedule.ShiftWorkLight(lux='a'), contains=\"lux must be a nonnegative float or int\")\n",
    "test_fail(lambda: LightSchedule.ShiftWorkLight(lux=-1.0), contains=\"lux must be a nonnegative float or int\")\n",
    "test_fail(lambda: LightSchedule.ShiftWorkLight(days_on='a'), contains=\"days_on must be an int > 1\")\n",
    "test_fail(lambda: LightSchedule.ShiftWorkLight(days_on=-1), contains=\"days_on must be an int > 1\")\n",
    "test_fail(lambda: LightSchedule.ShiftWorkLight(days_off='a'), contains=\"days_off must be an int > 1\")\n",
    "test_fail(lambda: LightSchedule.ShiftWorkLight(days_off=-1), contains=\"days_off must be an int > 1\") \n",
    "test_fail(lambda: LightSchedule.ShiftWorkLight(lights_on_workday='a'), contains=\"lights_on_workday must be a float or int between 0.0 and 24.0\")\n",
    "test_fail(lambda: LightSchedule.ShiftWorkLight(lights_on_workday=-1.0), contains=\"lights_on_workday must be a float or int between 0.0 and 24.0\")\n",
    "test_fail(lambda: LightSchedule.ShiftWorkLight(lights_on_workday=25.0), contains=\"lights_on_workday must be a float or int between 0.0 and 24.0\")\n",
    "test_fail(lambda: LightSchedule.ShiftWorkLight(lights_off_workday='a'), contains=\"lights_off_workday must be a float or int between 0.0 and 24.0\")\n",
    "test_fail(lambda: LightSchedule.ShiftWorkLight(lights_off_workday=-1.0), contains=\"lights_off_workday must be a float or int between 0.0 and 24.0\")\n",
    "test_fail(lambda: LightSchedule.ShiftWorkLight(lights_off_workday=25.0), contains=\"lights_off_workday must be a float or int between 0.0 and 24.0\")\n",
    "test_fail(lambda: LightSchedule.ShiftWorkLight(lights_on_day_off='a'), contains=\"lights_on_day_off must be a float or int between 0.0 and 24.0\")\n",
    "test_fail(lambda: LightSchedule.ShiftWorkLight(lights_on_day_off=-1.0), contains=\"lights_on_day_off must be a float or int between 0.0 and 24.0\")\n",
    "test_fail(lambda: LightSchedule.ShiftWorkLight(lights_on_day_off=25.0), contains=\"lights_on_day_off must be a float or int between 0.0 and 24.0\")\n",
    "test_fail(lambda: LightSchedule.ShiftWorkLight(lights_off_day_off='a'), contains=\"lights_off_day_off must be a float or int between 0.0 and 24.0\")\n",
    "test_fail(lambda: LightSchedule.ShiftWorkLight(lights_off_day_off=-1.0), contains=\"lights_off_day_off must be a float or int between 0.0 and 24.0\")\n",
    "test_fail(lambda: LightSchedule.ShiftWorkLight(lights_off_day_off=25.0), contains=\"lights_off_day_off must be a float or int between 0.0 and 24.0\")"
   ]
  },
  {
   "cell_type": "code",
   "execution_count": 252,
   "metadata": {},
   "outputs": [
    {
     "data": {
      "image/png": "[encoded data removed]",
      "text/plain": [
       "<Figure size 1600x400 with 1 Axes>"
      ]
     },
     "metadata": {},
     "output_type": "display_data"
    }
   ],
   "source": [
    "#| hide\n",
    "shift_schedule = LightSchedule.ShiftWorkLight()\n",
    "days_on = 5\n",
    "days_off = 2\n",
    "lights_off_workday = 9.0\n",
    "lights_on_workday = 17.0\n",
    "ax = shift_schedule.plot(0.0, 24.0*8.0)\n",
    "ax.set_xlabel('Time (hours)');\n",
    "ax.set_ylabel('Light (lux)');\n",
    "# Add a vertical line to the start of each day in dashed gray\n",
    "for day in range(8):\n",
    "    ax.axvline(day*24.0, color='gray', linestyle='--');\n",
    "ax.figure.set_size_inches(16, 4);\n",
    "# Set xticks to mark each day\n",
    "ax.set_xticks(np.arange(0, 24.0*8.0, 12));\n",
    "# Set background color to light red for workdays until `lights_off_workday` on the last day\n",
    "time_last_workday = lights_off_workday + 24*(days_on-1)\n",
    "ax.axvspan(0.0, time_last_workday, facecolor='r', alpha=0.1);\n",
    "# Set background color to light green for days off\n",
    "time_last_day_off = lights_on_workday + 24.0*(days_on + days_off - 1)\n",
    "ax.axvspan(time_last_workday, time_last_day_off, facecolor='g', alpha=0.1);\n",
    "# Set background color to light red for the start of the workday in the last day\n",
    "time_first_workday = time_last_day_off + lights_on_workday\n",
    "ax.axvspan(time_last_day_off, time_first_workday, facecolor='r', alpha=0.1);\n",
    "# Set limits to be a week\n",
    "ax.set_xlim(0.0, 24.0*7.0);"
   ]
  },
  {
   "cell_type": "code",
   "execution_count": 270,
   "metadata": {},
   "outputs": [],
   "source": [
    "#| export\n",
    "@patch_to(LightSchedule)\n",
    "def SlamShift(lux: float=150.0, # intensity of the light in lux\n",
    "              shift: float=8.0, # shift in the light schedule in hours\n",
    "              before_days: int=10, # days before the shift occurs \n",
    "              starting_lights_on: float=7.0, # time of the day for lights to come on\n",
    "              starting_lights_off: float=23.0, # time of the day for lights to go off\n",
    "              ) -> 'LightSchedule':\n",
    "    \"Create a light schedule for a shift worker under a slam shift\" \n",
    "    # type checking\n",
    "    if not isinstance(lux, (float, int)):\n",
    "        raise ValueError(f\"lux must be a nonnegative float or int, got {type(lux)}\")\n",
    "    elif lux < 0.0:\n",
    "        raise ValueError(f\"lux must be a nonnegative float or int, got {lux}\")\n",
    "    if not isinstance(shift, (float, int)):\n",
    "        raise ValueError(f\"shift must be a nonnegative float or int, got {type(shift)}\")\n",
    "    elif shift < 0.0:\n",
    "        raise ValueError(f\"shift must be a nonnegative float or int, got {shift}\")\n",
    "    if not isinstance(before_days, int):\n",
    "        raise ValueError(f\"before_days must be a nonnegative int, got {type(before_days)}\")\n",
    "    elif before_days < 0:\n",
    "        raise ValueError(f\"before_days must be a nonnegative int, got {before_days}\")\n",
    "    if not isinstance(starting_lights_on, (float, int)):\n",
    "        raise ValueError(f\"starting_lights_on must be a float or int between 0 and 24, got {type(starting_lights_on)}\")\n",
    "    elif starting_lights_on < 0.0 or starting_lights_on > 24.0:\n",
    "        raise ValueError(f\"starting_lights_on must be a float or int between 0 and 24, got {starting_lights_on}\")\n",
    "    if not isinstance(starting_lights_off, (float, int)):\n",
    "        raise ValueError(f\"starting_lights_off must be a float or int between 0 and 24, got {type(starting_lights_off)}\")\n",
    "    elif starting_lights_off < 0.0 or starting_lights_off > 24.0:\n",
    "        raise ValueError(f\"starting_lights_off must be a float or int between 0 and 24, got {starting_lights_off}\")\n",
    "    # create the schedule\n",
    "    schedule_before = LightSchedule.RegularLight(lux, starting_lights_on, starting_lights_off)\n",
    "    last_lights_off_before = 24.0 * (before_days - 1) + starting_lights_off \n",
    "    first_lights_on_after =  24.0 * before_days + starting_lights_on + shift\n",
    "    # sleep half of the time between `last_lights_off_before` and `first_lights_on_after`\n",
    "    transition_sleep_time = 0.5 * (first_lights_on_after - last_lights_off_before)\n",
    "    transition_schedule = LightSchedule.from_pulse(lux, last_lights_off_before, transition_sleep_time)\n",
    "    shifted_lights_on = np.mod(starting_lights_on + shift, 24.0)\n",
    "    shifted_lights_off = np.mod(starting_lights_off + shift, 24.0)\n",
    "    schedule_after = LightSchedule.RegularLight(lux, shifted_lights_on, shifted_lights_off)\n",
    "    final_schedule = schedule_before.concatenate_at(transition_schedule, last_lights_off_before, shift_schedule=False)\n",
    "    final_schedule = final_schedule.concatenate_at(schedule_after, first_lights_on_after, shift_schedule=False)\n",
    "    return final_schedule"
   ]
  },
  {
   "cell_type": "code",
   "execution_count": 287,
   "metadata": {},
   "outputs": [],
   "source": [
    "#| hide\n",
    "# test SlamShift\n",
    "slam_shift = LightSchedule.SlamShift()\n",
    "def ground_truth_slam_shift(time):\n",
    "    shift = 8.0\n",
    "    before_days = 10\n",
    "    starting_lights_on = 7.0\n",
    "    starting_lights_off = 23.0\n",
    "    last_lights_off_before = 24.0 * (before_days - 1) + starting_lights_off \n",
    "    first_lights_on_after =  24.0 * before_days + starting_lights_on + shift\n",
    "    t = np.mod(time, 24.0)\n",
    "    if time < last_lights_off_before:\n",
    "        # before transition\n",
    "        if t < 7.0:\n",
    "            return 0.0\n",
    "        elif t >= 7.0 and t <= 23.0:\n",
    "            return 150.0\n",
    "        else:\n",
    "            return 0.0        \n",
    "    elif time >= last_lights_off_before and time < first_lights_on_after:\n",
    "        # transition\n",
    "        midpoint = 0.5 * (last_lights_off_before + first_lights_on_after)\n",
    "        if time <= midpoint:\n",
    "            return 150.0\n",
    "        elif time > midpoint:\n",
    "            return 0.0\n",
    "    elif time >= first_lights_on_after:\n",
    "        # after transition\n",
    "        t = np.mod(time - shift, 24.0)\n",
    "        if t < 7.0:\n",
    "            return 0.0\n",
    "        elif t >= 7.0 and t <= 23.0:\n",
    "            return 150.0\n",
    "        else:\n",
    "            return 0.0\n",
    "        \n",
    "ground_truth_slam_shift = np.vectorize(ground_truth_slam_shift, otypes=[float])\n",
    "test_eq(slam_shift(time), ground_truth_slam_shift(time))\n",
    "# test error handling\n",
    "test_fail(lambda: LightSchedule.SlamShift(lux=\"a\"), contains=\"lux must be a nonnegative float or int\")\n",
    "test_fail(lambda: LightSchedule.SlamShift(lux=-1.0), contains=\"lux must be a nonnegative float or int\")\n",
    "test_fail(lambda: LightSchedule.SlamShift(shift=\"a\"), contains=\"shift must be a nonnegative float or int\")\n",
    "test_fail(lambda: LightSchedule.SlamShift(shift=-1.0), contains=\"shift must be a nonnegative float or int\")\n",
    "test_fail(lambda: LightSchedule.SlamShift(before_days=\"a\"), contains=\"before_days must be a nonnegative int\")\n",
    "test_fail(lambda: LightSchedule.SlamShift(before_days=-1), contains=\"before_days must be a nonnegative int\")\n",
    "test_fail(lambda: LightSchedule.SlamShift(starting_lights_on=\"a\"), contains=\"starting_lights_on must be a float or int between 0 and 24\")\n",
    "test_fail(lambda: LightSchedule.SlamShift(starting_lights_on=-1.0), contains=\"starting_lights_on must be a float or int between 0 and 24\")\n",
    "test_fail(lambda: LightSchedule.SlamShift(starting_lights_on=25.0), contains=\"starting_lights_on must be a float or int between 0 and 24\")\n",
    "test_fail(lambda: LightSchedule.SlamShift(starting_lights_off=\"a\"), contains=\"starting_lights_off must be a float or int between 0 and 24\")\n",
    "test_fail(lambda: LightSchedule.SlamShift(starting_lights_off=-1.0), contains=\"starting_lights_off must be a float or int between 0 and 24\")\n",
    "test_fail(lambda: LightSchedule.SlamShift(starting_lights_off=25.0), contains=\"starting_lights_off must be a float or int between 0 and 24\")"
   ]
  },
  {
   "attachments": {},
   "cell_type": "markdown",
   "metadata": {},
   "source": [
    "# Overview"
   ]
  },
  {
   "attachments": {},
   "cell_type": "markdown",
   "metadata": {},
   "source": [
    "The `LightSchedule` class streamlines the process of creating light schedules for circadian models. Each LightSchedule behaves as a function that returns specific lux values for each timepoint. `LightSchedule` objects can be added, subtracted, and concatenated between each other."
   ]
  },
  {
   "attachments": {},
   "cell_type": "markdown",
   "metadata": {},
   "source": [
    "# Creating and visualizing light schedules"
   ]
  },
  {
   "attachments": {},
   "cell_type": "markdown",
   "metadata": {},
   "source": [
    "We can create and plot a schedule that contains a single pulse of light using the following code"
   ]
  },
  {
   "cell_type": "code",
   "execution_count": 26,
   "metadata": {},
   "outputs": [
    {
     "data": {
      "image/png": "[encoded data removed]",
      "text/plain": [
       "<Figure size 640x480 with 1 Axes>"
      ]
     },
     "metadata": {},
     "output_type": "display_data"
    }
   ],
   "source": [
    "single_pulse = Light(100.0, start_time=10.0, duration=2.0)\n",
    "ax = single_pulse.plot(0.0, 72.0)\n",
    "ax.set_xlabel('Time (hours)');\n",
    "ax.set_ylabel('Light (lux)');"
   ]
  },
  {
   "attachments": {},
   "cell_type": "markdown",
   "metadata": {},
   "source": [
    "The value of the light schedule outside of the pulse can be adjusted with the `default_value` parameter"
   ]
  },
  {
   "cell_type": "code",
   "execution_count": 33,
   "metadata": {},
   "outputs": [
    {
     "data": {
      "image/png": "[encoded data removed]",
      "text/plain": [
       "<Figure size 640x480 with 1 Axes>"
      ]
     },
     "metadata": {},
     "output_type": "display_data"
    }
   ],
   "source": [
    "baseline_pulse = Light(100.0, start_time=10.0, duration=2.0, default_value=25.0)\n",
    "ax = baseline_pulse.plot(0.0, 72.0)\n",
    "ax.set_ylim(-5, 110);\n",
    "ax.set_xlabel('Time (hours)');\n",
    "ax.set_ylabel('Light (lux)');"
   ]
  },
  {
   "attachments": {},
   "cell_type": "markdown",
   "metadata": {},
   "source": [
    "The resulting object is callable and returns the value of the schedule at the given times "
   ]
  },
  {
   "cell_type": "code",
   "execution_count": 34,
   "metadata": {},
   "outputs": [
    {
     "name": "stdout",
     "output_type": "stream",
     "text": [
      "[ 25.  25.  25.  25. 100.  25.  25.  25.  25.  25.]\n"
     ]
    }
   ],
   "source": [
    "times = np.linspace(0.0, 24.0, 10)\n",
    "print(baseline_pulse(times))"
   ]
  },
  {
   "attachments": {},
   "cell_type": "markdown",
   "metadata": {},
   "source": [
    "When calling the object, the keyword argument `repeat_period` can be specified to get an array where the schedule repeats at a given interval"
   ]
  },
  {
   "cell_type": "code",
   "execution_count": 39,
   "metadata": {},
   "outputs": [
    {
     "data": {
      "image/png": "[encoded data removed]",
      "text/plain": [
       "<Figure size 640x480 with 1 Axes>"
      ]
     },
     "metadata": {},
     "output_type": "display_data"
    }
   ],
   "source": [
    "times = np.linspace(0.0, 72.0, 10000)\n",
    "repeating_schedule = baseline_pulse(times, repeat_period=24.0)\n",
    "plt.plot(times, repeating_schedule)\n",
    "plt.xlabel('Time (hours)');\n",
    "plt.ylabel('Light (lux)');"
   ]
  },
  {
   "attachments": {},
   "cell_type": "markdown",
   "metadata": {},
   "source": [
    "If the array of light values is not needed and only a plot is desired, the `plot` method with the `repeat_period` argument can be used to obtain the same plot as above\n",
    "\n",
    "```python\n",
    "ax = baseline_pulse.plot(0.0, 72.0, repeat_period=24.0)\n",
    "ax.set_xlabel('Time (hours)');\n",
    "ax.set_ylabel('Light (lux)');\n",
    "```"
   ]
  },
  {
   "attachments": {},
   "cell_type": "markdown",
   "metadata": {},
   "source": [
    "Custom light schedules can be created by providing a function when instantiating a `Light` object. Here, we define a light schedule that ramps up and down over a 12 hour period."
   ]
  },
  {
   "cell_type": "code",
   "execution_count": 36,
   "metadata": {},
   "outputs": [
    {
     "data": {
      "image/png": "[encoded data removed]",
      "text/plain": [
       "<Figure size 640x480 with 1 Axes>"
      ]
     },
     "metadata": {},
     "output_type": "display_data"
    }
   ],
   "source": [
    "def ramp(t):\n",
    "    if t < 12.0:\n",
    "        return 2.0*t\n",
    "    else:\n",
    "        return 2.0*(24.0 - t)\n",
    "\n",
    "ramp_schedule = Light(ramp, start_time=6.0, duration=12.0)\n",
    "ax = ramp_schedule.plot(0.0, 24.0)\n",
    "ax.set_xlabel('Time (hours)');\n",
    "ax.set_ylabel('Light (lux)');"
   ]
  },
  {
   "attachments": {},
   "cell_type": "markdown",
   "metadata": {},
   "source": [
    "# Adding light schedules together"
   ]
  },
  {
   "attachments": {},
   "cell_type": "markdown",
   "metadata": {},
   "source": [
    "`Light` objects can be combined using the `+` operator. For example, we can add `baseline_pulse` and `ramp_schedule` defined before "
   ]
  },
  {
   "cell_type": "code",
   "execution_count": 38,
   "metadata": {},
   "outputs": [
    {
     "data": {
      "image/png": "[encoded data removed]",
      "text/plain": [
       "<Figure size 640x480 with 1 Axes>"
      ]
     },
     "metadata": {},
     "output_type": "display_data"
    }
   ],
   "source": [
    "combined_schedule = baseline_pulse + ramp_schedule\n",
    "ax = combined_schedule.plot(0.0, 24.0)\n",
    "ax.set_xlabel('Time (hours)');\n",
    "ax.set_ylabel('Light (lux)');"
   ]
  },
  {
   "attachments": {},
   "cell_type": "markdown",
   "metadata": {},
   "source": [
    "# Helper functions for typical light schedules"
   ]
  },
  {
   "attachments": {},
   "cell_type": "markdown",
   "metadata": {},
   "source": [
    "The `Light` class implements several helper functions to obtain common light schedules. For example, to generate a light schedule that mimics the light intensity of a typical day, we can use the `Light.RegularLightSchedule` function"
   ]
  },
  {
   "cell_type": "code",
   "execution_count": 59,
   "metadata": {},
   "outputs": [
    {
     "data": {
      "image/png": "[encoded data removed]",
      "text/plain": [
       "<Figure size 640x480 with 1 Axes>"
      ]
     },
     "metadata": {},
     "output_type": "display_data"
    }
   ],
   "source": [
    "regular_light = Light.RegularLight()\n",
    "ax = regular_light.plot(0.0, 72.0, repeat_period=24.0)\n",
    "ax.set_xlabel('Time (hours)');\n",
    "ax.set_ylabel('Light (lux)');"
   ]
  },
  {
   "attachments": {},
   "cell_type": "markdown",
   "metadata": {},
   "source": [
    "The `Light.RegularLightSchedule` function can be customized via three parameters: `lux`, `lights_on`, and `lights_off`. The `lux` parameter defines the light intensity during the day, while `lights_on` and `lights_off` define the time of day when the lights turn on and off, respectively."
   ]
  },
  {
   "cell_type": "code",
   "execution_count": 60,
   "metadata": {},
   "outputs": [
    {
     "data": {
      "image/png": "[encoded data removed]",
      "text/plain": [
       "<Figure size 640x480 with 1 Axes>"
      ]
     },
     "metadata": {},
     "output_type": "display_data"
    }
   ],
   "source": [
    "custom_regular_light = Light.RegularLight(lux=100.0, lights_on=20.0, lights_off=2.0)\n",
    "ax = custom_regular_light.plot(0.0, 72.0, repeat_period=24.0)\n",
    "ax.set_xlabel('Time (hours)');\n",
    "ax.set_ylabel('Light (lux)');"
   ]
  },
  {
   "cell_type": "code",
   "execution_count": 255,
   "metadata": {},
   "outputs": [
    {
     "data": {
      "image/png": "[encoded data removed]",
      "text/plain": [
       "<Figure size 640x480 with 1 Axes>"
      ]
     },
     "metadata": {},
     "output_type": "display_data"
    }
   ],
   "source": [
    "#| hide\n",
    "sw_light = LightSchedule.ShiftWorkLight(days_on=5, days_off=2)\n",
    "ts = np.arange(0, 24*7*6, 0.10)\n",
    "light_values = sw_light(ts)\n",
    "\n",
    "Actogram(ts, light_vals=light_values, smooth=False);\n",
    "plt.title(\"Shift Work Schedule\");"
   ]
  },
  {
   "cell_type": "code",
   "execution_count": null,
   "metadata": {},
   "outputs": [],
   "source": [
    "#| hide\n",
    "slam_shift = Light.SlamShift(shift=8.0,\n",
    "                             before_days=10, \n",
    "                             after_days=40)\n",
    "ts = np.arange(0, 24*40, 0.10)\n",
    "light_values = slam_shift(ts)\n",
    "\n",
    "Actogram(ts, light_vals=light_values, smooth=False);\n",
    "plt.title(\"Slam Shift Schedule\");"
   ]
  },
  {
   "cell_type": "code",
   "execution_count": null,
   "metadata": {},
   "outputs": [],
   "source": [
    "#| export\n",
    "@patch_to(Light)\n",
    "def SocialJetlag(lux: float=150.0, # lux intensity of the light\n",
    "                 num_regular_days: int=5, # number of days with a regular schedule\n",
    "                 num_jetlag_days: int=2, # number of days with a delayed schedule\n",
    "                 hours_delayed: float=2.0, # number of hours to delay the schedule on the jetlag days\n",
    "                 regular_days_lights_on: float=7.0, # hour of the day for lights to come on\n",
    "                 ) -> 'Light':\n",
    "    \"Create a light schedule that simulates the effects of jetlag\"\n",
    "    # type checking\n",
    "    if not isinstance(lux, (float, int)):\n",
    "        raise ValueError(f\"lux must be a nonnegative float or int, got {type(lux)}\")\n",
    "    elif lux < 0.0:\n",
    "        raise ValueError(f\"lux must be a nonnegative float or int, got {lux}\")\n",
    "    if not isinstance(num_regular_days, int):\n",
    "        raise ValueError(f\"num_regular_days must be a nonnegative int, got {type(num_regular_days)}\")\n",
    "    elif num_regular_days < 0:\n",
    "        raise ValueError(f\"num_regular_days must be a nonnegative int, got {num_regular_days}\")\n",
    "    if not isinstance(num_jetlag_days, int):\n",
    "        raise ValueError(f\"num_jetlag_days must be a nonnegative int, got {type(num_jetlag_days)}\")\n",
    "    elif num_jetlag_days < 0:\n",
    "        raise ValueError(f\"num_jetlag_days must be a nonnegative int, got {num_jetlag_days}\")\n",
    "    if not isinstance(hours_delayed, (float, int)):\n",
    "        raise ValueError(f\"hours_delayed must be a nonnegative float or int, got {type(hours_delayed)}\")\n",
    "    elif hours_delayed < 0.0:\n",
    "        raise ValueError(f\"hours_delayed must be a nonnegative float or int, got {hours_delayed}\")\n",
    "    if not isinstance(regular_days_lights_on, (float, int)):\n",
    "        raise ValueError(f\"regular_days_lights_on must be a nonnegative float or int, got {type(regular_days_lights_on)}\")\n",
    "    elif regular_days_lights_on < 0.0:\n",
    "        raise ValueError(f\"regular_days_lights_on must be a nonnegative float or int, got {regular_days_lights_on}\")\n",
    "\n",
    "    jetlag_day_lights_on = (regular_days_lights_on + hours_delayed) \n",
    "    jetlag_day_lights_off = (regular_days_lights_on + 16.0 + hours_delayed) \n",
    "    regular_days = Light.RegularLight(lux=lux, lights_on=regular_days_lights_on, lights_off=regular_days_lights_on+16.0)\n",
    "    jetlag_day = Light.RegularLight(lux=lux, lights_on=jetlag_day_lights_on, lights_off=jetlag_day_lights_on+16.0)\n",
    "    total_schedule = [regular_days for _ in range(num_regular_days-1)] + [jetlag_day for _ in range(num_jetlag_days)]\n",
    "    for day in total_schedule:\n",
    "        regular_days = regular_days.concatenate(day)\n",
    "        \n",
    "    return regular_days"
   ]
  },
  {
   "cell_type": "code",
   "execution_count": null,
   "metadata": {},
   "outputs": [],
   "source": [
    "#| hide\n",
    "# Tests: SocialJetlag type checking\n",
    "test_fail(lambda: Light.SocialJetlag(lux=\"a\"), contains=\"lux must be a nonnegative float or int\")\n",
    "test_fail(lambda: Light.SocialJetlag(lux=-1.0), contains=\"lux must be a nonnegative float or int\")\n",
    "test_fail(lambda: Light.SocialJetlag(num_regular_days=\"a\"), contains=\"num_regular_days must be a nonnegative int\")\n",
    "test_fail(lambda: Light.SocialJetlag(num_regular_days=-1), contains=\"num_regular_days must be a nonnegative int\")\n",
    "test_fail(lambda: Light.SocialJetlag(num_jetlag_days=\"a\"), contains=\"num_jetlag_days must be a nonnegative int\")\n",
    "test_fail(lambda: Light.SocialJetlag(num_jetlag_days=-1), contains=\"num_jetlag_days must be a nonnegative int\")\n",
    "test_fail(lambda: Light.SocialJetlag(hours_delayed=\"a\"), contains=\"hours_delayed must be a nonnegative float or int\")\n",
    "test_fail(lambda: Light.SocialJetlag(hours_delayed=-1.0), contains=\"hours_delayed must be a nonnegative float or int\")\n",
    "test_fail(lambda: Light.SocialJetlag(regular_days_lights_on=\"a\"), contains=\"regular_days_lights_on must be a nonnegative float or int\")\n",
    "test_fail(lambda: Light.SocialJetlag(regular_days_lights_on=-1.0), contains=\"regular_days_lights_on must be a nonnegative float or int\")"
   ]
  },
  {
   "cell_type": "code",
   "execution_count": null,
   "metadata": {},
   "outputs": [],
   "source": [
    "#| hide\n",
    "social_jl = Light.SocialJetlag()\n",
    "ts = np.arange(0, 24*40, 0.10)\n",
    "light_values = social_jl(ts, repeat_period=24*7)\n",
    "\n",
    "Actogram(ts, light_vals=light_values, smooth=False);\n",
    "plt.title(\"Social Jetlag Light Schedule\");"
   ]
  },
  {
   "cell_type": "code",
   "execution_count": null,
   "metadata": {},
   "outputs": [],
   "source": [
    "#| export\n",
    "def make_pulse(t, tstart, tend, steep: float=30.0):\n",
    "    return 0.5*np.tanh(steep*(t-tstart))-0.5*np.tanh(steep*(t-tend))\n",
    "\n",
    "def get_pulse(t: float,\n",
    "              t1: float,\n",
    "              t2: float,\n",
    "              repeat=False,\n",
    "              Intensity: float = 150.0):\n",
    "\n",
    "    if repeat:\n",
    "        t = np.fmod(t, 24.0)\n",
    "    if t < 0.0:\n",
    "        t += 24.0\n",
    "\n",
    "    light_value = Intensity*make_pulse(t, t1, t2)\n",
    "    return np.abs(light_value)"
   ]
  },
  {
   "cell_type": "code",
   "execution_count": null,
   "metadata": {},
   "outputs": [],
   "source": [
    "#| hide\n",
    "import nbdev; nbdev.nbdev_export()"
   ]
  }
 ],
 "metadata": {
  "kernelspec": {
   "display_name": "python3",
   "language": "python",
   "name": "python3"
  },
  "language_info": {
   "codemirror_mode": {
    "name": "ipython",
    "version": 3
   },
   "file_extension": ".py",
   "mimetype": "text/x-python",
   "name": "python",
   "nbconvert_exporter": "python",
   "pygments_lexer": "ipython3",
   "version": "3.10.8"
  }
 },
 "nbformat": 4,
 "nbformat_minor": 2
}
