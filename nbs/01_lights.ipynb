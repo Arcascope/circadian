{
 "cells": [
  {
   "attachments": {},
   "cell_type": "markdown",
   "metadata": {},
   "source": [
    "# Lights \n",
    "\n",
    "> Defines some light schedules for building circadian models"
   ]
  },
  {
   "cell_type": "code",
   "execution_count": null,
   "metadata": {},
   "outputs": [],
   "source": [
    "#| default_exp lights"
   ]
  },
  {
   "cell_type": "code",
   "execution_count": null,
   "metadata": {},
   "outputs": [],
   "source": [
    "#| hide\n",
    "from nbdev.showdoc import *"
   ]
  },
  {
   "cell_type": "code",
   "execution_count": null,
   "metadata": {},
   "outputs": [],
   "source": [
    "#| export \n",
    "\n",
    "from matplotlib.pyplot import step\n",
    "import numpy as np\n",
    "from numpy.core.fromnumeric import repeat\n",
    "import pylab as plt"
   ]
  },
  {
   "cell_type": "code",
   "execution_count": null,
   "metadata": {},
   "outputs": [],
   "source": [
    "#| export\n",
    "\n",
    "class Light:\n",
    "\n",
    "    def __init__(self, func, \n",
    "                 duration: float,\n",
    "                 start_time: float = 0.0, \n",
    "                 default_value=0.0):\n",
    "        self._func = np.vectorize(func)\n",
    "        self.default_value = default_value\n",
    "        self.start_time = start_time\n",
    "        self.duration = duration\n",
    "\n",
    "    @property\n",
    "    def end_time(self):\n",
    "        return self.start_time+self.duration\n",
    "\n",
    "    def __call__(self, t: float):\n",
    "        return self._func(t)\n",
    "        if (t > self.start_time) and (t <= self.end_time):\n",
    "            return self._func(t)\n",
    "        else:\n",
    "            return self.default_value\n",
    "\n",
    "    def __add__(self, light_obj):\n",
    "        switch_time = self.end_time\n",
    "        def light_func_new(t): return np.piecewise(t, [t <= switch_time, t >= switch_time],\n",
    "                                                   [\n",
    "            self._func, lambda t: light_obj._func(t-switch_time)])\n",
    "\n",
    "        start_time_new = min(self.start_time, light_obj.start_time)\n",
    "        duration_new = light_obj.duration + self.duration\n",
    "\n",
    "        return Light(light_func_new, duration_new, start_time=start_time_new)\n",
    "    \n",
    "    def numpy(self, dt: float = 0.10):\n",
    "        t = np.arange(self.start_time, self.end_time, dt)\n",
    "        vals = self.__call__(t)\n",
    "        return (t,vals)\n",
    "\n",
    "    def plot(self, ax=None, showplot=True, *args, **kwargs):\n",
    "        t = np.linspace(self.start_time, self.end_time, 10000)\n",
    "        vals = self.__call__(t)\n",
    "        if ax is None:\n",
    "            plt.figure()\n",
    "            ax = plt.gca()\n",
    "\n",
    "        ax.plot(t, vals, *args, **kwargs)\n",
    "        if showplot:\n",
    "            plt.show()\n",
    "        return ax\n",
    "\n"
   ]
  },
  {
   "attachments": {},
   "cell_type": "markdown",
   "metadata": {},
   "source": [
    "## Some Common Schedules\n"
   ]
  },
  {
   "cell_type": "code",
   "execution_count": null,
   "metadata": {},
   "outputs": [],
   "source": [
    "#| export\n",
    "\n",
    "def make_pulse(t, tstart, tend, steep: float = 30.0):\n",
    "    return 0.5*np.tanh(steep*(t-tstart))-0.5*np.tanh(steep*(t-tend))\n",
    "\n",
    "def get_pulse(t: float,\n",
    "              t1: float,\n",
    "              t2: float,\n",
    "              repeat=False,\n",
    "              Intensity: float = 150.0):\n",
    "\n",
    "    if repeat:\n",
    "        t = np.fmod(t, 24.0)\n",
    "    if t < 0.0:\n",
    "        t += 24.0\n",
    "\n",
    "    light_value = Intensity*make_pulse(t, t1, t2)\n",
    "    return np.abs(light_value)\n"
   ]
  },
  {
   "cell_type": "code",
   "execution_count": null,
   "metadata": {},
   "outputs": [],
   "source": [
    "#| export\n",
    "\n",
    "def RegularLight(t, Intensity=150.0, wakeUp=8.0, workday=16.0, steep: float = 30.0):\n",
    "    \"\"\"Define a basic light schedule with a given intensity of the light, wakeup time and length of the active period (non-sleeping)\n",
    "    This schedule will automatically repeat on a daily basis, so each day will be the same.....\n",
    "    \"\"\"\n",
    "\n",
    "    s = np.fmod(t, 24.0)\n",
    "    if (s < 0):\n",
    "        s += 24.0\n",
    "    light_val = Intensity * make_pulse(s, wakeUp, workday+wakeUp, steep=steep)\n",
    "    if wakeUp+workday >= 24.0:\n",
    "        light_val += Intensity * \\\n",
    "            make_pulse(s, 0.0, workday+wakeUp-24.0, steep=steep)\n",
    "\n",
    "    return light_val\n",
    "\n",
    "\n",
    "def ShiftWorkLight(t: float,\n",
    "                   Intensity: float = 150.0,\n",
    "                   dayson: int = 5,\n",
    "                   daysoff: int = 2):\n",
    "    \"\"\"\n",
    "    Simulate a night shift worker. Assume they are working a night shift for dayson number of days followed by daysoff normal days where they revert to a normal schedule\n",
    "    ShiftWorkLight(t, dayson=5, daysoff=2)\n",
    "    \"\"\"\n",
    "\n",
    "    t = np.fmod(t, (dayson+daysoff)*24)  # make it repeat\n",
    "    if (t <= 24*dayson):\n",
    "        return(RegularLight(t, Intensity=Intensity, wakeUp=16.0, workday=16.0))\n",
    "\n",
    "    else:\n",
    "        return(RegularLight(t, Intensity=Intensity, wakeUp=9.0, workday=16.0))\n",
    "\n",
    "\n",
    "def ShiftWorkerThreeTwelves(t, Intensity=150.0, pos=False):\n",
    "    \"\"\"\n",
    "    Simulate a worker who does three 12 hour night shifts in a row followed \n",
    "    by four days off. \n",
    "    Works 8am-8pm for three days and then shifts to a diurnal schedule for \n",
    "    four days\n",
    "    pos controls if they sleep right after the shift or if they wait and sleep\n",
    "    before the next shift\n",
    "    \"\"\"\n",
    "\n",
    "    t = np.fmod(t, 7*24)  # make it repeat weekly\n",
    "    if (t <= 24*3):\n",
    "        if not pos:\n",
    "            return(RegularLight(t, Intensity=Intensity, wakeUp=19.0, workday=16.0))\n",
    "        else:\n",
    "            def f(t): return RegularLight(t, \n",
    "                                          Intensity=Intensity,\n",
    "                                          wakeUp=19.0,\n",
    "                                          workday=12.0)+RegularLight(t,\n",
    "                                                                     Intensity=Intensity,\n",
    "                                                                     wakeUp=7.0,\n",
    "                                                                     duration=4.0)\n",
    "            return f\n",
    "    else:\n",
    "        return(RegularLight(t, Intensity=Intensity, wakeUp=7.0, workday=16.0))\n",
    "\n",
    "\n",
    "def SocialJetLag(t, weekdayWake=7.0, weekdayBed=24.0, weekendWake=11.0, weekendBed=2.0):\n",
    "    \"\"\"Simulate a social jetlag schedule. \"\"\"\n",
    "\n",
    "    t = np.fmod(t, (7)*24)  # make it repeat each week\n",
    "\n",
    "    if (t <= 24*5):\n",
    "        # Monday through thursday\n",
    "        duration = np.fmod(weekdayBed-weekdayWake, 24.0)\n",
    "        if duration < 0.0:\n",
    "            duration += 24.0\n",
    "        return(RegularLight(t, \n",
    "                            Intensity=150.0, \n",
    "                            wakeUp=weekdayWake,\n",
    "                            workday=duration)\n",
    "               )\n",
    "    if (t > 24*5 and t <= 24*7):\n",
    "        # Friday, stay up late\n",
    "        duration = np.fmod(weekendBed-weekendWake, 24.0)\n",
    "        if duration < 0.0:\n",
    "            duration += 24.0\n",
    "        return(RegularLight(t, Intensity=250.0, wakeUp=weekendWake, workday=duration))\n",
    "\n",
    "\n",
    "def SlamShift(t, shift=8.0, Intensity=150.0, beforeDays=10):\n",
    "    \"\"\"Simulate a sudden shift in the light schedule\"\"\"\n",
    "\n",
    "    if (t <= 24*beforeDays):\n",
    "        return(RegularLight(t, Intensity, wakeUp=8.0, workday=16.0))\n",
    "    else:\n",
    "        newVal = np.fmod(8.0+shift, 24.0)\n",
    "        if (newVal < 0):\n",
    "            newVal += 24.0\n",
    "        return(RegularLight(t, Intensity, wakeUp=newVal, workday=16.0))\n",
    "    \n"
   ]
  },
  {
   "cell_type": "code",
   "execution_count": null,
   "metadata": {},
   "outputs": [
    {
     "data": {
      "image/png": "[encoded data removed]",
      "text/plain": [
       "<Figure size 640x480 with 1 Axes>"
      ]
     },
     "metadata": {},
     "output_type": "display_data"
    }
   ],
   "source": [
    "LS=Light(lambda t: SlamShift(t, beforeDays=3.0), duration=3*24.0)\n",
    "LR = Light(lambda t: RegularLight(t), duration=10*24.0)\n",
    "LS = Light(lambda t: get_pulse(\n",
    "    t, 20.00, 7.00, repeat=True), duration=72.0)\n",
    "L3 = LR+LR\n",
    "L3.plot();\n"
   ]
  },
  {
   "cell_type": "code",
   "execution_count": null,
   "metadata": {},
   "outputs": [],
   "source": [
    "#| hide\n",
    "import nbdev; nbdev.nbdev_export()"
   ]
  }
 ],
 "metadata": {
  "kernelspec": {
   "display_name": "base",
   "language": "python",
   "name": "python3"
  }
 },
 "nbformat": 4,
 "nbformat_minor": 2
}
