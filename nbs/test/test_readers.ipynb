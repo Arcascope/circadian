{
 "cells": [
  {
   "cell_type": "markdown",
   "metadata": {},
   "source": [
    "# Testing for the readers module"
   ]
  },
  {
   "cell_type": "code",
   "execution_count": null,
   "metadata": {},
   "outputs": [],
   "source": [
    "%load_ext autoreload\n",
    "%autoreload 2"
   ]
  },
  {
   "cell_type": "code",
   "execution_count": null,
   "metadata": {},
   "outputs": [],
   "source": [
    "import pandas as pd\n",
    "from fastcore.test import *\n",
    "from circadian.readers import *"
   ]
  },
  {
   "cell_type": "markdown",
   "metadata": {},
   "source": [
    "# Pandas Accessor"
   ]
  },
  {
   "cell_type": "code",
   "execution_count": null,
   "metadata": {},
   "outputs": [],
   "source": [
    "# test WereableData's column validation\n",
    "df_only_datetime = pd.DataFrame({'datetime': pd.date_range('2020-01-01', periods=10)})\n",
    "test_fail(lambda: WearableData._validate_columns(df_only_datetime),\n",
    "          contains=\"DataFrame must have at least one wearable data column from: ['steps',\")\n",
    "df_only_wearable = pd.DataFrame({'steps': [1, 2, 3, 4, 5, 6, 7, 8, 9, 10]})\n",
    "test_fail(lambda: WearableData._validate_columns(df_only_wearable),\n",
    "          contains=\"DataFrame must have 'datetime' column\")\n",
    "# test WearableData's metadata validation\n",
    "test_fail(lambda: WearableData._validate_metadata({'data_id': 1, 'subject_id': 'test'}),\n",
    "          contains=\"Metadata values must be strings\")\n",
    "test_fail(lambda: WearableData._validate_metadata({'test': 'test'}),\n",
    "          contains=\"Metadata must have at least one of the following keys: data_id, subject_id\")\n",
    "# test column renaming\n",
    "df = pd.DataFrame({'DateTime': pd.date_range('2020-01-01', periods=10),\n",
    "                     'Steps': [1, 2, 3, 4, 5, 6, 7, 8, 9, 10]})\n",
    "WearableData.rename_columns(df, inplace=True)\n",
    "test_eq(df.columns.tolist(), ['datetime', 'steps'])\n",
    "new_df = WearableData.rename_columns(df)\n",
    "test_eq(new_df.columns.tolist(), ['datetime', 'steps'])\n",
    "# test is_valid\n",
    "df = pd.DataFrame({'datetime': pd.date_range('2020-01-01', periods=10),\n",
    "                   'steps': [0, 10, 0, 0, 0, 0, 20, 28, 0, 0],\n",
    "                   'heartrate': [120, 90, 100, 80, 120, 100, 140, 130, 120, 110]})\n",
    "test_eq(df.wearable.is_valid(), True)\n",
    "df = pd.DataFrame({'Datetime': pd.date_range('2020-01-01', periods=10),\n",
    "                   'Steps': [0, 10, 0, 0, 0, 0, 20, 28, 0, 0],\n",
    "                   'Heartrate': [120, 90, 100, 80, 120, 100, 140, 130, 120, 110]})\n",
    "test_fail(lambda: df.wearable.is_valid(),\n",
    "          contains=\"DataFrame must have 'datetime'\")\n",
    "# test add_metadata\n",
    "df = pd.DataFrame({'datetime': pd.date_range('2020-01-01', '2020-01-02', periods=10),\n",
    "                   'steps': [0, 10, 0, 0, 0, 0, 20, 28, 0, 0],\n",
    "                   'heartrate': [120, 90, 100, 80, 120, 100, 140, 130, 120, 110]})\n",
    "df.wearable.add_metadata({'data_id': 'test', 'subject_id': 'test'}, inplace=True)\n",
    "test_eq(df.attrs['data_id'], 'test')\n",
    "test_eq(df.attrs['subject_id'], 'test')"
   ]
  },
  {
   "cell_type": "markdown",
   "metadata": {},
   "source": [
    "# Load files"
   ]
  },
  {
   "cell_type": "code",
   "execution_count": null,
   "metadata": {},
   "outputs": [],
   "source": [
    "# tests for load_json\n",
    "# test error handling\n",
    "test_fail(lambda: load_json(1), contains=\"Filepath must be a string.\")\n",
    "data_path = '../../circadian/sample_data/sample_data.json'\n",
    "test_fail(lambda: load_json(data_path, metadata={'data_id': 1, 'subject_id': 'test'}),\n",
    "            contains=\"Metadata values must be strings.\")\n",
    "# TODO: test when all keys are not valid\n",
    "# TODO: test that excluded message is printed\n",
    "# test loading a json\n",
    "df_dict = load_json(data_path)\n",
    "df_dict = load_json(data_path, metadata={'data_id': 'sample_data', 'subject_id': 'sample_subject'})\n",
    "# test that metadata was added\n",
    "test_eq(df_dict['steps'].attrs['data_id'], 'sample_data')\n",
    "test_eq(df_dict['steps'].attrs['subject_id'], 'sample_subject')\n",
    "# test that datetime column was added\n",
    "test_eq('datetime' in df_dict['heartrate'].columns, True)\n",
    "test_eq('start' in df_dict['steps'].columns, True)"
   ]
  },
  {
   "cell_type": "code",
   "execution_count": null,
   "metadata": {},
   "outputs": [],
   "source": [
    "# test loading a csv\n",
    "data_path = '../../circadian/sample_data/hr_data.csv'\n",
    "df = load_csv(data_path, timestamp_col='timestamp')\n",
    "df = load_csv(data_path, \n",
    "              metadata={'data_id': 'sample_data', 'subject_id': 'sample_subject'},\n",
    "              timestamp_col='timestamp')\n",
    "# test loading a csv with no datetime column\n",
    "test_fail(lambda: load_csv(data_path), \n",
    "          contains=\"CSV file must have a column named 'datetime' or\")\n",
    "test_fail(lambda: load_csv(data_path, metadata={'data_id': '1', 'subject_id': 'sample_subject'}),\n",
    "          contains=\"CSV file must have a column named 'datetime' or\")\n",
    "# test input validation\n",
    "test_fail(lambda: load_csv(1),\n",
    "          contains=\"Filepath must be a string.\")\n",
    "test_fail(lambda: load_csv(data_path, timestamp_col=1),\n",
    "          contains=\"Timestamp column must be a string.\")\n",
    "test_fail(lambda: load_csv(data_path, metadata=1),\n",
    "          contains=\"Metadata must be a dictionary.\")"
   ]
  },
  {
   "cell_type": "code",
   "execution_count": null,
   "metadata": {},
   "outputs": [],
   "source": [
    "# test loading an actiwatch csv\n",
    "data_path = '../../circadian/sample_data/sample_actiwatch.csv'\n",
    "df = load_actiwatch(data_path)\n",
    "# test input validation\n",
    "test_fail(lambda: load_actiwatch(1),\n",
    "          contains=\"Filepath must be a string.\")\n",
    "test_fail(lambda: load_actiwatch(data_path, metadata=1),\n",
    "          contains=\"Metadata must be a dictionary.\")"
   ]
  },
  {
   "cell_type": "markdown",
   "metadata": {},
   "source": [
    "# Resampling"
   ]
  },
  {
   "cell_type": "code",
   "execution_count": null,
   "metadata": {},
   "outputs": [],
   "source": [
    "# test resampling wearable dataframes\n",
    "# intervals smaller than frequency, no overlapping intervals\n",
    "df = pd.DataFrame({\n",
    "    'start': [\n",
    "        pd.Timestamp('2023-01-01 00:00:00'), pd.Timestamp('2023-01-01 22:00:00'),\n",
    "        pd.Timestamp('2023-01-02 10:00:00'),\n",
    "        pd.Timestamp('2023-01-02 22:00:00'), pd.Timestamp('2023-01-03 20:00:00'),\n",
    "    ],\n",
    "    'end': [\n",
    "        pd.Timestamp('2023-01-01 01:10:00'), pd.Timestamp('2023-01-02 02:00:00'),\n",
    "        pd.Timestamp('2023-01-02 10:15:00'),\n",
    "        pd.Timestamp('2023-01-03 08:00:00'), pd.Timestamp('2023-01-03 23:00:00'),\n",
    "    ],\n",
    "    'steps': [\n",
    "        10, 10,\n",
    "        10,\n",
    "        10, 10,\n",
    "    ],\n",
    "})\n",
    "name = 'steps'\n",
    "method = 'sum'\n",
    "frequency = '1D'\n",
    "ground_truth = pd.DataFrame({\n",
    "    'datetime': [\n",
    "        pd.Timestamp('2023-01-01 00:00:00'),\n",
    "        pd.Timestamp('2023-01-02 00:00:00'),\n",
    "        pd.Timestamp('2023-01-03 00:00:00'),\n",
    "    ],\n",
    "    'steps': [\n",
    "        15.0,\n",
    "        17.0,\n",
    "        18.0,\n",
    "    ],\n",
    "})\n",
    "new_df = resample_df(df, name, frequency, method)\n",
    "test_eq(new_df, ground_truth)\n",
    "# per datetime data\n",
    "df = pd.DataFrame({\n",
    "    'datetime': [\n",
    "        pd.to_datetime('2020-01-01 00:00:00'),\n",
    "        pd.to_datetime('2020-01-01 00:15:00'),\n",
    "        pd.to_datetime('2020-01-01 00:22:00'),\n",
    "        pd.to_datetime('2020-01-01 00:40:00'),\n",
    "        pd.to_datetime('2020-01-01 01:02:00'),\n",
    "    ],\n",
    "    'heartrate': [90, 110, 80, 90, 100],\n",
    "})\n",
    "twenty_min_groud_truth = pd.DataFrame({\n",
    "    'datetime': [\n",
    "        pd.to_datetime('2020-01-01 00:00:00'),\n",
    "        pd.to_datetime('2020-01-01 00:20:00'),\n",
    "        pd.to_datetime('2020-01-01 00:40:00'),\n",
    "        pd.to_datetime('2020-01-01 01:00:00'),\n",
    "    ],\n",
    "    'heartrate': [100.0, 85.0, 90.0, 100.0],\n",
    "})\n",
    "name = 'heartrate'\n",
    "method = 'mean'\n",
    "# 20 min freq\n",
    "freq = '20min'\n",
    "new_df = resample_df(df, name, freq, method)\n",
    "time_diff = (new_df.datetime - new_df.datetime.shift()).unique()\n",
    "time_diff = time_diff[~pd.isnull(time_diff)][0]\n",
    "test_eq(time_diff.seconds / 60.0, 20.0)\n",
    "test_eq(new_df, twenty_min_groud_truth)"
   ]
  },
  {
   "cell_type": "markdown",
   "metadata": {},
   "source": [
    "# Combine"
   ]
  },
  {
   "cell_type": "code",
   "execution_count": null,
   "metadata": {},
   "outputs": [],
   "source": [
    "# test combining wearable dataframes\n",
    "steps_df = pd.DataFrame({\n",
    "    'start': [\n",
    "        pd.to_datetime('2020-01-01 00:01:00'),\n",
    "        pd.to_datetime('2020-01-01 00:11:00'),\n",
    "        pd.to_datetime('2020-01-01 00:15:00'),\n",
    "        pd.to_datetime('2020-01-01 00:20:00'),\n",
    "        pd.to_datetime('2020-01-01 00:50:00'),\n",
    "    ],\n",
    "    'end': [\n",
    "        pd.to_datetime('2020-01-01 00:11:00'),\n",
    "        pd.to_datetime('2020-01-01 00:15:00'),\n",
    "        pd.to_datetime('2020-01-01 00:25:00'),\n",
    "        pd.to_datetime('2020-01-01 00:30:00'),\n",
    "        pd.to_datetime('2020-01-01 01:00:00'),\n",
    "    ],\n",
    "    'steps': [9, 18, 15, 30, 10],\n",
    "})\n",
    "heartrate_df = pd.DataFrame({\n",
    "    'datetime': [\n",
    "        pd.to_datetime('2020-01-01 00:09:00'),\n",
    "        pd.to_datetime('2020-01-01 00:15:00'),\n",
    "        pd.to_datetime('2020-01-01 00:22:00'),\n",
    "        pd.to_datetime('2020-01-01 00:40:00'),\n",
    "        pd.to_datetime('2020-01-01 00:58:00'),\n",
    "    ],\n",
    "    'heartrate': [90, 110, 80, 90, 100],\n",
    "})\n",
    "df_dict = {\n",
    "    'steps': steps_df,\n",
    "    'heartrate': heartrate_df,\n",
    "}\n",
    "resample_freq = '10min'\n",
    "df = combine_wearable_dataframes(df_dict, resample_freq)\n",
    "ground_truth = pd.DataFrame({\n",
    "    'datetime': [\n",
    "        pd.to_datetime('2020-01-01 00:01:00'),\n",
    "        pd.to_datetime('2020-01-01 00:11:00'),\n",
    "        pd.to_datetime('2020-01-01 00:21:00'),\n",
    "        pd.to_datetime('2020-01-01 00:31:00'),\n",
    "        pd.to_datetime('2020-01-01 00:41:00'),\n",
    "        pd.to_datetime('2020-01-01 00:51:00'),\n",
    "    ],\n",
    "    'steps': [9.0, 30.0, 33.0, 0.0, 1.0, 9.0],\n",
    "    'heartrate': [90.0, 110.0, 80.0, 90.0, 0.0, 100.0]\n",
    "})\n",
    "test_eq(df, ground_truth)"
   ]
  }
 ],
 "metadata": {
  "kernelspec": {
   "display_name": "python3",
   "language": "python",
   "name": "python3"
  }
 },
 "nbformat": 4,
 "nbformat_minor": 2
}
