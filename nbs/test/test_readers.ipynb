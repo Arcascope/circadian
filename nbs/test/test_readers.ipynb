{
 "cells": [
  {
   "cell_type": "markdown",
   "metadata": {},
   "source": [
    "# Testing for the readers module"
   ]
  },
  {
   "cell_type": "code",
   "execution_count": null,
   "metadata": {},
   "outputs": [
    {
     "name": "stdout",
     "output_type": "stream",
     "text": [
      "The autoreload extension is already loaded. To reload it, use:\n",
      "  %reload_ext autoreload\n"
     ]
    },
    {
     "name": "stderr",
     "output_type": "stream",
     "text": [
      "c:\\users\\tavel\\desktop\\internship - arcascope\\circadian\\circadian\\readers.py:18: UserWarning: registration of accessor <class 'circadian.readers.WereableData'> under name 'wereable' for type <class 'pandas.core.frame.DataFrame'> is overriding a preexisting attribute with the same name.\n",
      "  class WereableData:\n"
     ]
    }
   ],
   "source": [
    "%load_ext autoreload\n",
    "%autoreload 2"
   ]
  },
  {
   "cell_type": "code",
   "execution_count": null,
   "metadata": {},
   "outputs": [],
   "source": [
    "import pandas as pd\n",
    "from fastcore.test import *\n",
    "from circadian.readers import *"
   ]
  },
  {
   "cell_type": "markdown",
   "metadata": {},
   "source": [
    "# Pandas Accessor"
   ]
  },
  {
   "cell_type": "code",
   "execution_count": null,
   "metadata": {},
   "outputs": [],
   "source": [
    "#| hide\n",
    "# test WereableData's column validation\n",
    "df_only_datetime = pd.DataFrame({'datetime': pd.date_range('2020-01-01', periods=10)})\n",
    "test_fail(lambda: WereableData._validate_columns(df_only_datetime),\n",
    "          contains=\"DataFrame must have at least one wereable data column from: ['steps',\")\n",
    "df_only_wereable = pd.DataFrame({'steps': [1, 2, 3, 4, 5, 6, 7, 8, 9, 10]})\n",
    "test_fail(lambda: WereableData._validate_columns(df_only_wereable),\n",
    "          contains=\"DataFrame must have 'datetime' column\")\n",
    "# test WereableData's metadata validation\n",
    "test_fail(lambda: WereableData._validate_metadata({'data_id': 1, 'subject_id': 'test'}),\n",
    "          contains=\"Metadata values must be strings\")\n",
    "test_fail(lambda: WereableData._validate_metadata({'test': 'test'}),\n",
    "          contains=\"Metadata must have at least one of the following keys: data_id, subject_id\")\n",
    "# test column renaming\n",
    "df = pd.DataFrame({'DateTime': pd.date_range('2020-01-01', periods=10),\n",
    "                     'Steps': [1, 2, 3, 4, 5, 6, 7, 8, 9, 10]})\n",
    "WereableData.rename_columns(df, inplace=True)\n",
    "test_eq(df.columns.tolist(), ['datetime', 'steps'])\n",
    "new_df = WereableData.rename_columns(df)\n",
    "test_eq(new_df.columns.tolist(), ['datetime', 'steps'])\n",
    "# test is_valid\n",
    "df = pd.DataFrame({'datetime': pd.date_range('2020-01-01', periods=10),\n",
    "                   'steps': [0, 10, 0, 0, 0, 0, 20, 28, 0, 0],\n",
    "                   'heartrate': [120, 90, 100, 80, 120, 100, 140, 130, 120, 110]})\n",
    "test_eq(df.wereable.is_valid(), True)\n",
    "df = pd.DataFrame({'Datetime': pd.date_range('2020-01-01', periods=10),\n",
    "                   'Steps': [0, 10, 0, 0, 0, 0, 20, 28, 0, 0],\n",
    "                   'Heartrate': [120, 90, 100, 80, 120, 100, 140, 130, 120, 110]})\n",
    "test_fail(lambda: df.wereable.is_valid(),\n",
    "          contains=\"DataFrame must have 'datetime'\")\n",
    "# test add_metadata\n",
    "df = pd.DataFrame({'datetime': pd.date_range('2020-01-01', '2020-01-02', periods=10),\n",
    "                   'steps': [0, 10, 0, 0, 0, 0, 20, 28, 0, 0],\n",
    "                   'heartrate': [120, 90, 100, 80, 120, 100, 140, 130, 120, 110]})\n",
    "df.wereable.add_metadata({'data_id': 'test', 'subject_id': 'test'}, inplace=True)\n",
    "test_eq(df.attrs['data_id'], 'test')\n",
    "test_eq(df.attrs['subject_id'], 'test')"
   ]
  },
  {
   "cell_type": "markdown",
   "metadata": {},
   "source": [
    "# Load files"
   ]
  },
  {
   "cell_type": "code",
   "execution_count": null,
   "metadata": {},
   "outputs": [],
   "source": [
    "#| hide\n",
    "# tests for load_json\n",
    "# test error handling\n",
    "test_fail(lambda: load_json(1), contains=\"Filepath must be a string.\")\n",
    "data_path = '../../circadian/sample_data/sample_data.json'\n",
    "test_fail(lambda: load_json(data_path, metadata={'data_id': 1, 'subject_id': 'test'}),\n",
    "            contains=\"Metadata values must be strings.\")\n",
    "# TODO: test when all keys are not valid\n",
    "# TODO: test that excluded message is printed\n",
    "# test loading a json\n",
    "df_dict = load_json(data_path)\n",
    "df_dict = load_json(data_path, metadata={'data_id': 'sample_data', 'subject_id': 'sample_subject'})\n",
    "# test that metadata was added\n",
    "test_eq(df_dict['steps'].attrs['data_id'], 'sample_data')\n",
    "test_eq(df_dict['steps'].attrs['subject_id'], 'sample_subject')\n",
    "# test that datetime column was added\n",
    "test_eq('datetime' in df_dict['heartrate'].columns, True)\n",
    "test_eq('start' in df_dict['steps'].columns, True)"
   ]
  },
  {
   "cell_type": "code",
   "execution_count": null,
   "metadata": {},
   "outputs": [],
   "source": [
    "#| hide\n",
    "# test loading a csv\n",
    "data_path = '../../circadian/sample_data/sample_data.csv'\n",
    "df = load_csv(data_path, timestamp_col='timestamp')\n",
    "df = load_csv(data_path, \n",
    "              metadata={'data_id': 'sample_data', 'subject_id': 'sample_subject'},\n",
    "              timestamp_col='timestamp')\n",
    "# test loading a csv with no datetime column\n",
    "test_fail(lambda: load_csv(data_path), \n",
    "          contains=\"CSV file must have a column named 'datetime' or a timestamp column must be provided.\")\n",
    "test_fail(lambda: load_csv(data_path, metadata={'data_id': '1', 'subject_id': 'sample_subject'}),\n",
    "          contains=\"CSV file must have a column named 'datetime' or a timestamp column must be provided.\")\n",
    "# test input validation\n",
    "test_fail(lambda: load_csv(1),\n",
    "          contains=\"Filepath must be a string.\")\n",
    "test_fail(lambda: load_csv(data_path, timestamp_col=1),\n",
    "          contains=\"Timestamp column must be a string.\")\n",
    "test_fail(lambda: load_csv(data_path, metadata=1),\n",
    "          contains=\"Metadata must be a dictionary.\")"
   ]
  },
  {
   "cell_type": "code",
   "execution_count": null,
   "metadata": {},
   "outputs": [],
   "source": [
    "#| hide\n",
    "# test loading an actiwatch csv\n",
    "data_path = '../../circadian/sample_data/sample_actiwatch.csv'\n",
    "df = load_actiwatch(data_path)\n",
    "# test input validation\n",
    "test_fail(lambda: load_actiwatch(1),\n",
    "          contains=\"Filepath must be a string.\")\n",
    "test_fail(lambda: load_actiwatch(data_path, metadata=1),\n",
    "          contains=\"Metadata must be a dictionary.\")"
   ]
  },
  {
   "cell_type": "markdown",
   "metadata": {},
   "source": [
    "# Resampling"
   ]
  },
  {
   "cell_type": "code",
   "execution_count": null,
   "metadata": {},
   "outputs": [],
   "source": [
    "#| hide\n",
    "# test resampling wereable dataframes\n",
    "# interval data\n",
    "df = pd.DataFrame({\n",
    "    'start': [\n",
    "        pd.to_datetime('2020-01-01 00:00:00'),\n",
    "        pd.to_datetime('2020-01-01 00:05:00'),\n",
    "        pd.to_datetime('2020-01-01 00:10:00'),\n",
    "        pd.to_datetime('2020-01-01 00:20:00'),\n",
    "        pd.to_datetime('2020-01-01 00:50:00'),\n",
    "    ],\n",
    "    'end': [\n",
    "        pd.to_datetime('2020-01-01 00:04:00'),\n",
    "        pd.to_datetime('2020-01-01 00:10:00'),\n",
    "        pd.to_datetime('2020-01-01 00:13:00'),\n",
    "        pd.to_datetime('2020-01-01 01:00:00'),\n",
    "        pd.to_datetime('2020-01-01 01:05:00'),\n",
    "    ],\n",
    "    'steps': [4, 10, 9, 22, 15],\n",
    "})\n",
    "name = 'steps'\n",
    "method = 'sum'\n",
    "# 20 min freq\n",
    "twenty_min_groud_truth = pd.DataFrame({\n",
    "    'datetime': [\n",
    "        pd.to_datetime('2020-01-01 00:00:00'),\n",
    "        pd.to_datetime('2020-01-01 00:20:00'),\n",
    "        pd.to_datetime('2020-01-01 00:40:00'),\n",
    "        pd.to_datetime('2020-01-01 01:00:00'),\n",
    "    ],\n",
    "    'steps': [6.55, 0.55, 1.55, 1],\n",
    "})\n",
    "freq = '20min'\n",
    "new_df = resample_df(df, name, freq, method)\n",
    "time_diff = (new_df.datetime - new_df.datetime.shift()).unique()\n",
    "time_diff = time_diff[~pd.isnull(time_diff)][0]\n",
    "test_eq(time_diff.seconds / 60.0, 20.0)\n",
    "test_eq(new_df, twenty_min_groud_truth)\n",
    "# 1 min freq\n",
    "freq = '1min'\n",
    "new_df = resample_df(df, name, freq, method)\n",
    "time_diff = (new_df.datetime - new_df.datetime.shift()).unique()\n",
    "time_diff = time_diff[~pd.isnull(time_diff)][0]\n",
    "test_eq(time_diff.seconds / 60.0, 1.0)\n",
    "# per datetime data\n",
    "df = pd.DataFrame({\n",
    "    'datetime': [\n",
    "        pd.to_datetime('2020-01-01 00:00:00'),\n",
    "        pd.to_datetime('2020-01-01 00:15:00'),\n",
    "        pd.to_datetime('2020-01-01 00:22:00'),\n",
    "        pd.to_datetime('2020-01-01 00:40:00'),\n",
    "        pd.to_datetime('2020-01-01 01:02:00'),\n",
    "    ],\n",
    "    'heartrate': [90, 110, 80, 90, 100],\n",
    "})\n",
    "twenty_min_groud_truth = pd.DataFrame({\n",
    "    'datetime': [\n",
    "        pd.to_datetime('2020-01-01 00:00:00'),\n",
    "        pd.to_datetime('2020-01-01 00:20:00'),\n",
    "        pd.to_datetime('2020-01-01 00:40:00'),\n",
    "        pd.to_datetime('2020-01-01 01:00:00'),\n",
    "    ],\n",
    "    'heartrate': [100.0, 85.0, 90.0, 100.0],\n",
    "})\n",
    "name = 'heartrate'\n",
    "method = 'mean'\n",
    "# 20 min freq\n",
    "freq = '20min'\n",
    "new_df = resample_df(df, name, freq, method)\n",
    "time_diff = (new_df.datetime - new_df.datetime.shift()).unique()\n",
    "time_diff = time_diff[~pd.isnull(time_diff)][0]\n",
    "test_eq(time_diff.seconds / 60.0, 20.0)\n",
    "test_eq(new_df, twenty_min_groud_truth)"
   ]
  },
  {
   "cell_type": "markdown",
   "metadata": {},
   "source": [
    "# Combine"
   ]
  },
  {
   "cell_type": "code",
   "execution_count": null,
   "metadata": {},
   "outputs": [],
   "source": [
    "#| hide\n",
    "# test combining wereable dataframes\n",
    "steps_df = pd.DataFrame({\n",
    "    'start': [\n",
    "        pd.to_datetime('2020-01-01 00:01:00'),\n",
    "        pd.to_datetime('2020-01-01 00:11:00'),\n",
    "        pd.to_datetime('2020-01-01 00:15:00'),\n",
    "        pd.to_datetime('2020-01-01 00:20:00'),\n",
    "        pd.to_datetime('2020-01-01 00:50:00'),\n",
    "    ],\n",
    "    'end': [\n",
    "        pd.to_datetime('2020-01-01 00:11:00'),\n",
    "        pd.to_datetime('2020-01-01 00:15:00'),\n",
    "        pd.to_datetime('2020-01-01 00:25:00'),\n",
    "        pd.to_datetime('2020-01-01 00:30:00'),\n",
    "        pd.to_datetime('2020-01-01 01:00:00'),\n",
    "    ],\n",
    "    'steps': [9, 18, 15, 30, 10],\n",
    "})\n",
    "heartrate_df = pd.DataFrame({\n",
    "    'datetime': [\n",
    "        pd.to_datetime('2020-01-01 00:09:00'),\n",
    "        pd.to_datetime('2020-01-01 00:15:00'),\n",
    "        pd.to_datetime('2020-01-01 00:22:00'),\n",
    "        pd.to_datetime('2020-01-01 00:40:00'),\n",
    "        pd.to_datetime('2020-01-01 00:58:00'),\n",
    "    ],\n",
    "    'heartrate': [90, 110, 80, 90, 100],\n",
    "})\n",
    "df_dict = {\n",
    "    'steps': steps_df,\n",
    "    'heartrate': heartrate_df,\n",
    "}\n",
    "metadata = {'data_id': 'combined_dataframe', 'subject_id': 'test'}\n",
    "resample_freq = '10min'\n",
    "df = combine_wereable_dataframes(df_dict, metadata, resample_freq)\n",
    "ground_truth = pd.DataFrame({\n",
    "    'datetime': [\n",
    "        pd.to_datetime('2020-01-01 00:01:00'),\n",
    "        pd.to_datetime('2020-01-01 00:11:00'),\n",
    "        pd.to_datetime('2020-01-01 00:21:00'),\n",
    "        pd.to_datetime('2020-01-01 00:31:00'),\n",
    "        pd.to_datetime('2020-01-01 00:41:00'),\n",
    "        pd.to_datetime('2020-01-01 00:51:00'),\n",
    "    ],\n",
    "    'steps': [5.4, 9.0, 4.5, 0.0, 1.0, 1.0],\n",
    "    'heartrate': [90.0, 110.0, 80.0, 90.0, 0.0, 100.0]\n",
    "})\n",
    "test_eq(df, ground_truth)"
   ]
  }
 ],
 "metadata": {
  "kernelspec": {
   "display_name": "python3",
   "language": "python",
   "name": "python3"
  }
 },
 "nbformat": 4,
 "nbformat_minor": 2
}
