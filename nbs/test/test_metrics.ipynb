{
 "cells": [
  {
   "cell_type": "markdown",
   "metadata": {},
   "source": [
    "# Tests for the metrics module"
   ]
  },
  {
   "cell_type": "code",
   "execution_count": null,
   "metadata": {},
   "outputs": [],
   "source": [
    "#| hide \n",
    "%load_ext autoreload\n",
    "%autoreload 2"
   ]
  },
  {
   "cell_type": "code",
   "execution_count": null,
   "metadata": {},
   "outputs": [
    {
     "ename": "ImportError",
     "evalue": "cannot import name 'esri' from 'circadian.readers' (c:\\Users\\tavel\\Desktop\\Internship-Arcascope\\.venv_circadian\\lib\\site-packages\\circadian\\readers.py)",
     "output_type": "error",
     "traceback": [
      "\u001b[1;31m---------------------------------------------------------------------------\u001b[0m",
      "\u001b[1;31mImportError\u001b[0m                               Traceback (most recent call last)",
      "Cell \u001b[1;32mIn[7], line 3\u001b[0m\n\u001b[0;32m      1\u001b[0m \u001b[39mimport\u001b[39;00m \u001b[39mnumpy\u001b[39;00m \u001b[39mas\u001b[39;00m \u001b[39mnp\u001b[39;00m\n\u001b[0;32m      2\u001b[0m \u001b[39mfrom\u001b[39;00m \u001b[39mfastcore\u001b[39;00m\u001b[39m.\u001b[39;00m\u001b[39mtest\u001b[39;00m \u001b[39mimport\u001b[39;00m \u001b[39m*\u001b[39m\n\u001b[1;32m----> 3\u001b[0m \u001b[39mfrom\u001b[39;00m \u001b[39mcircadian\u001b[39;00m\u001b[39m.\u001b[39;00m\u001b[39mreaders\u001b[39;00m \u001b[39mimport\u001b[39;00m esri\n\u001b[0;32m      4\u001b[0m \u001b[39mfrom\u001b[39;00m \u001b[39mcircadian\u001b[39;00m\u001b[39m.\u001b[39;00m\u001b[39mlights\u001b[39;00m \u001b[39mimport\u001b[39;00m LightSchedule\n",
      "\u001b[1;31mImportError\u001b[0m: cannot import name 'esri' from 'circadian.readers' (c:\\Users\\tavel\\Desktop\\Internship-Arcascope\\.venv_circadian\\lib\\site-packages\\circadian\\readers.py)"
     ]
    }
   ],
   "source": [
    "import numpy as np\n",
    "from fastcore.test import *\n",
    "from circadian.metrics import esri\n",
    "from circadian.lights import LightSchedule"
   ]
  },
  {
   "cell_type": "markdown",
   "metadata": {},
   "source": [
    "# ESRI"
   ]
  },
  {
   "cell_type": "code",
   "execution_count": null,
   "metadata": {},
   "outputs": [
    {
     "ename": "NameError",
     "evalue": "name 'esri' is not defined",
     "output_type": "error",
     "traceback": [
      "\u001b[1;31m---------------------------------------------------------------------------\u001b[0m",
      "\u001b[1;31mNameError\u001b[0m                                 Traceback (most recent call last)",
      "Cell \u001b[1;32mIn[6], line 5\u001b[0m\n\u001b[0;32m      3\u001b[0m time \u001b[39m=\u001b[39m np\u001b[39m.\u001b[39marange(\u001b[39m0\u001b[39m, \u001b[39m24\u001b[39m\u001b[39m*\u001b[39m\u001b[39m7\u001b[39m, dt)\n\u001b[0;32m      4\u001b[0m light_schedule \u001b[39m=\u001b[39m np\u001b[39m.\u001b[39mzeros_like(time)\n\u001b[1;32m----> 5\u001b[0m esri_time, esri_array \u001b[39m=\u001b[39m esri(time, light_schedule, esri_dt\u001b[39m=\u001b[39m\u001b[39m12.0\u001b[39m, initial_amplitude\u001b[39m=\u001b[39m\u001b[39m0.1\u001b[39m)\n\u001b[0;32m      6\u001b[0m test_eq(np\u001b[39m.\u001b[39mall(np\u001b[39m.\u001b[39misclose(esri_array, \u001b[39m0.1\u001b[39m)), \u001b[39mTrue\u001b[39;00m)\n\u001b[0;32m      7\u001b[0m \u001b[39m# esri of regular schedule low lux\u001b[39;00m\n",
      "\u001b[1;31mNameError\u001b[0m: name 'esri' is not defined"
     ]
    }
   ],
   "source": [
    "# esri on darkness should be equal to initial_amplitude\n",
    "dt = 0.1\n",
    "time = np.arange(0, 24*7, dt)\n",
    "light_schedule = np.zeros_like(time)\n",
    "esri_time, esri_array = esri(time, light_schedule, esri_dt=12.0, initial_amplitude=0.1)\n",
    "test_eq(np.all(np.isclose(esri_array, 0.1)), True)\n",
    "# esri of regular schedule low lux\n",
    "schedule = LightSchedule.Regular(lux=100)\n",
    "light = schedule(time)\n",
    "esri_time, esri_array = esri(time, light, esri_dt=12.0)\n",
    "ground_truth = 0.55 # close to this value\n",
    "test_eq(np.isclose(np.mean(esri_array), ground_truth, atol=0.01), True)\n",
    "# esri of regular schedule high lux\n",
    "schedule = LightSchedule.Regular(lux=10000)\n",
    "light = schedule(time)\n",
    "esri_time, esri_array = esri(time, light, esri_dt=12.0)\n",
    "ground_truth = 0.89 # close to this value\n",
    "test_eq(np.isclose(np.mean(esri_array), ground_truth, atol=0.01), True)\n",
    "# input validation\n",
    "test_fail(lambda: esri(time=1, light_schedule=np.array([1, 2])), contains='time must be a numpy array')\n",
    "test_fail(lambda: esri(time=np.array([1, 2]), light_schedule=1), contains='light_schedule must be a numpy array')\n",
    "test_fail(lambda: esri(time=np.array([1, 2]), light_schedule=np.array([1, 2, 3])), contains='time and light_schedule must be the same length')\n",
    "test_fail(lambda: esri(time=np.array([1, 2, 4]), light_schedule=np.array([1, 2, 3])), contains='time must have a fixed time resolution')\n",
    "test_fail(lambda: esri(time=np.array([1, 2, 3]), light_schedule=np.array([1, 2, 3]), analysis_days='a'), contains='analysis_days must be an integer')\n",
    "test_fail(lambda: esri(time=np.array([1, 2, 3]), light_schedule=np.array([1, 2, 3]), analysis_days=0), contains='analysis_days must be greater than 0')\n",
    "test_fail(lambda: esri(time=np.array([1, 2, 3]), light_schedule=np.array([1, 2, 3]), esri_dt='a'), contains='esri_dt must be a float or an int')\n",
    "test_fail(lambda: esri(time=np.array([1, 2, 3]), light_schedule=np.array([1, 2, 3]), esri_dt=0), contains='esri_dt must be greater than 0')\n",
    "test_fail(lambda: esri(time=np.array([1, 2, 3]), light_schedule=np.array([1, 2, 3]), initial_amplitude='a'), contains='initial_amplitude must be a float')\n",
    "test_fail(lambda: esri(time=np.array([1, 2, 3]), light_schedule=np.array([1, 2, 3]), initial_amplitude=-1), contains='initial_amplitude must be non-negative')"
   ]
  }
 ],
 "metadata": {
  "kernelspec": {
   "display_name": "python3",
   "language": "python",
   "name": "python3"
  }
 },
 "nbformat": 4,
 "nbformat_minor": 2
}
