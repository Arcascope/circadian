{
 "cells": [
  {
   "cell_type": "markdown",
   "metadata": {},
   "source": [
    "# Tests for the metrics module"
   ]
  },
  {
   "cell_type": "code",
   "execution_count": null,
   "metadata": {},
   "outputs": [],
   "source": [
    "#| hide \n",
    "%load_ext autoreload\n",
    "%autoreload 2"
   ]
  },
  {
   "cell_type": "code",
   "execution_count": null,
   "metadata": {},
   "outputs": [],
   "source": [
    "import numpy as np\n",
    "from fastcore.test import *\n",
    "from circadian.metrics import esri\n",
    "from circadian.lights import LightSchedule"
   ]
  },
  {
   "cell_type": "markdown",
   "metadata": {},
   "source": [
    "# ESRI"
   ]
  },
  {
   "cell_type": "code",
   "execution_count": null,
   "metadata": {},
   "outputs": [],
   "source": [
    "# esri on darkness should be equal to initial_amplitude\n",
    "dt = 0.1\n",
    "time = np.arange(0, 24*7, dt)\n",
    "light_schedule = np.zeros_like(time)\n",
    "esri_time, esri_array = esri(time, light_schedule, esri_dt=12.0, initial_amplitude=0.1)\n",
    "test_eq(np.all(np.isclose(esri_array, 0.1)), True)\n",
    "# esri of regular schedule low lux\n",
    "schedule = LightSchedule.Regular(lux=100)\n",
    "light = schedule(time)\n",
    "esri_time, esri_array = esri(time, light, esri_dt=12.0)\n",
    "ground_truth = 0.55 # close to this value\n",
    "test_eq(np.isclose(np.mean(esri_array), ground_truth, atol=0.01), True)\n",
    "# esri of regular schedule high lux\n",
    "schedule = LightSchedule.Regular(lux=10000)\n",
    "light = schedule(time)\n",
    "esri_time, esri_array = esri(time, light, esri_dt=12.0)\n",
    "ground_truth = 0.89 # close to this value\n",
    "test_eq(np.isclose(np.mean(esri_array), ground_truth, atol=0.01), True)\n",
    "# input validation\n",
    "test_fail(lambda: esri(time=1, light_schedule=np.array([1, 2])), contains='time must be a numpy array')\n",
    "test_fail(lambda: esri(time=np.array([1, 2]), light_schedule=1), contains='light_schedule must be a numpy array')\n",
    "test_fail(lambda: esri(time=np.array([1, 2]), light_schedule=np.array([1, 2, 3])), contains='time and light_schedule must be the same length')\n",
    "test_fail(lambda: esri(time=np.array([1, 2, 4]), light_schedule=np.array([1, 2, 3])), contains='time must have a fixed time resolution')\n",
    "test_fail(lambda: esri(time=np.array([1, 2, 3]), light_schedule=np.array([1, 2, 3]), analysis_days='a'), contains='analysis_days must be an integer')\n",
    "test_fail(lambda: esri(time=np.array([1, 2, 3]), light_schedule=np.array([1, 2, 3]), analysis_days=0), contains='analysis_days must be greater than 0')\n",
    "test_fail(lambda: esri(time=np.array([1, 2, 3]), light_schedule=np.array([1, 2, 3]), esri_dt='a'), contains='esri_dt must be a float or an int')\n",
    "test_fail(lambda: esri(time=np.array([1, 2, 3]), light_schedule=np.array([1, 2, 3]), esri_dt=0), contains='esri_dt must be greater than 0')\n",
    "test_fail(lambda: esri(time=np.array([1, 2, 3]), light_schedule=np.array([1, 2, 3]), initial_amplitude='a'), contains='initial_amplitude must be a float')\n",
    "test_fail(lambda: esri(time=np.array([1, 2, 3]), light_schedule=np.array([1, 2, 3]), initial_amplitude=-1), contains='initial_amplitude must be non-negative')"
   ]
  },
  {
   "cell_type": "code",
   "execution_count": null,
   "metadata": {},
   "outputs": [],
   "source": [
    "# test that ESRI warns the users when ESRI is negative\n",
    "dt = 3.0\n",
    "time = np.arange(0, 24*7, dt)\n",
    "schedule = LightSchedule.Regular()\n",
    "light = schedule(time)\n",
    "test_warns(lambda: esri(time, light, esri_dt=12.0))"
   ]
  }
 ],
 "metadata": {
  "kernelspec": {
   "display_name": "python3",
   "language": "python",
   "name": "python3"
  }
 },
 "nbformat": 4,
 "nbformat_minor": 2
}
