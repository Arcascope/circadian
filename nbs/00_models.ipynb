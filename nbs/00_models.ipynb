{
 "cells": [
  {
   "attachments": {},
   "cell_type": "markdown",
   "metadata": {},
   "source": [
    "# Models \n",
    "\n",
    "> Defines the main models, tools, and base classes for simulating and implementing mathematical models of circadian rhythms."
   ]
  },
  {
   "cell_type": "code",
   "execution_count": null,
   "metadata": {},
   "outputs": [],
   "source": [
    "#| default_exp models"
   ]
  },
  {
   "cell_type": "code",
   "execution_count": null,
   "metadata": {},
   "outputs": [
    {
     "name": "stdout",
     "output_type": "stream",
     "text": [
      "The autoreload extension is already loaded. To reload it, use:\n",
      "  %reload_ext autoreload\n"
     ]
    }
   ],
   "source": [
    "#| hide \n",
    "%load_ext autoreload\n",
    "%autoreload 2"
   ]
  },
  {
   "cell_type": "code",
   "execution_count": null,
   "metadata": {},
   "outputs": [],
   "source": [
    "#| hide\n",
    "from nbdev.showdoc import *\n",
    "from fastcore.test import *\n",
    "from fastcore.basics import *"
   ]
  },
  {
   "cell_type": "code",
   "execution_count": null,
   "metadata": {},
   "outputs": [],
   "source": [
    "#| export \n",
    "import numpy as np\n",
    "from abc import ABC\n",
    "from typing import Tuple\n",
    "from scipy.signal import find_peaks\n",
    "from fastcore.basics import patch_to\n",
    "from circadian.lights import LightSchedule"
   ]
  },
  {
   "attachments": {},
   "cell_type": "markdown",
   "metadata": {},
   "source": [
    "#| hide\n",
    "# Dinamical Trajectory"
   ]
  },
  {
   "attachments": {},
   "cell_type": "markdown",
   "metadata": {},
   "source": [
    "#| hide\n",
    "## Input checking functions"
   ]
  },
  {
   "cell_type": "code",
   "execution_count": null,
   "metadata": {},
   "outputs": [],
   "source": [
    "#| export\n",
    "#| hide\n",
    "def _time_input_checking(time):\n",
    "    \"Checks if time is a valid input\"\n",
    "    if not isinstance(time, np.ndarray):\n",
    "        raise TypeError(\"time must be a numpy array\")\n",
    "    if time.ndim != 1:\n",
    "        raise ValueError(\"time must be a 1D array\")\n",
    "    if not np.issubdtype(time.dtype, np.number):\n",
    "        raise TypeError(\"time must be numeric\")\n",
    "    if not np.all(np.diff(time) > 0):\n",
    "        raise ValueError(\"time must be monotonically increasing\")\n",
    "    return True\n",
    "\n",
    "def _state_input_checking(state, time):\n",
    "    \"Checks if state is a valid input\"\n",
    "    if not isinstance(state, np.ndarray):\n",
    "        raise TypeError(\"states must be a numpy array\")\n",
    "    if state.ndim < 1:\n",
    "        raise ValueError(\"states must have at least 1 dimension\")\n",
    "    if state.ndim > 3:\n",
    "        raise ValueError(\"states must have at most 3 dimensions\")\n",
    "    if state.shape[0] != len(time):\n",
    "        raise ValueError(\"states must have the same length as time\")\n",
    "    if not np.issubdtype(state.dtype, np.number):\n",
    "        raise TypeError(\"states must be numeric\")\n",
    "    return True"
   ]
  },
  {
   "attachments": {},
   "cell_type": "markdown",
   "metadata": {},
   "source": [
    "#| hide\n",
    "## Implementation"
   ]
  },
  {
   "cell_type": "code",
   "execution_count": null,
   "metadata": {},
   "outputs": [],
   "source": [
    "#| export\n",
    "#| hide\n",
    "class DynamicalTrajectory:\n",
    "    \"A class to store solutions of differential equation models that contains both the time points and the states\"\n",
    "    def __init__(self, \n",
    "                 time: np.ndarray, # time points\n",
    "                 states: np.ndarray # state at time points\n",
    "                 ) -> None:\n",
    "        # input checking\n",
    "        _time_input_checking(time)\n",
    "        _state_input_checking(states, time)\n",
    "        \n",
    "        self.time = time\n",
    "        self.states = states\n",
    "        self.num_states = states.shape[1]\n",
    "        if states.ndim >= 3:\n",
    "            self.batch_size = states.shape[2]\n",
    "        else:\n",
    "            self.batch_size = 1"
   ]
  },
  {
   "cell_type": "code",
   "execution_count": null,
   "metadata": {},
   "outputs": [],
   "source": [
    "#| hide\n",
    "# test DynamicalTrajectory's constructor\n",
    "total_timepoints = 1000\n",
    "variables = 2\n",
    "time = np.linspace(0, 10, total_timepoints)\n",
    "states = np.zeros((total_timepoints, variables))\n",
    "states[:, 0] = np.sin(time)\n",
    "states[:, 1] = np.cos(time)\n",
    "traj = DynamicalTrajectory(time, states)\n",
    "# test attributes\n",
    "test_eq(traj.num_states, variables)\n",
    "test_eq(traj.batch_size, 1)\n",
    "test_eq(traj.time, time)\n",
    "test_eq(traj.states, states)\n",
    "# test batch handling\n",
    "batches = 5\n",
    "batch_states = np.zeros((total_timepoints, variables, batches))\n",
    "batch_states[:, 0, :] = np.sin(time)[:, None]\n",
    "batch_states[:, 1, :] = np.cos(time)[:, None]\n",
    "batch_traj = DynamicalTrajectory(time, batch_states)\n",
    "test_eq(batch_traj.num_states, variables)\n",
    "test_eq(batch_traj.batch_size, batches)\n",
    "test_eq(batch_traj.time, time)\n",
    "test_eq(batch_traj.states, batch_states)\n",
    "# test error handling\n",
    "test_fail(lambda: DynamicalTrajectory(1, np.array([1, 2])), contains=\"time must be a numpy array\")\n",
    "test_fail(lambda: DynamicalTrajectory(np.array([[1, 2], [1, 2]]), np.array([1, 2]) ), contains=\"time must be a 1D array\")\n",
    "test_fail(lambda: DynamicalTrajectory(np.array([\"1\", \"2\"]), np.array([1, 2])), contains=\"time must be numeric\")\n",
    "test_fail(lambda: DynamicalTrajectory(np.array([2, 1]), np.array([1, 2])), contains=\"time must be monotonically increasing\")\n",
    "test_fail(lambda: DynamicalTrajectory(np.array([1, 2]), 1), contains=\"states must be a numpy array\")\n",
    "test_fail(lambda: DynamicalTrajectory(np.array([1, 2]), np.array(1)), contains=\"states must have at least 1 dimension\")\n",
    "test_fail(lambda: DynamicalTrajectory(np.array([1, 2]), np.zeros((1,1,1,1))), contains=\"states must have at most 3 dimensions\")\n",
    "test_fail(lambda: DynamicalTrajectory(np.array([1, 2, 3]), np.array([1, 2])), contains=\"states must have the same length as time\")\n",
    "test_fail(lambda: DynamicalTrajectory(np.array([1, 2]), np.array([1, 2, 3])), contains=\"states must have the same length as time\")\n",
    "test_fail(lambda: DynamicalTrajectory(np.array([1, 2]), np.array([\"1\", \"2\"])), contains=\"states must be numeric\")"
   ]
  },
  {
   "cell_type": "code",
   "execution_count": null,
   "metadata": {},
   "outputs": [],
   "source": [
    "#| export\n",
    "#| hide\n",
    "@patch_to(DynamicalTrajectory)\n",
    "def __call__(self, timepoint: float) -> np.ndarray: # state of the system\n",
    "    \"Return the state at time t, linearly interpolated\"\n",
    "    # timepoint input checking\n",
    "    if not isinstance(timepoint, (int, float)):\n",
    "        raise TypeError(\"timepoint must be int or float\")\n",
    "    if timepoint < self.time[0] or timepoint > self.time[-1]:\n",
    "        raise ValueError(\"timepoint must be within the time range\")\n",
    "    \n",
    "    if self.batch_size == 1:\n",
    "        values = np.zeros(self.num_states)\n",
    "        for idx in range(self.num_states):\n",
    "            values[idx] = np.interp(timepoint, self.time, self.states[..., idx])\n",
    "    else:\n",
    "        values = np.zeros((self.num_states, self.batch_size))\n",
    "        for idx in range(self.num_states):\n",
    "            for batch_idx in range(self.batch_size):\n",
    "                values[idx, batch_idx] = np.interp(timepoint, self.time, self.states[..., idx, batch_idx])\n",
    "    \n",
    "    return values"
   ]
  },
  {
   "cell_type": "code",
   "execution_count": null,
   "metadata": {},
   "outputs": [],
   "source": [
    "#| hide\n",
    "# test DynamicalTrajectory's __call__\n",
    "total_timepoints = 1000\n",
    "variables = 2\n",
    "time = np.linspace(0, 10, total_timepoints)\n",
    "states = np.zeros((total_timepoints, variables))\n",
    "states[:, 0] = np.sin(time)\n",
    "states[:, 1] = np.cos(time)\n",
    "traj = DynamicalTrajectory(time, states)\n",
    "interpolation_error = np.abs(np.sum(traj(5.0) - (np.sin(5.0), np.cos(5.0))))\n",
    "test_eq(interpolation_error < 1e-4, True)\n",
    "# handle batch\n",
    "batches = 5\n",
    "batch_states = np.zeros((total_timepoints, variables, batches))\n",
    "batch_states[:, 0, :] = np.sin(time)[:, None]\n",
    "batch_states[:, 1, :] = np.cos(time)[:, None]\n",
    "batch_traj = DynamicalTrajectory(time, batch_states)\n",
    "interpolation_error = np.abs(np.sum((batch_traj(0.5)[0] - np.sin(0.5)) + (batch_traj(0.5)[1] - np.cos(0.5))))\n",
    "test_eq(interpolation_error < 1e-4, True)\n",
    "# test error handling\n",
    "test_fail(lambda: traj(\"1\"), contains=\"timepoint must be int or float\")\n",
    "test_fail(lambda: traj(11), contains=\"timepoint must be within the time range\")"
   ]
  },
  {
   "cell_type": "code",
   "execution_count": null,
   "metadata": {},
   "outputs": [],
   "source": [
    "#| export\n",
    "#| hide\n",
    "@patch_to(DynamicalTrajectory)\n",
    "def __getitem__(self, time_idx: int) -> Tuple[float, np.ndarray]:\n",
    "    \"Return the time and state at index idx\"\n",
    "    # idx input checking\n",
    "    if not isinstance(time_idx, int):\n",
    "        raise TypeError(\"idx must be int\")\n",
    "    if time_idx < -1 or time_idx >= len(self.time):\n",
    "        raise ValueError(f\"idx must be within 0 and {len(self.time)-1}, got {time_idx}\")\n",
    "    \n",
    "    return self.time[time_idx], self.states[time_idx, ...]"
   ]
  },
  {
   "cell_type": "code",
   "execution_count": null,
   "metadata": {},
   "outputs": [],
   "source": [
    "#| hide\n",
    "# test DynamicalTrajectory's __getitem__\n",
    "total_timepoints = 1000\n",
    "variables = 2\n",
    "time = np.linspace(0, np.pi, total_timepoints)\n",
    "states = np.zeros((total_timepoints, variables))\n",
    "states[:, 0] = np.sin(time)\n",
    "states[:, 1] = np.cos(time)\n",
    "traj = DynamicalTrajectory(time, states)\n",
    "test_eq(traj[0], (0.0, np.array([0.0, 1.0])))\n",
    "states = traj[-1][1]\n",
    "difference = np.abs(np.sum(states - (np.sin(np.pi), np.cos(np.pi))))\n",
    "test_eq(difference < 1e-4, True)\n",
    "# handle batch\n",
    "batches = 5\n",
    "batch_states = np.zeros((total_timepoints, variables, batches))\n",
    "batch_states[:, 0, :] = np.sin(time)[:, None]\n",
    "batch_states[:, 1, :] = np.cos(time)[:, None]\n",
    "batch_traj = DynamicalTrajectory(time, batch_states)\n",
    "test_eq(batch_traj[0][0], 0.0)\n",
    "test_eq(np.all(batch_traj[0][1][0]==np.zeros(batches)), True)\n",
    "test_eq(np.all(batch_traj[0][1][1]==np.ones(batches)), True)\n",
    "# test error handling\n",
    "test_fail(lambda: traj[\"1\"], contains=\"idx must be int\")\n",
    "test_fail(lambda: traj[-2], contains=\"idx must be within 0 and\")\n",
    "test_fail(lambda: traj[1000], contains=\"idx must be within 0 and\")"
   ]
  },
  {
   "cell_type": "code",
   "execution_count": null,
   "metadata": {},
   "outputs": [],
   "source": [
    "#| export\n",
    "#| hide\n",
    "@patch_to(DynamicalTrajectory)\n",
    "def __len__(self) -> int:\n",
    "    return len(self.time)"
   ]
  },
  {
   "cell_type": "code",
   "execution_count": null,
   "metadata": {},
   "outputs": [],
   "source": [
    "#| hide\n",
    "# test DynamicalTrajectory's __len__\n",
    "total_timepoints = 1000\n",
    "variables = 2\n",
    "time = np.linspace(0, np.pi, total_timepoints)\n",
    "states = np.zeros((total_timepoints, variables))\n",
    "states[:, 0] = np.sin(time)\n",
    "states[:, 1] = np.cos(time)\n",
    "traj = DynamicalTrajectory(time, states)\n",
    "test_eq(len(traj), total_timepoints)\n",
    "# handle batch\n",
    "batches = 5\n",
    "batch_states = np.zeros((total_timepoints, variables, batches))\n",
    "batch_states[:, 0, :] = np.sin(time)[:, None]\n",
    "batch_states[:, 1, :] = np.cos(time)[:, None]\n",
    "batch_traj = DynamicalTrajectory(time, batch_states)\n",
    "test_eq(len(batch_traj), total_timepoints)"
   ]
  },
  {
   "cell_type": "code",
   "execution_count": null,
   "metadata": {},
   "outputs": [],
   "source": [
    "#| export\n",
    "#| hide\n",
    "@patch_to(DynamicalTrajectory)\n",
    "def get_batch(self, batch_idx: int) -> 'DynamicalTrajectory':\n",
    "    \"Obtain the trajectory for a single batch\"\n",
    "    # batch_idx input checking\n",
    "    if not isinstance(batch_idx, int):\n",
    "        raise TypeError(\"batch_idx must be int\")\n",
    "    if batch_idx < -1 or batch_idx >= self.batch_size:\n",
    "        raise ValueError(f\"batch_idx must be within -1 and {self.batch_size-1}, got {batch_idx}\")\n",
    "    if self.states.ndim >= 3:\n",
    "        return DynamicalTrajectory(self.time, self.states[:, :, batch_idx])\n",
    "    else:\n",
    "        # no batch dimension\n",
    "        return DynamicalTrajectory(self.time, self.states)"
   ]
  },
  {
   "cell_type": "code",
   "execution_count": null,
   "metadata": {},
   "outputs": [],
   "source": [
    "#| hide\n",
    "# test DynamicalTrajectory's get_batch\n",
    "total_timepoints = 1000\n",
    "variables = 2\n",
    "time = np.linspace(0, np.pi, total_timepoints)\n",
    "states = np.zeros((total_timepoints, variables))\n",
    "states[:, 0] = np.sin(time)\n",
    "states[:, 1] = np.cos(time)\n",
    "traj = DynamicalTrajectory(time, states)\n",
    "test_eq(traj.get_batch(0).batch_size, 1)\n",
    "test_eq(traj.get_batch(0).num_states, variables)\n",
    "test_eq(traj.get_batch(0).time, time)\n",
    "test_eq(traj.get_batch(0).states, states)\n",
    "test_eq(traj.get_batch(0).states.ndim, 2)\n",
    "test_eq(traj.get_batch(0).states.shape, (total_timepoints, variables))\n",
    "# handle batch\n",
    "batches = 5\n",
    "batch_states = np.zeros((total_timepoints, variables, batches))\n",
    "batch_states[:, 0, :] = np.sin(time)[:, None]\n",
    "batch_states[:, 1, :] = np.cos(time)[:, None]\n",
    "batch_traj = DynamicalTrajectory(time, batch_states)\n",
    "test_eq(batch_traj.get_batch(0).batch_size, 1)\n",
    "test_eq(batch_traj.get_batch(0).num_states, variables)\n",
    "test_eq(batch_traj.get_batch(0).time, time)\n",
    "test_eq(batch_traj.get_batch(0).states, batch_states[:, :, 0])\n",
    "test_eq(batch_traj.get_batch(0).states.ndim, 2)\n",
    "test_eq(batch_traj.get_batch(0).states.shape, (total_timepoints, variables))\n",
    "test_eq(batch_traj.get_batch(4).batch_size, 1)\n",
    "test_eq(batch_traj.get_batch(4).num_states, variables)\n",
    "test_eq(batch_traj.get_batch(4).time, time)\n",
    "test_eq(batch_traj.get_batch(4).states, batch_states[:, :, 0])\n",
    "test_eq(batch_traj.get_batch(4).states.ndim, 2)\n",
    "test_eq(batch_traj.get_batch(4).states.shape, (total_timepoints, variables))\n",
    "test_eq(batch_traj.get_batch(-1).states, batch_traj.get_batch(4).states)\n",
    "# test error handling\n",
    "test_fail(lambda: traj.get_batch(\"1\"), contains=\"batch_idx must be int\")\n",
    "test_fail(lambda: traj.get_batch(5), contains=\"batch_idx must be within -1 and\")\n",
    "test_fail(lambda: traj.get_batch(-2), contains=\"batch_idx must be within -1 and\")"
   ]
  },
  {
   "cell_type": "code",
   "execution_count": null,
   "metadata": {},
   "outputs": [],
   "source": [
    "#| export\n",
    "#| hide\n",
    "@patch_to(DynamicalTrajectory)\n",
    "# String method\n",
    "def __str__(self) -> str:\n",
    "    time_str = np.array2string(self.time, precision=2, separator=\", \", threshold=20)\n",
    "    states_str = np.array2string(self.states, precision=2, separator=\", \", threshold=20)\n",
    "    output = f\"Time:\\n{time_str}\\n\"\n",
    "    output += f\"States:\\n{states_str}\"\n",
    "    return output"
   ]
  },
  {
   "attachments": {},
   "cell_type": "markdown",
   "metadata": {},
   "source": [
    "#| hide\n",
    "# Circadian model"
   ]
  },
  {
   "attachments": {},
   "cell_type": "markdown",
   "metadata": {},
   "source": [
    "#| hide\n",
    "## Input checking functions"
   ]
  },
  {
   "cell_type": "code",
   "execution_count": null,
   "metadata": {},
   "outputs": [],
   "source": [
    "#| export\n",
    "#| hide\n",
    "def _parameter_input_checking(parameters):\n",
    "    \"Checks if parameters is a valid input for a circadian model\"\n",
    "    if not isinstance(parameters, dict):\n",
    "        raise TypeError(\"parameters must be a dictionary\")\n",
    "    if len(parameters) == 0:\n",
    "        raise ValueError(\"parameters must not be empty\")\n",
    "    for key, value in parameters.items():\n",
    "        if not isinstance(key, str):\n",
    "            raise TypeError(\"keys of parameters must be strings\")\n",
    "        if not isinstance(value, (int, float)):\n",
    "            raise TypeError(\"values of parameters must be numeric\")\n",
    "    return True\n",
    "\n",
    "\n",
    "def _positive_int_checking(number, name):\n",
    "    \"Checks if number is a positive integer\"\n",
    "    if not isinstance(number, int):\n",
    "        raise TypeError(f\"{name} must be an integer\")\n",
    "    if number < 1:\n",
    "        raise ValueError(f\"{name} must be positive\")\n",
    "    return True\n",
    "\n",
    "\n",
    "def _initial_condition_input_checking(initial_condition, num_states):\n",
    "    \"Checks if initial_condition is a valid input for a circadian model\"\n",
    "    if not isinstance(initial_condition, np.ndarray):\n",
    "        raise TypeError(\"initial_condition must be a numpy array\")\n",
    "    if not np.issubdtype(initial_condition.dtype, np.number):\n",
    "        raise TypeError(\"initial_condition must be numeric\")\n",
    "    if initial_condition.shape[0] != num_states:\n",
    "        raise ValueError(f\"initial_condition must have length {num_states}\")\n",
    "    return True\n",
    "\n",
    "\n",
    "def _model_input_checking(input, num_inputs, time):\n",
    "    \"Checks if input has the correct shape and values for a circadian model\"\n",
    "    if not isinstance(input, np.ndarray):\n",
    "        raise TypeError(\"input must be a numpy array\")\n",
    "    if not np.issubdtype(input.dtype, np.number):\n",
    "        raise TypeError(\"input must be numeric\")\n",
    "    if input.shape[0] != len(time):\n",
    "        raise ValueError(f\"input's first dimension must have length {len(time)} based on the time array provided\")\n",
    "    if num_inputs > 1:\n",
    "        if input.shape[1] != num_inputs:\n",
    "            raise ValueError(f\"input must have {num_inputs} columns\")\n",
    "\n",
    "    \n",
    "def _light_input_checking(light):\n",
    "    \"Checks if light is a valid input for a circadian model\"\n",
    "    if not isinstance(light, np.ndarray):\n",
    "        raise TypeError(\"light must be a numpy array\")\n",
    "    if light.ndim != 1:\n",
    "        raise ValueError(\"light must be a 1D array\")\n",
    "    if not np.issubdtype(light.dtype, np.number):\n",
    "        raise TypeError(\"light must be numeric\")\n",
    "    if not np.all(light >= 0):\n",
    "        raise ValueError(\"light intensity must be nonnegative\")\n",
    "    return True\n",
    "\n",
    "\n",
    "def _wake_input_checking(wake):\n",
    "    \"Checks if wake is a valid input for a circadian model\"\n",
    "    if not isinstance(wake, np.ndarray):\n",
    "        raise TypeError(\"wake must be a numpy array\")\n",
    "    if wake.ndim != 1:\n",
    "        raise ValueError(\"wake must be a 1D array\")\n",
    "    if not np.issubdtype(wake.dtype, np.number):\n",
    "        raise TypeError(\"wake must be numeric\")\n",
    "    if not np.all(wake >= 0) and not np.all(wake <= 1):\n",
    "        raise ValueError(\"wake must be between 0 and 1\")\n",
    "    return True"
   ]
  },
  {
   "attachments": {},
   "cell_type": "markdown",
   "metadata": {},
   "source": [
    "#| hide\n",
    "## Implementation"
   ]
  },
  {
   "cell_type": "code",
   "execution_count": null,
   "metadata": {},
   "outputs": [],
   "source": [
    "#| export\n",
    "#| hide\n",
    "class CircadianModel(ABC):\n",
    "    \"Abstract base class for circadian models that defines the common interface for all implementations\"\n",
    "    def __init__(self, \n",
    "                 default_params: dict, # default parameters for the model\n",
    "                 num_states: int, # number of independent variables in the model\n",
    "                 num_inputs: int, # number of inputs to the model such as light or wake state\n",
    "                 default_initial_condition: np.ndarray # default initial conditions for the model\n",
    "                 ) -> None:\n",
    "        \"Creates a new instance of the model\"\n",
    "        _parameter_input_checking(default_params)\n",
    "        _positive_int_checking(num_states, \"num_states\")\n",
    "        _positive_int_checking(num_inputs, \"num_inputs\")\n",
    "        _initial_condition_input_checking(default_initial_condition, num_states)\n",
    "        self.__default_params = default_params\n",
    "        self._parameters = default_params\n",
    "        for param_name, param_val in default_params.items():\n",
    "            setattr(self, param_name, param_val)\n",
    "        self.__num_states = num_states\n",
    "        self.__num_inputs = num_inputs\n",
    "        self.__default_initial_condition = default_initial_condition\n",
    "        self._trajectory = None\n",
    "        self._initial_condition = default_initial_condition\n",
    "    \n",
    "    @property\n",
    "    def parameters(self) -> dict:\n",
    "        return self._parameters\n",
    "\n",
    "    @parameters.setter\n",
    "    def parameters(self, value):\n",
    "        for param_name, param_val in value.items():\n",
    "            setattr(self, param_name, param_val)\n",
    "        self._parameters = value\n",
    "\n",
    "    @property\n",
    "    def _default_params(self) -> dict:\n",
    "        return self.__default_params\n",
    "\n",
    "    @_default_params.setter\n",
    "    def _default_params(self, value):\n",
    "        self._parameters = value\n",
    "        self.__default_params = value\n",
    "\n",
    "    @property\n",
    "    def _num_states(self) -> int: # number of independent variables in the model\n",
    "        return self.__num_states\n",
    "\n",
    "    @_num_states.setter\n",
    "    def _num_states(self, value):\n",
    "        self.__num_states = value\n",
    "\n",
    "    @property\n",
    "    def _num_inputs(self) -> int: # number of inputs to the model such as light or wake state\n",
    "        return self.__num_inputs\n",
    "    \n",
    "    @_num_inputs.setter\n",
    "    def _num_inputs(self, value):\n",
    "        self.__num_inputs = value\n",
    "\n",
    "    @property\n",
    "    def _default_initial_condition(self) -> np.ndarray:\n",
    "        return self.__default_initial_condition\n",
    "    \n",
    "    @_default_initial_condition.setter\n",
    "    def _default_initial_condition(self, value):\n",
    "        self.__default_initial_condition = value\n",
    "\n",
    "    @property\n",
    "    def trajectory(self) -> DynamicalTrajectory:\n",
    "        return self._trajectory\n",
    "    \n",
    "    @trajectory.setter\n",
    "    def trajectory(self, value):\n",
    "        self._trajectory = value\n",
    "\n",
    "    @property\n",
    "    def initial_condition(self) -> np.ndarray:\n",
    "        return self._initial_condition\n",
    "    \n",
    "    @initial_condition.setter\n",
    "    def initial_condition(self, value):\n",
    "        self._initial_condition = value"
   ]
  },
  {
   "cell_type": "code",
   "execution_count": null,
   "metadata": {},
   "outputs": [],
   "source": [
    "#| hide\n",
    "# test CircadianModel's constructor\n",
    "default_params = {\"a\": 1, \"b\": 2}\n",
    "num_states = 3\n",
    "num_inputs = 2\n",
    "default_initial_condition = np.array([1, 2, 3])\n",
    "model = CircadianModel(default_params, num_states, num_inputs, default_initial_condition)\n",
    "# test attributes\n",
    "test_eq(model._default_params, default_params)\n",
    "test_eq(model._num_states, num_states)\n",
    "test_eq(model._num_inputs, num_inputs)\n",
    "test_eq(model._default_initial_condition, default_initial_condition)\n",
    "test_eq(model.parameters, default_params)\n",
    "test_eq(model.initial_condition, default_initial_condition)\n",
    "test_eq(model.a, 1)\n",
    "test_eq(model.b, 2)\n",
    "test_eq(model.trajectory, None)\n",
    "# test error handling\n",
    "test_fail(lambda: CircadianModel(1, num_states, num_inputs, default_initial_condition), contains=\"parameters must be a dictionary\")\n",
    "test_fail(lambda: CircadianModel({}, num_states, num_inputs, default_initial_condition), contains=\"parameters must not be empty\")\n",
    "test_fail(lambda: CircadianModel({1: 1, 2:2}, num_states, num_inputs, default_initial_condition), contains=\"keys of parameters must be strings\")\n",
    "test_fail(lambda: CircadianModel({\"a\": \"1\", \"b\":2}, num_states, num_inputs, default_initial_condition), contains=\"values of parameters must be numeric\")\n",
    "test_fail(lambda: CircadianModel(default_params, \"1\", num_inputs, default_initial_condition), contains=\"num_states must be an integer\")\n",
    "test_fail(lambda: CircadianModel(default_params, -1, num_inputs, default_initial_condition), contains=\"num_states must be positive\")\n",
    "test_fail(lambda: CircadianModel(default_params, num_states, \"1\", default_initial_condition), contains=\"num_inputs must be an integer\")\n",
    "test_fail(lambda: CircadianModel(default_params, num_states, -1, default_initial_condition), contains=\"num_inputs must be positive\")\n",
    "test_fail(lambda: CircadianModel(default_params, num_states, num_inputs, \"1\"), contains=\"initial_condition must be a numpy array\")\n",
    "test_fail(lambda: CircadianModel(default_params, num_states, num_inputs, np.array([\"1\", \"2\", \"3\"])), contains=\"initial_condition must be numeric\")\n",
    "test_fail(lambda: CircadianModel(default_params, num_states, num_inputs, np.array([1, 2, 3, 4])), contains=\"initial_condition must have length\")"
   ]
  },
  {
   "cell_type": "code",
   "execution_count": null,
   "metadata": {},
   "outputs": [],
   "source": [
    "#| export\n",
    "#| hide\n",
    "@patch_to(CircadianModel)\n",
    "def derv(self,\n",
    "         state: np.ndarray, # dynamical state of the model\n",
    "         input: np.ndarray, # inputs to the model such as light or wake state\n",
    "         ) -> np.ndarray:\n",
    "    \"Right-hand-side of the differential equation model with state and light as inputs\"\n",
    "    return NotImplementedError(\"derv is not implemented for this model\")"
   ]
  },
  {
   "cell_type": "code",
   "execution_count": null,
   "metadata": {},
   "outputs": [],
   "source": [
    "#| export\n",
    "#| hide\n",
    "@patch_to(CircadianModel)\n",
    "def step_rk4(self,\n",
    "            state: np.ndarray, # dynamical state of the model\n",
    "            input: np.ndarray, # inputs to the model such as light or wake state\n",
    "            dt: float, # step size in hours \n",
    "            ) -> np.ndarray:\n",
    "    \"Integrate the state of the model for one timestep using a fourth-order Runge-Kutta algorithm. Assumes a constant light value for the time step\"\n",
    "    k1 = self.derv(state, input)\n",
    "    k2 = self.derv(state + k1 * dt / 2.0, input)\n",
    "    k3 = self.derv(state + k2 * dt / 2.0, input)\n",
    "    k4 = self.derv(state + k3 * dt, input)\n",
    "    state = state + (dt / 6.0) * (k1 + 2.0*k2 + 2.0*k3 + k4)\n",
    "    return state"
   ]
  },
  {
   "cell_type": "code",
   "execution_count": null,
   "metadata": {},
   "outputs": [],
   "source": [
    "#| hide\n",
    "# test CircadianModel's step_rk4\n",
    "default_params = {\"a\": 1, \"b\": 2}\n",
    "num_states = 3\n",
    "num_inputs = 2\n",
    "default_initial_condition = np.array([1, 2, 3])\n",
    "model = CircadianModel(default_params, num_states, num_inputs, default_initial_condition)\n",
    "model.derv = lambda state, input: np.ones_like(state)\n",
    "light_input = 1.0\n",
    "dt = 0.1\n",
    "test_eq(np.all(model.step_rk4(default_initial_condition, light_input, dt) == np.array([1.1, 2.1, 3.1])), True)"
   ]
  },
  {
   "cell_type": "code",
   "execution_count": null,
   "metadata": {},
   "outputs": [],
   "source": [
    "#| export\n",
    "#| hide\n",
    "@patch_to(CircadianModel)\n",
    "def integrate(self,\n",
    "              time: np.ndarray, # time points for integration. Time difference between consecutive values determines step size of the solver\n",
    "              initial_condition: np.ndarray=None, # initial state of the model\n",
    "              input: np.ndarray=None, # model input (such as light or wake) for each time point \n",
    "              ) -> DynamicalTrajectory:\n",
    "    \"Solve the model for specific timepoints given initial conditions and model inputs\"\n",
    "    # input checking\n",
    "    _time_input_checking(time)\n",
    "    if input is None:\n",
    "        raise ValueError(\"a model input must be provided via the input argument\")\n",
    "    else:\n",
    "        _model_input_checking(input, self._num_inputs, time)\n",
    "    if initial_condition is None:\n",
    "        initial_condition = self._default_initial_condition\n",
    "    else:\n",
    "        _initial_condition_input_checking(initial_condition, self._num_states)\n",
    "    \n",
    "    self.initial_condition = initial_condition\n",
    "    \n",
    "    n = len(time)\n",
    "    sol = np.zeros((n, *initial_condition.shape))\n",
    "    sol[0,...] = initial_condition\n",
    "    state = initial_condition\n",
    "\n",
    "    for idx in range(1, n):\n",
    "        dt = time[idx] - time[idx-1]\n",
    "        input_value = input[idx,...]\n",
    "        state = self.step_rk4(state, input_value, dt)\n",
    "        sol[idx,...] = state\n",
    "    \n",
    "    self._trajectory = DynamicalTrajectory(time, sol)\n",
    "    return self._trajectory"
   ]
  },
  {
   "cell_type": "code",
   "execution_count": null,
   "metadata": {},
   "outputs": [],
   "source": [
    "#| hide\n",
    "# test integrate\n",
    "default_params = {\"a\": 1, \"b\": 2}\n",
    "num_states = 3\n",
    "num_inputs = 2\n",
    "default_initial_condition = np.array([1, 2, 3])\n",
    "model = CircadianModel(default_params, num_states, num_inputs, default_initial_condition)\n",
    "time = np.linspace(0, 10, 1000)\n",
    "light_input = np.ones((len(time), num_inputs))\n",
    "model.derv = lambda state, input: np.ones_like(state)\n",
    "model.integrate(time, default_initial_condition, light_input)\n",
    "test_eq(model.trajectory.num_states, num_states)\n",
    "test_eq(model.trajectory.batch_size, 1)\n",
    "test_eq(model.trajectory.time, time)\n",
    "state_0_error = np.abs(np.sum(model.trajectory.states[:, 0] - time - 1))\n",
    "state_1_error = np.abs(np.sum(model.trajectory.states[:, 1] - time - 2))\n",
    "state_2_error = np.abs(np.sum(model.trajectory.states[:, 2] - time - 3))\n",
    "test_eq(state_0_error < 1e-10, True)\n",
    "test_eq(state_1_error < 1e-10, True)\n",
    "test_eq(state_2_error < 1e-10, True)\n",
    "# handle batches\n",
    "batches = 5\n",
    "batch_initial_conditions = np.zeros((num_states, batches))\n",
    "batch_initial_conditions[:, 1] = 1\n",
    "batch_initial_conditions[:, 2] = 2\n",
    "batch_initial_conditions[:, 3] = 3\n",
    "batch_initial_conditions[:, 4] = 4\n",
    "model.integrate(time, batch_initial_conditions, light_input)\n",
    "for batch in range(batches):\n",
    "    batch_trajectory = model.trajectory.get_batch(batch)\n",
    "    test_eq(batch_trajectory.num_states, num_states)\n",
    "    test_eq(batch_trajectory.time, time)\n",
    "    state_0_error = np.abs(np.sum(batch_trajectory.states[:, 0] - time - batch))\n",
    "    state_1_error = np.abs(np.sum(batch_trajectory.states[:, 1] - time - batch))\n",
    "    state_2_error = np.abs(np.sum(batch_trajectory.states[:, 2] - time - batch))\n",
    "    test_eq(state_0_error < 1e-10, True)\n",
    "    test_eq(state_1_error < 1e-10, True)\n",
    "    test_eq(state_2_error < 1e-10, True)\n",
    "# test error handling\n",
    "test_fail(lambda: model.integrate(1, default_initial_condition, light_input), contains=\"time must be a numpy array\")\n",
    "test_fail(lambda: model.integrate(np.array([[1, 2], [1, 2]]), default_initial_condition, light_input), contains=\"time must be a 1D array\")\n",
    "test_fail(lambda: model.integrate(np.array([\"1\", \"2\"]), default_initial_condition, light_input), contains=\"time must be numeric\")\n",
    "test_fail(lambda: model.integrate(np.array([2, 1]), default_initial_condition, light_input), contains=\"time must be monotonically increasing\")\n",
    "test_fail(lambda: model.integrate(time, 1, light_input), contains=\"initial_condition must be a numpy array\")\n",
    "test_fail(lambda: model.integrate(time, np.array([\"1\", \"2\", \"3\"]), light_input), contains=\"initial_condition must be numeric\")\n",
    "test_fail(lambda: model.integrate(time, np.array([1, 2]), light_input), contains=\"initial_condition must have length\")\n",
    "test_fail(lambda: model.integrate(time, np.array([1, 2]), light_input[:-3]), contains=\"input's first dimension must have length\")\n",
    "test_fail(lambda: model.integrate(time, default_initial_condition, 1), contains=\"input must be a numpy array\")\n",
    "test_fail(lambda: model.integrate(time, default_initial_condition, np.array([\"1\", \"2\"])), contains=\"input must be numeric\")\n",
    "test_fail(lambda: model.integrate(time, default_initial_condition), contains=\"a model input must be provided via the input argument\")"
   ]
  },
  {
   "cell_type": "code",
   "execution_count": null,
   "metadata": {},
   "outputs": [],
   "source": [
    "#| export\n",
    "#| hide\n",
    "@patch_to(CircadianModel)\n",
    "def __call__(self,\n",
    "             time: np.ndarray, # time points for integration. Time difference between each consecutive pair of values determines step size of the solver\n",
    "             initial_condition: np.ndarray=None, # initial state of the model\n",
    "             input: np.ndarray=None, # model input (such as light or wake) for each time point\n",
    "             ):\n",
    "    \"Wrapper to integrate\"\n",
    "    return self.integrate(time, initial_condition, input)"
   ]
  },
  {
   "cell_type": "code",
   "execution_count": null,
   "metadata": {},
   "outputs": [],
   "source": [
    "#| hide\n",
    "# test CircadianModel's __call__\n",
    "default_params = {\"a\": 1, \"b\": 2}\n",
    "num_states = 3\n",
    "num_inputs = 2\n",
    "default_initial_condition = np.array([1, 2, 3])\n",
    "model = CircadianModel(default_params, num_states, num_inputs, default_initial_condition)\n",
    "time = np.linspace(0, 10, 1000)\n",
    "light_input = np.ones((len(time), num_inputs))\n",
    "model.derv = lambda state, input: np.ones_like(state)\n",
    "model(time, default_initial_condition, light_input)\n",
    "test_eq(model.trajectory.num_states, num_states)\n",
    "test_eq(model.trajectory.batch_size, 1)\n",
    "test_eq(model.trajectory.time, time)\n",
    "state_0_error = np.abs(np.sum(model.trajectory.states[:, 0] - time - 1))\n",
    "state_1_error = np.abs(np.sum(model.trajectory.states[:, 1] - time - 2))\n",
    "state_2_error = np.abs(np.sum(model.trajectory.states[:, 2] - time - 3))\n",
    "test_eq(state_0_error < 1e-10, True)\n",
    "test_eq(state_1_error < 1e-10, True)\n",
    "test_eq(state_2_error < 1e-10, True)\n",
    "# handle batches\n",
    "batches = 5\n",
    "batch_initial_conditions = np.zeros((num_states, batches))\n",
    "batch_initial_conditions[:, 1] = 1\n",
    "batch_initial_conditions[:, 2] = 2\n",
    "batch_initial_conditions[:, 3] = 3\n",
    "batch_initial_conditions[:, 4] = 4\n",
    "model(time, batch_initial_conditions, light_input)\n",
    "for batch in range(batches):\n",
    "    batch_trajectory = model.trajectory.get_batch(batch)\n",
    "    test_eq(batch_trajectory.num_states, num_states)\n",
    "    test_eq(batch_trajectory.time, time)\n",
    "    state_0_error = np.abs(np.sum(batch_trajectory.states[:, 0] - time - batch))\n",
    "    state_1_error = np.abs(np.sum(batch_trajectory.states[:, 1] - time - batch))\n",
    "    state_2_error = np.abs(np.sum(batch_trajectory.states[:, 2] - time - batch))\n",
    "    test_eq(state_0_error < 1e-10, True)\n",
    "    test_eq(state_1_error < 1e-10, True)\n",
    "    test_eq(state_2_error < 1e-10, True)\n",
    "# test error handling\n",
    "test_fail(lambda: model(1, default_initial_condition, light_input), contains=\"time must be a numpy array\")\n",
    "test_fail(lambda: model(np.array([[1, 2], [1, 2]]), default_initial_condition, light_input), contains=\"time must be a 1D array\")\n",
    "test_fail(lambda: model(np.array([\"1\", \"2\"]), default_initial_condition, light_input), contains=\"time must be numeric\")\n",
    "test_fail(lambda: model(np.array([2, 1]), default_initial_condition, light_input), contains=\"time must be monotonically increasing\")\n",
    "test_fail(lambda: model(time, 1, light_input), contains=\"initial_condition must be a numpy array\")\n",
    "test_fail(lambda: model(time, np.array([\"1\", \"2\", \"3\"]), light_input), contains=\"initial_condition must be numeric\")\n",
    "test_fail(lambda: model(time, np.array([1, 2]), light_input), contains=\"initial_condition must have length\")\n",
    "test_fail(lambda: model(time, default_initial_condition, 1), contains=\"input must be a numpy array\")\n",
    "test_fail(lambda: model(time, default_initial_condition, light_input[:-3]), contains=\"input's first dimension must have length\")\n",
    "test_fail(lambda: model(time, default_initial_condition, np.array([\"1\", \"2\"])), contains=\"input must be numeric\")\n",
    "test_fail(lambda: model(time, default_initial_condition), contains=\"a model input must be provided via the input argument\")"
   ]
  },
  {
   "cell_type": "code",
   "execution_count": null,
   "metadata": {},
   "outputs": [],
   "source": [
    "#| export\n",
    "#| hide\n",
    "@patch_to(CircadianModel)\n",
    "def get_parameters_array(self)-> np.array:\n",
    "    \"Returns the parameters for the model as a numpy array\"\n",
    "    parameter_array = np.zeros(len(self.parameters))\n",
    "    for idx, value in enumerate(self.parameters.values()):\n",
    "        parameter_array[idx] = value\n",
    "    return parameter_array"
   ]
  },
  {
   "cell_type": "code",
   "execution_count": null,
   "metadata": {},
   "outputs": [],
   "source": [
    "#| hide\n",
    "# test CircadianModel's get_parameters_array\n",
    "default_params = {\"a\": 1, \"b\": 2}\n",
    "num_states = 3\n",
    "num_inputs = 1\n",
    "default_initial_conditions = np.array([1, 2, 3])\n",
    "model = CircadianModel(default_params, num_states, num_inputs, default_initial_conditions)\n",
    "test_eq(model.get_parameters_array(), np.array([1, 2]))"
   ]
  },
  {
   "cell_type": "code",
   "execution_count": null,
   "metadata": {},
   "outputs": [],
   "source": [
    "#| export\n",
    "#| hide\n",
    "@patch_to(CircadianModel)\n",
    "def phase(self,\n",
    "          trajectory: DynamicalTrajectory=None, # trajectory to calculate the phase for. If None, the phase is calculated for the current trajectory \n",
    "          time: float=None # timepoint to calculate the phase at. If None, the phase is calculated for the entire trajectory\n",
    "          ) -> float:\n",
    "    \"Calculates the phase of the model at a given timepoint\"\n",
    "    raise NotImplementedError(\"phase is not implemented for this model\")"
   ]
  },
  {
   "cell_type": "code",
   "execution_count": null,
   "metadata": {},
   "outputs": [],
   "source": [
    "#| export\n",
    "#| hide\n",
    "@patch_to(CircadianModel)\n",
    "def amplitude(self,\n",
    "              trajectory: DynamicalTrajectory=None, # trajectory to calculate the amplitude for. If None, the amplitude is calculated for the current trajectory \n",
    "              time: float=None, # timepoint to calculate the amplitude at. If None, the amplitude is calculated for the entire trajectory\n",
    "              ) -> float:\n",
    "    \"Calculates the amplitude of the model at a given timepoint\"\n",
    "    raise NotImplementedError(\"amplitude is not implemented for this model\")"
   ]
  },
  {
   "cell_type": "code",
   "execution_count": null,
   "metadata": {},
   "outputs": [],
   "source": [
    "#| export\n",
    "#| hide\n",
    "@patch_to(CircadianModel)\n",
    "def cbt(self,\n",
    "        trajectory: DynamicalTrajectory=None, # trajectory to calculate the cbt for. If None, the cbt is calculated for the current trajectory\n",
    "        ) -> np.ndarray: # array of times when the cbt occurs\n",
    "    \"Finds the core body temperature minumum markers along a trajectory\"\n",
    "    raise NotImplementedError(\"cbt is not implemented for this model\")"
   ]
  },
  {
   "cell_type": "code",
   "execution_count": null,
   "metadata": {},
   "outputs": [],
   "source": [
    "#| export\n",
    "#| hide\n",
    "@patch_to(CircadianModel)\n",
    "def dlmos(self,\n",
    "          trajectory: DynamicalTrajectory=None, # trajectory to calculate the dlmos for. If None, the dlmos are calculated for the current trajectory\n",
    "          ) -> np.ndarray: # array of times when dlmo occurs \n",
    "    \"Finds the Dim Light Melatonin Onset (DLMO) markers along a trajectory\"\n",
    "    raise NotImplementedError(\"dlmo is not implemented for this model\")"
   ]
  },
  {
   "cell_type": "code",
   "execution_count": null,
   "metadata": {},
   "outputs": [],
   "source": [
    "#| export\n",
    "#| hide\n",
    "@patch_to(CircadianModel)\n",
    "def equilibrate(self,\n",
    "                time: np.ndarray, # time points for integration. Time difference between each consecutive pair of values determines step size of the solver\n",
    "                input: np.ndarray, # model input (such as light or wake) for each time point\n",
    "                num_loops: int=10 # number of times to loop the input\n",
    "                ) -> np.ndarray: # final state of the model\n",
    "    \"Equilibrate the model by looping the given light_estimate. Assumes the schedule repeats periodically after it ends\"\n",
    "    # input checking\n",
    "    _time_input_checking(time)\n",
    "    _model_input_checking(input, self._num_inputs, time)\n",
    "    _positive_int_checking(num_loops, \"num_loops\")\n",
    "    \n",
    "    initial_condition = self._default_initial_condition\n",
    "    for _ in range(num_loops):\n",
    "        sol = self.integrate(time, initial_condition, input).states\n",
    "        initial_condition = sol[-1, ...]\n",
    "    final_state = sol[-1, ...]\n",
    "    return final_state"
   ]
  },
  {
   "cell_type": "code",
   "execution_count": null,
   "metadata": {},
   "outputs": [],
   "source": [
    "#| hide\n",
    "# test CircadianModel's equilibrate\n",
    "default_params = {\"a\": 1, \"b\": 2}\n",
    "num_states = 3\n",
    "num_inputs = 2\n",
    "default_initial_condition = np.array([1, 2, 3])\n",
    "model = CircadianModel(default_params, num_states, num_inputs, default_initial_condition)\n",
    "model.derv = lambda state, input: np.ones_like(state)\n",
    "time = np.linspace(0, 10, 1000)\n",
    "light_input = np.ones((len(time), num_inputs))\n",
    "model(time, default_initial_condition, light_input)\n",
    "loops = 2\n",
    "new_initial_condition = model.equilibrate(time, light_input, loops)\n",
    "test_eq(new_initial_condition.shape, default_initial_condition.shape)\n",
    "ground_truth = default_initial_condition + loops * time[-1]\n",
    "test_eq(np.all(np.isclose(ground_truth, new_initial_condition)), True)\n",
    "# test error handling\n",
    "test_fail(lambda: model.equilibrate(1, light_input, loops), contains=\"time must be a numpy array\")\n",
    "test_fail(lambda: model.equilibrate(np.array([[1, 2], [1, 2]]), light_input, loops), contains=\"time must be a 1D array\")\n",
    "test_fail(lambda: model.equilibrate(np.array([\"1\", \"2\"]), light_input, loops), contains=\"time must be numeric\")\n",
    "test_fail(lambda: model.equilibrate(np.array([2, 1]), light_input, loops), contains=\"time must be monotonically increasing\")\n",
    "test_fail(lambda: model.equilibrate(time, 1, loops), contains=\"input must be a numpy array\")\n",
    "test_fail(lambda: model.equilibrate(time, np.array([[1, 2], [1, 2]]), loops), contains=\"input's first dimension must have length\")\n",
    "test_fail(lambda: model.equilibrate(time, np.array([\"1\", \"2\"]), loops), contains=\"input must be numeric\")\n",
    "test_fail(lambda: model.equilibrate(time, light_input, \"1\"), contains=\"num_loops must be an integer\")\n",
    "test_fail(lambda: model.equilibrate(time, light_input, -1), contains=\"num_loops must be positive\")"
   ]
  },
  {
   "attachments": {},
   "cell_type": "markdown",
   "metadata": {},
   "source": [
    "#| hide\n",
    "## Forger99"
   ]
  },
  {
   "cell_type": "code",
   "execution_count": null,
   "metadata": {},
   "outputs": [],
   "source": [
    "#| export\n",
    "#| hide\n",
    "class Forger99(CircadianModel): \n",
    "    \"Implementation of Forger's 1999 model from the article 'A simpler model of the human circadian pacemaker'\"\n",
    "    def __init__(self, params=None):\n",
    "        default_params = {\n",
    "            'taux': 24.2, 'mu': 0.23, 'G': 33.75, \n",
    "            'alpha_0': 0.05, 'beta': 0.0075, 'p': 0.50, \n",
    "            'I0': 9500.0, 'k': 0.55, 'cbt_to_dlmo': 7.0,\n",
    "            }\n",
    "        num_states = 3 # x, xc, n\n",
    "        num_inputs = 1 # light\n",
    "        default_initial_condition = np.array([-1.00982605,  0.00125715,  0.0])\n",
    "        super(Forger99, self).__init__(default_params, num_states, num_inputs, default_initial_condition)\n",
    "        if params is not None:\n",
    "            self.parameters = params\n",
    "\n",
    "    def integrate(self,\n",
    "                  time: np.ndarray, # time points for integration. Time difference between each consecutive pair of values determines step size of the solver\n",
    "                  initial_condition: np.ndarray=None, # initial state of the model\n",
    "                  input: np.ndarray=None, # model input (such as light or wake) for each time point\n",
    "                  ) -> DynamicalTrajectory:\n",
    "        \"Solve the model for specific timepoints given initial conditions and model inputs\"\n",
    "        # input checking for Forger99\n",
    "        if input is not None:\n",
    "            _light_input_checking(input)\n",
    "        return super().integrate(time, initial_condition, input)\n",
    "\n",
    "    def __repr__(self) -> str:\n",
    "        return self.__str__()\n",
    "    \n",
    "    def __str__(self) -> str:\n",
    "        return \"Forger99\""
   ]
  },
  {
   "cell_type": "code",
   "execution_count": null,
   "metadata": {},
   "outputs": [],
   "source": [
    "#| hide\n",
    "# test Forger99's constructor\n",
    "model = Forger99()\n",
    "# test attributes\n",
    "true_default_params = {\n",
    "    'taux': 24.2, 'mu': 0.23, 'G': 33.75,\n",
    "    'alpha_0': 0.05, 'beta': 0.0075, 'p': 0.50,\n",
    "    'I0': 9500.0, 'k': 0.55, 'cbt_to_dlmo': 7.0}\n",
    "test_eq(model._default_params, true_default_params)\n",
    "true_initial_condition = np.array([-1.00982605,  0.00125715,  0.0])\n",
    "test_eq(model._default_initial_condition, true_initial_condition)\n",
    "test_eq(model.parameters, true_default_params)\n",
    "test_eq(model._num_states, 3)\n",
    "test_eq(model._num_inputs, 1)\n",
    "for key, value in true_default_params.items():\n",
    "    test_eq(getattr(model, key), value)\n",
    "# test initialization with custom parameters\n",
    "custom_params = {\n",
    "    'taux': 1.0, 'mu': 2.0, 'G': 3.0,\n",
    "    'alpha_0': 4.0, 'beta': 5.0, 'p': 6.0,\n",
    "    'I0': 7.0, 'k': 8.0, 'cbt_to_dlmo': 9.0}\n",
    "model = Forger99(custom_params)\n",
    "# test attributes\n",
    "test_eq(model._default_params, true_default_params)\n",
    "test_eq(model._default_initial_condition, true_initial_condition)\n",
    "test_eq(model.parameters, custom_params)\n",
    "test_eq(model._num_states, 3)\n",
    "test_eq(model._num_inputs, 1)\n",
    "for key, value in custom_params.items():\n",
    "    test_eq(getattr(model, key), value)"
   ]
  },
  {
   "cell_type": "code",
   "execution_count": null,
   "metadata": {},
   "outputs": [],
   "source": [
    "#| hide\n",
    "# test Forger99's integrate input handling\n",
    "model = Forger99()\n",
    "time = np.array([0, 1, 2])\n",
    "light_input = np.ones(len(time))\n",
    "test_fail(lambda: model.integrate(time, input=\"1\"), contains=\"light must be a numpy array\")\n",
    "test_fail(lambda: model.integrate(time, input=np.ones((1,1))), contains=\"light must be a 1D\")\n",
    "test_fail(lambda: model.integrate(time, input=np.array([\"1\", \"2\"])), contains=\"light must be numeric\")\n",
    "test_fail(lambda: model.integrate(time, input=-light_input), contains=\"light intensity must be nonnegative\")"
   ]
  },
  {
   "cell_type": "code",
   "execution_count": null,
   "metadata": {},
   "outputs": [],
   "source": [
    "#| export\n",
    "#| hide\n",
    "@patch_to(Forger99)\n",
    "def derv(self, \n",
    "         state: np.ndarray, # dynamical state (x, xc, n)\n",
    "         input: float # light intensity in lux\n",
    "         ) -> np.ndarray: # derivative of the state\n",
    "     \"Right-hand-side of the differential equation model\"\n",
    "     x = state[0,...]\n",
    "     xc = state[1,...]\n",
    "     n = state[2,...]\n",
    "     light = input\n",
    "\n",
    "     alpha = self.alpha_0 * pow((light / self.I0), self.p)\n",
    "     Bhat = self.G * (1.0 - n) * alpha * (1 - 0.4 * x) * (1 - 0.4 * xc)\n",
    "     mu_term = self.mu * (xc - 4.0 / 3.0 * pow(xc, 3.0))\n",
    "     taux_term = pow(24.0 / (0.99669 * self.taux), 2.0) + self.k * Bhat\n",
    "\n",
    "     dydt = np.zeros_like(state)\n",
    "     dydt[0,...] = np.pi / 12.0 * (xc + Bhat)\n",
    "     dydt[1,...] = np.pi / 12.0 * (mu_term - x * taux_term)\n",
    "     dydt[2,...] = 60.0 * (alpha * (1.0 - n) - self.beta * n)\n",
    "\n",
    "     return dydt"
   ]
  },
  {
   "cell_type": "code",
   "execution_count": null,
   "metadata": {},
   "outputs": [],
   "source": [
    "#| hide\n",
    "# test Forger99's derv\n",
    "model = Forger99()\n",
    "# single batch\n",
    "state = np.array([-0.3, -1.13, 0.0])\n",
    "light = 1.0\n",
    "derv_error = np.abs(np.sum(model.derv(state, light) - np.array([-0.28846216, 0.1267787, 0.03077935])))\n",
    "test_eq(derv_error < 1e-8, True)\n",
    "# multiple batches\n",
    "batches = 5\n",
    "batch_states = np.zeros((3, batches))\n",
    "for batch in range(batches):\n",
    "    batch_states[:, batch] = state\n",
    "batch_derv = model.derv(batch_states, light)\n",
    "for batch in range(batches):\n",
    "    derv_error = np.abs(np.sum(batch_derv[:, batch] - np.array([-0.28846216, 0.1267787, 0.03077935])))\n",
    "    test_eq(derv_error < 1e-8, True)"
   ]
  },
  {
   "cell_type": "code",
   "execution_count": null,
   "metadata": {},
   "outputs": [],
   "source": [
    "#| export\n",
    "#| hide\n",
    "@patch_to(Forger99)\n",
    "def phase(self,\n",
    "          trajectory: DynamicalTrajectory=None, # trajectory to calculate the phase. If None, the current trajectory is used\n",
    "          time: float=None # a time point to calculate the phase at. If None, the phase is calculated for the entire trajectory\n",
    "          ) -> float:\n",
    "    if trajectory is None:\n",
    "        trajectory = self.trajectory\n",
    "    else: \n",
    "        if not isinstance(trajectory, DynamicalTrajectory):\n",
    "            raise ValueError(\"trajectory must be a DynamicalTrajectory\")\n",
    "    if time is None:\n",
    "        x = trajectory.states[:, 0]\n",
    "        y = -1.0 * trajectory.states[:, 1]\n",
    "    else:\n",
    "        if not isinstance(time, (float, int)):\n",
    "            raise ValueError(\"time must be a float or an int\")\n",
    "        else:\n",
    "            state = trajectory(time)\n",
    "            x = state[0] \n",
    "            y = -1.0 * state[1]\n",
    "    return np.angle(x + complex(0,1) * y)"
   ]
  },
  {
   "cell_type": "code",
   "execution_count": null,
   "metadata": {},
   "outputs": [],
   "source": [
    "#| hide\n",
    "# test Forger99's phase\n",
    "model = Forger99()\n",
    "time = np.linspace(0, 96, 1000)\n",
    "light = np.zeros_like(time)\n",
    "model(time, input=light)\n",
    "phase_array = np.zeros_like(time)\n",
    "for idx, t in enumerate(time):\n",
    "    phase_array[idx] = model.phase(time=t)\n",
    "true_phase = np.angle(model.trajectory.states[:,0] + complex(0,1)*(-1.0 * model.trajectory.states[:,1]))\n",
    "test_eq(np.all(np.isclose(phase_array, true_phase)), True)\n",
    "# test passing the trajectory\n",
    "light = LightSchedule.Regular()(time)\n",
    "trajectory = model(time, input=light)\n",
    "phase_array = np.zeros_like(time)\n",
    "for idx, t in enumerate(time):\n",
    "    phase_array[idx] = model.phase(trajectory, t)\n",
    "true_phase = np.angle(model.trajectory.states[:,0] + complex(0,1)*(-1.0 * model.trajectory.states[:,1]))\n",
    "test_eq(np.all(np.isclose(phase_array, true_phase)), True)\n",
    "# test calculation for all trajectory\n",
    "phase = model.phase()\n",
    "test_eq(np.all(np.isclose(phase, true_phase)), True)\n",
    "# test error handling\n",
    "test_fail(lambda: model.phase(1), contains=\"trajectory must be a DynamicalTrajectory\")\n",
    "test_fail(lambda: model.phase(trajectory, \"1\"), contains=\"time must be a float or an int\")"
   ]
  },
  {
   "cell_type": "code",
   "execution_count": null,
   "metadata": {},
   "outputs": [],
   "source": [
    "#| export\n",
    "#| hide\n",
    "@patch_to(Forger99)\n",
    "def amplitude(self,\n",
    "              trajectory: DynamicalTrajectory=None, # trajectory to calculate the amplitude. If None, the current trajectory is used\n",
    "              time: float=None # a time point to calculate the amplitude at. If None, the amplitude is calculated for the entire trajectory\n",
    "              ) -> float:\n",
    "    if trajectory is None:\n",
    "        trajectory = self.trajectory\n",
    "    else: \n",
    "        if not isinstance(trajectory, DynamicalTrajectory):\n",
    "            raise ValueError(\"trajectory must be a DynamicalTrajectory\")\n",
    "    if time is None:\n",
    "        x = trajectory.states[:, 0]\n",
    "        y = -1.0 * trajectory.states[:, 1]\n",
    "    else:\n",
    "        if not isinstance(time, (float, int)):\n",
    "            raise ValueError(\"time must be a float or an int\")\n",
    "        else:\n",
    "            state = trajectory(time)\n",
    "            x = state[0] \n",
    "            y = -1.0 * state[1]\n",
    "    return np.sqrt(x**2 + y**2)"
   ]
  },
  {
   "cell_type": "code",
   "execution_count": null,
   "metadata": {},
   "outputs": [],
   "source": [
    "#| hide\n",
    "# test Forger99's amplitude\n",
    "model = Forger99()\n",
    "time = np.linspace(0, 96, 1000)\n",
    "light = np.zeros_like(time)\n",
    "model(time, input=light)\n",
    "amplitude_array = np.zeros_like(time)\n",
    "for idx, t in enumerate(time):\n",
    "    amplitude_array[idx] = model.amplitude(time=t)\n",
    "true_amplitude = np.sqrt(model.trajectory.states[:,0] ** 2 + model.trajectory.states[:,1] ** 2)\n",
    "test_eq(np.all(np.isclose(amplitude_array, true_amplitude)), True)\n",
    "# test passing the trajectory\n",
    "light = LightSchedule.Regular()(time)\n",
    "trajectory = model(time, input=light)\n",
    "amplitude_array = np.zeros_like(time)\n",
    "for idx, t in enumerate(time):\n",
    "    amplitude_array[idx] = model.amplitude(trajectory, t)\n",
    "true_amplitude = np.sqrt(model.trajectory.states[:,0] ** 2 + model.trajectory.states[:,1] ** 2)\n",
    "test_eq(np.all(np.isclose(amplitude_array, true_amplitude)), True)\n",
    "# test calculation for all trajectory\n",
    "amplitude = model.amplitude()\n",
    "test_eq(np.all(np.isclose(amplitude, true_amplitude)), True)\n",
    "# test error handling\n",
    "test_fail(lambda: model.amplitude(1), contains=\"trajectory must be a DynamicalTrajectory\")\n",
    "test_fail(lambda: model.amplitude(trajectory, \"1\"), contains=\"time must be a float or an int\")"
   ]
  },
  {
   "cell_type": "code",
   "execution_count": null,
   "metadata": {},
   "outputs": [],
   "source": [
    "#| export\n",
    "#| hide\n",
    "@patch_to(Forger99)\n",
    "def cbt(self,\n",
    "        trajectory: DynamicalTrajectory=None, # trajectory to calculate the cbt. If None, the current trajectory is used\n",
    "        ) -> np.ndarray:\n",
    "    \"Finds the core body temperature minumum markers for the model along a trajectory as the minimum of x\"\n",
    "    if trajectory is None:\n",
    "        trajectory = self.trajectory\n",
    "    else:\n",
    "        if not isinstance(trajectory, DynamicalTrajectory):\n",
    "            raise ValueError(\"trajectory must be a DynamicalTrajectory\")\n",
    "    inverted_x = -1*trajectory.states[:,0]\n",
    "    cbt_min_idxs, _ = find_peaks(inverted_x)\n",
    "    return trajectory.time[cbt_min_idxs]"
   ]
  },
  {
   "cell_type": "code",
   "execution_count": null,
   "metadata": {},
   "outputs": [],
   "source": [
    "#| hide\n",
    "# test Forger99's cbt\n",
    "model = Forger99()\n",
    "time = np.linspace(0, 96, 2000)\n",
    "light = np.zeros_like(time)\n",
    "trajectory = model(time, input=light)\n",
    "cbt_min_idxs = find_peaks(-1*trajectory.states[:,0])[0]\n",
    "troughs = time[cbt_min_idxs]\n",
    "test_eq(np.all(np.isclose(model.cbt(), troughs)), True)\n",
    "# test passing the trajectory\n",
    "light = LightSchedule.Regular()(time)\n",
    "trajectory = model(time, input=light)\n",
    "cbt_min_idxs = find_peaks(-1*trajectory.states[:,0])[0]\n",
    "troughs = time[cbt_min_idxs]\n",
    "test_eq(np.all(np.isclose(model.cbt(trajectory), troughs)), True)\n",
    "# test error handling\n",
    "test_fail(lambda: model.cbt(1), contains=\"trajectory must be a DynamicalTrajectory\")"
   ]
  },
  {
   "cell_type": "code",
   "execution_count": null,
   "metadata": {},
   "outputs": [],
   "source": [
    "#| export\n",
    "#| hide\n",
    "@patch_to(Forger99)\n",
    "def dlmos(self,\n",
    "          trajectory: DynamicalTrajectory=None, # trajectory to calculate the dlmo. If None, the current trajectory is used \n",
    "          ) -> np.ndarray:\n",
    "    \"Finds the Dim Light Melatonin Onset (DLMO) markers for the model along a trajectory\"\n",
    "    if trajectory is None:\n",
    "        trajectory = self.trajectory\n",
    "    else:\n",
    "        if not isinstance(trajectory, DynamicalTrajectory):\n",
    "            raise ValueError(\"trajectory must be a DynamicalTrajectory\")\n",
    "    return self.cbt(trajectory) - self.cbt_to_dlmo"
   ]
  },
  {
   "cell_type": "code",
   "execution_count": null,
   "metadata": {},
   "outputs": [],
   "source": [
    "#| hide\n",
    "# test Forger99's dlmos\n",
    "model = Forger99()\n",
    "time = np.linspace(0, 96, 2000)\n",
    "light = np.zeros_like(time)\n",
    "trajectory = model(time, input=light)\n",
    "cbt_min_idxs = find_peaks(-1*trajectory.states[:,0])[0]\n",
    "dlmos = time[cbt_min_idxs] - 7.0\n",
    "test_eq(np.all(np.isclose(model.dlmos(), dlmos)), True)\n",
    "# test passing the trajectory\n",
    "light = LightSchedule.Regular()(time)\n",
    "trajectory = model(time, input=light)\n",
    "cbt_min_idxs = find_peaks(-1*trajectory.states[:,0])[0]\n",
    "dlmos = time[cbt_min_idxs] - 7.0\n",
    "test_eq(np.all(np.isclose(model.dlmos(trajectory), dlmos)), True)\n",
    "# test error handling\n",
    "test_fail(lambda: model.dlmos(1), contains=\"trajectory must be a DynamicalTrajectory\")"
   ]
  },
  {
   "cell_type": "code",
   "execution_count": null,
   "metadata": {},
   "outputs": [],
   "source": [
    "#| hide\n",
    "# test that Forger99 can be entrained to a regular 24 hour light schedule for different initial conditions - Scientific test\n",
    "days = 80\n",
    "dt = 0.5\n",
    "time = np.arange(0, 24*days, dt)\n",
    "regular_schedule = LightSchedule.Regular()\n",
    "light_values = regular_schedule(time)\n",
    "# explore a broad space of initial conditions\n",
    "amplitude_ic = np.linspace(1e-3, 1.0, 20)\n",
    "phase_ic = np.linspace(-np.pi, np.pi, 20)\n",
    "# convert amplitude and phase to x and xc\n",
    "ic_stack = np.dstack(np.meshgrid(amplitude_ic, phase_ic)).reshape(-1, 2)\n",
    "ic_stack = np.hstack((ic_stack, np.zeros((ic_stack.shape[0], 1))))\n",
    "ic_x = np.sqrt(ic_stack[:, 0]) * np.cos(ic_stack[:, 1])\n",
    "ic_xc = np.sqrt(ic_stack[:, 0]) * np.sin(ic_stack[:, 1])\n",
    "initial_conditions = np.hstack((ic_x.reshape(-1, 1), ic_xc.reshape(-1, 1), np.zeros((ic_x.shape[0], 1))))\n",
    "# transpose initial conditions\n",
    "initial_conditions = initial_conditions.T\n",
    "# simulate\n",
    "model = Forger99()\n",
    "result = model(time, initial_conditions, light_values)\n",
    "# compare last ten days\n",
    "t_comparison_idx = int(24 * 70 / dt)\n",
    "reference_x = result.states[t_comparison_idx:, 0, 0]\n",
    "reference_xc = result.states[t_comparison_idx:, 1, 0]\n",
    "diff_x = result.states[t_comparison_idx:, 0, :].T - reference_x\n",
    "diff_xc = result.states[t_comparison_idx:, 1, :].T - reference_xc\n",
    "test_eq(np.all(np.isclose(diff_x, 0.0, atol=1e-2)), True)\n",
    "test_eq(np.all(np.isclose(diff_xc, 0.0, atol=1e-2)), True)"
   ]
  },
  {
   "attachments": {},
   "cell_type": "markdown",
   "metadata": {},
   "source": [
    "#| hide\n",
    "## Hannay19"
   ]
  },
  {
   "cell_type": "code",
   "execution_count": null,
   "metadata": {},
   "outputs": [],
   "source": [
    "#| export\n",
    "#| hide\n",
    "class Hannay19(CircadianModel):\n",
    "    \"Implementation of Hannay's 2019 single population model from the article 'Macroscopic models for human circadian rhythms'\"\n",
    "    def __init__(self, params=None):\n",
    "        default_params = {\n",
    "            'tau': 23.84, 'K': 0.06358, 'gamma': 0.024, \n",
    "            'Beta1': -0.09318, 'A1': 0.3855, 'A2': 0.1977, \n",
    "            'BetaL1': -0.0026, 'BetaL2': -0.957756, 'sigma': 0.0400692, \n",
    "            'G': 33.75, 'alpha_0': 0.05, 'delta': 0.0075, 'p': 1.5, 'I0': 9325.0,\n",
    "            'cbt_to_dlmo': 7.0}\n",
    "        num_states = 3 # R, Psi, n\n",
    "        num_inputs = 1 # light\n",
    "        default_initial_condition = np.array([0.70120406, 2.32206690, 0.0])\n",
    "        super(Hannay19, self).__init__(default_params, num_states, num_inputs, default_initial_condition)\n",
    "        if params is not None:\n",
    "            self.parameters = params\n",
    "\n",
    "    def integrate(self,\n",
    "                time: np.ndarray, # time points for integration. Time difference between each consecutive pair of values determines step size of the solver\n",
    "                initial_condition: np.ndarray=None, # initial state of the model\n",
    "                input: np.ndarray=None, # model input (such as light or wake) for each time point\n",
    "                ) -> DynamicalTrajectory:\n",
    "        \"Solve the model for specific timepoints given initial conditions and model inputs\"\n",
    "        # input checking for Hannay19\n",
    "        if input is not None:\n",
    "            _light_input_checking(input)\n",
    "        return super().integrate(time, initial_condition, input)\n",
    "\n",
    "    def __repr__(self) -> str:\n",
    "        return self.__str__()\n",
    "    \n",
    "    def __str__(self) -> str:\n",
    "        return \"Hannay19\""
   ]
  },
  {
   "cell_type": "code",
   "execution_count": null,
   "metadata": {},
   "outputs": [],
   "source": [
    "#| hide\n",
    "# test Hannay19's constructor\n",
    "model = Hannay19()\n",
    "# test attributes\n",
    "true_default_params = {\n",
    "    'tau': 23.84, 'K': 0.06358, 'gamma': 0.024,\n",
    "    'Beta1': -0.09318, 'A1': 0.3855, 'A2': 0.1977,\n",
    "    'BetaL1': -0.0026, 'BetaL2': -0.957756, 'sigma': 0.0400692,\n",
    "    'G': 33.75, 'alpha_0': 0.05, 'delta': 0.0075, 'p': 1.5, 'I0': 9325.0,\n",
    "    'cbt_to_dlmo': 7.0}\n",
    "test_eq(model._default_params, true_default_params)\n",
    "true_initial_condition = np.array([0.70120406, 2.32206690, 0.0])\n",
    "test_eq(model._default_initial_condition, true_initial_condition)\n",
    "test_eq(model.parameters, true_default_params)\n",
    "test_eq(model._num_states, 3)\n",
    "test_eq(model._num_inputs, 1)\n",
    "for key, value in true_default_params.items():\n",
    "    test_eq(getattr(model, key), value)\n",
    "# test initialization with custom parameters\n",
    "custom_params = {\n",
    "    'tau': 1.0, 'K': 2.0, 'gamma': 3.0,\n",
    "    'Beta1': 4.0, 'A1': 5.0, 'A2': 6.0,\n",
    "    'BetaL1': 7.0, 'BetaL2': 8.0, 'sigma': 9.0,\n",
    "    'G': 10.0, 'alpha_0': 11.0, 'delta': 12.0, 'p': 13.0, 'I0': 14.0,\n",
    "    'cbt_to_dlmo': 15.0}\n",
    "model = Hannay19(custom_params)\n",
    "# test attributes\n",
    "test_eq(model._default_params, true_default_params)\n",
    "test_eq(model._default_initial_condition, true_initial_condition)\n",
    "test_eq(model.parameters, custom_params)\n",
    "test_eq(model._num_states, 3)\n",
    "test_eq(model._num_inputs, 1)\n",
    "for key, value in custom_params.items():\n",
    "    test_eq(getattr(model, key), value)"
   ]
  },
  {
   "cell_type": "code",
   "execution_count": null,
   "metadata": {},
   "outputs": [],
   "source": [
    "#| hide\n",
    "# test Hannay19's integrate input handling\n",
    "model = Hannay19()\n",
    "time = np.array([0, 1, 2])\n",
    "light_input = np.ones(len(time))\n",
    "test_fail(lambda: model.integrate(time, input=\"1\"), contains=\"light must be a numpy array\")\n",
    "test_fail(lambda: model.integrate(time, input=np.ones((1,1))), contains=\"light must be a 1D\")\n",
    "test_fail(lambda: model.integrate(time, input=np.array([\"1\", \"2\"])), contains=\"light must be numeric\")\n",
    "test_fail(lambda: model.integrate(time, input=-light_input), contains=\"light intensity must be nonnegative\")"
   ]
  },
  {
   "cell_type": "code",
   "execution_count": null,
   "metadata": {},
   "outputs": [],
   "source": [
    "#| export\n",
    "#| hide\n",
    "@patch_to(Hannay19)\n",
    "def derv(self,\n",
    "         state: np.ndarray, # dynamical state (R, Psi, n)\n",
    "         input: float # light intensity in lux\n",
    "         ) -> np.ndarray: # derivative of the state\n",
    "    \"Right-hand-side of the differential equation model\"\n",
    "    R = state[0,...]\n",
    "    Psi = state[1,...]\n",
    "    n = state[2,...]\n",
    "    light = input   \n",
    "\n",
    "    alpha = self.alpha_0 * pow(light, self.p) / (pow(light, self.p) + self.I0)\n",
    "\n",
    "    Bhat = self.G * (1.0 - n) * alpha\n",
    "    A1_term_amp = self.A1 * 0.5 * Bhat * (1.0 - pow(R, 4.0)) * np.cos(Psi + self.BetaL1)\n",
    "    A2_term_amp = self.A2 * 0.5 * Bhat * R * (1.0 - pow(R, 8.0)) * np.cos(2.0 * Psi + self.BetaL2)\n",
    "    LightAmp = A1_term_amp + A2_term_amp\n",
    "    A1_term_phase = self.A1 * Bhat * 0.5 * (pow(R, 3.0) + 1.0 / R) * np.sin(Psi + self.BetaL1)\n",
    "    A2_term_phase = self.A2 * Bhat * 0.5 * (1.0 + pow(R, 8.0)) * np.sin(2.0 * Psi + self.BetaL2)\n",
    "    LightPhase = self.sigma * Bhat - A1_term_phase - A2_term_phase\n",
    "\n",
    "    dydt = np.zeros_like(state)\n",
    "    dydt[0,...] = -1.0 * self.gamma * R + self.K * np.cos(self.Beta1) / 2.0 * R * (1.0 - pow(R, 4.0)) + LightAmp\n",
    "    dydt[1,...] = 2*np.pi/self.tau + self.K / 2.0 * np.sin(self.Beta1) * (1 + pow(R, 4.0)) + LightPhase\n",
    "    dydt[2,...] = 60.0 * (alpha * (1.0 - n) - self.delta * n)\n",
    "\n",
    "    return dydt"
   ]
  },
  {
   "cell_type": "code",
   "execution_count": null,
   "metadata": {},
   "outputs": [],
   "source": [
    "#| hide\n",
    "# test Hannay19's derv\n",
    "model = Hannay19()\n",
    "# single batch\n",
    "state = np.array([0.1, 0.1, 0.1])\n",
    "light = 1.0\n",
    "derv_error = np.abs(np.sum(model.derv(state, light) - np.array([0.0007973, 0.26058529, -0.04471049])))\n",
    "test_eq(derv_error < 1e-8, True)\n",
    "# multiple batches\n",
    "batches = 5\n",
    "batch_states = np.zeros((3, batches))\n",
    "for batch in range(batches):\n",
    "    batch_states[:, batch] = state\n",
    "batch_derv = model.derv(batch_states, light)\n",
    "for batch in range(batches):\n",
    "    derv_error = np.abs(np.sum(batch_derv[:, batch] - np.array([0.0007973, 0.26058529, -0.04471049])))\n",
    "    test_eq(derv_error < 1e-8, True)"
   ]
  },
  {
   "cell_type": "code",
   "execution_count": null,
   "metadata": {},
   "outputs": [],
   "source": [
    "#| export\n",
    "#| hide\n",
    "@patch_to(Hannay19)\n",
    "def phase(self,\n",
    "          trajectory: DynamicalTrajectory=None, # trajectory to calculate the phase. If None, the current trajectory is used\n",
    "          time: float=None # a time point to calculate the phase at. If None, the phase is calculated for the entire trajectory\n",
    "          ) -> float:\n",
    "    if trajectory is None:\n",
    "        trajectory = self.trajectory\n",
    "    else: \n",
    "        if not isinstance(trajectory, DynamicalTrajectory):\n",
    "            raise ValueError(\"trajectory must be a DynamicalTrajectory\")\n",
    "    if time is None:\n",
    "        x = np.cos(trajectory.states[:, 1])\n",
    "        y = np.sin(trajectory.states[:, 1])\n",
    "    else:\n",
    "        if not isinstance(time, (float, int)):\n",
    "            raise ValueError(\"time must be a float or an int\")\n",
    "        else:\n",
    "            state = trajectory(time)\n",
    "            x = np.cos(state[1])\n",
    "            y = np.sin(state[1])\n",
    "    return np.angle(x + complex(0,1) * y)"
   ]
  },
  {
   "cell_type": "code",
   "execution_count": null,
   "metadata": {},
   "outputs": [],
   "source": [
    "#| hide\n",
    "# test Hannay19's phase\n",
    "model = Hannay19()\n",
    "time = np.linspace(0, 96, 1000)\n",
    "light = np.zeros_like(time)\n",
    "model(time, input=light)\n",
    "phase_array = np.zeros_like(time)\n",
    "for idx, t in enumerate(time):\n",
    "    phase_array[idx] = model.phase(time=t)\n",
    "x_vals = np.cos(model.trajectory.states[:,1])\n",
    "y_vals = np.sin(model.trajectory.states[:,1])\n",
    "true_phase = np.angle(x_vals + complex(0,1)*(y_vals))\n",
    "test_eq(np.all(np.isclose(phase_array, true_phase)), True)\n",
    "# test passing the trajectory\n",
    "light = LightSchedule.Regular()(time)\n",
    "trajectory = model(time, input=light)\n",
    "phase_array = np.zeros_like(time)\n",
    "for idx, t in enumerate(time):\n",
    "    phase_array[idx] = model.phase(trajectory, t)\n",
    "x_vals = np.cos(model.trajectory.states[:,1])\n",
    "y_vals = np.sin(model.trajectory.states[:,1])\n",
    "true_phase = np.angle(x_vals + complex(0,1)*(y_vals))\n",
    "test_eq(np.all(np.isclose(phase_array, true_phase)), True)\n",
    "# test calculation for all trajectory\n",
    "phase = model.phase()\n",
    "test_eq(np.all(np.isclose(phase, true_phase)), True)\n",
    "# test error handling\n",
    "test_fail(lambda: model.phase(1), contains=\"trajectory must be a DynamicalTrajectory\")\n",
    "test_fail(lambda: model.phase(trajectory, \"1\"), contains=\"time must be a float or an int\")"
   ]
  },
  {
   "cell_type": "code",
   "execution_count": null,
   "metadata": {},
   "outputs": [],
   "source": [
    "#| export\n",
    "#| hide\n",
    "@patch_to(Hannay19)\n",
    "def amplitude(self,\n",
    "              trajectory: DynamicalTrajectory=None, # trajectory to calculate the amplitude. If None, the current trajectory is used\n",
    "              time: float=None # a time point to calculate the amplitude at. If None, the amplitude is calculated for the entire trajectory\n",
    "              ) -> float:\n",
    "    if trajectory is None:\n",
    "        trajectory = self.trajectory\n",
    "    else: \n",
    "        if not isinstance(trajectory, DynamicalTrajectory):\n",
    "            raise ValueError(\"trajectory must be a DynamicalTrajectory\")\n",
    "    if time is None:\n",
    "        amplitude = trajectory.states[:, 0]\n",
    "    else:\n",
    "        if not isinstance(time, (float, int)):\n",
    "            raise ValueError(\"time must be a float or an int\")\n",
    "        else:\n",
    "            state = trajectory(time)\n",
    "            amplitude = state[0] \n",
    "    return amplitude"
   ]
  },
  {
   "cell_type": "code",
   "execution_count": null,
   "metadata": {},
   "outputs": [],
   "source": [
    "#| hide\n",
    "# test Hannay19's amplitude\n",
    "model = Hannay19()\n",
    "time = np.linspace(0, 96, 1000)\n",
    "light = np.zeros_like(time)\n",
    "model(time, input=light)\n",
    "amplitude_array = np.zeros_like(time)\n",
    "for idx, t in enumerate(time):\n",
    "    amplitude_array[idx] = model.amplitude(time=t)\n",
    "true_amplitude = model.trajectory.states[:,0]\n",
    "test_eq(np.all(np.isclose(amplitude_array, true_amplitude)), True)\n",
    "# test passing the trajectory\n",
    "light = LightSchedule.Regular()(time)\n",
    "trajectory = model(time, input=light)\n",
    "amplitude_array = np.zeros_like(time)\n",
    "for idx, t in enumerate(time):\n",
    "    amplitude_array[idx] = model.amplitude(trajectory, t)\n",
    "true_amplitude = model.trajectory.states[:,0]\n",
    "test_eq(np.all(np.isclose(amplitude_array, true_amplitude)), True)\n",
    "# test calculation for all trajectory\n",
    "amplitude = model.amplitude()\n",
    "test_eq(np.all(np.isclose(amplitude, true_amplitude)), True)\n",
    "# test error handling\n",
    "test_fail(lambda: model.amplitude(1), contains=\"trajectory must be a DynamicalTrajectory\")\n",
    "test_fail(lambda: model.amplitude(trajectory, \"1\"), contains=\"time must be a float or an int\")"
   ]
  },
  {
   "cell_type": "code",
   "execution_count": null,
   "metadata": {},
   "outputs": [],
   "source": [
    "#| export\n",
    "#| hide\n",
    "@patch_to(Hannay19)\n",
    "def cbt(self,\n",
    "        trajectory: DynamicalTrajectory=None # trajectory to calculate the cbt. If None, the current trajectory is used\n",
    "        ) -> np.ndarray:\n",
    "    \"Finds the core body temperature minumum markers for the model along a trajectory as the times where the phase is pi\"\n",
    "    if trajectory is None:\n",
    "        trajectory = self.trajectory\n",
    "    else:\n",
    "        if not isinstance(trajectory, DynamicalTrajectory):\n",
    "            raise ValueError(\"trajectory must be a DynamicalTrajectory\")\n",
    "    inverted_x = -np.cos(trajectory.states[:,1])\n",
    "    cbt_min_idxs, _ = find_peaks(inverted_x)\n",
    "    return trajectory.time[cbt_min_idxs]"
   ]
  },
  {
   "cell_type": "code",
   "execution_count": null,
   "metadata": {},
   "outputs": [],
   "source": [
    "#| hide\n",
    "# test Hannay19's cbt\n",
    "model = Hannay19()\n",
    "time = np.linspace(0, 96, 2000)\n",
    "light = np.zeros_like(time)\n",
    "trajectory = model(time, input=light)\n",
    "cbt_min_idxs = find_peaks(-1*np.cos(trajectory.states[:,1]))[0]\n",
    "troughs = time[cbt_min_idxs]\n",
    "test_eq(np.all(np.isclose(model.cbt(), troughs)), True)\n",
    "# test passing the trajectory\n",
    "light = LightSchedule.Regular()(time)\n",
    "trajectory = model(time, input=light)\n",
    "cbt_min_idxs = find_peaks(-1*np.cos(trajectory.states[:,1]))[0]\n",
    "troughs = time[cbt_min_idxs]\n",
    "test_eq(np.all(np.isclose(model.cbt(trajectory), troughs)), True)\n",
    "# test error handling\n",
    "test_fail(lambda: model.cbt(1), contains=\"trajectory must be a DynamicalTrajectory\")"
   ]
  },
  {
   "cell_type": "code",
   "execution_count": null,
   "metadata": {},
   "outputs": [],
   "source": [
    "#| export\n",
    "#| hide\n",
    "@patch_to(Hannay19)\n",
    "def dlmos(self,\n",
    "          trajectory: DynamicalTrajectory=None # trajectory to calculate the dlmo. If None, the current trajectory is used\n",
    "          ) -> np.ndarray:\n",
    "    \"Finds the Dim Light Melatonin Onset (DLMO) markers for the model along a trajectory\"\n",
    "    if trajectory is None:\n",
    "        trajectory = self.trajectory\n",
    "    else:\n",
    "        if not isinstance(trajectory, DynamicalTrajectory):\n",
    "            raise ValueError(\"trajectory must be a DynamicalTrajectory\")\n",
    "    return self.cbt(trajectory) - self.cbt_to_dlmo"
   ]
  },
  {
   "cell_type": "code",
   "execution_count": null,
   "metadata": {},
   "outputs": [],
   "source": [
    "#| hide\n",
    "# test Hannay19's dlmos\n",
    "model = Hannay19()\n",
    "time = np.linspace(0, 96, 2000)\n",
    "light = np.zeros_like(time)\n",
    "trajectory = model(time, input=light)\n",
    "cbt_min_idxs = find_peaks(-1*np.cos(trajectory.states[:,1]))[0]\n",
    "dlmos = time[cbt_min_idxs] - 7.0\n",
    "test_eq(np.all(np.isclose(model.dlmos(), dlmos)), True)\n",
    "# test passing the trajectory\n",
    "light = LightSchedule.Regular()(time)\n",
    "trajectory = model(time, input=light)\n",
    "cbt_min_idxs = find_peaks(-1*np.cos(trajectory.states[:,1]))[0]\n",
    "dlmos = time[cbt_min_idxs] - 7.0\n",
    "test_eq(np.all(np.isclose(model.dlmos(trajectory), dlmos)), True)\n",
    "# test error handling\n",
    "test_fail(lambda: model.dlmos(1), contains=\"trajectory must be a DynamicalTrajectory\")"
   ]
  },
  {
   "cell_type": "code",
   "execution_count": null,
   "metadata": {},
   "outputs": [],
   "source": [
    "#| hide\n",
    "# test that Hannay19 can be entrained to a regular 24 hour light schedule for different initial conditions - Scientific test\n",
    "days = 30\n",
    "dt = 0.01\n",
    "time = np.arange(0, 24*days, dt)\n",
    "regular_schedule = LightSchedule.Regular()\n",
    "light_values = regular_schedule(time)\n",
    "# explore a broad space of initial conditions\n",
    "amplitude_ic = np.linspace(1e-2, 1.0, 20)\n",
    "phase_ic = np.linspace(-np.pi, np.pi, 20)\n",
    "initial_conditions = np.dstack(np.meshgrid(amplitude_ic, phase_ic)).reshape(-1, 2)\n",
    "initial_conditions = np.hstack((initial_conditions, np.zeros((initial_conditions.shape[0], 1))))\n",
    "# transpose initial conditions\n",
    "initial_conditions = initial_conditions.T\n",
    "# simulate\n",
    "model = Hannay19()\n",
    "result = model(time, initial_conditions, light_values)\n",
    "# compare last 5 days for amplitude\n",
    "t_comparison_idx = int(24 * (days - 5) / dt)\n",
    "reference_R = result.states[t_comparison_idx:100:, 0, 0]\n",
    "diff_R = result.states[t_comparison_idx:100:, 0, :].T - reference_R\n",
    "test_eq(np.all(np.isclose(diff_R, 0.0, atol=1e-2)), True)\n",
    "# compare last 5 days for phase\n",
    "diff_Psi = []\n",
    "for t in time[t_comparison_idx:100:]:\n",
    "    phases = model.phase(t)\n",
    "    reference_phase = phases[0]\n",
    "    diff_Psi.append(phases - reference_phase)\n",
    "test_eq(np.all(np.isclose(diff_Psi, 0.0, atol=1e-2)), True)"
   ]
  },
  {
   "attachments": {},
   "cell_type": "markdown",
   "metadata": {},
   "source": [
    "#| hide\n",
    "## Hannay19TP"
   ]
  },
  {
   "cell_type": "code",
   "execution_count": null,
   "metadata": {},
   "outputs": [],
   "source": [
    "#| export\n",
    "#| hide\n",
    "class Hannay19TP(CircadianModel):\n",
    "    \"Implementation of Hannay's 2019 two population model from the article 'Macroscopic models for human circadian rhythms'\"\n",
    "    def __init__(self, params=None):\n",
    "        default_params = {\n",
    "            'tauV': 24.25, 'tauD': 24.0, 'Kvv': 0.05, \n",
    "            'Kdd': 0.04, 'Kvd': 0.05, 'Kdv': 0.01, \n",
    "            'gamma': 0.024, 'A1': 0.440068, 'A2': 0.159136, \n",
    "            'BetaL': 0.06452, 'BetaL2': -1.38935, 'sigma': 0.0477375, \n",
    "            'G': 33.75, 'alpha_0': 0.05, 'delta': 0.0075, 'p': 1.5, \n",
    "            'I0': 9325.0, 'cbt_to_dlmo': 7.0,\n",
    "            }\n",
    "        num_states = 5 # Rv, Rd, Psiv, Psid, n\n",
    "        num_inputs = 1 # light\n",
    "        default_initial_condition = np.array([1.0, 1.0, 0.0, 0.10, 0.0])\n",
    "        super(Hannay19TP, self).__init__(default_params, num_states, num_inputs, default_initial_condition)\n",
    "        if params is not None:\n",
    "            self.parameters = params\n",
    "\n",
    "    def integrate(self,\n",
    "                time: np.ndarray, # time points for integration. Time difference between each consecutive pair of values determines step size of the solver\n",
    "                initial_condition: np.ndarray=None, # initial state of the model\n",
    "                input: np.ndarray=None, # model input (such as light or wake) for each time point\n",
    "                ) -> DynamicalTrajectory:\n",
    "        \"Solve the model for specific timepoints given initial conditions and model inputs\"\n",
    "        # input checking for Hannay19TP\n",
    "        if input is not None:\n",
    "            _light_input_checking(input)\n",
    "        return super().integrate(time, initial_condition, input)\n",
    "\n",
    "    def __repr__(self) -> str:\n",
    "        return self.__str__()\n",
    "    \n",
    "    def __str__(self) -> str:\n",
    "        return \"Hannay19TP\""
   ]
  },
  {
   "cell_type": "code",
   "execution_count": null,
   "metadata": {},
   "outputs": [],
   "source": [
    "#| hide\n",
    "# test Hannay19TP's constructor\n",
    "model = Hannay19TP()\n",
    "# test attributes\n",
    "true_default_params = {\n",
    "    'tauV': 24.25, 'tauD': 24.0, 'Kvv': 0.05,\n",
    "    'Kdd': 0.04, 'Kvd': 0.05, 'Kdv': 0.01,\n",
    "    'gamma': 0.024, 'A1': 0.440068, 'A2': 0.159136,\n",
    "    'BetaL': 0.06452, 'BetaL2': -1.38935, 'sigma': 0.0477375,\n",
    "    'G': 33.75, 'alpha_0': 0.05, 'delta': 0.0075, 'p': 1.5,\n",
    "    'I0': 9325.0, 'cbt_to_dlmo': 7.0}\n",
    "test_eq(model._default_params, true_default_params)\n",
    "true_initial_condition = np.array([1.0, 1.0, 0.0, 0.10, 0.0])\n",
    "test_eq(model._default_initial_condition, true_initial_condition)\n",
    "test_eq(model.parameters, true_default_params)\n",
    "test_eq(model._num_states, 5)\n",
    "test_eq(model._num_inputs, 1)\n",
    "for key, value in true_default_params.items():\n",
    "    test_eq(getattr(model, key), value)\n",
    "# test initialization with custom parameters\n",
    "custom_params = {\n",
    "    'tauV': 1.0, 'tauD': 2.0, 'Kvv': 3.0,\n",
    "    'Kdd': 4.0, 'Kvd': 5.0, 'Kdv': 6.0,\n",
    "    'gamma': 7.0, 'A1': 8.0, 'A2': 9.0,\n",
    "    'BetaL': 10.0, 'BetaL2': 11.0, 'sigma': 12.0,\n",
    "    'G': 13.0, 'alpha_0': 14.0, 'delta': 15.0, 'p': 16.0,\n",
    "    'I0': 17.0, 'cbt_to_dlmo': 18.0}\n",
    "model = Hannay19TP(custom_params)\n",
    "# test attributes\n",
    "test_eq(model._default_params, true_default_params)\n",
    "test_eq(model._default_initial_condition, true_initial_condition)\n",
    "test_eq(model.parameters, custom_params)\n",
    "test_eq(model._num_states, 5)\n",
    "test_eq(model._num_inputs, 1)\n",
    "for key, value in custom_params.items():\n",
    "    test_eq(getattr(model, key), value)"
   ]
  },
  {
   "cell_type": "code",
   "execution_count": null,
   "metadata": {},
   "outputs": [],
   "source": [
    "#| hide\n",
    "# test Hannay19TP's integrate input handling\n",
    "model = Hannay19TP()\n",
    "time = np.array([0, 1, 2])\n",
    "light_input = np.ones(len(time))\n",
    "test_fail(lambda: model.integrate(time, input=\"1\"), contains=\"light must be a numpy array\")\n",
    "test_fail(lambda: model.integrate(time, input=np.ones((1,1))), contains=\"light must be a 1D\")\n",
    "test_fail(lambda: model.integrate(time, input=np.array([\"1\", \"2\"])), contains=\"light must be numeric\")\n",
    "test_fail(lambda: model.integrate(time, input=-light_input), contains=\"light intensity must be nonnegative\")"
   ]
  },
  {
   "cell_type": "code",
   "execution_count": null,
   "metadata": {},
   "outputs": [],
   "source": [
    "#| export\n",
    "#| hide\n",
    "@patch_to(Hannay19TP)\n",
    "def derv(self,\n",
    "         state: np.ndarray, # dynamical state (Rv, Rd, Psiv, Psid, n)\n",
    "         input: float # light intensity in lux\n",
    "         ) -> np.ndarray: # derivative of the state\n",
    "     \"Right-hand-side of the differential equation model\"\n",
    "     Rv = state[0,...]\n",
    "     Rd = state[1,...]\n",
    "     Psiv = state[2,...]\n",
    "     Psid = state[3,...]\n",
    "     n = state[4,...]\n",
    "     light = input\n",
    "\n",
    "     alpha = self.alpha_0 * pow(light, self.p) / (pow(light, self.p) + self.I0)\n",
    "     Bhat = self.G * (1.0 - n) * alpha\n",
    "\n",
    "     A1_term_amp = self.A1 * 0.5 * Bhat * (1.0 - pow(Rv, 4.0)) * np.cos(Psiv + self.BetaL)\n",
    "     A2_term_amp = self.A2 * 0.5 * Bhat * Rv * (1.0 - pow(Rv, 8.0)) * np.cos(2.0 * Psiv + self.BetaL2)\n",
    "     LightAmp = A1_term_amp + A2_term_amp\n",
    "     A1_term_phase = self.A1 * Bhat * 0.5 * (pow(Rv, 3.0) + 1.0 / Rv) * np.sin(Psiv + self.BetaL)\n",
    "     A2_term_phase = self.A2 * Bhat * 0.5 * (1.0 + pow(Rv, 8.0)) * np.sin(2.0 * Psiv + self.BetaL2)\n",
    "     LightPhase = self.sigma * Bhat - A1_term_phase - A2_term_phase\n",
    "\n",
    "     dydt = np.zeros_like(state)\n",
    "     dydt[0,...] = -self.gamma * Rv + self.Kvv / 2.0 * Rv * (1 - pow(Rv, 4.0)) + self.Kdv / 2.0 * Rd * (1 - pow(Rv, 4.0)) * np.cos(Psid - Psiv) + LightAmp\n",
    "     dydt[1,...] = -self.gamma * Rd + self.Kdd / 2.0 * Rd * (1 - pow(Rd, 4.0)) + self.Kvd / 2.0 * Rv * (1.0 - pow(Rd, 4.0)) * np.cos(Psid - Psiv)\n",
    "     dydt[2,...] = 2.0 * np.pi / self.tauV + self.Kdv / 2.0 * Rd * (pow(Rv, 3.0) + 1.0 / Rv) * np.sin(Psid - Psiv) + LightPhase\n",
    "     dydt[3,...] = 2.0 * np.pi / self.tauD - self.Kvd / 2.0 * Rv * (pow(Rd, 3.0) + 1.0 / Rd) * np.sin(Psid - Psiv)\n",
    "     dydt[4,...] = 60.0 * (alpha * (1.0 - n) - self.delta * n)\n",
    "\n",
    "     return dydt"
   ]
  },
  {
   "cell_type": "code",
   "execution_count": null,
   "metadata": {},
   "outputs": [],
   "source": [
    "#| hide\n",
    "# test Hannay19TP's derv\n",
    "model = Hannay19TP()\n",
    "# single batch\n",
    "state = np.array([0.1, 0.1, 0.1, 0.1, 0.1])\n",
    "light = 1.0\n",
    "derv_error = np.abs(np.sum(model.derv(state, light) - np.array([0.00063553,  0.00209955,  0.25906153,  0.26179939, -0.04471049])))\n",
    "test_eq(derv_error < 1e-8, True)\n",
    "# multiple batches\n",
    "batches = 5\n",
    "batch_states = np.zeros((5, batches))\n",
    "for batch in range(batches):\n",
    "    batch_states[:, batch] = state\n",
    "batch_derv = model.derv(batch_states, light)\n",
    "for batch in range(batches):\n",
    "    derv_error = np.abs(np.sum(batch_derv[:, batch] - np.array([0.00063553,  0.00209955,  0.25906153,  0.26179939, -0.04471049])))\n",
    "    test_eq(derv_error < 1e-8, True)"
   ]
  },
  {
   "cell_type": "code",
   "execution_count": null,
   "metadata": {},
   "outputs": [],
   "source": [
    "#| export\n",
    "#| hide\n",
    "@patch_to(Hannay19TP)\n",
    "def phase(self,\n",
    "          trajectory: DynamicalTrajectory=None, # trajectory to calculate the phase. If None, the current trajectory is used\n",
    "          time: float=None # a time point to calculate the phase at. If None, the phase is calculated for the entire trajectory\n",
    "          ) -> float:\n",
    "    if trajectory is None:\n",
    "        trajectory = self.trajectory\n",
    "    else: \n",
    "        if not isinstance(trajectory, DynamicalTrajectory):\n",
    "            raise ValueError(\"trajectory must be a DynamicalTrajectory\")\n",
    "    if time is None:\n",
    "        time = trajectory.time\n",
    "        x = np.cos(trajectory.states[:, 2])\n",
    "        y = np.sin(trajectory.states[:, 2])\n",
    "    else:\n",
    "        if not isinstance(time, (float, int)):\n",
    "            raise ValueError(\"time must be a float or an int\")\n",
    "        else:\n",
    "            state = trajectory(time)\n",
    "            x = np.cos(state[2])\n",
    "            y = np.sin(state[2])\n",
    "    return np.angle(x + complex(0,1) * y)"
   ]
  },
  {
   "cell_type": "code",
   "execution_count": null,
   "metadata": {},
   "outputs": [],
   "source": [
    "#| hide\n",
    "# test Hannay19TP's phase\n",
    "model = Hannay19TP()\n",
    "time = np.linspace(0, 96, 1000)\n",
    "light = np.zeros_like(time)\n",
    "model(time, input=light)\n",
    "phase_array = np.zeros_like(time)\n",
    "for idx, t in enumerate(time):\n",
    "    phase_array[idx] = model.phase(time=t)\n",
    "x_vals = np.cos(model.trajectory.states[:,2])\n",
    "y_vals = np.sin(model.trajectory.states[:,2])\n",
    "true_phase = np.angle(x_vals + complex(0,1)*(y_vals))\n",
    "test_eq(np.all(np.isclose(phase_array, true_phase)), True)\n",
    "# test passing the trajectory\n",
    "light = LightSchedule.Regular()(time)\n",
    "trajectory = model(time, input=light)\n",
    "phase_array = np.zeros_like(time)\n",
    "for idx, t in enumerate(time):\n",
    "    phase_array[idx] = model.phase(trajectory, t)\n",
    "x_vals = np.cos(model.trajectory.states[:,2])\n",
    "y_vals = np.sin(model.trajectory.states[:,2])\n",
    "true_phase = np.angle(x_vals + complex(0,1)*(y_vals))\n",
    "test_eq(np.all(np.isclose(phase_array, true_phase)), True)\n",
    "# test calculation for all trajectory\n",
    "phase = model.phase()\n",
    "test_eq(np.all(np.isclose(phase, true_phase)), True)\n",
    "# test error handling\n",
    "test_fail(lambda: model.phase(1), contains=\"trajectory must be a DynamicalTrajectory\")\n",
    "test_fail(lambda: model.phase(trajectory, \"1\"), contains=\"time must be a float or an int\")"
   ]
  },
  {
   "cell_type": "code",
   "execution_count": null,
   "metadata": {},
   "outputs": [],
   "source": [
    "#| export\n",
    "#| hide\n",
    "@patch_to(Hannay19TP)\n",
    "def amplitude(self,\n",
    "              trajectory: DynamicalTrajectory=None, # trajectory to calculate the amplitude. If None, the current trajectory is used\n",
    "              time: float=None # a time point to calculate the amplitude at. If None, the amplitude is calculated for the entire trajectory\n",
    "              ) -> float:\n",
    "    if trajectory is None:\n",
    "        trajectory = self.trajectory\n",
    "    else: \n",
    "        if not isinstance(trajectory, DynamicalTrajectory):\n",
    "            raise ValueError(\"trajectory must be a DynamicalTrajectory\")\n",
    "    if time is None:\n",
    "        time = trajectory.time\n",
    "        amplitude = trajectory.states[:, 0]\n",
    "    else:\n",
    "        if not isinstance(time, (float, int)):\n",
    "            raise ValueError(\"time must be a float or an int\")\n",
    "        else:\n",
    "            state = trajectory(time)\n",
    "            amplitude = state[0] \n",
    "    return amplitude"
   ]
  },
  {
   "cell_type": "code",
   "execution_count": null,
   "metadata": {},
   "outputs": [],
   "source": [
    "#| hide\n",
    "# test Hannay19TP's amplitude\n",
    "model = Hannay19TP()\n",
    "time = np.linspace(0, 96, 1000)\n",
    "light = np.zeros_like(time)\n",
    "model(time, input=light)\n",
    "amplitude_array = np.zeros_like(time)\n",
    "for idx, t in enumerate(time):\n",
    "    amplitude_array[idx] = model.amplitude(time=t)\n",
    "true_amplitude = model.trajectory.states[:,0]\n",
    "test_eq(np.all(np.isclose(amplitude_array, true_amplitude)), True)\n",
    "# test passing the trajectory\n",
    "light = LightSchedule.Regular()(time)\n",
    "trajectory = model(time, input=light)\n",
    "amplitude_array = np.zeros_like(time)\n",
    "for idx, t in enumerate(time):\n",
    "    amplitude_array[idx] = model.amplitude(trajectory, t)\n",
    "true_amplitude = model.trajectory.states[:,0]\n",
    "test_eq(np.all(np.isclose(amplitude_array, true_amplitude)), True)\n",
    "# test calculation for all trajectory\n",
    "amplitude = model.amplitude()\n",
    "test_eq(np.all(np.isclose(amplitude, true_amplitude)), True)\n",
    "# test error handling\n",
    "test_fail(lambda: model.amplitude(1), contains=\"trajectory must be a DynamicalTrajectory\")\n",
    "test_fail(lambda: model.amplitude(trajectory, \"1\"), contains=\"time must be a float or an int\")"
   ]
  },
  {
   "cell_type": "code",
   "execution_count": null,
   "metadata": {},
   "outputs": [],
   "source": [
    "#| export\n",
    "#| hide\n",
    "@patch_to(Hannay19TP)\n",
    "def cbt(self,\n",
    "        trajectory: DynamicalTrajectory=None, # trajectory to calculate the cbt. If None, the current trajectory is used\n",
    "        ) -> np.ndarray:\n",
    "    \"Finds the core body temperature minumum markers for the model along a trajectory as the times where the phase is pi\"\n",
    "    if trajectory is None:\n",
    "        trajectory = self.trajectory\n",
    "    else:\n",
    "        if not isinstance(trajectory, DynamicalTrajectory):\n",
    "            raise ValueError(\"trajectory must be a DynamicalTrajectory\")\n",
    "    inverted_x = -np.cos(trajectory.states[:,2])\n",
    "    cbt_min_idxs, _ = find_peaks(inverted_x)\n",
    "    return trajectory.time[cbt_min_idxs]"
   ]
  },
  {
   "cell_type": "code",
   "execution_count": null,
   "metadata": {},
   "outputs": [],
   "source": [
    "#| hide\n",
    "# test Hannay19TP's cbt\n",
    "model = Hannay19TP()\n",
    "time = np.linspace(0, 96, 2000)\n",
    "light = np.zeros_like(time)\n",
    "trajectory = model(time, input=light)\n",
    "cbt_min_idxs = find_peaks(-1*np.cos(trajectory.states[:,2]))[0]\n",
    "troughs = time[cbt_min_idxs]\n",
    "test_eq(np.all(np.isclose(model.cbt(), troughs)), True)\n",
    "# test passing the trajectory\n",
    "light = LightSchedule.Regular()(time)\n",
    "trajectory = model(time, input=light)\n",
    "cbt_min_idxs = find_peaks(-1*np.cos(trajectory.states[:,2]))[0]\n",
    "troughs = time[cbt_min_idxs]\n",
    "test_eq(np.all(np.isclose(model.cbt(trajectory), troughs)), True)\n",
    "# test error handling\n",
    "test_fail(lambda: model.cbt(1), contains=\"trajectory must be a DynamicalTrajectory\")"
   ]
  },
  {
   "cell_type": "code",
   "execution_count": null,
   "metadata": {},
   "outputs": [],
   "source": [
    "#| export\n",
    "#| hide\n",
    "@patch_to(Hannay19TP)\n",
    "def dlmos(self,\n",
    "          trajectory: DynamicalTrajectory=None # trajectory to calculate the dlmo. If None, the current trajectory is used\n",
    "          ) -> np.ndarray:\n",
    "    \"Finds the Dim Light Melatonin Onset (DLMO) markers for the model along a trajectory\"\n",
    "    if trajectory is None:\n",
    "        trajectory = self.trajectory\n",
    "    else:\n",
    "        if not isinstance(trajectory, DynamicalTrajectory):\n",
    "            raise ValueError(\"trajectory must be a DynamicalTrajectory\")\n",
    "    return self.cbt(trajectory) - self.cbt_to_dlmo"
   ]
  },
  {
   "cell_type": "code",
   "execution_count": null,
   "metadata": {},
   "outputs": [],
   "source": [
    "#| hide\n",
    "# test Hannay19TP's dlmos\n",
    "model = Hannay19TP()\n",
    "time = np.linspace(0, 96, 2000)\n",
    "light = np.zeros_like(time)\n",
    "trajectory = model(time, input=light)\n",
    "cbt_min_idxs = find_peaks(-1*np.cos(trajectory.states[:,2]))[0]\n",
    "dlmos = time[cbt_min_idxs] - 7.0\n",
    "test_eq(np.all(np.isclose(model.dlmos(), dlmos)), True)\n",
    "# test passing the trajectory\n",
    "light = LightSchedule.Regular()(time)\n",
    "trajectory = model(time, input=light)\n",
    "cbt_min_idxs = find_peaks(-1*np.cos(trajectory.states[:,2]))[0]\n",
    "dlmos = time[cbt_min_idxs] - 7.0\n",
    "test_eq(np.all(np.isclose(model.dlmos(trajectory), dlmos)), True)\n",
    "# test error handling\n",
    "test_fail(lambda: model.dlmos(1), contains=\"trajectory must be a DynamicalTrajectory\")"
   ]
  },
  {
   "cell_type": "code",
   "execution_count": null,
   "metadata": {},
   "outputs": [],
   "source": [
    "#| hide\n",
    "# test that Hannay19TP can be entrained to a regular 24 hour light schedule for different initial conditions - Scientific test\n",
    "days = 30\n",
    "dt = 0.01\n",
    "time = np.arange(0, 24*days, dt)\n",
    "regular_schedule = LightSchedule.Regular()\n",
    "light_values = regular_schedule(time)\n",
    "# explore a broad space of initial conditions\n",
    "amplitude_ic = np.linspace(1e-2, 1.0, 20)\n",
    "phase_ic = np.linspace(-np.pi, np.pi, 20)\n",
    "initial_conditions = np.dstack(np.meshgrid(amplitude_ic, phase_ic)).reshape(-1, 2)\n",
    "initial_conditions = np.hstack((initial_conditions, np.zeros((initial_conditions.shape[0], 1))))\n",
    "# transpose initial conditions\n",
    "initial_conditions = initial_conditions.T\n",
    "# simulate\n",
    "model = Hannay19()\n",
    "result = model(time, initial_conditions, light_values)\n",
    "# compare last 5 days for amplitude\n",
    "t_comparison_idx = int(24 * (days - 5) / dt)\n",
    "reference_R = result.states[t_comparison_idx:100:, 0, 0]\n",
    "diff_R = result.states[t_comparison_idx:100:, 0, :].T - reference_R\n",
    "test_eq(np.all(np.isclose(diff_R, 0.0, atol=1e-2)), True)\n",
    "# compare last 5 days for phase\n",
    "diff_Psi = []\n",
    "for t in time[t_comparison_idx:100:]:\n",
    "    phases = model.phase(t)\n",
    "    reference_phase = phases[0]\n",
    "    diff_Psi.append(phases - reference_phase)\n",
    "test_eq(np.all(np.isclose(diff_Psi, 0.0, atol=1e-2)), True)"
   ]
  },
  {
   "attachments": {},
   "cell_type": "markdown",
   "metadata": {},
   "source": [
    "#| hide\n",
    "## Jewett99"
   ]
  },
  {
   "cell_type": "code",
   "execution_count": null,
   "metadata": {},
   "outputs": [],
   "source": [
    "#| export\n",
    "#| hide\n",
    "class Jewett99(CircadianModel):\n",
    "    \"Implementation of Jewett's 1999 model from the article 'Revised Limit Cycle Oscillator Model of Human Circadian Pacemaker'\"\n",
    "    def __init__(self, params=None):\n",
    "        default_params = {\n",
    "            'taux': 24.2, 'mu': 0.13, 'G': 19.875,\n",
    "            'beta': 0.013, 'k': 0.55, 'q': 1.0/3,\n",
    "            'I0': 9500, 'p': 0.6, 'alpha_0': 0.16,\n",
    "            'phi_ref': 0.8, 'cbt_to_dlmo': 7.0}\n",
    "        num_states = 3 # x, xc, n\n",
    "        num_inputs = 1 # light\n",
    "        default_initial_condition = np.array([-0.3, -1.13, 0.0])\n",
    "        super(Jewett99, self).__init__(default_params, num_states, num_inputs, default_initial_condition)\n",
    "        if params is not None:\n",
    "            self.parameters = params\n",
    "\n",
    "    def integrate(self,\n",
    "                  time: np.ndarray, # time points for integration. Time difference between each consecutive pair of values determines step size of the solver\n",
    "                  initial_condition: np.ndarray=None, # initial state of the model\n",
    "                  input: np.ndarray=None, # model input (such as light or wake) for each time point\n",
    "                  ) -> DynamicalTrajectory:\n",
    "        \"Solve the model for specific timepoints given initial conditions and model inputs\"\n",
    "        # input checking for Jewett99\n",
    "        if input is not None:\n",
    "            _light_input_checking(input)\n",
    "        return super().integrate(time, initial_condition, input)\n",
    "\n",
    "    def __repr__(self) -> str:\n",
    "        return self.__str__()\n",
    "    \n",
    "    def __str__(self) -> str:\n",
    "        return \"Jewett99\""
   ]
  },
  {
   "cell_type": "code",
   "execution_count": null,
   "metadata": {},
   "outputs": [],
   "source": [
    "#| hide\n",
    "# test Jewett99's constructor\n",
    "model = Jewett99()\n",
    "# test attributes\n",
    "true_default_params = {\n",
    "    'taux': 24.2, 'mu': 0.13, 'G': 19.875,\n",
    "    'beta': 0.013, 'k': 0.55, 'q': 1.0/3,\n",
    "    'I0': 9500, 'p': 0.6, 'alpha_0': 0.16,\n",
    "    'phi_ref': 0.8, 'cbt_to_dlmo': 7.0}\n",
    "test_eq(model._default_params, true_default_params)\n",
    "true_initial_condition = np.array([-0.3, -1.13, 0.0])\n",
    "test_eq(model._default_initial_condition, true_initial_condition)\n",
    "test_eq(model.parameters, true_default_params)\n",
    "test_eq(model._num_states, 3)\n",
    "test_eq(model._num_inputs, 1)\n",
    "for key, value in true_default_params.items():\n",
    "    test_eq(getattr(model, key), value)\n",
    "# test initialization with custom parameters\n",
    "custom_params = {\n",
    "    'taux': 1.0, 'mu': 2.0, 'G': 3.0,\n",
    "    'beta': 4.0, 'k': 5.0, 'q': 6.0,\n",
    "    'I0': 7.0, 'p': 8.0, 'alpha_0': 9.0,\n",
    "    'phi_ref': 10.0, 'cbt_to_dlmo': 11.0}\n",
    "\n",
    "model = Jewett99(custom_params)\n",
    "# test attributes\n",
    "test_eq(model._default_params, true_default_params)\n",
    "test_eq(model._default_initial_condition, true_initial_condition)\n",
    "test_eq(model.parameters, custom_params)\n",
    "test_eq(model._num_states, 3)\n",
    "test_eq(model._num_inputs, 1)\n",
    "for key, value in custom_params.items():\n",
    "    test_eq(getattr(model, key), value)"
   ]
  },
  {
   "cell_type": "code",
   "execution_count": null,
   "metadata": {},
   "outputs": [],
   "source": [
    "#| hide\n",
    "# test Jewett99's integrate input handling\n",
    "model = Jewett99()\n",
    "time = np.array([0, 1, 2])\n",
    "light_input = np.ones(len(time))\n",
    "test_fail(lambda: model.integrate(time, input=\"1\"), contains=\"light must be a numpy array\")\n",
    "test_fail(lambda: model.integrate(time, input=np.ones((1,1))), contains=\"light must be a 1D\")\n",
    "test_fail(lambda: model.integrate(time, input=np.array([\"1\", \"2\"])), contains=\"light must be numeric\")\n",
    "test_fail(lambda: model.integrate(time, input=-light_input), contains=\"light intensity must be nonnegative\")"
   ]
  },
  {
   "cell_type": "code",
   "execution_count": null,
   "metadata": {},
   "outputs": [],
   "source": [
    "#| export\n",
    "#| hide\n",
    "@patch_to(Jewett99)\n",
    "def derv(self,\n",
    "         state: np.ndarray, # dynamical state (x, xc, n)\n",
    "         input: float # light intensity in lux\n",
    "         ) -> np.ndarray: # derivative of the state\n",
    "    \"Right-hand-side of the differential equation model\"\n",
    "    x = state[0,...]\n",
    "    xc = state[1,...]\n",
    "    n = state[2,...]\n",
    "    light = input\n",
    "\n",
    "    alpha = self.alpha_0 * (light / self.I0) ** self.p\n",
    "    Bhat = self.G * alpha * (1 - n) * (1 - 0.4 * x) * (1 - 0.4 * xc)\n",
    "    mu_term = self.mu * (1/3 * x + 4/3 * x**3 - 256/105 * x**7)\n",
    "    taux_term = pow(24 / (0.99729 * self.taux), 2) + self.k * Bhat \n",
    "\n",
    "    dydt = np.zeros_like(state)\n",
    "    dydt[0,...] = np.pi/12 * (xc + mu_term + Bhat)\n",
    "    dydt[1,...] = np.pi/12* (self.q * Bhat * xc - x * taux_term)\n",
    "    dydt[2,...] = 60.0 * (alpha * (1 - n) - self.beta * n)\n",
    "    \n",
    "    return dydt"
   ]
  },
  {
   "cell_type": "code",
   "execution_count": null,
   "metadata": {},
   "outputs": [],
   "source": [
    "#| hide\n",
    "# test Jewett99's derv\n",
    "model = Jewett99()\n",
    "# single batch\n",
    "state = np.array([0.1, 0.1, 0.1])\n",
    "light = 1.0\n",
    "derv_error = np.abs(np.sum(model.derv(state, light) - np.array([0.03019473, -0.02595055, -0.0425285])))\n",
    "test_eq(derv_error < 1e-8, True)\n",
    "# multiple batches\n",
    "batches = 5\n",
    "batch_states = np.zeros((3, batches))\n",
    "for batch in range(batches):\n",
    "    batch_states[:, batch] = state\n",
    "batch_derv = model.derv(batch_states, light)\n",
    "for batch in range(batches):\n",
    "    derv_error = np.abs(np.sum(batch_derv[:, batch] - np.array([0.03019473, -0.02595055, -0.0425285])))\n",
    "    test_eq(derv_error < 1e-8, True)"
   ]
  },
  {
   "cell_type": "code",
   "execution_count": null,
   "metadata": {},
   "outputs": [],
   "source": [
    "#| export\n",
    "#| hide\n",
    "@patch_to(Jewett99)\n",
    "def phase(self,\n",
    "          trajectory: DynamicalTrajectory=None, # trajectory to calculate the phase. If None, the current trajectory is used\n",
    "          time: float=None # a time point to calculate the phase at. If None, the phase is calculated for the entire trajectory\n",
    "          ) -> float:\n",
    "    if trajectory is None:\n",
    "        trajectory = self.trajectory\n",
    "    else: \n",
    "        if not isinstance(trajectory, DynamicalTrajectory):\n",
    "            raise ValueError(\"trajectory must be a DynamicalTrajectory\")\n",
    "    if time is None:\n",
    "        x = trajectory.states[:, 0]\n",
    "        y = -1.0 * trajectory.states[:, 1]\n",
    "    else:\n",
    "        if not isinstance(time, (float, int)):\n",
    "            raise ValueError(\"time must be a float or an int\")\n",
    "        else:\n",
    "            state = trajectory(time)\n",
    "            x = state[0] \n",
    "            y = -1.0 * state[1]\n",
    "    return np.angle(x + complex(0,1) * y)"
   ]
  },
  {
   "cell_type": "code",
   "execution_count": null,
   "metadata": {},
   "outputs": [],
   "source": [
    "#| hide\n",
    "# test Jewett99's phase\n",
    "model = Jewett99()\n",
    "time = np.linspace(0, 96, 1000)\n",
    "light = np.zeros_like(time)\n",
    "model(time, input=light)\n",
    "phase_array = np.zeros_like(time)\n",
    "for idx, t in enumerate(time):\n",
    "    phase_array[idx] = model.phase(time=t)\n",
    "true_phase = np.angle(model.trajectory.states[:,0] + complex(0,1)*(-1.0 * model.trajectory.states[:,1]))\n",
    "test_eq(np.all(np.isclose(phase_array, true_phase)), True)\n",
    "# test passing the trajectory\n",
    "light = LightSchedule.Regular()(time)\n",
    "trajectory = model(time, input=light)\n",
    "phase_array = np.zeros_like(time)\n",
    "for idx, t in enumerate(time):\n",
    "    phase_array[idx] = model.phase(trajectory, t)\n",
    "true_phase = np.angle(model.trajectory.states[:,0] + complex(0,1)*(-1.0 * model.trajectory.states[:,1]))\n",
    "test_eq(np.all(np.isclose(phase_array, true_phase)), True)\n",
    "# test calculation for all trajectory\n",
    "phase = model.phase()\n",
    "test_eq(np.all(np.isclose(phase, true_phase)), True)\n",
    "# test error handling\n",
    "test_fail(lambda: model.phase(1), contains=\"trajectory must be a DynamicalTrajectory\")\n",
    "test_fail(lambda: model.phase(trajectory, \"1\"), contains=\"time must be a float or an int\")"
   ]
  },
  {
   "cell_type": "code",
   "execution_count": null,
   "metadata": {},
   "outputs": [],
   "source": [
    "#| export\n",
    "#| hide\n",
    "@patch_to(Jewett99)\n",
    "def amplitude(self,\n",
    "              trajectory: DynamicalTrajectory=None, # trajectory to calculate the amplitude. If None, the current trajectory is used\n",
    "              time: float=None # a time point to calculate the amplitude at. If None, the amplitude is calculated for the entire trajectory\n",
    "              ) -> float:\n",
    "    if trajectory is None:\n",
    "        trajectory = self.trajectory\n",
    "    else: \n",
    "        if not isinstance(trajectory, DynamicalTrajectory):\n",
    "            raise ValueError(\"trajectory must be a DynamicalTrajectory\")\n",
    "    if time is None:\n",
    "        x = trajectory.states[:, 0]\n",
    "        y = -1.0 * trajectory.states[:, 1]\n",
    "    else:\n",
    "        if not isinstance(time, (float, int)):\n",
    "            raise ValueError(\"time must be a float or an int\")\n",
    "        else:\n",
    "            state = trajectory(time)\n",
    "            x = state[0] \n",
    "            y = -1.0 * state[1]\n",
    "    return np.sqrt(x**2 + y**2)"
   ]
  },
  {
   "cell_type": "code",
   "execution_count": null,
   "metadata": {},
   "outputs": [],
   "source": [
    "#| hide\n",
    "# test Jewett99's amplitude\n",
    "model = Jewett99()\n",
    "time = np.linspace(0, 96, 1000)\n",
    "light = np.zeros_like(time)\n",
    "model(time, input=light)\n",
    "amplitude_array = np.zeros_like(time)\n",
    "for idx, t in enumerate(time):\n",
    "    amplitude_array[idx] = model.amplitude(time=t)\n",
    "true_amplitude = np.sqrt(model.trajectory.states[:,0] ** 2 + model.trajectory.states[:,1] ** 2)\n",
    "test_eq(np.all(np.isclose(amplitude_array, true_amplitude)), True)\n",
    "# test passing the trajectory\n",
    "light = LightSchedule.Regular()(time)\n",
    "trajectory = model(time, input=light)\n",
    "amplitude_array = np.zeros_like(time)\n",
    "for idx, t in enumerate(time):\n",
    "    amplitude_array[idx] = model.amplitude(trajectory, t)\n",
    "true_amplitude = np.sqrt(model.trajectory.states[:,0] ** 2 + model.trajectory.states[:,1] ** 2)\n",
    "test_eq(np.all(np.isclose(amplitude_array, true_amplitude)), True)\n",
    "# test calculation for all trajectory\n",
    "amplitude = model.amplitude()\n",
    "test_eq(np.all(np.isclose(amplitude, true_amplitude)), True)\n",
    "# test error handling\n",
    "test_fail(lambda: model.amplitude(1), contains=\"trajectory must be a DynamicalTrajectory\")\n",
    "test_fail(lambda: model.amplitude(trajectory, \"1\"), contains=\"time must be a float or an int\")"
   ]
  },
  {
   "cell_type": "code",
   "execution_count": null,
   "metadata": {},
   "outputs": [],
   "source": [
    "#| export\n",
    "#| hide\n",
    "@patch_to(Jewett99)\n",
    "def cbt(self,\n",
    "        trajectory: DynamicalTrajectory=None, # trajectory to calculate the cbt. If None, the current trajectory is used\n",
    "        ) -> np.ndarray:\n",
    "    \"Finds the core body temperature minumum markers for the model along a trajectory as the corrected minimum of x\"\n",
    "    if trajectory is None:\n",
    "        trajectory = self.trajectory\n",
    "    else:\n",
    "        if not isinstance(trajectory, DynamicalTrajectory):\n",
    "            raise ValueError(\"trajectory must be a DynamicalTrajectory\")\n",
    "    inverted_x = -1*trajectory.states[:,0]\n",
    "    cbt_min_idxs, _ = find_peaks(inverted_x)\n",
    "    return trajectory.time[cbt_min_idxs] + self.phi_ref"
   ]
  },
  {
   "cell_type": "code",
   "execution_count": null,
   "metadata": {},
   "outputs": [],
   "source": [
    "#| hide\n",
    "# test Jewett99's cbt\n",
    "model = Jewett99()\n",
    "time = np.linspace(0, 96, 2000)\n",
    "light = np.zeros_like(time)\n",
    "trajectory = model(time, input=light)\n",
    "cbt_min_idxs = find_peaks(-1*trajectory.states[:,0])[0]\n",
    "troughs = time[cbt_min_idxs] + model.phi_ref\n",
    "test_eq(np.all(np.isclose(model.cbt(), troughs)), True)\n",
    "# test passing the trajectory\n",
    "light = LightSchedule.Regular()(time)\n",
    "trajectory = model(time, input=light)\n",
    "cbt_min_idxs = find_peaks(-1*trajectory.states[:,0])[0]\n",
    "troughs = time[cbt_min_idxs] + model.phi_ref\n",
    "test_eq(np.all(np.isclose(model.cbt(trajectory), troughs)), True)\n",
    "# test error handling\n",
    "test_fail(lambda: model.cbt(1), contains=\"trajectory must be a DynamicalTrajectory\")"
   ]
  },
  {
   "cell_type": "code",
   "execution_count": null,
   "metadata": {},
   "outputs": [],
   "source": [
    "#| export\n",
    "#| hide\n",
    "@patch_to(Jewett99)\n",
    "def dlmos(self,\n",
    "          trajectory: DynamicalTrajectory=None # trajectory to calculate the dlmo. If None, the current trajectory is used\n",
    "          ) -> np.ndarray:\n",
    "    \"Finds the Dim Light Melatonin Onset (DLMO) markers for the model along a trajectory\"\n",
    "    if trajectory is None:\n",
    "        trajectory = self.trajectory\n",
    "    else:\n",
    "        if not isinstance(trajectory, DynamicalTrajectory):\n",
    "            raise ValueError(\"trajectory must be a DynamicalTrajectory\")\n",
    "    return self.cbt(trajectory) - self.cbt_to_dlmo"
   ]
  },
  {
   "cell_type": "code",
   "execution_count": null,
   "metadata": {},
   "outputs": [],
   "source": [
    "#| hide\n",
    "# test Jewett99's dlmos\n",
    "model = Jewett99()\n",
    "time = np.linspace(0, 96, 2000)\n",
    "light = np.zeros_like(time)\n",
    "trajectory = model(time, input=light)\n",
    "cbt_min_idxs = find_peaks(-1*trajectory.states[:,0])[0]\n",
    "dlmos = time[cbt_min_idxs] + model.phi_ref - 7.0\n",
    "test_eq(np.all(np.isclose(model.dlmos(), dlmos)), True)\n",
    "# test passing the trajectory\n",
    "light = LightSchedule.Regular()(time)\n",
    "trajectory = model(time, input=light)\n",
    "cbt_min_idxs = find_peaks(-1*trajectory.states[:,0])[0]\n",
    "dlmos = time[cbt_min_idxs] + model.phi_ref - 7.0\n",
    "test_eq(np.all(np.isclose(model.dlmos(trajectory), dlmos)), True)\n",
    "# test error handling\n",
    "test_fail(lambda: model.dlmos(1), contains=\"trajectory must be a DynamicalTrajectory\")"
   ]
  },
  {
   "cell_type": "code",
   "execution_count": null,
   "metadata": {},
   "outputs": [],
   "source": [
    "#| hide\n",
    "# test that Jewett99 can be entrained to a regular 24 hour light schedule for different initial conditions - Scientific test\n",
    "days = 80\n",
    "dt = 0.5\n",
    "time = np.arange(0, 24*days, dt)\n",
    "regular_schedule = LightSchedule.Regular()\n",
    "light_values = regular_schedule(time)\n",
    "# explore a broad space of initial conditions\n",
    "amplitude_ic = np.linspace(1e-3, 1.0, 20)\n",
    "phase_ic = np.linspace(-np.pi, np.pi, 20)\n",
    "# convert amplitude and phase to x and xc\n",
    "ic_stack = np.dstack(np.meshgrid(amplitude_ic, phase_ic)).reshape(-1, 2)\n",
    "ic_stack = np.hstack((ic_stack, np.zeros((ic_stack.shape[0], 1))))\n",
    "ic_x = np.sqrt(ic_stack[:, 0]) * np.cos(ic_stack[:, 1])\n",
    "ic_xc = np.sqrt(ic_stack[:, 0]) * np.sin(ic_stack[:, 1])\n",
    "initial_conditions = np.hstack((ic_x.reshape(-1, 1), ic_xc.reshape(-1, 1), np.zeros((ic_x.shape[0], 1))))\n",
    "# transpose initial conditions\n",
    "initial_conditions = initial_conditions.T\n",
    "# simulate\n",
    "model = Forger99()\n",
    "result = model(time, initial_conditions, light_values)\n",
    "# compare last ten days\n",
    "t_comparison_idx = int(24 * 70 / dt)\n",
    "reference_x = result.states[t_comparison_idx:, 0, 0]\n",
    "reference_xc = result.states[t_comparison_idx:, 1, 0]\n",
    "diff_x = result.states[t_comparison_idx:, 0, :].T - reference_x\n",
    "diff_xc = result.states[t_comparison_idx:, 1, :].T - reference_xc\n",
    "test_eq(np.all(np.isclose(diff_x, 0.0, atol=1e-2)), True)\n",
    "test_eq(np.all(np.isclose(diff_xc, 0.0, atol=1e-2)), True)"
   ]
  },
  {
   "attachments": {},
   "cell_type": "markdown",
   "metadata": {},
   "source": [
    "#| hide\n",
    "## Hilaire07 - TODO - Remember to add exports"
   ]
  },
  {
   "cell_type": "code",
   "execution_count": null,
   "metadata": {},
   "outputs": [],
   "source": [
    "#| hide\n",
    "class Hilaire07(CircadianModel):\n",
    "    \"Implementation of Hilaire's 2007 model from the article 'Addition of a non-photic component to a light-based mathematical model of the human circadian pacemaker'\"\n",
    "    def __init__(self, params=None):\n",
    "        default_params = {\n",
    "            'taux': 24.2, 'G': 37.0, 'k': 0.55, 'mu': 0.13, 'beta': 0.007, \n",
    "            'q': 1.0/3.0, 'rho': 0.032, 'I0': 9500.0, 'p': 0.5, 'a0': 0.1, \n",
    "            'phi_xcx': -2.98, 'phi_ref': 0.97, 'cbt_to_dlmo': 7.0,\n",
    "            }\n",
    "        num_states = 3\n",
    "        default_initial_conditions = np.array([-0.3, -1.13, 0.0])\n",
    "        super(Hilaire07, self).__init__(default_params, num_states, default_initial_conditions)\n",
    "        if params is not None:\n",
    "            self.set_parameters(params)\n",
    "\n",
    "    def integrate(self,\n",
    "                  time: np.ndarray, # time points for integration. Time difference between each consecutive pair of values determines step size of the solver\n",
    "                  initial_condition: np.ndarray=None, # initial state of the model\n",
    "                  input: np.ndarray=None, # model input (such as light or wake) for each time point\n",
    "                  ) -> DynamicalTrajectory:\n",
    "        \"Solve the model for specific timepoints given initial conditions and model inputs\"\n",
    "        # input checking for Hilaire07\n",
    "        if input is not None:\n",
    "            _light_input_checking(input[0,...])\n",
    "            _wake_input_checking(input[1,...])\n",
    "        return super().integrate(time, initial_condition, input)\n",
    "\n",
    "    def __repr__(self) -> str:\n",
    "        return self.__str__()\n",
    "    \n",
    "    def __str__(self) -> str:\n",
    "        return \"Hilaire07\""
   ]
  },
  {
   "cell_type": "code",
   "execution_count": null,
   "metadata": {},
   "outputs": [],
   "source": [
    "#| hide\n",
    "# test Hilaire07's constructor\n",
    "# TODO"
   ]
  },
  {
   "cell_type": "code",
   "execution_count": null,
   "metadata": {},
   "outputs": [],
   "source": [
    "#| hide\n",
    "@patch_to(Hilaire07)\n",
    "def derv(self,\n",
    "         state: np.ndarray, # dynamical state (x, xc, n)\n",
    "         input: np.ndarray # model input (light, wake)\n",
    "         ) -> np.ndarray: # derivative of the state\n",
    "     \"Right-hand-side of the differential equation model\"\n",
    "     x = state[0,...]\n",
    "     xc = state[1,...]\n",
    "     n = state[2,...]\n",
    "     light = input[0,...] \n",
    "     wake = input[1,...]\n",
    "     \n",
    "     alpha = self.a0 * (np.power(light / self.I0, self.p)) * (light / (light + 100.0))\n",
    "     Bhat = self.G * (1 - n) * alpha * (1 - 0.4 * x) * (1 - 0.4 * xc) \n",
    "     # From article: sigma equals either 1 (for sleep/rest) or 0 (for wake/activity),\n",
    "     sigma = 1.0 if wake < 0.5 else 0.0\n",
    "     Nsh = self.rho * (1/3 - sigma)\n",
    "     # TODO: Double check this part of the model\n",
    "     C = t % 24\n",
    "     CBTmin = self.phi_xcx + self.phi_ref\n",
    "     CBTminlocal = CBTmin * 24.0 / (2*np.pi)\n",
    "     psi_cx = C - CBTminlocal\n",
    "     psi_cx = psi_cx % 24\n",
    "     # TODO: Double check this part of the model \n",
    "     if (psi_cx > 16.5 and psi_cx < 21):\n",
    "          Ns = self.rho * (1/3) \n",
    "     else:\n",
    "          Ns = Nsh * (1 - np.tanh(10*x))\n",
    "\n",
    "     mu_term = self.mu * (1.0 / 3.0 * x + 4.0 / 3.0 * np.power(x, 3.0) - 256.0 / 105.0 * np.power(x, 7.0))\n",
    "     taux_term = (np.power((24.0 / (0.99729 * self.taux)), 2) + self.k * Bhat)\n",
    "     \n",
    "     dydt = np.zeros_like(state)\n",
    "     dydt[0,...] = np.pi / 12.0 * (xc + mu_term + Bhat + Ns)\n",
    "     dydt[1,...] = np.pi / 12.0 * (self.q * Bhat * xc - x * taux_term)\n",
    "     dydt[2,...] = 60.0 * (alpha * (1.0 - n) - self.beta * n)\n",
    "     \n",
    "     return dydt"
   ]
  },
  {
   "cell_type": "code",
   "execution_count": null,
   "metadata": {},
   "outputs": [],
   "source": [
    "#| hide\n",
    "#  test Hilaire07's derv\n",
    "# TODO"
   ]
  },
  {
   "cell_type": "code",
   "execution_count": null,
   "metadata": {},
   "outputs": [],
   "source": [
    "#| hide\n",
    "@patch_to(Hilaire07)\n",
    "def phase(self,\n",
    "          time: float # a time point to calculate the phase at\n",
    "          ) -> float:\n",
    "    state = self.trajectory(time)\n",
    "    x = state[0] \n",
    "    y = -1.0 * state[1]\n",
    "    return np.angle(x + complex(0,1) * y)"
   ]
  },
  {
   "cell_type": "code",
   "execution_count": null,
   "metadata": {},
   "outputs": [],
   "source": [
    "#| hide\n",
    "# test Hilaire07's phase\n",
    "# TODO"
   ]
  },
  {
   "cell_type": "code",
   "execution_count": null,
   "metadata": {},
   "outputs": [],
   "source": [
    "#| hide\n",
    "@patch_to(Hilaire07)\n",
    "def amplitude(self,\n",
    "              time: float # a time point to calculate the amplitude at\n",
    "              ) -> float:\n",
    "        \"Calculates the amplitude of the model at a given time\"\n",
    "        state = self.trajectory(time)\n",
    "        return np.sqrt(state[0] ** 2 + state[1] ** 2)"
   ]
  },
  {
   "cell_type": "code",
   "execution_count": null,
   "metadata": {},
   "outputs": [],
   "source": [
    "#| hide\n",
    "# test Hilaire07's amplitude\n",
    "# TODO"
   ]
  },
  {
   "cell_type": "code",
   "execution_count": null,
   "metadata": {},
   "outputs": [],
   "source": [
    "#| hide\n",
    "@patch_to(Hilaire07)\n",
    "def cbt(self) -> np.ndarray:\n",
    "    raise NotImplementedError(\"cbt is not implemented for Hilaire07\")"
   ]
  },
  {
   "cell_type": "code",
   "execution_count": null,
   "metadata": {},
   "outputs": [],
   "source": [
    "#| hide\n",
    "# test Hilaire07's cbt\n",
    "# TODO"
   ]
  },
  {
   "cell_type": "code",
   "execution_count": null,
   "metadata": {},
   "outputs": [],
   "source": [
    "#| hide\n",
    "@patch_to(Hilaire07)\n",
    "def dlmos(self) -> np.ndarray:\n",
    "    raise NotImplementedError(\"dlmos is not implemented for Hilaire07\")"
   ]
  },
  {
   "attachments": {},
   "cell_type": "markdown",
   "metadata": {},
   "source": [
    "#| hide\n",
    "## Nakao02 - TODO"
   ]
  },
  {
   "cell_type": "code",
   "execution_count": null,
   "metadata": {},
   "outputs": [],
   "source": [
    "#| hide\n",
    "# TODO: Implement Nakao's 2002 model from the article 'A phase dynamics model of human circadian rhythms'"
   ]
  },
  {
   "attachments": {},
   "cell_type": "markdown",
   "metadata": {},
   "source": [
    "#| hide\n",
    "# Documentation"
   ]
  },
  {
   "attachments": {},
   "cell_type": "markdown",
   "metadata": {},
   "source": [
    "# Overview"
   ]
  },
  {
   "attachments": {},
   "cell_type": "markdown",
   "metadata": {},
   "source": [
    "The `circadian.models` module contains the essential tools for simulating circadian rhythms. The base class `DynamicalTrajectory` handles differential equation solutions, while the `CircadianModel` class handles the implementation of the models themselves. The first part of the documentation focuses on [how to simulate circadian rhythms](#simulating-circadian-rhythms) while the second part [describes each model briefly](#implemented-models). For a description of each implementation see the [API Documentation](#api-documentation)."
   ]
  },
  {
   "attachments": {},
   "cell_type": "markdown",
   "metadata": {},
   "source": [
    "# Simulating circadian rhythms"
   ]
  },
  {
   "attachments": {},
   "cell_type": "markdown",
   "metadata": {},
   "source": [
    "To simulate a circadian model we need to provide a set of timepoints where we want to calculate the solution and a set of light inputs for each timepoint"
   ]
  },
  {
   "attachments": {},
   "cell_type": "markdown",
   "metadata": {},
   "source": [
    "```python\n",
    "import numpy as np\n",
    "import matplotlib.pyplot as plt\n",
    "from circadian.models import Forger99\n",
    "from circadian.lights import LightSchedule\n",
    "\n",
    "simulation_days = 5\n",
    "dt = 0.5 # hours\n",
    "time = np.arange(0, 24 * simulation_days, dt)\n",
    "\n",
    "light_schedule = LightSchedule.Regular()\n",
    "light_input = light_schedule(time)\n",
    "\n",
    "model = Forger99()\n",
    "trajectory = model(time, input=light_input)\n",
    "```"
   ]
  },
  {
   "cell_type": "code",
   "execution_count": null,
   "metadata": {},
   "outputs": [],
   "source": [
    "#| hide\n",
    "import numpy as np\n",
    "import matplotlib.pyplot as plt\n",
    "from circadian.models import Forger99, Jewett99, Hannay19, Hannay19TP\n",
    "from circadian.lights import LightSchedule"
   ]
  },
  {
   "cell_type": "code",
   "execution_count": null,
   "metadata": {},
   "outputs": [],
   "source": [
    "#| echo: false\n",
    "simulation_days = 5\n",
    "dt = 0.5 # hours\n",
    "time = np.arange(0, 24 * simulation_days, dt)\n",
    "\n",
    "light_schedule = LightSchedule.Regular()\n",
    "light_input = light_schedule(time)\n",
    "\n",
    "model = Forger99()\n",
    "trajectory = model(time, input=light_input)"
   ]
  },
  {
   "attachments": {},
   "cell_type": "markdown",
   "metadata": {},
   "source": [
    "we can plot the solution by acessing the trajectory's `states`"
   ]
  },
  {
   "cell_type": "code",
   "execution_count": null,
   "metadata": {},
   "outputs": [
    {
     "data": {
      "image/png": "[encoded data removed]",
      "text/plain": [
       "<Figure size 640x480 with 1 Axes>"
      ]
     },
     "metadata": {},
     "output_type": "display_data"
    }
   ],
   "source": [
    "plt.plot(time/24.0, trajectory.states[:,0], label='x')\n",
    "plt.xlabel('Time (days)')\n",
    "plt.ylabel('State')\n",
    "plt.legend(loc='upper center', bbox_to_anchor=(0.94, 1.1), ncol=2) #| hide_line\n",
    "plt.ylim([-1.1, 1.1]) #| hide_line\n",
    "plt.show()"
   ]
  },
  {
   "attachments": {},
   "cell_type": "markdown",
   "metadata": {},
   "source": [
    "## Custom parameters and initial conditions"
   ]
  },
  {
   "attachments": {},
   "cell_type": "markdown",
   "metadata": {},
   "source": [
    "In the example above, we are not defining initial conditions nor parameters. This is because each model in the library has a default set of parameters and initial conditions. Initial conditions and parameters used in the simulation can be accessed by"
   ]
  },
  {
   "cell_type": "code",
   "execution_count": null,
   "metadata": {},
   "outputs": [
    {
     "data": {
      "text/plain": [
       "array([-1.00982605,  0.00125715,  0.        ])"
      ]
     },
     "execution_count": null,
     "metadata": {},
     "output_type": "execute_result"
    }
   ],
   "source": [
    "model.initial_condition"
   ]
  },
  {
   "cell_type": "code",
   "execution_count": null,
   "metadata": {},
   "outputs": [
    {
     "data": {
      "text/plain": [
       "{'taux': 24.2,\n",
       " 'mu': 0.23,\n",
       " 'G': 33.75,\n",
       " 'alpha_0': 0.05,\n",
       " 'beta': 0.0075,\n",
       " 'p': 0.5,\n",
       " 'I0': 9500.0,\n",
       " 'k': 0.55,\n",
       " 'cbt_to_dlmo': 7.0}"
      ]
     },
     "execution_count": null,
     "metadata": {},
     "output_type": "execute_result"
    }
   ],
   "source": [
    "model.parameters"
   ]
  },
  {
   "attachments": {},
   "cell_type": "markdown",
   "metadata": {},
   "source": [
    "We can run simulations with custom parameters and initial conditions by"
   ]
  },
  {
   "cell_type": "code",
   "execution_count": null,
   "metadata": {},
   "outputs": [],
   "source": [
    "simulation_days = 5\n",
    "dt = 0.5 # hours\n",
    "time = np.arange(0, 24 * simulation_days, dt)\n",
    "\n",
    "light_schedule = LightSchedule.Regular()\n",
    "light_input = light_schedule(time)\n",
    "\n",
    "custom_parameters = {\n",
    "    'taux': 14.0, 'mu': 0.3, 'G': 34.0, 'alpha_0': 0.07,\n",
    "    'delta': 0.0095, 'p': 0.7, 'I0': 9300.0, 'kparam': 0.75,\n",
    "    'cbt_to_dlmo': 7.0}\n",
    "custom_initial_condition = np.array([0.5, 0.1, 0.1])\n",
    "\n",
    "model = Forger99(custom_parameters)\n",
    "trajectory = model(time, custom_initial_condition, light_input)"
   ]
  },
  {
   "cell_type": "code",
   "execution_count": null,
   "metadata": {},
   "outputs": [
    {
     "data": {
      "image/png": "[encoded data removed]",
      "text/plain": [
       "<Figure size 640x480 with 1 Axes>"
      ]
     },
     "metadata": {},
     "output_type": "display_data"
    }
   ],
   "source": [
    "plt.plot(time/24.0, trajectory.states[:,0], label='x')\n",
    "plt.xlabel('Time (days)')\n",
    "plt.ylabel('State')\n",
    "plt.legend(loc='upper center', bbox_to_anchor=(0.94, 1.1), ncol=2) #| hide_line\n",
    "plt.ylim([-1.1, 1.1]) #| hide_line\n",
    "plt.show()"
   ]
  },
  {
   "attachments": {},
   "cell_type": "markdown",
   "metadata": {},
   "source": [
    "When defining custom parameters we can specify only a subset and the rest will maintain their default values (or any previously defined values)."
   ]
  },
  {
   "cell_type": "code",
   "execution_count": null,
   "metadata": {},
   "outputs": [],
   "source": [
    "simulation_days = 5\n",
    "dt = 0.5 # hours\n",
    "time = np.arange(0, 24 * simulation_days, dt)\n",
    "\n",
    "light_schedule = LightSchedule.Regular()\n",
    "light_input = light_schedule(time)\n",
    "\n",
    "model = Forger99({'taux': 48.0})\n",
    "trajectory = model(time,  input=light_input)"
   ]
  },
  {
   "cell_type": "code",
   "execution_count": null,
   "metadata": {},
   "outputs": [
    {
     "data": {
      "image/png": "[encoded data removed]",
      "text/plain": [
       "<Figure size 640x480 with 1 Axes>"
      ]
     },
     "metadata": {},
     "output_type": "display_data"
    }
   ],
   "source": [
    "#| echo: false\n",
    "plt.plot(time/24.0, trajectory.states[:,0], label='x')\n",
    "plt.xlabel('Time (days)')\n",
    "plt.ylabel('State')\n",
    "plt.legend(loc='upper center', bbox_to_anchor=(0.94, 1.1), ncol=2) #| hide_line\n",
    "plt.show()"
   ]
  },
  {
   "attachments": {},
   "cell_type": "markdown",
   "metadata": {},
   "source": [
    "## Simulating from multiple initial conditions"
   ]
  },
  {
   "attachments": {},
   "cell_type": "markdown",
   "metadata": {},
   "source": [
    "Models accept arrays of initial conditions allowing to simulate from multiple initial conditions at once. For example, to simulate the Forger99 model from 100 different initial conditions we can do"
   ]
  },
  {
   "cell_type": "code",
   "execution_count": null,
   "metadata": {},
   "outputs": [],
   "source": [
    "simulation_days = 10\n",
    "dt = 0.5 # hours\n",
    "time = np.arange(0, 24 * simulation_days, dt)\n",
    "\n",
    "light_schedule = LightSchedule.Regular()\n",
    "light_input = light_schedule(time)\n",
    "\n",
    "x_values = np.linspace(-1.0, 1.0, 10)\n",
    "xc_values = np.linspace(-1.0, 1.0, 10)\n",
    "x_xc_stack = np.dstack(np.meshgrid(x_values, xc_values)).reshape(-1, 2)\n",
    "multiple_initial_conditions = np.hstack((x_xc_stack, np.zeros((x_xc_stack.shape[0], 1))))\n",
    "multiple_initial_conditions = multiple_initial_conditions.T\n",
    "\n",
    "model = Forger99()\n",
    "trajectory = model(time, multiple_initial_conditions, light_input)"
   ]
  },
  {
   "attachments": {},
   "cell_type": "markdown",
   "metadata": {},
   "source": [
    "Note that we have to format the initial conditions as a numpy array of dimensions (3, n) where n is the total number of initial conditions and 3 is the number of states in the model."
   ]
  },
  {
   "attachments": {},
   "cell_type": "markdown",
   "metadata": {},
   "source": [
    "The resulting trajectory contains all the solutions in the same order as the initial conditions"
   ]
  },
  {
   "cell_type": "code",
   "execution_count": null,
   "metadata": {},
   "outputs": [
    {
     "data": {
      "text/plain": [
       "(480, 3, 100)"
      ]
     },
     "execution_count": null,
     "metadata": {},
     "output_type": "execute_result"
    }
   ],
   "source": [
    "trajectory.states.shape"
   ]
  },
  {
   "attachments": {},
   "cell_type": "markdown",
   "metadata": {},
   "source": [
    "We can plot the solution for each initial condition by"
   ]
  },
  {
   "cell_type": "code",
   "execution_count": null,
   "metadata": {},
   "outputs": [
    {
     "data": {
      "image/png": "[encoded data removed]",
      "text/plain": [
       "<Figure size 640x480 with 1 Axes>"
      ]
     },
     "metadata": {},
     "output_type": "display_data"
    }
   ],
   "source": [
    "for idx in range(trajectory.states.shape[2]):\n",
    "    plt.plot(time/24.0, trajectory.states[:,0,idx], \n",
    "             color='b', alpha=0.1)\n",
    "plt.xlabel('Time (days)')\n",
    "plt.ylabel('State')\n",
    "plt.show()"
   ]
  },
  {
   "attachments": {},
   "cell_type": "markdown",
   "metadata": {},
   "source": [
    "This is the recommended method to simulate multiple initial conditions--by passing a numpy array to the model. Our implementation takes advantage of numpy's vectorization to speed up the calculation. If we simulate each initial condition individually, the simulation will be slower."
   ]
  },
  {
   "attachments": {},
   "cell_type": "markdown",
   "metadata": {},
   "source": [
    "## Estimation of circadian phase markers"
   ]
  },
  {
   "attachments": {},
   "cell_type": "markdown",
   "metadata": {},
   "source": [
    "Models support the estimation of Dim Light Melatonin Onset (DLMO) and Core Body Temperature Minimum (CBTmin) directly from the solution"
   ]
  },
  {
   "cell_type": "code",
   "execution_count": null,
   "metadata": {},
   "outputs": [],
   "source": [
    "simulation_days = 5\n",
    "dt = 0.5 # hours\n",
    "time = np.arange(0, 24 * simulation_days, dt)\n",
    "\n",
    "light_schedule = LightSchedule.Regular()\n",
    "light_input = light_schedule(time)\n",
    "\n",
    "model = Forger99()\n",
    "trajectory = model(time, input=light_input)\n",
    "\n",
    "cbt_times = model.cbt()\n",
    "dlmo_times = model.dlmos()"
   ]
  },
  {
   "cell_type": "code",
   "execution_count": null,
   "metadata": {},
   "outputs": [],
   "source": [
    "#| hide\n",
    "import matplotlib.lines as lines"
   ]
  },
  {
   "cell_type": "code",
   "execution_count": null,
   "metadata": {},
   "outputs": [
    {
     "data": {
      "image/png": "[encoded data removed]",
      "text/plain": [
       "<Figure size 640x480 with 1 Axes>"
      ]
     },
     "metadata": {},
     "output_type": "display_data"
    }
   ],
   "source": [
    "#| echo: false\n",
    "plt.plot(time/24.0, trajectory.states[:,0], label='x')\n",
    "for cbt_time in cbt_times:\n",
    "    plt.axvline(x=cbt_time/24.0, color='r', linestyle='--')\n",
    "for dlmo_time in dlmo_times:\n",
    "    plt.axvline(x=dlmo_time/24.0, color='g', linestyle='--')\n",
    "plt.xlabel('Time (days)')\n",
    "plt.ylabel('State')\n",
    "cbt_line = lines.Line2D([], [], color='red', linestyle='--', label='CBTmin')\n",
    "dlmo_line = lines.Line2D([], [], color='green', linestyle='--', label='DLMO')\n",
    "plt.legend(handles=[cbt_line, dlmo_line], loc='upper center', bbox_to_anchor=(0.8, 1.1), ncol=2)\n",
    "plt.show()"
   ]
  },
  {
   "attachments": {},
   "cell_type": "markdown",
   "metadata": {},
   "source": [
    "## Amplitude and phase calculation"
   ]
  },
  {
   "attachments": {},
   "cell_type": "markdown",
   "metadata": {},
   "source": [
    "Models also support the calculation of amplitude and phase at any desired timepoint"
   ]
  },
  {
   "cell_type": "code",
   "execution_count": null,
   "metadata": {},
   "outputs": [
    {
     "name": "stdout",
     "output_type": "stream",
     "text": [
      "Final phase: 2.292056531980468\n",
      "Final amplitude: 1.0007522907788031\n"
     ]
    }
   ],
   "source": [
    "simulation_days = 5\n",
    "dt = 0.5 # hours\n",
    "time = np.arange(0, 24 * simulation_days, dt)\n",
    "\n",
    "light_schedule = LightSchedule.Regular()\n",
    "light_input = light_schedule(time)\n",
    "\n",
    "model = Forger99()\n",
    "trajectory = model(time, input=light_input)\n",
    "\n",
    "t_final = time[-1]\n",
    "final_phase = model.phase(time=t_final)\n",
    "final_amplitude = model.amplitude(time=t_final)\n",
    "print(\"Final phase: {}\".format(final_phase)) #| hide_line\n",
    "print(\"Final amplitude: {}\".format(final_amplitude)) #| hide_line"
   ]
  },
  {
   "attachments": {},
   "cell_type": "markdown",
   "metadata": {},
   "source": [
    "# Implemented models"
   ]
  },
  {
   "attachments": {},
   "cell_type": "markdown",
   "metadata": {},
   "source": [
    "## Forger99"
   ]
  },
  {
   "attachments": {},
   "cell_type": "markdown",
   "metadata": {},
   "source": [
    "The `Forger99` model is taken from [Forger, Jewett, and Kronauer's 1999 article](https://doi.org/10.1177/074873099129000867) which defines a simplification of previous iterations of the van der Pol based oscillator models published in the 1990s. It is one of the most popular models in the circadian literature. The implementation in this package uses the parameters taken from [Serkh and Forger 2014](https://doi.org/10.1371/journal.pcbi.1003523) rather than the parameters from the original paper."
   ]
  },
  {
   "attachments": {},
   "cell_type": "markdown",
   "metadata": {},
   "source": [
    "The model states are defined by three dynamic variables: $x$, $x_c$, and $n$. These states are related to circadian rhythms by defining the core body temperature minimum (a biomarker for circadian state) to be the minimum of the $x$ variable."
   ]
  },
  {
   "attachments": {},
   "cell_type": "markdown",
   "metadata": {},
   "source": [
    "The differential equations governing the evolution of the `Forger99` model are:"
   ]
  },
  {
   "attachments": {},
   "cell_type": "markdown",
   "metadata": {},
   "source": [
    "$\\frac{dx}{dt} = \\frac{\\pi}{12}(x_c + B)$"
   ]
  },
  {
   "attachments": {},
   "cell_type": "markdown",
   "metadata": {},
   "source": [
    "$\\frac{dx_c}{dt} = \\frac{\\pi}{12}\\left\\{\\mu \\left( x_c - \\frac{4x_{c}^3}{3} \\right) - x \\left[ \\left( \\frac{24}{0.99669 \\tau_x} \\right)^2 + kB \\right] \\right\\}$"
   ]
  },
  {
   "attachments": {},
   "cell_type": "markdown",
   "metadata": {},
   "source": [
    "$\\frac{dn}{dt} = 60[\\alpha(I)(1-n)-\\beta n]$"
   ]
  },
  {
   "attachments": {},
   "cell_type": "markdown",
   "metadata": {},
   "source": [
    "where"
   ]
  },
  {
   "attachments": {},
   "cell_type": "markdown",
   "metadata": {},
   "source": [
    "$\\alpha(I) = \\alpha_0\\left( \\frac{I^p}{I_0^p}\\right)$"
   ]
  },
  {
   "attachments": {},
   "cell_type": "markdown",
   "metadata": {},
   "source": [
    "$B = G(1-n)\\alpha(I)(1-0.4x)(1-0.4x_c)$"
   ]
  },
  {
   "attachments": {},
   "cell_type": "markdown",
   "metadata": {},
   "source": [
    "The default parameters for this model are:"
   ]
  },
  {
   "cell_type": "code",
   "execution_count": null,
   "metadata": {},
   "outputs": [
    {
     "data": {
      "text/plain": [
       "{'taux': 24.2,\n",
       " 'mu': 0.23,\n",
       " 'G': 33.75,\n",
       " 'alpha_0': 0.05,\n",
       " 'beta': 0.0075,\n",
       " 'p': 0.5,\n",
       " 'I0': 9500.0,\n",
       " 'k': 0.55,\n",
       " 'cbt_to_dlmo': 7.0}"
      ]
     },
     "execution_count": null,
     "metadata": {},
     "output_type": "execute_result"
    }
   ],
   "source": [
    "model = Forger99()\n",
    "model.parameters"
   ]
  },
  {
   "attachments": {},
   "cell_type": "markdown",
   "metadata": {},
   "source": [
    "The `cbt_to_dlmo` parameter is used to convert the core body temperature minimum to DLMO. The default behavior is DLMO ocurring 7 hours before CBTmin."
   ]
  },
  {
   "attachments": {},
   "cell_type": "markdown",
   "metadata": {},
   "source": [
    "## Jewett99"
   ]
  },
  {
   "attachments": {},
   "cell_type": "markdown",
   "metadata": {},
   "source": [
    "The `Jewett99` model is taken from [Jewett, Forger, and Kronauer's 1999 article](https://doi.org/10.1177/074873049901400608) which defines several refinements to a van der Pol oscillator model developed by Kronauer previously. One of the main features of this model are the high-order terms in the differential equations which allow for a more accurate representation of the circadian system than previous models."
   ]
  },
  {
   "attachments": {},
   "cell_type": "markdown",
   "metadata": {},
   "source": [
    "Similarly to `Forger99` the model states are defined by three dynamic variables: $x$, $x_c$, and $n$. The variable $x$ is related to the core body temperature and $n$ to the processed light input."
   ]
  },
  {
   "attachments": {},
   "cell_type": "markdown",
   "metadata": {},
   "source": [
    "The differential equations governing the evolution of the `Jewett99` model are:"
   ]
  },
  {
   "attachments": {},
   "cell_type": "markdown",
   "metadata": {},
   "source": [
    "$\\frac{dx}{dt} = \\frac{\\pi}{12} \\left[x_c + \\mu \\left(\\frac{x}{3} + \\frac{4x^3}{3} - \\frac{256 x^7}{105}\\right) + B\\right]$"
   ]
  },
  {
   "attachments": {},
   "cell_type": "markdown",
   "metadata": {},
   "source": [
    "$\\frac{dx_c}{dt} = \\frac{\\pi}{12} \\left\\{ q B x_c - \\left[ \\left( \\frac{24}{0.99729 \\tau_{x}} \\right)^2 + k B \\right] x \\right\\}$"
   ]
  },
  {
   "attachments": {},
   "cell_type": "markdown",
   "metadata": {},
   "source": [
    "$\\frac{dn}{dt} = 60[\\alpha(I)(1-n)-\\beta n]$"
   ]
  },
  {
   "attachments": {},
   "cell_type": "markdown",
   "metadata": {},
   "source": [
    "where"
   ]
  },
  {
   "attachments": {},
   "cell_type": "markdown",
   "metadata": {},
   "source": [
    "$\\alpha(I) = \\alpha_0\\left( \\frac{I^p}{I_0^p}\\right)$"
   ]
  },
  {
   "attachments": {},
   "cell_type": "markdown",
   "metadata": {},
   "source": [
    "$B = G(1-n)\\alpha(I)(1-0.4x)(1-0.4x_c)$"
   ]
  },
  {
   "attachments": {},
   "cell_type": "markdown",
   "metadata": {},
   "source": [
    "The default parameters for this model are:"
   ]
  },
  {
   "cell_type": "code",
   "execution_count": null,
   "metadata": {},
   "outputs": [
    {
     "data": {
      "text/plain": [
       "{'taux': 24.2,\n",
       " 'mu': 0.13,\n",
       " 'G': 19.875,\n",
       " 'beta': 0.013,\n",
       " 'k': 0.55,\n",
       " 'q': 0.3333333333333333,\n",
       " 'I0': 9500,\n",
       " 'p': 0.6,\n",
       " 'alpha_0': 0.16,\n",
       " 'phi_ref': 0.8,\n",
       " 'cbt_to_dlmo': 7.0}"
      ]
     },
     "execution_count": null,
     "metadata": {},
     "output_type": "execute_result"
    }
   ],
   "source": [
    "model = Jewett99()\n",
    "model.parameters"
   ]
  },
  {
   "attachments": {},
   "cell_type": "markdown",
   "metadata": {},
   "source": [
    "The `cbt_to_dlmo` and `phi_ref` parameters are used to calculate the core body temperature minimum and convert it to DLMO. The CBTmin is calculated as the minimum of the $x$ variable plus a shift of $\\phi_{\\text{ref}}=0.8$ hours. The DLMO is calculated as CBTmin minus 7.0 hours."
   ]
  },
  {
   "attachments": {},
   "cell_type": "markdown",
   "metadata": {},
   "source": [
    "## Hannay19"
   ]
  },
  {
   "attachments": {},
   "cell_type": "markdown",
   "metadata": {},
   "source": [
    "The `Hannay19` model is taken from [Hannay, Booth, and Forger's 2019 article](https://doi.org/10.1177/0748730419878298). This model isn't based on a van der Pol oscillator and instead it is systematically derived from a high-dimensional model for each clock neuron using the $m^2$ ansatz ([Hannay et al. 2018](https://doi.org/10.1126/sciadv.1701047)). The `Hannay19` implementation corresponds to the single population model within the article."
   ]
  },
  {
   "attachments": {},
   "cell_type": "markdown",
   "metadata": {},
   "source": [
    "The model describes the circadian state using polar coordinates and features a slight modification fo the light processing function found in van der Pol type models. Thus, the model states are defined by: $R$, $\\psi$, and $n$."
   ]
  },
  {
   "attachments": {},
   "cell_type": "markdown",
   "metadata": {},
   "source": [
    "The differential equations governing the evolution of the `Hannay19` model are:"
   ]
  },
  {
   "attachments": {},
   "cell_type": "markdown",
   "metadata": {},
   "source": [
    "$\\frac{dR}{dt} = - (D + \\gamma)R + \\frac{K}{2}cos(\\beta)R(1-R^4) + L_R(R, \\psi)$"
   ]
  },
  {
   "attachments": {},
   "cell_type": "markdown",
   "metadata": {},
   "source": [
    "$\\frac{d\\psi}{dt} = \\omega_0 + \\frac{K}{2}sin(\\beta)(1+R^4) + L_{\\psi}(R,\\psi)$"
   ]
  },
  {
   "attachments": {},
   "cell_type": "markdown",
   "metadata": {},
   "source": [
    "$\\frac{dn}{dt} = 60\\left[\\alpha(I)(1-n)-\\delta n \\right]$"
   ]
  },
  {
   "attachments": {},
   "cell_type": "markdown",
   "metadata": {},
   "source": [
    "where"
   ]
  },
  {
   "attachments": {},
   "cell_type": "markdown",
   "metadata": {},
   "source": [
    "$L_R(R,\\psi) = \\frac{A_1}{2}B(t)(1-R^4)cos(\\psi + \\beta_{L1}) + \\frac{A_2}{2}B(t)R(1-R^8)cos(2\\psi + \\beta_{L2})$"
   ]
  },
  {
   "attachments": {},
   "cell_type": "markdown",
   "metadata": {},
   "source": [
    "$L_{\\psi}(R, \\psi) = \\sigma B(t) - \\frac{A_1}{2}B(t)\\left(\\frac{1}{R} + R^3 \\right)\\sin(\\psi + \\beta_{L1}) - \\frac{A_2}{2}B(t)(1+R^8)\\sin(2\\psi + \\beta_{L2})$"
   ]
  },
  {
   "attachments": {},
   "cell_type": "markdown",
   "metadata": {},
   "source": [
    "$\\alpha(I) = \\frac{\\alpha_0 I^p}{I^p + I_0}$"
   ]
  },
  {
   "attachments": {},
   "cell_type": "markdown",
   "metadata": {},
   "source": [
    "$B(t) = G(1-n)\\alpha(L)$"
   ]
  },
  {
   "attachments": {},
   "cell_type": "markdown",
   "metadata": {},
   "source": [
    "The default parameters for this model are:"
   ]
  },
  {
   "cell_type": "code",
   "execution_count": null,
   "metadata": {},
   "outputs": [
    {
     "data": {
      "text/plain": [
       "{'tau': 23.84,\n",
       " 'K': 0.06358,\n",
       " 'gamma': 0.024,\n",
       " 'Beta1': -0.09318,\n",
       " 'A1': 0.3855,\n",
       " 'A2': 0.1977,\n",
       " 'BetaL1': -0.0026,\n",
       " 'BetaL2': -0.957756,\n",
       " 'sigma': 0.0400692,\n",
       " 'G': 33.75,\n",
       " 'alpha_0': 0.05,\n",
       " 'delta': 0.0075,\n",
       " 'p': 1.5,\n",
       " 'I0': 9325.0,\n",
       " 'cbt_to_dlmo': 7.0}"
      ]
     },
     "execution_count": null,
     "metadata": {},
     "output_type": "execute_result"
    }
   ],
   "source": [
    "model = Hannay19()\n",
    "model.parameters"
   ]
  },
  {
   "attachments": {},
   "cell_type": "markdown",
   "metadata": {},
   "source": [
    "The `cbt_to_dlmo` parameter is used to convert the core body temperature minimum to DLMO. The default behavior is DLMO ocurring 7 hours before CBTmin."
   ]
  },
  {
   "attachments": {},
   "cell_type": "markdown",
   "metadata": {},
   "source": [
    "## Hannay19TP"
   ]
  },
  {
   "attachments": {},
   "cell_type": "markdown",
   "metadata": {},
   "source": [
    "The `Hannay19TP` model comes from the same article as `Hannay19` but stems from two populations of clock neurons rather than one. These two populations are the dorsal and ventral ones which define the model states to be: $R_v$, $R_d$, $\\psi_v$, $\\psi_d$, and $n$."
   ]
  },
  {
   "attachments": {},
   "cell_type": "markdown",
   "metadata": {},
   "source": [
    "The differential equations governing the evolution of the `Hannay19TP` model are:"
   ]
  },
  {
   "attachments": {},
   "cell_type": "markdown",
   "metadata": {},
   "source": [
    "$\\frac{dR_v}{dt} = -\\gamma R_v + \\frac{K_{vv}}{2} R_v (1 - R_{v}^4) + \\frac{K_{dv}}{2}R_d (1 - R_{v}^4)\\cos(\\psi_d - \\psi_v) + L_R(R_v, \\psi_v)$"
   ]
  },
  {
   "attachments": {},
   "cell_type": "markdown",
   "metadata": {},
   "source": [
    "$\\frac{dR_d}{dt} = -\\gamma R_d + \\frac{K_{dd}}{2} R_d (1 - R_{d}^4) + \\frac{K_{vd}}{2} R_v (1 - R_{d}^4)\\cos(\\psi_d - \\psi_v)$"
   ]
  },
  {
   "attachments": {},
   "cell_type": "markdown",
   "metadata": {},
   "source": [
    "$\\frac{d\\psi_v}{dt} = \\omega_v + \\frac{K_{dv}}{2} R_d \\left( \\frac{1}{R_v} + R_{v}^3\\right)\\sin(\\psi_d - \\psi_v) + L_\\psi(R_v, \\psi_v)$"
   ]
  },
  {
   "attachments": {},
   "cell_type": "markdown",
   "metadata": {},
   "source": [
    "$\\frac{d\\psi_d}{dt} = \\omega_d - \\frac{K_{vd}}{2} R_v \\left( \\frac{1}{R_d} + R_{d}^3\\right)\\sin(\\psi_d - \\psi_v)$"
   ]
  },
  {
   "attachments": {},
   "cell_type": "markdown",
   "metadata": {},
   "source": [
    "$\\frac{dn}{dt} = 60\\left[\\alpha(I)(1-n)-\\delta n \\right]$"
   ]
  },
  {
   "attachments": {},
   "cell_type": "markdown",
   "metadata": {},
   "source": [
    "where"
   ]
  },
  {
   "attachments": {},
   "cell_type": "markdown",
   "metadata": {},
   "source": [
    "$L_R(R_v,\\psi_v) = \\frac{A_1}{2}B(t)(1-R_v^4)cos(\\psi_v + \\beta_{L1}) + \\frac{A_2}{2}B(t)R_v(1-R_v^8)cos(2\\psi_v + \\beta_{L2})$"
   ]
  },
  {
   "attachments": {},
   "cell_type": "markdown",
   "metadata": {},
   "source": [
    "$L_{\\psi}(R_v, \\psi_v) = \\sigma B(t) - \\frac{A_1}{2}B(t)\\left(\\frac{1}{R_v} + R_v^3 \\right)\\sin(\\psi_v + \\beta_{L1}) - \\frac{A_2}{2}B(t)(1+R_v^8)\\sin(2\\psi_v + \\beta_{L2})$"
   ]
  },
  {
   "attachments": {},
   "cell_type": "markdown",
   "metadata": {},
   "source": [
    "$\\alpha(I) = \\frac{\\alpha_0 I^p}{I^p + I_0}$"
   ]
  },
  {
   "attachments": {},
   "cell_type": "markdown",
   "metadata": {},
   "source": [
    "$B(t) = G(1-n)\\alpha(L)$"
   ]
  },
  {
   "attachments": {},
   "cell_type": "markdown",
   "metadata": {},
   "source": [
    "The default parameters for this model are:"
   ]
  },
  {
   "cell_type": "code",
   "execution_count": null,
   "metadata": {},
   "outputs": [
    {
     "data": {
      "text/plain": [
       "{'tauV': 24.25,\n",
       " 'tauD': 24.0,\n",
       " 'Kvv': 0.05,\n",
       " 'Kdd': 0.04,\n",
       " 'Kvd': 0.05,\n",
       " 'Kdv': 0.01,\n",
       " 'gamma': 0.024,\n",
       " 'A1': 0.440068,\n",
       " 'A2': 0.159136,\n",
       " 'BetaL': 0.06452,\n",
       " 'BetaL2': -1.38935,\n",
       " 'sigma': 0.0477375,\n",
       " 'G': 33.75,\n",
       " 'alpha_0': 0.05,\n",
       " 'delta': 0.0075,\n",
       " 'p': 1.5,\n",
       " 'I0': 9325.0,\n",
       " 'cbt_to_dlmo': 7.0}"
      ]
     },
     "execution_count": null,
     "metadata": {},
     "output_type": "execute_result"
    }
   ],
   "source": [
    "model = Hannay19TP()\n",
    "model.parameters"
   ]
  },
  {
   "attachments": {},
   "cell_type": "markdown",
   "metadata": {},
   "source": [
    "The `cbt_to_dlmo` parameter is used to convert the core body temperature minimum to DLMO. The default behavior is DLMO ocurring 7 hours before CBTmin."
   ]
  },
  {
   "attachments": {},
   "cell_type": "markdown",
   "metadata": {},
   "source": [
    "# API Documentation"
   ]
  },
  {
   "cell_type": "code",
   "execution_count": null,
   "metadata": {},
   "outputs": [
    {
     "data": {
      "text/markdown": [
       "---\n",
       "\n",
       "[source](https://github.com/Arcascope/circadian/blob/main/circadian/models.py#L42){target=\"_blank\" style=\"float:right; font-size:smaller\"}\n",
       "\n",
       "### DynamicalTrajectory\n",
       "\n",
       ">      DynamicalTrajectory (time:numpy.ndarray, states:numpy.ndarray)\n",
       "\n",
       "A class to store solutions of differential equation models that contains both the time points and the states\n",
       "\n",
       "|    | **Type** | **Details** |\n",
       "| -- | -------- | ----------- |\n",
       "| time | ndarray | time points |\n",
       "| states | ndarray | state at time points |\n",
       "| **Returns** | **None** |  |"
      ],
      "text/plain": [
       "---\n",
       "\n",
       "[source](https://github.com/Arcascope/circadian/blob/main/circadian/models.py#L42){target=\"_blank\" style=\"float:right; font-size:smaller\"}\n",
       "\n",
       "### DynamicalTrajectory\n",
       "\n",
       ">      DynamicalTrajectory (time:numpy.ndarray, states:numpy.ndarray)\n",
       "\n",
       "A class to store solutions of differential equation models that contains both the time points and the states\n",
       "\n",
       "|    | **Type** | **Details** |\n",
       "| -- | -------- | ----------- |\n",
       "| time | ndarray | time points |\n",
       "| states | ndarray | state at time points |\n",
       "| **Returns** | **None** |  |"
      ]
     },
     "execution_count": null,
     "metadata": {},
     "output_type": "execute_result"
    }
   ],
   "source": [
    "show_doc(DynamicalTrajectory)"
   ]
  },
  {
   "cell_type": "code",
   "execution_count": null,
   "metadata": {},
   "outputs": [
    {
     "data": {
      "text/markdown": [
       "---\n",
       "\n",
       "[source](https://github.com/Arcascope/circadian/blob/main/circadian/models.py#L62){target=\"_blank\" style=\"float:right; font-size:smaller\"}\n",
       "\n",
       "### DynamicalTrajectory.__call__\n",
       "\n",
       ">      DynamicalTrajectory.__call__ (timepoint:float)\n",
       "\n",
       "Return the state at time t, linearly interpolated\n",
       "\n",
       "|    | **Type** | **Details** |\n",
       "| -- | -------- | ----------- |\n",
       "| timepoint | float |  |\n",
       "| **Returns** | **ndarray** | **state of the system** |"
      ],
      "text/plain": [
       "---\n",
       "\n",
       "[source](https://github.com/Arcascope/circadian/blob/main/circadian/models.py#L62){target=\"_blank\" style=\"float:right; font-size:smaller\"}\n",
       "\n",
       "### DynamicalTrajectory.__call__\n",
       "\n",
       ">      DynamicalTrajectory.__call__ (timepoint:float)\n",
       "\n",
       "Return the state at time t, linearly interpolated\n",
       "\n",
       "|    | **Type** | **Details** |\n",
       "| -- | -------- | ----------- |\n",
       "| timepoint | float |  |\n",
       "| **Returns** | **ndarray** | **state of the system** |"
      ]
     },
     "execution_count": null,
     "metadata": {},
     "output_type": "execute_result"
    }
   ],
   "source": [
    "show_doc(DynamicalTrajectory.__call__)"
   ]
  },
  {
   "cell_type": "code",
   "execution_count": null,
   "metadata": {},
   "outputs": [
    {
     "data": {
      "text/markdown": [
       "---\n",
       "\n",
       "[source](https://github.com/Arcascope/circadian/blob/main/circadian/models.py#L101){target=\"_blank\" style=\"float:right; font-size:smaller\"}\n",
       "\n",
       "### DynamicalTrajectory.get_batch\n",
       "\n",
       ">      DynamicalTrajectory.get_batch (batch_idx:int)\n",
       "\n",
       "Obtain the trajectory for a single batch"
      ],
      "text/plain": [
       "---\n",
       "\n",
       "[source](https://github.com/Arcascope/circadian/blob/main/circadian/models.py#L101){target=\"_blank\" style=\"float:right; font-size:smaller\"}\n",
       "\n",
       "### DynamicalTrajectory.get_batch\n",
       "\n",
       ">      DynamicalTrajectory.get_batch (batch_idx:int)\n",
       "\n",
       "Obtain the trajectory for a single batch"
      ]
     },
     "execution_count": null,
     "metadata": {},
     "output_type": "execute_result"
    }
   ],
   "source": [
    "show_doc(DynamicalTrajectory.get_batch)"
   ]
  },
  {
   "cell_type": "code",
   "execution_count": null,
   "metadata": {},
   "outputs": [
    {
     "data": {
      "text/markdown": [
       "---\n",
       "\n",
       "[source](https://github.com/Arcascope/circadian/blob/main/circadian/models.py#L198){target=\"_blank\" style=\"float:right; font-size:smaller\"}\n",
       "\n",
       "### CircadianModel\n",
       "\n",
       ">      CircadianModel (default_params:dict, num_states:int, num_inputs:int,\n",
       ">                      default_initial_condition:numpy.ndarray)\n",
       "\n",
       "Abstract base class for circadian models that defines the common interface for all implementations\n",
       "\n",
       "|    | **Type** | **Details** |\n",
       "| -- | -------- | ----------- |\n",
       "| default_params | dict | default parameters for the model |\n",
       "| num_states | int | number of independent variables in the model |\n",
       "| num_inputs | int | number of inputs to the model such as light or wake state |\n",
       "| default_initial_condition | ndarray | default initial conditions for the model |\n",
       "| **Returns** | **None** |  |"
      ],
      "text/plain": [
       "---\n",
       "\n",
       "[source](https://github.com/Arcascope/circadian/blob/main/circadian/models.py#L198){target=\"_blank\" style=\"float:right; font-size:smaller\"}\n",
       "\n",
       "### CircadianModel\n",
       "\n",
       ">      CircadianModel (default_params:dict, num_states:int, num_inputs:int,\n",
       ">                      default_initial_condition:numpy.ndarray)\n",
       "\n",
       "Abstract base class for circadian models that defines the common interface for all implementations\n",
       "\n",
       "|    | **Type** | **Details** |\n",
       "| -- | -------- | ----------- |\n",
       "| default_params | dict | default parameters for the model |\n",
       "| num_states | int | number of independent variables in the model |\n",
       "| num_inputs | int | number of inputs to the model such as light or wake state |\n",
       "| default_initial_condition | ndarray | default initial conditions for the model |\n",
       "| **Returns** | **None** |  |"
      ]
     },
     "execution_count": null,
     "metadata": {},
     "output_type": "execute_result"
    }
   ],
   "source": [
    "show_doc(CircadianModel)"
   ]
  },
  {
   "cell_type": "code",
   "execution_count": null,
   "metadata": {},
   "outputs": [
    {
     "data": {
      "text/markdown": [
       "---\n",
       "\n",
       "[source](https://github.com/Arcascope/circadian/blob/main/circadian/models.py#L291){target=\"_blank\" style=\"float:right; font-size:smaller\"}\n",
       "\n",
       "### CircadianModel.step_rk4\n",
       "\n",
       ">      CircadianModel.step_rk4 (state:numpy.ndarray, input:numpy.ndarray,\n",
       ">                               dt:float)\n",
       "\n",
       "Integrate the state of the model for one timestep using a fourth-order Runge-Kutta algorithm. Assumes a constant light value for the time step\n",
       "\n",
       "|    | **Type** | **Details** |\n",
       "| -- | -------- | ----------- |\n",
       "| state | ndarray | dynamical state of the model |\n",
       "| input | ndarray | inputs to the model such as light or wake state |\n",
       "| dt | float | step size in hours |\n",
       "| **Returns** | **ndarray** |  |"
      ],
      "text/plain": [
       "---\n",
       "\n",
       "[source](https://github.com/Arcascope/circadian/blob/main/circadian/models.py#L291){target=\"_blank\" style=\"float:right; font-size:smaller\"}\n",
       "\n",
       "### CircadianModel.step_rk4\n",
       "\n",
       ">      CircadianModel.step_rk4 (state:numpy.ndarray, input:numpy.ndarray,\n",
       ">                               dt:float)\n",
       "\n",
       "Integrate the state of the model for one timestep using a fourth-order Runge-Kutta algorithm. Assumes a constant light value for the time step\n",
       "\n",
       "|    | **Type** | **Details** |\n",
       "| -- | -------- | ----------- |\n",
       "| state | ndarray | dynamical state of the model |\n",
       "| input | ndarray | inputs to the model such as light or wake state |\n",
       "| dt | float | step size in hours |\n",
       "| **Returns** | **ndarray** |  |"
      ]
     },
     "execution_count": null,
     "metadata": {},
     "output_type": "execute_result"
    }
   ],
   "source": [
    "show_doc(CircadianModel.step_rk4)"
   ]
  },
  {
   "cell_type": "code",
   "execution_count": null,
   "metadata": {},
   "outputs": [
    {
     "data": {
      "text/markdown": [
       "---\n",
       "\n",
       "[source](https://github.com/Arcascope/circadian/blob/main/circadian/models.py#L306){target=\"_blank\" style=\"float:right; font-size:smaller\"}\n",
       "\n",
       "### CircadianModel.integrate\n",
       "\n",
       ">      CircadianModel.integrate (time:numpy.ndarray,\n",
       ">                                initial_condition:numpy.ndarray=None,\n",
       ">                                input:numpy.ndarray=None)\n",
       "\n",
       "Solve the model for specific timepoints given initial conditions and model inputs\n",
       "\n",
       "|    | **Type** | **Default** | **Details** |\n",
       "| -- | -------- | ----------- | ----------- |\n",
       "| time | ndarray |  | time points for integration. Time difference between consecutive values determines step size of the solver |\n",
       "| initial_condition | ndarray | None | initial state of the model |\n",
       "| input | ndarray | None | model input (such as light or wake) for each time point |\n",
       "| **Returns** | **DynamicalTrajectory** |  |  |"
      ],
      "text/plain": [
       "---\n",
       "\n",
       "[source](https://github.com/Arcascope/circadian/blob/main/circadian/models.py#L306){target=\"_blank\" style=\"float:right; font-size:smaller\"}\n",
       "\n",
       "### CircadianModel.integrate\n",
       "\n",
       ">      CircadianModel.integrate (time:numpy.ndarray,\n",
       ">                                initial_condition:numpy.ndarray=None,\n",
       ">                                input:numpy.ndarray=None)\n",
       "\n",
       "Solve the model for specific timepoints given initial conditions and model inputs\n",
       "\n",
       "|    | **Type** | **Default** | **Details** |\n",
       "| -- | -------- | ----------- | ----------- |\n",
       "| time | ndarray |  | time points for integration. Time difference between consecutive values determines step size of the solver |\n",
       "| initial_condition | ndarray | None | initial state of the model |\n",
       "| input | ndarray | None | model input (such as light or wake) for each time point |\n",
       "| **Returns** | **DynamicalTrajectory** |  |  |"
      ]
     },
     "execution_count": null,
     "metadata": {},
     "output_type": "execute_result"
    }
   ],
   "source": [
    "show_doc(CircadianModel.integrate)"
   ]
  },
  {
   "cell_type": "code",
   "execution_count": null,
   "metadata": {},
   "outputs": [
    {
     "data": {
      "text/markdown": [
       "---\n",
       "\n",
       "[source](https://github.com/Arcascope/circadian/blob/main/circadian/models.py#L341){target=\"_blank\" style=\"float:right; font-size:smaller\"}\n",
       "\n",
       "### CircadianModel.__call__\n",
       "\n",
       ">      CircadianModel.__call__ (time:numpy.ndarray,\n",
       ">                               initial_condition:numpy.ndarray=None,\n",
       ">                               input:numpy.ndarray=None)\n",
       "\n",
       "Wrapper to integrate\n",
       "\n",
       "|    | **Type** | **Default** | **Details** |\n",
       "| -- | -------- | ----------- | ----------- |\n",
       "| time | ndarray |  | time points for integration. Time difference between each consecutive pair of values determines step size of the solver |\n",
       "| initial_condition | ndarray | None | initial state of the model |\n",
       "| input | ndarray | None | model input (such as light or wake) for each time point |"
      ],
      "text/plain": [
       "---\n",
       "\n",
       "[source](https://github.com/Arcascope/circadian/blob/main/circadian/models.py#L341){target=\"_blank\" style=\"float:right; font-size:smaller\"}\n",
       "\n",
       "### CircadianModel.__call__\n",
       "\n",
       ">      CircadianModel.__call__ (time:numpy.ndarray,\n",
       ">                               initial_condition:numpy.ndarray=None,\n",
       ">                               input:numpy.ndarray=None)\n",
       "\n",
       "Wrapper to integrate\n",
       "\n",
       "|    | **Type** | **Default** | **Details** |\n",
       "| -- | -------- | ----------- | ----------- |\n",
       "| time | ndarray |  | time points for integration. Time difference between each consecutive pair of values determines step size of the solver |\n",
       "| initial_condition | ndarray | None | initial state of the model |\n",
       "| input | ndarray | None | model input (such as light or wake) for each time point |"
      ]
     },
     "execution_count": null,
     "metadata": {},
     "output_type": "execute_result"
    }
   ],
   "source": [
    "show_doc(CircadianModel.__call__)"
   ]
  },
  {
   "cell_type": "code",
   "execution_count": null,
   "metadata": {},
   "outputs": [
    {
     "data": {
      "text/markdown": [
       "---\n",
       "\n",
       "[source](https://github.com/Arcascope/circadian/blob/main/circadian/models.py#L351){target=\"_blank\" style=\"float:right; font-size:smaller\"}\n",
       "\n",
       "### CircadianModel.get_parameters_array\n",
       "\n",
       ">      CircadianModel.get_parameters_array ()\n",
       "\n",
       "Returns the parameters for the model as a numpy array"
      ],
      "text/plain": [
       "---\n",
       "\n",
       "[source](https://github.com/Arcascope/circadian/blob/main/circadian/models.py#L351){target=\"_blank\" style=\"float:right; font-size:smaller\"}\n",
       "\n",
       "### CircadianModel.get_parameters_array\n",
       "\n",
       ">      CircadianModel.get_parameters_array ()\n",
       "\n",
       "Returns the parameters for the model as a numpy array"
      ]
     },
     "execution_count": null,
     "metadata": {},
     "output_type": "execute_result"
    }
   ],
   "source": [
    "show_doc(CircadianModel.get_parameters_array)"
   ]
  },
  {
   "cell_type": "code",
   "execution_count": null,
   "metadata": {},
   "outputs": [
    {
     "data": {
      "text/markdown": [
       "---\n",
       "\n",
       "[source](https://github.com/Arcascope/circadian/blob/main/circadian/models.py#L388){target=\"_blank\" style=\"float:right; font-size:smaller\"}\n",
       "\n",
       "### CircadianModel.equilibrate\n",
       "\n",
       ">      CircadianModel.equilibrate (time:numpy.ndarray, input:numpy.ndarray,\n",
       ">                                  num_loops:int=10)\n",
       "\n",
       "Equilibrate the model by looping the given light_estimate. Assumes the schedule repeats periodically after it ends\n",
       "\n",
       "|    | **Type** | **Default** | **Details** |\n",
       "| -- | -------- | ----------- | ----------- |\n",
       "| time | ndarray |  | time points for integration. Time difference between each consecutive pair of values determines step size of the solver |\n",
       "| input | ndarray |  | model input (such as light or wake) for each time point |\n",
       "| num_loops | int | 10 | number of times to loop the input |\n",
       "| **Returns** | **ndarray** |  | **final state of the model** |"
      ],
      "text/plain": [
       "---\n",
       "\n",
       "[source](https://github.com/Arcascope/circadian/blob/main/circadian/models.py#L388){target=\"_blank\" style=\"float:right; font-size:smaller\"}\n",
       "\n",
       "### CircadianModel.equilibrate\n",
       "\n",
       ">      CircadianModel.equilibrate (time:numpy.ndarray, input:numpy.ndarray,\n",
       ">                                  num_loops:int=10)\n",
       "\n",
       "Equilibrate the model by looping the given light_estimate. Assumes the schedule repeats periodically after it ends\n",
       "\n",
       "|    | **Type** | **Default** | **Details** |\n",
       "| -- | -------- | ----------- | ----------- |\n",
       "| time | ndarray |  | time points for integration. Time difference between each consecutive pair of values determines step size of the solver |\n",
       "| input | ndarray |  | model input (such as light or wake) for each time point |\n",
       "| num_loops | int | 10 | number of times to loop the input |\n",
       "| **Returns** | **ndarray** |  | **final state of the model** |"
      ]
     },
     "execution_count": null,
     "metadata": {},
     "output_type": "execute_result"
    }
   ],
   "source": [
    "show_doc(CircadianModel.equilibrate)"
   ]
  },
  {
   "cell_type": "code",
   "execution_count": null,
   "metadata": {},
   "outputs": [
    {
     "data": {
      "text/markdown": [
       "---\n",
       "\n",
       "[source](https://github.com/Arcascope/circadian/blob/main/circadian/models.py#L372){target=\"_blank\" style=\"float:right; font-size:smaller\"}\n",
       "\n",
       "### CircadianModel.amplitude\n",
       "\n",
       ">      CircadianModel.amplitude (time:float)\n",
       "\n",
       "Calculates the amplitude of the model at a given timepoint\n",
       "\n",
       "|    | **Type** | **Details** |\n",
       "| -- | -------- | ----------- |\n",
       "| time | float | timepoint to calculate the amplitude at |\n",
       "| **Returns** | **float** |  |"
      ],
      "text/plain": [
       "---\n",
       "\n",
       "[source](https://github.com/Arcascope/circadian/blob/main/circadian/models.py#L372){target=\"_blank\" style=\"float:right; font-size:smaller\"}\n",
       "\n",
       "### CircadianModel.amplitude\n",
       "\n",
       ">      CircadianModel.amplitude (time:float)\n",
       "\n",
       "Calculates the amplitude of the model at a given timepoint\n",
       "\n",
       "|    | **Type** | **Details** |\n",
       "| -- | -------- | ----------- |\n",
       "| time | float | timepoint to calculate the amplitude at |\n",
       "| **Returns** | **float** |  |"
      ]
     },
     "execution_count": null,
     "metadata": {},
     "output_type": "execute_result"
    }
   ],
   "source": [
    "show_doc(CircadianModel.amplitude)"
   ]
  },
  {
   "cell_type": "code",
   "execution_count": null,
   "metadata": {},
   "outputs": [
    {
     "data": {
      "text/markdown": [
       "---\n",
       "\n",
       "[source](https://github.com/Arcascope/circadian/blob/main/circadian/models.py#L380){target=\"_blank\" style=\"float:right; font-size:smaller\"}\n",
       "\n",
       "### CircadianModel.phase\n",
       "\n",
       ">      CircadianModel.phase (trajectory:__main__.DynamicalTrajectory,\n",
       ">                            time:float=None)\n",
       "\n",
       "Calculates the phase of the model at a given timepoint\n",
       "\n",
       "|    | **Type** | **Default** | **Details** |\n",
       "| -- | -------- | ----------- | ----------- |\n",
       "| trajectory | DynamicalTrajectory |  |  |\n",
       "| time | float | None | timepoint to calculate the phase at. If None, the phase is calculated for the entire trajectory |\n",
       "| **Returns** | **float** |  |  |"
      ],
      "text/plain": [
       "---\n",
       "\n",
       "[source](https://github.com/Arcascope/circadian/blob/main/circadian/models.py#L380){target=\"_blank\" style=\"float:right; font-size:smaller\"}\n",
       "\n",
       "### CircadianModel.phase\n",
       "\n",
       ">      CircadianModel.phase (trajectory:__main__.DynamicalTrajectory,\n",
       ">                            time:float=None)\n",
       "\n",
       "Calculates the phase of the model at a given timepoint\n",
       "\n",
       "|    | **Type** | **Default** | **Details** |\n",
       "| -- | -------- | ----------- | ----------- |\n",
       "| trajectory | DynamicalTrajectory |  |  |\n",
       "| time | float | None | timepoint to calculate the phase at. If None, the phase is calculated for the entire trajectory |\n",
       "| **Returns** | **float** |  |  |"
      ]
     },
     "execution_count": null,
     "metadata": {},
     "output_type": "execute_result"
    }
   ],
   "source": [
    "show_doc(CircadianModel.phase)"
   ]
  },
  {
   "cell_type": "code",
   "execution_count": null,
   "metadata": {},
   "outputs": [
    {
     "data": {
      "text/markdown": [
       "---\n",
       "\n",
       "[source](https://github.com/Arcascope/circadian/blob/main/circadian/models.py#L366){target=\"_blank\" style=\"float:right; font-size:smaller\"}\n",
       "\n",
       "### CircadianModel.cbt\n",
       "\n",
       ">      CircadianModel.cbt ()\n",
       "\n",
       "Finds the core body temperature minumum markers along a trajectory"
      ],
      "text/plain": [
       "---\n",
       "\n",
       "[source](https://github.com/Arcascope/circadian/blob/main/circadian/models.py#L366){target=\"_blank\" style=\"float:right; font-size:smaller\"}\n",
       "\n",
       "### CircadianModel.cbt\n",
       "\n",
       ">      CircadianModel.cbt ()\n",
       "\n",
       "Finds the core body temperature minumum markers along a trajectory"
      ]
     },
     "execution_count": null,
     "metadata": {},
     "output_type": "execute_result"
    }
   ],
   "source": [
    "show_doc(CircadianModel.cbt)"
   ]
  },
  {
   "cell_type": "code",
   "execution_count": null,
   "metadata": {},
   "outputs": [
    {
     "data": {
      "text/markdown": [
       "---\n",
       "\n",
       "[source](https://github.com/Arcascope/circadian/blob/main/circadian/models.py#L360){target=\"_blank\" style=\"float:right; font-size:smaller\"}\n",
       "\n",
       "### CircadianModel.dlmos\n",
       "\n",
       ">      CircadianModel.dlmos ()\n",
       "\n",
       "Finds the Dim Light Melatonin Onset (DLMO) markers along a trajectory"
      ],
      "text/plain": [
       "---\n",
       "\n",
       "[source](https://github.com/Arcascope/circadian/blob/main/circadian/models.py#L360){target=\"_blank\" style=\"float:right; font-size:smaller\"}\n",
       "\n",
       "### CircadianModel.dlmos\n",
       "\n",
       ">      CircadianModel.dlmos ()\n",
       "\n",
       "Finds the Dim Light Melatonin Onset (DLMO) markers along a trajectory"
      ]
     },
     "execution_count": null,
     "metadata": {},
     "output_type": "execute_result"
    }
   ],
   "source": [
    "show_doc(CircadianModel.dlmos)"
   ]
  },
  {
   "cell_type": "code",
   "execution_count": null,
   "metadata": {},
   "outputs": [
    {
     "data": {
      "text/markdown": [
       "---\n",
       "\n",
       "[source](https://github.com/Arcascope/circadian/blob/main/circadian/models.py#LNone){target=\"_blank\" style=\"float:right; font-size:smaller\"}\n",
       "\n",
       "### Forger99\n",
       "\n",
       ">      Forger99 (params=None)\n",
       "\n",
       "Implementation of Forger's 1999 model from the article 'A simpler model of the human circadian pacemaker'"
      ],
      "text/plain": [
       "---\n",
       "\n",
       "[source](https://github.com/Arcascope/circadian/blob/main/circadian/models.py#LNone){target=\"_blank\" style=\"float:right; font-size:smaller\"}\n",
       "\n",
       "### Forger99\n",
       "\n",
       ">      Forger99 (params=None)\n",
       "\n",
       "Implementation of Forger's 1999 model from the article 'A simpler model of the human circadian pacemaker'"
      ]
     },
     "execution_count": null,
     "metadata": {},
     "output_type": "execute_result"
    }
   ],
   "source": [
    "show_doc(Forger99)"
   ]
  },
  {
   "cell_type": "code",
   "execution_count": null,
   "metadata": {},
   "outputs": [
    {
     "data": {
      "text/markdown": [
       "---\n",
       "\n",
       "[source](https://github.com/Arcascope/circadian/blob/main/circadian/models.py#LNone){target=\"_blank\" style=\"float:right; font-size:smaller\"}\n",
       "\n",
       "### Jewett99\n",
       "\n",
       ">      Jewett99 (params=None)\n",
       "\n",
       "Implementation of Jewett's 1999 model from the article 'Revised Limit Cycle Oscillator Model of Human Circadian Pacemaker'"
      ],
      "text/plain": [
       "---\n",
       "\n",
       "[source](https://github.com/Arcascope/circadian/blob/main/circadian/models.py#LNone){target=\"_blank\" style=\"float:right; font-size:smaller\"}\n",
       "\n",
       "### Jewett99\n",
       "\n",
       ">      Jewett99 (params=None)\n",
       "\n",
       "Implementation of Jewett's 1999 model from the article 'Revised Limit Cycle Oscillator Model of Human Circadian Pacemaker'"
      ]
     },
     "execution_count": null,
     "metadata": {},
     "output_type": "execute_result"
    }
   ],
   "source": [
    "show_doc(Jewett99)"
   ]
  },
  {
   "cell_type": "code",
   "execution_count": null,
   "metadata": {},
   "outputs": [
    {
     "data": {
      "text/markdown": [
       "---\n",
       "\n",
       "[source](https://github.com/Arcascope/circadian/blob/main/circadian/models.py#LNone){target=\"_blank\" style=\"float:right; font-size:smaller\"}\n",
       "\n",
       "### Hannay19\n",
       "\n",
       ">      Hannay19 (params=None)\n",
       "\n",
       "Implementation of Hannay's 2019 single population model from the article 'Macroscopic models for human circadian rhythms'"
      ],
      "text/plain": [
       "---\n",
       "\n",
       "[source](https://github.com/Arcascope/circadian/blob/main/circadian/models.py#LNone){target=\"_blank\" style=\"float:right; font-size:smaller\"}\n",
       "\n",
       "### Hannay19\n",
       "\n",
       ">      Hannay19 (params=None)\n",
       "\n",
       "Implementation of Hannay's 2019 single population model from the article 'Macroscopic models for human circadian rhythms'"
      ]
     },
     "execution_count": null,
     "metadata": {},
     "output_type": "execute_result"
    }
   ],
   "source": [
    "show_doc(Hannay19)"
   ]
  },
  {
   "cell_type": "code",
   "execution_count": null,
   "metadata": {},
   "outputs": [
    {
     "data": {
      "text/markdown": [
       "---\n",
       "\n",
       "[source](https://github.com/Arcascope/circadian/blob/main/circadian/models.py#LNone){target=\"_blank\" style=\"float:right; font-size:smaller\"}\n",
       "\n",
       "### Hannay19TP\n",
       "\n",
       ">      Hannay19TP (params=None)\n",
       "\n",
       "Implementation of Hannay's 2019 two population model from the article 'Macroscopic models for human circadian rhythms'"
      ],
      "text/plain": [
       "---\n",
       "\n",
       "[source](https://github.com/Arcascope/circadian/blob/main/circadian/models.py#LNone){target=\"_blank\" style=\"float:right; font-size:smaller\"}\n",
       "\n",
       "### Hannay19TP\n",
       "\n",
       ">      Hannay19TP (params=None)\n",
       "\n",
       "Implementation of Hannay's 2019 two population model from the article 'Macroscopic models for human circadian rhythms'"
      ]
     },
     "execution_count": null,
     "metadata": {},
     "output_type": "execute_result"
    }
   ],
   "source": [
    "show_doc(Hannay19TP)"
   ]
  },
  {
   "cell_type": "code",
   "execution_count": null,
   "metadata": {},
   "outputs": [],
   "source": [
    "#| hide\n",
    "import nbdev; nbdev.nbdev_export()"
   ]
  }
 ],
 "metadata": {
  "kernelspec": {
   "display_name": "python3",
   "language": "python",
   "name": "python3"
  }
 },
 "nbformat": 4,
 "nbformat_minor": 4
}
