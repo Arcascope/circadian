{
 "cells": [
  {
   "attachments": {},
   "cell_type": "markdown",
   "metadata": {},
   "source": [
    "# Readers"
   ]
  },
  {
   "cell_type": "code",
   "execution_count": null,
   "metadata": {
    "vscode": {
     "languageId": "python"
    }
   },
   "outputs": [],
   "source": [
    "#| default_exp readers"
   ]
  },
  {
   "cell_type": "code",
   "execution_count": null,
   "metadata": {
    "vscode": {
     "languageId": "python"
    }
   },
   "outputs": [
    {
     "name": "stdout",
     "output_type": "stream",
     "text": [
      "The autoreload extension is already loaded. To reload it, use:\n",
      "  %reload_ext autoreload\n"
     ]
    }
   ],
   "source": [
    "#| hide \n",
    "%load_ext autoreload\n",
    "%autoreload 2"
   ]
  },
  {
   "cell_type": "code",
   "execution_count": null,
   "metadata": {
    "vscode": {
     "languageId": "python"
    }
   },
   "outputs": [],
   "source": [
    "#| hide\n",
    "from nbdev.showdoc import *\n",
    "from fastcore.test import *"
   ]
  },
  {
   "cell_type": "code",
   "execution_count": null,
   "metadata": {
    "vscode": {
     "languageId": "python"
    }
   },
   "outputs": [],
   "source": [
    "#| export \n",
    "\n",
    "from copy import deepcopy\n",
    "import datetime\n",
    "from datetime import datetime\n",
    "import numpy as np\n",
    "import pandas as pd\n",
    "import pylab as plt\n",
    "from dataclasses import dataclass\n",
    "from scipy.stats import linregress\n",
    "\n",
    "import json\n",
    "import gzip\n",
    "from typing import List, Tuple, Dict, Union, Optional, Any, Callable, Iterable\n",
    "import os\n",
    "from circadian.utils import *\n",
    "import random\n",
    "import difflib\n",
    "import glob \n",
    "import os\n",
    "from scipy.ndimage import gaussian_filter1d\n",
    "from os import read\n",
    "pd.options.mode.chained_assignment = None\n",
    "\n",
    "import glob\n",
    "import os\n",
    "import random\n",
    "import difflib\n",
    "from scipy.ndimage import gaussian_filter1d\n",
    "\n",
    "from  jsonschema import validate\n",
    "from fastcore.basics import *\n",
    "from circadian.plots import Actogram\n",
    "import circadian\n",
    "from pathlib import Path\n"
   ]
  },
  {
   "cell_type": "code",
   "execution_count": null,
   "metadata": {
    "vscode": {
     "languageId": "python"
    }
   },
   "outputs": [],
   "source": [
    "#| export \n",
    "\n",
    "# path to the data folder\n",
    "EXAMPLE_DATA = circadian.__path__[0]"
   ]
  },
  {
   "cell_type": "code",
   "execution_count": null,
   "metadata": {
    "vscode": {
     "languageId": "python"
    }
   },
   "outputs": [],
   "source": [
    "#| exports\n",
    "\n",
    "wearable_schema = {\n",
    "    type: \"object\",\n",
    "    \"properties\": {\n",
    "            \"steps\": {\n",
    "                \"type\": \"array\",\n",
    "                \"items\": { \"type\": \"object\", \"properties\": { \n",
    "                    \"start\": { \"type\": \"number\" },\n",
    "                    \"end\": { \"type\": \"number\" },\n",
    "                    \"steps\": { \"type\": \"number\" } } },\n",
    "                \"minItems\": 1\n",
    "            },\n",
    "            \"wake\": {\n",
    "                \"type\": \"array\",\n",
    "                \"items\": { \"type\": \"object\", \"properties\": { \n",
    "                    \"start\": { \"type\": \"number\" },\n",
    "                    \"end\": { \"type\": \"number\" },\n",
    "                    \"wake\": { \"type\": \"number\" } } }\n",
    "            },\n",
    "            \"heartrate\": {\n",
    "                \"type\": \"array\",\n",
    "                \"items\": { \"type\": \"object\", \"properties\": { \n",
    "                    \"timestamp\": { \"type\": \"number\" },\n",
    "                    \"heartrate\": { \"type\": \"number\" },\n",
    "            } } },\n",
    "    },\n",
    "    \"required\": [\"steps\", \"wake\", \"heartrate\"]\n",
    "}\n",
    "    "
   ]
  },
  {
   "cell_type": "code",
   "execution_count": null,
   "metadata": {
    "vscode": {
     "languageId": "python"
    }
   },
   "outputs": [],
   "source": [
    "test_wearable_data = {\n",
    "    \"steps\": [ { \"start\": 0, \"end\": 1, \"steps\": 10 } ], \n",
    "    \"heartrate\": [ { \"timestamp\": 0, \"heartrate\": 10 } ],\n",
    "    \"wake\": [ { \"start\": 0, \"end\": 1, \"wake\": 1.0} ]\n",
    "}\n",
    "\n",
    "validate(instance=test_wearable_data, schema=wearable_schema)\n"
   ]
  },
  {
   "attachments": {},
   "cell_type": "markdown",
   "metadata": {},
   "source": [
    "Define the WearableData class "
   ]
  },
  {
   "cell_type": "code",
   "execution_count": null,
   "metadata": {
    "vscode": {
     "languageId": "python"
    }
   },
   "outputs": [],
   "source": [
    "#| export\n",
    "\n",
    "\n",
    "@dataclass\n",
    "class WearableData:\n",
    "    \n",
    "    _dataframe: pd.DataFrame # the dataframe that holds the data must have datetime columns plus any other wearable streams from steps, heartrate, wake, light_estimate, activity\n",
    "    phase_measure: np.ndarray = None\n",
    "    phase_measure_times: np.ndarray = None\n",
    "    subject_id: str = \"unknown-subject\"\n",
    "    data_id: str = \"unknown-data-id\"\n",
    "    meta_data: Dict[str, Any] = None\n",
    "    \n",
    "    @property\n",
    "    def datetime(self) -> np.ndarray:\n",
    "        return self._dataframe[\"datetime\"].values\n",
    "    \n",
    "    @property\n",
    "    def timestamp(self) -> np.ndarray:\n",
    "        return self._dataframe[\"timestamp\"].values\n",
    "    \n",
    "    @property\n",
    "    def time_total(self) -> np.ndarray:\n",
    "        return self._dataframe[\"time_total\"].values\n",
    "    \n",
    "    @property\n",
    "    def light_estimate(self) -> np.ndarray:\n",
    "        if 'light_estimate' in self._dataframe.columns:\n",
    "            return self._dataframe[\"light_estimate\"].values\n",
    "        if 'steps' in self._dataframe.columns:\n",
    "            return self._dataframe[\"steps\"].values\n",
    "        if 'activity' in self._dataframe.columns:\n",
    "            return self._dataframe[\"activity\"].values\n",
    "        return np.ones_like(self.time_total)*np.nan\n",
    "    \n",
    "    @property\n",
    "    def steps(self) -> np.ndarray:\n",
    "        if 'steps' in self._dataframe.columns:\n",
    "            return self._dataframe[\"steps\"].values\n",
    "        else:\n",
    "            return np.ones_like(self.time_total)*np.nan\n",
    "    \n",
    "    @property\n",
    "    def activity(self) -> np.ndarray:\n",
    "        if 'activity' in self._dataframe.columns:\n",
    "            return self._dataframe[\"activity\"].values\n",
    "        else:\n",
    "            return np.ones_like(self.time_total)*np.nan\n",
    "    \n",
    "    @property\n",
    "    def heartrate(self) -> np.ndarray:\n",
    "        if 'heartrate' in self._dataframe.columns:\n",
    "            return self._dataframe[\"heartrate\"].values\n",
    "        else:\n",
    "            return np.ones_like(self.time_total)*np.nan # generate a nan array\n",
    "    \n",
    "    @property\n",
    "    def wake(self) -> np.ndarray:\n",
    "        if 'wake' in self._dataframe.columns:\n",
    "            return self._dataframe[\"wake\"].values\n",
    "        else:\n",
    "            return np.ones_like(self.time_total)*np.nan # generate a nan array\n",
    "        \n",
    "    @property\n",
    "    def time_hour_bounds(self) -> Tuple[float, float]:\n",
    "        return (self.time_total[0], self.time_total[-1])\n",
    "    \n",
    "    @property\n",
    "    def date_bounds(self):\n",
    "        start_date = pd.to_datetime(self.datetime[0], unit='s')\n",
    "        end_date = pd.to_datetime(self.datetime[-1], unit='s')\n",
    "        return (start_date, end_date)\n",
    "    \n",
    "    @staticmethod\n",
    "    def utc_to_hrs(d: datetime):\n",
    "        return d.hour+d.minute/60.0+d.second/3600.0\n",
    "\n",
    "    def __post_init__(self):\n",
    "        # Check that we have the required columns\n",
    "        assert \"datetime\" in self._dataframe.columns\n",
    "        assert \"time_total\" in self._dataframe.columns\n",
    "        \n",
    "    def _copy_with_metadata(self, df: pd.DataFrame) -> \"WearableData\":\n",
    "        return WearableData(df, \n",
    "                            self.phase_measure, \n",
    "                            self.phase_measure_times, \n",
    "                            self.subject_id, \n",
    "                            self.data_id, \n",
    "                            meta_data=self.meta_data)\n",
    "\n",
    "    def build_sleep_chunks(self, chunk_jump_hrs: float = 12.0) -> List[np.ndarray]:\n",
    "        time_total = self.time_total\n",
    "        steps = self.steps\n",
    "        heartrate = self.heartrate\n",
    "        wake = self.wake\n",
    "        data = np.stack((steps, heartrate, wake), axis=0)\n",
    "        j_idx = np.where(np.diff(time_total) > chunk_jump_hrs)[0]\n",
    "        return np.split(data, j_idx, axis=1)\n",
    "\n",
    "    def get_date(self, time_hr: float):\n",
    "        idx = np.argmin(np.abs(np.array(self.time_total) - time_hr))\n",
    "        return pd.to_datetime(self.datetime[idx], unit='s')\n",
    "\n",
    "    def get_timestamp(self, time_hr: float):\n",
    "        idx = np.argmin(np.abs(np.array(np.hstack(self.time_total)) - time_hr))\n",
    "        return np.hstack(self.datetime)[idx]\n",
    "\n",
    "    def trim_by_idx(self, \n",
    "                    idx1: int, # First index to keep\n",
    "                    idx2: int = None # second idx should be greater than idx1, defaults to the last value\n",
    "                    ) -> 'WearableData':\n",
    "        df = self._dataframe.loc[idx1:idx2, :]\n",
    "        return self._copy_with_metadata(df)\n",
    "\n",
    "    def trim_by_hour(self, \n",
    "                     hour_start: float, # First hour to keep\n",
    "                     hour_end: float, # second hour should be greater than hour_start\n",
    "                     inplace: bool = False, # if true, the dataframe is modified in place, otherwise a copy is returned\n",
    "                     ) -> 'WearableData':\n",
    "        # Trim the __dateframe to be within the interval [t1,t2]\n",
    "        df = self._dataframe.loc[(self._dataframe.time_total > hour_start) & (self._dataframe.time_total < hour_end)]\n",
    "        if inplace:\n",
    "            self._dataframe = df\n",
    "            return \n",
    "        return self._copy_with_metadata(df)\n",
    "    \n",
    "    def trim_by_timestamp(self, timestamp_start: float, timestamp_end: float) -> 'WearableData':\n",
    "        # Trim the __dateframe to be within the interval [t1,t2]\n",
    "        df = self._dataframe.loc[(self._dataframe.datetime > timestamp_start) & (self._dataframe.datetime < timestamp_end)]\n",
    "        return self._copy_with_metadata(df)\n",
    "    \n",
    "    def __getitem__(self, key: str) -> pd.Series:\n",
    "        return self._dataframe[key]\n",
    "        \n",
    "    def head(self, n: int = 5) -> pd.DataFrame:\n",
    "        return self._dataframe.head(n)\n",
    "    \n",
    "    def tail(self, n: int = 5) -> pd.DataFrame:\n",
    "        return self._dataframe.tail(n) \n",
    "    \n",
    "    def filter(self, filter_fn: Callable[[pd.DataFrame], pd.DataFrame]) -> 'WearableData':\n",
    "        return self._copy_with_metadata(filter_fn(self._dataframe))\n",
    "    \n",
    "    def aggregate(self, agg_fn: Callable[[pd.DataFrame], pd.DataFrame]) -> 'WearableData':\n",
    "        return self._copy_with_metadata(agg_fn(self._dataframe))\n",
    "    \n",
    "    def groupby(self, by: str) -> 'WearableData':\n",
    "        return self._copy_with_metadata(self._dataframe.groupby(by))\n",
    "    \n",
    "    def join(self, other: 'WearableData', how = 'inner') -> 'WearableData':\n",
    "        return self._copy_with_metadata(self._dataframe.join(other._dataframe, on='datetime', how=how))\n",
    "    \n",
    "    def to_json(self, filename: str = None):\n",
    "        df_trimed = self._dataframe.drop(columns=['datetime'])\n",
    "        json_dict = {\n",
    "            'meta_data' : self.meta_data, \n",
    "            'phase_measure' : list(self.phase_measure) if self.phase_measure is not None else [],\n",
    "            'phase_measure_times' : list(self.phase_measure_times) if self.phase_measure_times is not None else [],\n",
    "            'subject_id' : self.subject_id,\n",
    "            'data-id' : self.data_id,\n",
    "            'wearable' : df_trimed.to_dict()\n",
    "        }\n",
    "        if filename is None:\n",
    "            filename = 'wearable_' + self.subject_id + \"_\" + self.data_id + '.json'\n",
    "        with open(filename, 'w', encoding='utf-8') as f:\n",
    "            json.dump(json_dict, f, ensure_ascii=False,\n",
    "                        indent=4, cls = NpEncoder )\n",
    "\n",
    "    @staticmethod\n",
    "    def from_json(filename) -> 'WearableData':\n",
    "        jdict = json.load(open(filename, 'r'))\n",
    "        df = pd.DataFrame.from_dict(jdict['wearable']) \n",
    "        df['datetime'] = pd.to_datetime(df['timestamp'], unit='s')\n",
    "        wdata = WearableData(df)\n",
    "        for s in jdict.keys():\n",
    "            if s != 'wearable':\n",
    "                if isinstance(jdict[s], list):\n",
    "                    setattr(wdata, s, [np.array(jdict[s])])\n",
    "                else:\n",
    "                    setattr(wdata, s, jdict[s])\n",
    "\n",
    "        return wdata\n"
   ]
  },
  {
   "cell_type": "code",
   "execution_count": null,
   "metadata": {
    "vscode": {
     "languageId": "python"
    }
   },
   "outputs": [],
   "source": [
    "#| export\n",
    "\n",
    "@patch \n",
    "def steps_hr_loglinear(self: WearableData\n",
    "                       ) -> Tuple[float, float]:\n",
    "        \"\"\"\n",
    "        Find the log steps to hr linear regression parameters .\n",
    "        hr=beta*log(steps+1.0)+alpha\n",
    "        Returns beta,alpha\n",
    "        \"\"\"\n",
    "        x = np.log(np.hstack(self.steps)+1.0)\n",
    "        y = np.hstack(self.heartrate)\n",
    "        x = x[y > 0]\n",
    "        y = y[y > 0]\n",
    "        slope, intercept, r_value, p_value, std_err = linregress(x, y)\n",
    "        return slope, intercept"
   ]
  },
  {
   "attachments": {},
   "cell_type": "markdown",
   "metadata": {},
   "source": [
    "Make a routine to plot the available heartrate data."
   ]
  },
  {
   "cell_type": "code",
   "execution_count": null,
   "metadata": {
    "vscode": {
     "languageId": "python"
    }
   },
   "outputs": [],
   "source": [
    "#| export\n",
    "\n",
    "@patch\n",
    "def plot_heartrate(self: WearableData, \n",
    "                   t1=None, \n",
    "                   t2=None, \n",
    "                   ax: plt.Axes = None,\n",
    "                   show_plot: bool = True,\n",
    "                   color: str = 'red', \n",
    "                   use_dates: bool = True,\n",
    "                   *args, \n",
    "                   **kwargs\n",
    "                   ) -> plt.Axes:\n",
    "        t1 = t1 if t1 is not None else self.time_total[0]\n",
    "        t2 = t2 if t2 is not None else self.time_total[-1]\n",
    "        wDataTrimmed = self.trim_by_hour(t1, t2)\n",
    "\n",
    "        hr = deepcopy(wDataTrimmed.heartrate)\n",
    "        hr[hr == 0] = np.nan\n",
    "        if ax is None:\n",
    "            fig = plt.figure()\n",
    "            ax = plt.gca()\n",
    "        \n",
    "        if use_dates:\n",
    "            x = pd.to_datetime(wDataTrimmed.datetime, unit='s')\n",
    "        else:\n",
    "            x = wDataTrimmed.time_total / 24.0 \n",
    "        ax.plot(x, hr, color=color, *args, **kwargs)\n",
    "        ax.set_xlabel('Days')\n",
    "        ax.set_ylabel('BPM')\n",
    "        ax.set_title('Heart Rate Data')\n",
    "        \n",
    "        if show_plot:\n",
    "            plt.show()\n",
    "        return ax\n",
    "      "
   ]
  },
  {
   "cell_type": "code",
   "execution_count": null,
   "metadata": {
    "vscode": {
     "languageId": "python"
    }
   },
   "outputs": [],
   "source": [
    "#| export\n",
    "\n",
    "@patch\n",
    "def scatter_hr_steps(self: WearableData, \n",
    "                     take_log: bool = True, # Log transform the data?\n",
    "                     *args, \n",
    "                     **kwargs):\n",
    "    \n",
    "        fig = plt.figure()\n",
    "        ax = plt.gca()\n",
    "\n",
    "        steps = np.hstack(self.steps)\n",
    "        heartrate = np.hstack(self.heartrate)\n",
    "\n",
    "        if take_log:\n",
    "            ax.scatter(np.log10(steps[heartrate > 0]+1.0),\n",
    "                       np.log10(heartrate[heartrate > 0]),\n",
    "                       color='red',\n",
    "                       *args,\n",
    "                       **kwargs)\n",
    "        else:\n",
    "            ax.scatter(steps[heartrate > 0], heartrate[heartrate > 0],\n",
    "                       color='red',\n",
    "                       *args,\n",
    "                       **kwargs)\n",
    "\n",
    "        ax.set_ylabel('BPM')\n",
    "        ax.set_xlabel('Steps')\n",
    "        ax.set_title('Heart Rate Data')\n",
    "        plt.show()"
   ]
  },
  {
   "cell_type": "code",
   "execution_count": null,
   "metadata": {
    "vscode": {
     "languageId": "python"
    }
   },
   "outputs": [],
   "source": [
    "#| export\n",
    "\n",
    "@patch\n",
    "def plot_hr_steps(self: WearableData, \n",
    "                  t1: float = None, \n",
    "                  t2: float = None, \n",
    "                  *args, \n",
    "                  **kwargs):\n",
    "\n",
    "        time_start = t1 if t1 is not None else self.time_total[0]/24.0\n",
    "        time_end = t2 if t2 is not None else self.time_total[-1]/24.0\n",
    "\n",
    "        fig = plt.figure()\n",
    "        gs = fig.add_gridspec(2, hspace=0.0)\n",
    "        ax = gs.subplots(sharex=True)\n",
    "        fig.suptitle(\n",
    "            f\"{self.data_id} Wearable Data: Subject {self.subject_id}\")\n",
    "        hr_all_nan = np.all(np.isnan(self.heartrate))\n",
    "        if not hr_all_nan:\n",
    "            ax[0].plot(self.time_total / 24.0, \n",
    "                       self.heartrate, \n",
    "                       color='red', \n",
    "                       *args, \n",
    "                       **kwargs)\n",
    "            \n",
    "        ax[1].plot(self.time_total / 24.0, \n",
    "                   self.steps,\n",
    "                   color='darkgreen', \n",
    "                   *args, \n",
    "                   **kwargs)\n",
    "\n",
    "        sleep_all_nan = np.all(np.isnan(self.wake))\n",
    "        if not sleep_all_nan:\n",
    "            ax[1].plot(self.time_total / 24.0, np.array(self.wake) *\n",
    "                       max(np.median(self.steps), 50.0), color='k')\n",
    "\n",
    "        if self.phase_measure_times is not None:\n",
    "            [ax[0].axvline(x=_x / 24.0, ls='--', color='blue')\n",
    "             for _x in self.phase_measure_times]\n",
    "            [ax[1].axvline(x=_x / 24.0, ls='--', color='blue')\n",
    "             for _x in self.phase_measure_times]\n",
    "\n",
    "        ax[1].set_xlabel(\"Days\")\n",
    "        ax[0].set_ylabel(\"BPM\")\n",
    "        ax[1].set_ylabel(\"Steps\")\n",
    "        ax[0].grid()\n",
    "        ax[1].grid()\n",
    "        ax[0].set_xlim((time_start, time_end))\n",
    "        ax[1].set_xlim((time_start, time_end+3.0))\n",
    "        ax[0].set_ylim((0, 200))\n",
    "        plt.show()\n"
   ]
  },
  {
   "attachments": {},
   "cell_type": "markdown",
   "metadata": {},
   "source": [
    "# Reading Wearable Data\n",
    "\n",
    "The standard json should take the following format:\n",
    "\n",
    "```{json}\n",
    "        { \n",
    "            \"steps\": [ { \"start\": 1234567890, \"end\": 1234567895, \"steps\": 1234 }, ... ],\n",
    "            \"heartrate\": [ { \"timestamp\": 1234567890, \"heartrate\": 123 }, ... ],\n",
    "            \"wake\": [ { \"start\": 1234567890, \"end\": 1234567895, \"wake\": 1.0 }, ... ],\n",
    "        }\n",
    "```\n",
    "        \n",
    "The JSON can have other keys as well, but to be properly parsed, this format should be used. \n",
    "The steps key is the only required key, the others are optional.\n",
    "\n",
    "The wake key have a value of 1.0 if the user was awake, and 0.0 if the user was asleep. \n",
    "\n",
    "Dates are in unix time, and should be in seconds."
   ]
  },
  {
   "cell_type": "code",
   "execution_count": null,
   "metadata": {
    "vscode": {
     "languageId": "python"
    }
   },
   "outputs": [],
   "source": [
    "# | export\n",
    "\n",
    "def combine_wearable_streams(steps: pd.DataFrame,  # dataframe with columns 'start', 'end', 'steps'\n",
    "                             heartrate: pd.DataFrame,  # dataframe with columns 'timestamp', 'heartrate'\n",
    "                             wake: pd.DataFrame,  # dataframe with columns 'start', 'end', 'wake'\n",
    "                             bin_minutes: int = 6,  # bin size in minutes for the resampled combined data\n",
    "                             subject_id: str = \"unknown-subject\",\n",
    "                             data_id: str = \"Exporter\",\n",
    "                             sleep_trim: bool = False,  # drop any entries without a sleep-wake entry\n",
    "                             # if true, only keep entries that have both heartrate and sleep data\n",
    "                             inner_join: bool = False\n",
    "                             ) -> WearableData:\n",
    "\n",
    "    # Convert unix times to datetime\n",
    "    steps['start'] = pd.to_datetime(steps.start, unit='s')\n",
    "    steps['end'] = pd.to_datetime(steps.end, unit='s')\n",
    "    wake['start'] = pd.to_datetime(wake.start, unit='s')\n",
    "    wake['end'] = pd.to_datetime(wake.end, unit='s')\n",
    "    heartrate['timestamp'] = pd.to_datetime(heartrate.timestamp, unit='s')\n",
    "\n",
    "    # Resample the steps to the desired bin size\n",
    "    s1 = steps.loc[:, ['start', 'steps']]\n",
    "    s2 = steps.loc[:, ['end', 'steps']]\n",
    "    s1.rename(columns={'start': 'timestamp'}, inplace=True)\n",
    "    s2.rename(columns={'end': 'timestamp'}, inplace=True)\n",
    "    steps = pd.concat([s1, s2])\n",
    "    steps.set_index('timestamp', inplace=True)\n",
    "    steps = steps.resample(str(int(bin_minutes)) +\n",
    "                           'Min').agg({'steps': 'sum'})\n",
    "    steps.reset_index(inplace=True)\n",
    "\n",
    "    # Resample the heartrate data to the desired bin size\n",
    "    heartrate.set_index('timestamp', inplace=True)\n",
    "    heartrate = heartrate.resample(\n",
    "        str(int(bin_minutes))+'Min').agg({'heartrate': 'max'})\n",
    "    heartrate.reset_index(inplace=True)\n",
    "\n",
    "    # Merge the steps and heartrate data and fill missing heartrate with zeros\n",
    "    merge_method = 'inner' if inner_join else 'left'\n",
    "    df = pd.merge(steps, heartrate, on='timestamp', how=merge_method)\n",
    "\n",
    "    # Resample the wake data to the desired bin size\n",
    "    s1 = wake.loc[:, ['start', 'wake']]\n",
    "    s2 = wake.loc[:, ['end', 'wake']]\n",
    "    s1.rename(columns={'start': 'timestamp'}, inplace=True)\n",
    "    s2.rename(columns={'end': 'timestamp'}, inplace=True)\n",
    "    wake = pd.concat([s1, s2])\n",
    "    wake.set_index('timestamp', inplace=True)\n",
    "    wake = wake.resample(str(int(bin_minutes)) +\n",
    "                         'Min').agg({'wake': 'max'})\n",
    "    wake.reset_index(inplace=True)\n",
    "\n",
    "    merge_method = 'inner' if inner_join else 'left'\n",
    "    df = pd.merge(df, wake, on='timestamp', how=merge_method)\n",
    "\n",
    "    df['datetime'] = df['timestamp']\n",
    "\n",
    "    # Make the timestamp column actually be a unix timestamp\n",
    "    df['timestamp'] = (\n",
    "        df['datetime'] - pd.Timestamp(\"1970-01-01\")) // pd.Timedelta('1s')\n",
    "\n",
    "    time_start = WearableData.utc_to_hrs(df.datetime.iloc[0])\n",
    "    df['time_total'] = time_start + (df.timestamp-df.timestamp.iloc[0])/3600.0\n",
    "\n",
    "    if sleep_trim:\n",
    "        df.dropna(subset=['wake'], inplace=True)\n",
    "\n",
    "    aw = WearableData(_dataframe=df,\n",
    "                      subject_id=subject_id,\n",
    "                      data_id=data_id\n",
    "                      )\n",
    "\n",
    "    return aw\n",
    "\n",
    "\n",
    "def read_standard_csv(path: str,  # path to the directory containing the csv files\n",
    "                      glob_str: str = \"*.csv\",  # glob to use to find the csv files\n",
    "                      keyword: str = '', #entra filter to apply to the files for example a subject-id \n",
    "                      bin_minutes: int = 6,\n",
    "                      subject_id=\"unknown-subject\",\n",
    "                      data_id=\"Exporter\",\n",
    "                      sleep_trim: bool = False,  # drop any entries without a sleep-wake entry\n",
    "                      # if true, only keep entries that have both heartrate and sleep data\n",
    "                      inner_join: bool = False\n",
    "                      ) -> WearableData:\n",
    "    candidate_files = list(filter(lambda x: keyword in x, glob.glob(path+\"/\"+glob_str)))\n",
    "    steps_filelist = list(filter(lambda x: \"steps\" in x, candidate_files))\n",
    "    heartrate_filelist = list(filter(lambda x: (\"heartrate\" in x) or ('hr' in x), candidate_files))\n",
    "    sleep_filelist = list(filter(lambda x: \"sleep\" in x or 'wake' in x, candidate_files))\n",
    "    if len(steps_filelist) > 0:\n",
    "        print(f\"Reading the steps file {steps_filelist[0]}\")\n",
    "        steps = pd.read_csv(steps_filelist[0], names=[\n",
    "                            'start', 'end', 'steps'])\n",
    "    if len(heartrate_filelist) > 0:\n",
    "        print(f\"Reading the heartrate file {heartrate_filelist[0]}\")\n",
    "        heartrate = pd.read_csv(heartrate_filelist[0], names=[\n",
    "                                'timestamp', 'heartrate'])\n",
    "    else:\n",
    "        heartrate = pd.DataFrame(columns=['timestamp', 'heartrate'])\n",
    "    if len(sleep_filelist) > 0:\n",
    "        print(f\"Reading the sleep file {sleep_filelist[0]}\")\n",
    "        wake = pd.read_csv(sleep_filelist[0], names=['start', 'end', 'wake'])\n",
    "    else:\n",
    "        wake = pd.DataFrame(columns=['start', 'end', 'wake'], dtype=float)\n",
    "\n",
    "    if steps is None:\n",
    "        raise ValueError(\"No steps file found, need to at least have that file\")\n",
    "\n",
    "    return combine_wearable_streams(steps, heartrate, wake, bin_minutes, subject_id, data_id, sleep_trim, inner_join)\n",
    "\n"
   ]
  },
  {
   "cell_type": "code",
   "execution_count": null,
   "metadata": {
    "vscode": {
     "languageId": "python"
    }
   },
   "outputs": [],
   "source": [
    "#| export \n",
    "\n",
    "def read_standard_json(filepath: str,  # path to json file\n",
    "                       bin_minutes: int = 6,  # data will be binned to this resolution in minutes\n",
    "                       subject_id: str = \"unknown-subject\",  # subject id to be used\n",
    "                       data_id: str = \"Exporter\",  # name of the data source\n",
    "                       # set to true if the file is gzipped, will be autodetected if extension is .gz\n",
    "                       gzip_opt: bool = False,\n",
    "                       sleep_trim: bool = False,  # drop any entries without a sleep-wake entry\n",
    "                       # if true, only keep entries that have both heartrate and sleep data\n",
    "                       inner_join: bool = False\n",
    "                       ) -> WearableData:\n",
    "    gzip_opt = gzip_opt if gzip_opt else filepath.endswith(\".gz\")\n",
    "    fileobj = gzip.open(filepath, 'r') if gzip_opt else open(filepath, 'r')\n",
    "    rawJson = json.load(fileobj)\n",
    "    validate(rawJson, wearable_schema)\n",
    "\n",
    "    steps = pd.DataFrame(rawJson['steps'], columns=[\"start\", \"end\", \"steps\"])\n",
    "    # These could be empty\n",
    "    wake = pd.DataFrame(rawJson['wake'], columns=[\"start\", \"end\", \"wake\"])\n",
    "    heartrate = pd.DataFrame(rawJson['heartrate'], columns=[\n",
    "                             \"timestamp\", \"heartrate\"])\n",
    "\n",
    "    return combine_wearable_streams(steps, heartrate, wake, bin_minutes, subject_id, data_id, sleep_trim, inner_join)\n"
   ]
  },
  {
   "cell_type": "code",
   "execution_count": null,
   "metadata": {
    "vscode": {
     "languageId": "python"
    }
   },
   "outputs": [],
   "source": [
    "#| export \n",
    "\n",
    "@patch \n",
    "def fillna(self: WearableData, \n",
    "             column_name: str = \"heartrate\", # column to fill in the dataframe\n",
    "             with_value: float = 0.0, # value to fill with\n",
    "             inplace: bool = False # if true, the WearableData object will be modified in place\n",
    "             ) -> WearableData:\n",
    "    \n",
    "    if inplace:\n",
    "        self._dataframe[column_name].fillna(with_value, inplace=True)\n",
    "    else:\n",
    "        df = self._dataframe.copy()\n",
    "        filled_column = df[column_name].fillna(with_value)\n",
    "        df[column_name] = filled_column \n",
    "        return self._copy_with_metadata(df)"
   ]
  },
  {
   "attachments": {},
   "cell_type": "markdown",
   "metadata": {},
   "source": [
    "### Example of reading wearable data\n",
    "\n"
   ]
  },
  {
   "cell_type": "code",
   "execution_count": null,
   "metadata": {
    "vscode": {
     "languageId": "python"
    }
   },
   "outputs": [],
   "source": [
    "\n",
    "filepath =  EXAMPLE_DATA + '/sample_data/sample_data.json'\n",
    "sample_data = read_standard_json(filepath=filepath, subject_id=\"sample\")\n",
    "\n",
    "\n"
   ]
  },
  {
   "attachments": {},
   "cell_type": "markdown",
   "metadata": {},
   "source": [
    "We can take a quick look at the data using the `.head()` command just like a pandas dataframe"
   ]
  },
  {
   "cell_type": "code",
   "execution_count": null,
   "metadata": {
    "vscode": {
     "languageId": "python"
    }
   },
   "outputs": [
    {
     "data": {
      "text/html": [
       "<div>\n",
       "<style scoped>\n",
       "    .dataframe tbody tr th:only-of-type {\n",
       "        vertical-align: middle;\n",
       "    }\n",
       "\n",
       "    .dataframe tbody tr th {\n",
       "        vertical-align: top;\n",
       "    }\n",
       "\n",
       "    .dataframe thead th {\n",
       "        text-align: right;\n",
       "    }\n",
       "</style>\n",
       "<table border=\"1\" class=\"dataframe\">\n",
       "  <thead>\n",
       "    <tr style=\"text-align: right;\">\n",
       "      <th></th>\n",
       "      <th>timestamp</th>\n",
       "      <th>steps</th>\n",
       "      <th>heartrate</th>\n",
       "      <th>wake</th>\n",
       "      <th>datetime</th>\n",
       "      <th>time_total</th>\n",
       "    </tr>\n",
       "  </thead>\n",
       "  <tbody>\n",
       "    <tr>\n",
       "      <th>0</th>\n",
       "      <td>1601074080</td>\n",
       "      <td>42.0</td>\n",
       "      <td>NaN</td>\n",
       "      <td>NaN</td>\n",
       "      <td>2020-09-25 22:48:00</td>\n",
       "      <td>22.8</td>\n",
       "    </tr>\n",
       "    <tr>\n",
       "      <th>1</th>\n",
       "      <td>1601074440</td>\n",
       "      <td>0.0</td>\n",
       "      <td>NaN</td>\n",
       "      <td>NaN</td>\n",
       "      <td>2020-09-25 22:54:00</td>\n",
       "      <td>22.9</td>\n",
       "    </tr>\n",
       "    <tr>\n",
       "      <th>2</th>\n",
       "      <td>1601074800</td>\n",
       "      <td>0.0</td>\n",
       "      <td>NaN</td>\n",
       "      <td>NaN</td>\n",
       "      <td>2020-09-25 23:00:00</td>\n",
       "      <td>23.0</td>\n",
       "    </tr>\n",
       "    <tr>\n",
       "      <th>3</th>\n",
       "      <td>1601075160</td>\n",
       "      <td>0.0</td>\n",
       "      <td>NaN</td>\n",
       "      <td>NaN</td>\n",
       "      <td>2020-09-25 23:06:00</td>\n",
       "      <td>23.1</td>\n",
       "    </tr>\n",
       "    <tr>\n",
       "      <th>4</th>\n",
       "      <td>1601075520</td>\n",
       "      <td>0.0</td>\n",
       "      <td>NaN</td>\n",
       "      <td>NaN</td>\n",
       "      <td>2020-09-25 23:12:00</td>\n",
       "      <td>23.2</td>\n",
       "    </tr>\n",
       "  </tbody>\n",
       "</table>\n",
       "</div>"
      ],
      "text/plain": [
       "    timestamp  steps  heartrate  wake            datetime  time_total\n",
       "0  1601074080   42.0        NaN   NaN 2020-09-25 22:48:00        22.8\n",
       "1  1601074440    0.0        NaN   NaN 2020-09-25 22:54:00        22.9\n",
       "2  1601074800    0.0        NaN   NaN 2020-09-25 23:00:00        23.0\n",
       "3  1601075160    0.0        NaN   NaN 2020-09-25 23:06:00        23.1\n",
       "4  1601075520    0.0        NaN   NaN 2020-09-25 23:12:00        23.2"
      ]
     },
     "execution_count": null,
     "metadata": {},
     "output_type": "execute_result"
    }
   ],
   "source": [
    "sample_data.head()"
   ]
  },
  {
   "attachments": {},
   "cell_type": "markdown",
   "metadata": {},
   "source": [
    "We can also do filter functions just like a pandas dataframe"
   ]
  },
  {
   "cell_type": "code",
   "execution_count": null,
   "metadata": {
    "vscode": {
     "languageId": "python"
    }
   },
   "outputs": [
    {
     "data": {
      "text/html": [
       "<div>\n",
       "<style scoped>\n",
       "    .dataframe tbody tr th:only-of-type {\n",
       "        vertical-align: middle;\n",
       "    }\n",
       "\n",
       "    .dataframe tbody tr th {\n",
       "        vertical-align: top;\n",
       "    }\n",
       "\n",
       "    .dataframe thead th {\n",
       "        text-align: right;\n",
       "    }\n",
       "</style>\n",
       "<table border=\"1\" class=\"dataframe\">\n",
       "  <thead>\n",
       "    <tr style=\"text-align: right;\">\n",
       "      <th></th>\n",
       "      <th>timestamp</th>\n",
       "      <th>steps</th>\n",
       "      <th>heartrate</th>\n",
       "      <th>wake</th>\n",
       "      <th>datetime</th>\n",
       "      <th>time_total</th>\n",
       "    </tr>\n",
       "  </thead>\n",
       "  <tbody>\n",
       "    <tr>\n",
       "      <th>90879</th>\n",
       "      <td>1633790520</td>\n",
       "      <td>1057.967269</td>\n",
       "      <td>97.0</td>\n",
       "      <td>NaN</td>\n",
       "      <td>2021-10-09 14:42:00</td>\n",
       "      <td>9110.7</td>\n",
       "    </tr>\n",
       "    <tr>\n",
       "      <th>90880</th>\n",
       "      <td>1633790880</td>\n",
       "      <td>457.574738</td>\n",
       "      <td>96.0</td>\n",
       "      <td>NaN</td>\n",
       "      <td>2021-10-09 14:48:00</td>\n",
       "      <td>9110.8</td>\n",
       "    </tr>\n",
       "    <tr>\n",
       "      <th>90881</th>\n",
       "      <td>1633791240</td>\n",
       "      <td>291.356444</td>\n",
       "      <td>90.0</td>\n",
       "      <td>NaN</td>\n",
       "      <td>2021-10-09 14:54:00</td>\n",
       "      <td>9110.9</td>\n",
       "    </tr>\n",
       "    <tr>\n",
       "      <th>90882</th>\n",
       "      <td>1633791600</td>\n",
       "      <td>9.000000</td>\n",
       "      <td>74.0</td>\n",
       "      <td>NaN</td>\n",
       "      <td>2021-10-09 15:00:00</td>\n",
       "      <td>9111.0</td>\n",
       "    </tr>\n",
       "    <tr>\n",
       "      <th>90883</th>\n",
       "      <td>1633791960</td>\n",
       "      <td>148.556869</td>\n",
       "      <td>62.0</td>\n",
       "      <td>NaN</td>\n",
       "      <td>2021-10-09 15:06:00</td>\n",
       "      <td>9111.1</td>\n",
       "    </tr>\n",
       "  </tbody>\n",
       "</table>\n",
       "</div>"
      ],
      "text/plain": [
       "        timestamp        steps  heartrate  wake            datetime  \\\n",
       "90879  1633790520  1057.967269       97.0   NaN 2021-10-09 14:42:00   \n",
       "90880  1633790880   457.574738       96.0   NaN 2021-10-09 14:48:00   \n",
       "90881  1633791240   291.356444       90.0   NaN 2021-10-09 14:54:00   \n",
       "90882  1633791600     9.000000       74.0   NaN 2021-10-09 15:00:00   \n",
       "90883  1633791960   148.556869       62.0   NaN 2021-10-09 15:06:00   \n",
       "\n",
       "       time_total  \n",
       "90879      9110.7  \n",
       "90880      9110.8  \n",
       "90881      9110.9  \n",
       "90882      9111.0  \n",
       "90883      9111.1  "
      ]
     },
     "execution_count": null,
     "metadata": {},
     "output_type": "execute_result"
    }
   ],
   "source": [
    "sample_data[sample_data['heartrate'] > 50.0].head()"
   ]
  },
  {
   "cell_type": "code",
   "execution_count": null,
   "metadata": {
    "vscode": {
     "languageId": "python"
    }
   },
   "outputs": [
    {
     "data": {
      "text/html": [
       "<div>\n",
       "<style scoped>\n",
       "    .dataframe tbody tr th:only-of-type {\n",
       "        vertical-align: middle;\n",
       "    }\n",
       "\n",
       "    .dataframe tbody tr th {\n",
       "        vertical-align: top;\n",
       "    }\n",
       "\n",
       "    .dataframe thead th {\n",
       "        text-align: right;\n",
       "    }\n",
       "</style>\n",
       "<table border=\"1\" class=\"dataframe\">\n",
       "  <thead>\n",
       "    <tr style=\"text-align: right;\">\n",
       "      <th></th>\n",
       "      <th>timestamp</th>\n",
       "      <th>steps</th>\n",
       "      <th>heartrate</th>\n",
       "      <th>wake</th>\n",
       "      <th>datetime</th>\n",
       "      <th>time_total</th>\n",
       "    </tr>\n",
       "  </thead>\n",
       "  <tbody>\n",
       "    <tr>\n",
       "      <th>92715</th>\n",
       "      <td>1634451480</td>\n",
       "      <td>46.000000</td>\n",
       "      <td>82.0</td>\n",
       "      <td>0.0</td>\n",
       "      <td>2021-10-17 06:18:00</td>\n",
       "      <td>9294.3</td>\n",
       "    </tr>\n",
       "    <tr>\n",
       "      <th>96092</th>\n",
       "      <td>1635667200</td>\n",
       "      <td>7.726629</td>\n",
       "      <td>72.0</td>\n",
       "      <td>0.0</td>\n",
       "      <td>2021-10-31 08:00:00</td>\n",
       "      <td>9632.0</td>\n",
       "    </tr>\n",
       "    <tr>\n",
       "      <th>96130</th>\n",
       "      <td>1635680880</td>\n",
       "      <td>32.000000</td>\n",
       "      <td>73.0</td>\n",
       "      <td>0.0</td>\n",
       "      <td>2021-10-31 11:48:00</td>\n",
       "      <td>9635.8</td>\n",
       "    </tr>\n",
       "    <tr>\n",
       "      <th>97250</th>\n",
       "      <td>1636084080</td>\n",
       "      <td>0.000000</td>\n",
       "      <td>72.0</td>\n",
       "      <td>0.0</td>\n",
       "      <td>2021-11-05 03:48:00</td>\n",
       "      <td>9747.8</td>\n",
       "    </tr>\n",
       "    <tr>\n",
       "      <th>97530</th>\n",
       "      <td>1636184880</td>\n",
       "      <td>30.000000</td>\n",
       "      <td>73.0</td>\n",
       "      <td>0.0</td>\n",
       "      <td>2021-11-06 07:48:00</td>\n",
       "      <td>9775.8</td>\n",
       "    </tr>\n",
       "  </tbody>\n",
       "</table>\n",
       "</div>"
      ],
      "text/plain": [
       "        timestamp      steps  heartrate  wake            datetime  time_total\n",
       "92715  1634451480  46.000000       82.0   0.0 2021-10-17 06:18:00      9294.3\n",
       "96092  1635667200   7.726629       72.0   0.0 2021-10-31 08:00:00      9632.0\n",
       "96130  1635680880  32.000000       73.0   0.0 2021-10-31 11:48:00      9635.8\n",
       "97250  1636084080   0.000000       72.0   0.0 2021-11-05 03:48:00      9747.8\n",
       "97530  1636184880  30.000000       73.0   0.0 2021-11-06 07:48:00      9775.8"
      ]
     },
     "execution_count": null,
     "metadata": {},
     "output_type": "execute_result"
    }
   ],
   "source": [
    "sample_data[(sample_data.heartrate > 70.0) & (sample_data.wake < 0.50)].head()"
   ]
  },
  {
   "attachments": {},
   "cell_type": "markdown",
   "metadata": {},
   "source": [
    "We can also compute some summary statistics using an aggregate function (just like a normal pandas dataframe)"
   ]
  },
  {
   "cell_type": "code",
   "execution_count": null,
   "metadata": {
    "vscode": {
     "languageId": "python"
    }
   },
   "outputs": [
    {
     "data": {
      "text/html": [
       "<div>\n",
       "<style scoped>\n",
       "    .dataframe tbody tr th:only-of-type {\n",
       "        vertical-align: middle;\n",
       "    }\n",
       "\n",
       "    .dataframe tbody tr th {\n",
       "        vertical-align: top;\n",
       "    }\n",
       "\n",
       "    .dataframe thead th {\n",
       "        text-align: right;\n",
       "    }\n",
       "</style>\n",
       "<table border=\"1\" class=\"dataframe\">\n",
       "  <thead>\n",
       "    <tr style=\"text-align: right;\">\n",
       "      <th></th>\n",
       "      <th>steps</th>\n",
       "      <th>heartrate</th>\n",
       "    </tr>\n",
       "  </thead>\n",
       "  <tbody>\n",
       "    <tr>\n",
       "      <th>min</th>\n",
       "      <td>0.000000</td>\n",
       "      <td>41.000000</td>\n",
       "    </tr>\n",
       "    <tr>\n",
       "      <th>max</th>\n",
       "      <td>2070.039298</td>\n",
       "      <td>188.000000</td>\n",
       "    </tr>\n",
       "    <tr>\n",
       "      <th>mean</th>\n",
       "      <td>67.413199</td>\n",
       "      <td>70.242047</td>\n",
       "    </tr>\n",
       "    <tr>\n",
       "      <th>median</th>\n",
       "      <td>0.000000</td>\n",
       "      <td>69.000000</td>\n",
       "    </tr>\n",
       "    <tr>\n",
       "      <th>std</th>\n",
       "      <td>179.328748</td>\n",
       "      <td>18.304894</td>\n",
       "    </tr>\n",
       "  </tbody>\n",
       "</table>\n",
       "</div>"
      ],
      "text/plain": [
       "              steps   heartrate\n",
       "min        0.000000   41.000000\n",
       "max     2070.039298  188.000000\n",
       "mean      67.413199   70.242047\n",
       "median     0.000000   69.000000\n",
       "std      179.328748   18.304894"
      ]
     },
     "execution_count": null,
     "metadata": {},
     "output_type": "execute_result"
    }
   ],
   "source": [
    "sample_data[['steps', 'heartrate']].aggregate(['min', 'max', 'mean', 'median', 'std'])"
   ]
  },
  {
   "cell_type": "code",
   "execution_count": null,
   "metadata": {
    "vscode": {
     "languageId": "python"
    }
   },
   "outputs": [
    {
     "data": {
      "image/png": "[encoded data removed]",
      "text/plain": [
       "<Figure size 640x480 with 1 Axes>"
      ]
     },
     "metadata": {},
     "output_type": "display_data"
    }
   ],
   "source": [
    "sample_data['heartrate'].plot();"
   ]
  },
  {
   "cell_type": "code",
   "execution_count": null,
   "metadata": {
    "vscode": {
     "languageId": "python"
    }
   },
   "outputs": [
    {
     "name": "stdout",
     "output_type": "stream",
     "text": [
      " Filled data has 130227 entries and the unfilled data has 34061 entries\n"
     ]
    }
   ],
   "source": [
    "\n",
    "filled_data = sample_data.fillna(column_name='heartrate', with_value=0.0)\n",
    "print(f\" Filled data has {filled_data['heartrate'].count()} entries and the unfilled data has {sample_data['heartrate'].count()} entries\")\n"
   ]
  },
  {
   "cell_type": "code",
   "execution_count": null,
   "metadata": {
    "vscode": {
     "languageId": "python"
    }
   },
   "outputs": [
    {
     "data": {
      "image/png": "[encoded data removed]",
      "text/plain": [
       "<Figure size 640x480 with 2 Axes>"
      ]
     },
     "metadata": {},
     "output_type": "display_data"
    }
   ],
   "source": [
    "sample_data.plot_hr_steps()"
   ]
  },
  {
   "attachments": {},
   "cell_type": "markdown",
   "metadata": {},
   "source": [
    "We can also make an actogram of the steps data to show the long term patterns in the behavior. "
   ]
  },
  {
   "cell_type": "code",
   "execution_count": null,
   "metadata": {
    "vscode": {
     "languageId": "python"
    }
   },
   "outputs": [
    {
     "data": {
      "image/png": "[encoded data removed]",
      "text/plain": [
       "<Figure size 640x480 with 1 Axes>"
      ]
     },
     "metadata": {},
     "output_type": "display_data"
    }
   ],
   "source": [
    "\n",
    "Actogram(sample_data.time_total, sample_data.steps);"
   ]
  },
  {
   "attachments": {},
   "cell_type": "markdown",
   "metadata": {},
   "source": [
    "## Saving and Loading JSON\n",
    "\n",
    "To save a `WearableData` object to json we can use\n",
    "\n",
    "```{python}\n",
    "sample_data.to_json('test_export.json')\n",
    "```\n",
    "\n",
    "and to load this back in we can do:\n",
    "\n",
    "```{python}\n",
    "wdata_loaded = WearableData.from_json('test_export.json')\n",
    "```"
   ]
  },
  {
   "cell_type": "code",
   "execution_count": null,
   "metadata": {
    "vscode": {
     "languageId": "python"
    }
   },
   "outputs": [],
   "source": [
    "#| export\n",
    "\n",
    "@patch \n",
    "def plot_light_activity(self: WearableData, \n",
    "                        show=True, \n",
    "                        vlines=None, \n",
    "                        *args, **kwargs):\n",
    "\n",
    "        fig = plt.figure()\n",
    "        gs = fig.add_gridspec(2, hspace=0)\n",
    "        ax = gs.subplots(sharex=True)\n",
    "        fig.suptitle(\n",
    "            f\"{self.data_id} Subject {self.subject_id}\")\n",
    "        ax[0].plot(self.time_total / 24.0, np.log10(self.light_estimate+1.0), color='red')\n",
    "        ax[1].plot(self.time_total / 24.0, self.activity, color='darkgreen')\n",
    "        \n",
    "        try:\n",
    "            ax[1].plot(self.time_total / 24.0, self.wake *\n",
    "                       np.median(self.steps), color='k')\n",
    "        except:\n",
    "            print(f\"Error with wake plot with {self.subject_id}\")\n",
    "\n",
    "        if self.phase_measure_times is not None:\n",
    "            [ax[0].axvline(x=_x / 24.0, ls='--', color='blue')\n",
    "             for _x in self.phase_measure_times]\n",
    "            [ax[1].axvline(x=_x / 24.0, ls='--', color='blue')\n",
    "             for _x in self.phase_measure_times]\n",
    "\n",
    "        if vlines is not None:\n",
    "            [ax[0].axvline(x=_x / 24.0, ls='--', color='cyan')\n",
    "             for _x in vlines]\n",
    "            [ax[1].axvline(x=_x / 24.0, ls='--', color='cyan')\n",
    "             for _x in vlines]\n",
    "\n",
    "        ax[1].set_xlabel(\"Days\")\n",
    "        ax[0].set_ylabel(\"Lux (log 10)\")\n",
    "        ax[1].set_ylabel(\"Activity Counts\")\n",
    "        ax[0].grid()\n",
    "        ax[1].grid()\n",
    "        if show:\n",
    "            plt.show()\n",
    "        else:\n",
    "            return ax\n"
   ]
  },
  {
   "attachments": {},
   "cell_type": "markdown",
   "metadata": {},
   "source": [
    "## Actiwatch Readers \n",
    "\n",
    "Expected format for this follows the guidelines on [predictdlmo](www.predictdlmo.com). Should be a CSV file with the columns\n",
    "\n",
    "Date,Time,Activity,White Light,Sleep/Wake\n",
    "\n"
   ]
  },
  {
   "cell_type": "code",
   "execution_count": null,
   "metadata": {
    "vscode": {
     "languageId": "python"
    }
   },
   "outputs": [],
   "source": [
    "#| export\n",
    "\n",
    "def read_actiwatch(filepath: str, # path to actiwatch csv file\n",
    "                        MIN_LIGHT_THRESHOLD=5000, # used to trim off empty data at the beginning and end of the file, must reach this amount of light to be included. Turn this off can setting this to 0 or negative\n",
    "                        round_data=True, # round the data to the nearest bin_minutes\n",
    "                        bin_minutes=6, # bin the data to this resolution in minutes, only used if round_data is true\n",
    "                        dt_format: str = None, # format of the date time string, if None, will be inferred\n",
    "                        data_id: str = \"Actiwatch\", # name of the data source\n",
    "                        subject_id: str = \"unknown-subject\", #subject id to be used\n",
    "                        ) -> WearableData:\n",
    "    \n",
    "    df = pd.read_csv(filepath, names=['Date', 'Time', 'Activity', 'White Light', 'Sleep/Wake'], header=0) \n",
    "    df['datetime'] = df['Date']+\" \"+df['Time']\n",
    "    if dt_format is None:\n",
    "        df['datetime'] = pd.to_datetime(df.datetime, infer_datetime_format=True)\n",
    "    else:\n",
    "        df['datetime'] = pd.to_datetime(df.datetime, format=dt_format)\n",
    "\n",
    "    df['UnixTime'] = (\n",
    "        df['datetime'] - pd.Timestamp(\"1970-01-01\")) // pd.Timedelta('1s')\n",
    "    \n",
    "    df.rename(columns={'White Light': 'light_estimate'}, inplace=True)\n",
    "    df.rename(columns={'Sleep/Wake': 'wake'}, inplace=True)\n",
    "    df.rename(columns={'Activity': 'activity'}, inplace=True)\n",
    "\n",
    "    df['light_estimate'].fillna(0, inplace=True)\n",
    "    df['LightSum'] = np.cumsum(df.light_estimate.values)\n",
    "    df['LightSumReverse'] = np.sum(\n",
    "        df.light_estimate.values) - np.cumsum(df.light_estimate.values) + 1.0\n",
    "\n",
    "    df = df[(df.LightSum > MIN_LIGHT_THRESHOLD) & (\n",
    "        df.LightSumReverse > MIN_LIGHT_THRESHOLD)]\n",
    "\n",
    "    time_start = WearableData.utc_to_hrs(df.datetime.iloc[0])\n",
    "    df2 = df[['UnixTime']].copy(deep=True)\n",
    "    base_unix_time = df2['UnixTime'].iloc[0]\n",
    "    df['time_total'] = time_start + \\\n",
    "        (df2.loc[:, ['UnixTime']]-base_unix_time)/3600.0\n",
    "        \n",
    "    df['timestamp'] = df['UnixTime']\n",
    "    \n",
    "    df = df[[\"datetime\", \"timestamp\", \"time_total\", \"activity\", \"light_estimate\", \"wake\"]]\n",
    "    if round_data:\n",
    "        df.set_index('datetime', inplace=True)\n",
    "        df = df.resample(str(int(bin_minutes))+'Min').agg({'time_total': 'min',\n",
    "                                                            'activity': 'sum',\n",
    "                                                            'light_estimate': 'median',\n",
    "                                                            'wake': 'max'})\n",
    "        df.reset_index(inplace=True)\n",
    "    df['time_total'].interpolate(inplace=True)\n",
    "    df.activity.fillna(0.0, inplace=True) \n",
    "    df.light_estimate.fillna(0.0, inplace=True)\n",
    "    return WearableData(\n",
    "        _dataframe = df,\n",
    "        data_id=data_id,\n",
    "        subject_id=subject_id\n",
    "    )\n"
   ]
  },
  {
   "cell_type": "code",
   "execution_count": null,
   "metadata": {
    "vscode": {
     "languageId": "python"
    }
   },
   "outputs": [
    {
     "data": {
      "text/html": [
       "<div>\n",
       "<style scoped>\n",
       "    .dataframe tbody tr th:only-of-type {\n",
       "        vertical-align: middle;\n",
       "    }\n",
       "\n",
       "    .dataframe tbody tr th {\n",
       "        vertical-align: top;\n",
       "    }\n",
       "\n",
       "    .dataframe thead th {\n",
       "        text-align: right;\n",
       "    }\n",
       "</style>\n",
       "<table border=\"1\" class=\"dataframe\">\n",
       "  <thead>\n",
       "    <tr style=\"text-align: right;\">\n",
       "      <th></th>\n",
       "      <th>datetime</th>\n",
       "      <th>time_total</th>\n",
       "      <th>activity</th>\n",
       "      <th>light_estimate</th>\n",
       "      <th>wake</th>\n",
       "    </tr>\n",
       "  </thead>\n",
       "  <tbody>\n",
       "    <tr>\n",
       "      <th>0</th>\n",
       "      <td>2019-02-20 01:00:00</td>\n",
       "      <td>1.0</td>\n",
       "      <td>2720.0</td>\n",
       "      <td>345.435</td>\n",
       "      <td>1.0</td>\n",
       "    </tr>\n",
       "    <tr>\n",
       "      <th>1</th>\n",
       "      <td>2019-02-20 01:06:00</td>\n",
       "      <td>1.1</td>\n",
       "      <td>2162.0</td>\n",
       "      <td>924.555</td>\n",
       "      <td>1.0</td>\n",
       "    </tr>\n",
       "    <tr>\n",
       "      <th>2</th>\n",
       "      <td>2019-02-20 01:12:00</td>\n",
       "      <td>1.2</td>\n",
       "      <td>2341.0</td>\n",
       "      <td>1057.800</td>\n",
       "      <td>1.0</td>\n",
       "    </tr>\n",
       "    <tr>\n",
       "      <th>3</th>\n",
       "      <td>2019-02-20 01:18:00</td>\n",
       "      <td>1.3</td>\n",
       "      <td>2208.0</td>\n",
       "      <td>717.810</td>\n",
       "      <td>1.0</td>\n",
       "    </tr>\n",
       "    <tr>\n",
       "      <th>4</th>\n",
       "      <td>2019-02-20 01:24:00</td>\n",
       "      <td>1.4</td>\n",
       "      <td>2639.0</td>\n",
       "      <td>3.820</td>\n",
       "      <td>1.0</td>\n",
       "    </tr>\n",
       "  </tbody>\n",
       "</table>\n",
       "</div>"
      ],
      "text/plain": [
       "             datetime  time_total  activity  light_estimate  wake\n",
       "0 2019-02-20 01:00:00         1.0    2720.0         345.435   1.0\n",
       "1 2019-02-20 01:06:00         1.1    2162.0         924.555   1.0\n",
       "2 2019-02-20 01:12:00         1.2    2341.0        1057.800   1.0\n",
       "3 2019-02-20 01:18:00         1.3    2208.0         717.810   1.0\n",
       "4 2019-02-20 01:24:00         1.4    2639.0           3.820   1.0"
      ]
     },
     "execution_count": null,
     "metadata": {},
     "output_type": "execute_result"
    }
   ],
   "source": [
    "lib_path = circadian.__path__[0]\n",
    "sample_actiwatch = read_actiwatch(filepath = lib_path + \"/sample_data/sample_actiwatch.csv\")\n",
    "\n",
    "sample_actiwatch._dataframe.head()"
   ]
  },
  {
   "attachments": {},
   "cell_type": "markdown",
   "metadata": {},
   "source": [
    "We can make some plots of the actiwatch data to help visualize it"
   ]
  },
  {
   "cell_type": "code",
   "execution_count": null,
   "metadata": {
    "vscode": {
     "languageId": "python"
    }
   },
   "outputs": [
    {
     "data": {
      "image/png": "[encoded data removed]",
      "text/plain": [
       "<Figure size 640x480 with 2 Axes>"
      ]
     },
     "metadata": {},
     "output_type": "display_data"
    }
   ],
   "source": [
    "sample_actiwatch.plot_light_activity()"
   ]
  },
  {
   "attachments": {},
   "cell_type": "markdown",
   "metadata": {},
   "source": [
    "Can also make use of the pandas plotting functions under the hood, by accessing the underlying dataframe. "
   ]
  },
  {
   "cell_type": "code",
   "execution_count": null,
   "metadata": {
    "vscode": {
     "languageId": "python"
    }
   },
   "outputs": [
    {
     "data": {
      "image/png": "[encoded data removed]",
      "text/plain": [
       "<Figure size 640x480 with 1 Axes>"
      ]
     },
     "metadata": {},
     "output_type": "display_data"
    }
   ],
   "source": [
    "sample_actiwatch._dataframe.activity.plot();"
   ]
  },
  {
   "attachments": {},
   "cell_type": "markdown",
   "metadata": {},
   "source": [
    "Here is an example of creating an actogram from the sample actiwatch data and adding in DLMO predictions from the Hannay single population model. "
   ]
  },
  {
   "cell_type": "code",
   "execution_count": null,
   "metadata": {
    "vscode": {
     "languageId": "python"
    }
   },
   "outputs": [
    {
     "data": {
      "image/png": "[encoded data removed]",
      "text/plain": [
       "<Figure size 640x480 with 1 Axes>"
      ]
     },
     "metadata": {},
     "output_type": "display_data"
    }
   ],
   "source": [
    "\n",
    "acto = Actogram(sample_actiwatch.time_total, \n",
    "                sample_actiwatch.light_estimate, \n",
    "                second_zeit=sample_actiwatch.activity);\n"
   ]
  },
  {
   "cell_type": "code",
   "execution_count": null,
   "metadata": {
    "vscode": {
     "languageId": "python"
    }
   },
   "outputs": [],
   "source": [
    "#| hide\n",
    "import nbdev; nbdev.nbdev_export()"
   ]
  }
 ],
 "metadata": {
  "kernelspec": {
   "display_name": "base",
   "language": "python",
   "name": "python3"
  }
 },
 "nbformat": 4,
 "nbformat_minor": 2
}
