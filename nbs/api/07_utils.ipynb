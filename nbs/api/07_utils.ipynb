{
 "cells": [
  {
   "attachments": {},
   "cell_type": "markdown",
   "metadata": {},
   "source": [
    "# Utilities \n",
    "\n",
    "> Useful functions for processing and analyzing circadian data"
   ]
  },
  {
   "cell_type": "code",
   "execution_count": null,
   "metadata": {},
   "outputs": [],
   "source": [
    "#| default_exp utils"
   ]
  },
  {
   "cell_type": "code",
   "execution_count": null,
   "metadata": {},
   "outputs": [],
   "source": [
    "#| hide \n",
    "%load_ext autoreload\n",
    "%autoreload 2"
   ]
  },
  {
   "cell_type": "code",
   "execution_count": null,
   "metadata": {},
   "outputs": [],
   "source": [
    "#| hide\n",
    "from nbdev.showdoc import *\n",
    "from fastcore.test import *\n",
    "from fastcore.basics import *"
   ]
  },
  {
   "cell_type": "code",
   "execution_count": null,
   "metadata": {},
   "outputs": [],
   "source": [
    "#| export\n",
    "import copy\n",
    "import scipy as sp\n",
    "import numpy as np\n",
    "import pandas as pd\n",
    "from scipy import interpolate\n",
    "from scipy.integrate import solve_ivp"
   ]
  },
  {
   "cell_type": "code",
   "execution_count": null,
   "metadata": {},
   "outputs": [],
   "source": [
    "#| export\n",
    "#| hide\n",
    "def phase_difference(phase_1: float, # phase between [-pi, pi]\n",
    "                     phase_2: float # phase between [-pi, pi]\n",
    "                     ) -> float:\n",
    "    \"Phase difference (phase_2 - phase_1). Negative values represent clockwise rotations\"\n",
    "    diff = phase_2 - phase_1\n",
    "    normalized_diff = (diff + np.pi) % (2 * np.pi) - np.pi\n",
    "    return normalized_diff"
   ]
  },
  {
   "cell_type": "code",
   "execution_count": null,
   "metadata": {},
   "outputs": [],
   "source": [
    "#| hide\n",
    "# test phase_difference\n",
    "test_eq(phase_difference(0.1 * np.pi, -0.1 * np.pi), -0.2 * np.pi)\n",
    "test_eq(phase_difference(-0.1 * np.pi, 0.1 * np.pi), 0.2 * np.pi)\n",
    "test_eq(phase_difference(0.9 * np.pi, -0.9 * np.pi), 0.2 * np.pi)\n",
    "test_eq(phase_difference(-0.9 * np.pi, 0.9 * np.pi), -0.2 * np.pi)\n",
    "test_eq(phase_difference(0, 0), 0)\n",
    "test_eq(phase_difference(0, np.pi/2), np.pi/2)\n",
    "test_eq(phase_difference(np.pi/2, 0), -np.pi/2)"
   ]
  },
  {
   "cell_type": "code",
   "execution_count": null,
   "metadata": {},
   "outputs": [],
   "source": [
    "#| export\n",
    "#| hide\n",
    "def amplitude_percent_change(amplitude_1: float, # amplitude between (0, inf)\n",
    "                             amplitude_2: float # amplitude between (0, inf)\n",
    "                             ):\n",
    "    \"Percent change between two amplitudes\"\n",
    "    return (amplitude_2 - amplitude_1) / amplitude_1 * 100"
   ]
  },
  {
   "cell_type": "code",
   "execution_count": null,
   "metadata": {},
   "outputs": [],
   "source": [
    "#| hide\n",
    "# test amplitude_percent_change\n",
    "test_eq(amplitude_percent_change(1, 2), 100)\n",
    "test_eq(amplitude_percent_change(2, 1), -50)\n",
    "test_eq(amplitude_percent_change(1, 1), 0)"
   ]
  },
  {
   "cell_type": "code",
   "execution_count": null,
   "metadata": {},
   "outputs": [],
   "source": [
    "#| export\n",
    "#| hide\n",
    "def utc_to_hrs(d: pd.Timestamp # UTC timestamp to convert\n",
    "               ) -> float: # hours since midnight\n",
    "    \"Convert UTC timestamp to hours since midnight\"\n",
    "    return d.hour + d.minute / 60.0 + d.second / 3600.0"
   ]
  },
  {
   "cell_type": "code",
   "execution_count": null,
   "metadata": {},
   "outputs": [],
   "source": [
    "#| hide\n",
    "# test utc_to_hrs\n",
    "test_eq(utc_to_hrs(pd.Timestamp('2020-01-01 00:00:00')), 0)\n",
    "test_eq(utc_to_hrs(pd.Timestamp('2020-01-01 01:00:00')), 1)\n",
    "test_eq(utc_to_hrs(pd.Timestamp('2020-01-01 01:30:00')), 1.5)"
   ]
  },
  {
   "cell_type": "code",
   "execution_count": null,
   "metadata": {},
   "outputs": [],
   "source": [
    "#| export\n",
    "#| hide\n",
    "def phase_ic_guess(time_of_day: float) -> float:\n",
    "    time_of_day = np.fmod(time_of_day, 24.0)\n",
    "\n",
    "    # Wake at 8 am after 8 hours of sleep\n",
    "    # State at 00:00\n",
    "    psi = 1.65238233\n",
    "\n",
    "    # Convert to radians, add to phase\n",
    "    psi += time_of_day * np.pi / 12\n",
    "    return psi\n",
    "\n",
    "\n",
    "def abs_hour_diff(x, y):\n",
    "    \"\"\"\n",
    "    function abs_hour_diff(x,y)\n",
    "\n",
    "    Find the difference in hours between\n",
    "    two clock times (wrapped)\n",
    "    \"\"\"\n",
    "    a1 = min(x, y)\n",
    "    a2 = max(x, y)\n",
    "    s1 = a2-a1\n",
    "    s2 = 24.0+a1-a2\n",
    "    return(min(s1, s2))\n",
    "\n",
    "\n",
    "def cut_phases_12(p):\n",
    "    \"\"\"\n",
    "    Function to make the branch cut for the DLMO times be at 12 instead of 24.\n",
    "    This is better because lots of DLMOs are near midnight, but many fewer are near\n",
    "    noon.\n",
    "\n",
    "        cut_phases_12(timept)\n",
    "    \"\"\"\n",
    "\n",
    "    while (p < 0.0):\n",
    "        p += 24.0\n",
    "\n",
    "    p = np.fmod(p, 24.0)\n",
    "\n",
    "    if p > 12:\n",
    "        return p-24.0\n",
    "    else:\n",
    "        return p\n",
    "\n",
    "\n",
    "def convert_binary(x, breakpoint: float = 0.50):\n",
    "    x[x <= breakpoint] = 0.0\n",
    "    x[x > breakpoint] = 1.0\n",
    "    return x\n",
    "\n",
    "\n",
    "def cal_days_diff(a, b):\n",
    "    \"\"\"Get the calander days between two time dates\"\"\"\n",
    "    A = a.replace(hour=0, minute=0, second=0, microsecond=0)\n",
    "    B = b.replace(hour=0, minute=0, second=0, microsecond=0)\n",
    "    return (A - B).days\n",
    "\n",
    "\n",
    "def parse_dt(date, time):\n",
    "    strDate = date + ' ' + time\n",
    "    return pd.to_datetime(strDate, format='%m/%d/%Y %I:%M %p')"
   ]
  },
  {
   "cell_type": "code",
   "execution_count": null,
   "metadata": {},
   "outputs": [],
   "source": [
    "#| export \n",
    "#| hide\n",
    "def phase_coherence(series):\n",
    "    Z=complex(0,0)\n",
    "    series=np.array(series)\n",
    "    for i in range(len(series)):\n",
    "        Z+=np.exp(series[i]*complex(0,1))\n",
    "\n",
    "    Z=Z/float(len(series))\n",
    "\n",
    "    ans=np.absolute(Z)\n",
    "    return(ans)\n",
    "\n",
    "\n",
    "def phase_coherence_clock(series):\n",
    "    angles=np.pi/12.0*series\n",
    "    return(phase_coherence(angles))\n",
    "\n",
    "\n",
    "def angle_difference(c1, c2) -> float:\n",
    "    \"\"\"Find the angle between two angles given in radians\n",
    "    angle_difference(c1, c2)\n",
    "    c1-c2\n",
    "    \"\"\"\n",
    "    return(np.angle(np.exp(complex(0,1)*(c1-c2))))\n",
    "\n",
    "\n",
    "def subtract_clock_times(c1, c2):\n",
    "    \"\"\"Find the hour differences between two clock times new\"\"\"\n",
    "    a1=sp.pi/12.0*c1\n",
    "    a2=sp.pi/12.0*c2\n",
    "    adiff=angle_difference(a1, a2)\n",
    "    return(12.0/sp.pi*adiff)"
   ]
  },
  {
   "cell_type": "code",
   "execution_count": null,
   "metadata": {},
   "outputs": [],
   "source": [
    "#| export\n",
    "#| hide\n",
    "def times_to_angle(time_vector: np.ndarray):\n",
    "    \"Take an array of times and return R, psi giving the mean angle (psi) and amplitude (R)\"\n",
    "    rad_vector = np.fmod(time_vector, 24.0) * np.pi/12.0\n",
    "    Z = np.sum(np.exp(rad_vector*1j))/len(rad_vector)\n",
    "    return(np.abs(Z), np.angle(Z))"
   ]
  },
  {
   "cell_type": "code",
   "execution_count": null,
   "metadata": {},
   "outputs": [],
   "source": [
    "#| hide\n",
    "import nbdev; nbdev.nbdev_export()"
   ]
  }
 ],
 "metadata": {
  "kernelspec": {
   "display_name": "python3",
   "language": "python",
   "name": "python3"
  }
 },
 "nbformat": 4,
 "nbformat_minor": 2
}
