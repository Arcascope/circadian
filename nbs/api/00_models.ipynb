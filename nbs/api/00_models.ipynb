{
 "cells": [
  {
   "attachments": {},
   "cell_type": "markdown",
   "metadata": {},
   "source": [
    "# Models \n",
    "\n",
    "> Defines the main models, tools, and base classes for simulating and implementing mathematical models of circadian rhythms."
   ]
  },
  {
   "cell_type": "code",
   "execution_count": null,
   "metadata": {},
   "outputs": [],
   "source": [
    "#| default_exp models"
   ]
  },
  {
   "cell_type": "code",
   "execution_count": null,
   "metadata": {},
   "outputs": [],
   "source": [
    "#| hide \n",
    "%load_ext autoreload\n",
    "%autoreload 2"
   ]
  },
  {
   "cell_type": "code",
   "execution_count": null,
   "metadata": {},
   "outputs": [],
   "source": [
    "#| hide\n",
    "from nbdev.showdoc import *\n",
    "from fastcore.basics import *"
   ]
  },
  {
   "cell_type": "code",
   "execution_count": null,
   "metadata": {},
   "outputs": [],
   "source": [
    "#| export \n",
    "import warnings\n",
    "import numpy as np\n",
    "from abc import ABC\n",
    "from typing import Tuple\n",
    "from scipy.signal import find_peaks\n",
    "from fastcore.basics import patch_to\n",
    "from circadian.lights import LightSchedule"
   ]
  },
  {
   "attachments": {},
   "cell_type": "markdown",
   "metadata": {},
   "source": [
    "#| hide\n",
    "# Dinamical Trajectory"
   ]
  },
  {
   "attachments": {},
   "cell_type": "markdown",
   "metadata": {},
   "source": [
    "#| hide\n",
    "## Input checking functions"
   ]
  },
  {
   "cell_type": "code",
   "execution_count": null,
   "metadata": {},
   "outputs": [],
   "source": [
    "#| export\n",
    "#| hide\n",
    "def _time_input_checking(time):\n",
    "    \"Checks if time is a valid input\"\n",
    "    if not isinstance(time, np.ndarray):\n",
    "        raise TypeError(\"time must be a numpy array\")\n",
    "    if time.ndim != 1:\n",
    "        raise ValueError(\"time must be a 1D array\")\n",
    "    if not np.issubdtype(time.dtype, np.number):\n",
    "        raise TypeError(\"time must be numeric\")\n",
    "    if not np.all(np.diff(time) > 0):\n",
    "        raise ValueError(\"time must be monotonically increasing\")\n",
    "    return True\n",
    "\n",
    "def _state_input_checking(state, time):\n",
    "    \"Checks if state is a valid input\"\n",
    "    if not isinstance(state, np.ndarray):\n",
    "        raise TypeError(\"states must be a numpy array\")\n",
    "    if state.ndim < 1:\n",
    "        raise ValueError(\"states must have at least 1 dimension\")\n",
    "    if state.ndim > 3:\n",
    "        raise ValueError(\"states must have at most 3 dimensions\")\n",
    "    if state.shape[0] != len(time):\n",
    "        raise ValueError(\"states must have the same length as time\")\n",
    "    if not np.issubdtype(state.dtype, np.number):\n",
    "        raise TypeError(\"states must be numeric\")\n",
    "    return True"
   ]
  },
  {
   "attachments": {},
   "cell_type": "markdown",
   "metadata": {},
   "source": [
    "#| hide\n",
    "## Implementation"
   ]
  },
  {
   "cell_type": "code",
   "execution_count": null,
   "metadata": {},
   "outputs": [],
   "source": [
    "#| export\n",
    "#| hide\n",
    "class DynamicalTrajectory:\n",
    "    \"A class to store solutions of differential equation models that contains both the time points and the states\"\n",
    "    def __init__(self, \n",
    "                 time: np.ndarray, # time points\n",
    "                 states: np.ndarray # state at time points\n",
    "                 ) -> None:\n",
    "        # input checking\n",
    "        _time_input_checking(time)\n",
    "        _state_input_checking(states, time)\n",
    "        \n",
    "        self.time = time\n",
    "        self.states = states\n",
    "        self.num_states = states.shape[1]\n",
    "        if states.ndim >= 3:\n",
    "            self.batch_size = states.shape[2]\n",
    "        else:\n",
    "            self.batch_size = 1"
   ]
  },
  {
   "cell_type": "code",
   "execution_count": null,
   "metadata": {},
   "outputs": [],
   "source": [
    "#| export\n",
    "#| hide\n",
    "@patch_to(DynamicalTrajectory)\n",
    "def __call__(self, timepoint: float) -> np.ndarray: # state of the system\n",
    "    \"Return the state at time t, linearly interpolated\"\n",
    "    # timepoint input checking\n",
    "    if not isinstance(timepoint, (int, float)):\n",
    "        raise TypeError(\"timepoint must be int or float\")\n",
    "    if timepoint < self.time[0] or timepoint > self.time[-1]:\n",
    "        raise ValueError(\"timepoint must be within the time range\")\n",
    "    \n",
    "    if self.batch_size == 1:\n",
    "        values = np.zeros(self.num_states)\n",
    "        for idx in range(self.num_states):\n",
    "            values[idx] = np.interp(timepoint, self.time, self.states[..., idx])\n",
    "    else:\n",
    "        values = np.zeros((self.num_states, self.batch_size))\n",
    "        for idx in range(self.num_states):\n",
    "            for batch_idx in range(self.batch_size):\n",
    "                values[idx, batch_idx] = np.interp(timepoint, self.time, self.states[..., idx, batch_idx])\n",
    "    \n",
    "    return values"
   ]
  },
  {
   "cell_type": "code",
   "execution_count": null,
   "metadata": {},
   "outputs": [],
   "source": [
    "#| export\n",
    "#| hide\n",
    "@patch_to(DynamicalTrajectory)\n",
    "def __getitem__(self, time_idx: int) -> Tuple[float, np.ndarray]:\n",
    "    \"Return the time and state at index idx\"\n",
    "    # idx input checking\n",
    "    if not isinstance(time_idx, int):\n",
    "        raise TypeError(\"idx must be int\")\n",
    "    if time_idx < -1 or time_idx >= len(self.time):\n",
    "        raise ValueError(f\"idx must be within 0 and {len(self.time)-1}, got {time_idx}\")\n",
    "    \n",
    "    return self.time[time_idx], self.states[time_idx, ...]"
   ]
  },
  {
   "cell_type": "code",
   "execution_count": null,
   "metadata": {},
   "outputs": [],
   "source": [
    "#| export\n",
    "#| hide\n",
    "@patch_to(DynamicalTrajectory)\n",
    "def __len__(self) -> int:\n",
    "    return len(self.time)"
   ]
  },
  {
   "cell_type": "code",
   "execution_count": null,
   "metadata": {},
   "outputs": [],
   "source": [
    "#| export\n",
    "#| hide\n",
    "@patch_to(DynamicalTrajectory)\n",
    "def get_batch(self, batch_idx: int) -> 'DynamicalTrajectory':\n",
    "    \"Obtain the trajectory for a single batch\"\n",
    "    # batch_idx input checking\n",
    "    if not isinstance(batch_idx, int):\n",
    "        raise TypeError(\"batch_idx must be int\")\n",
    "    if batch_idx < -1 or batch_idx >= self.batch_size:\n",
    "        raise ValueError(f\"batch_idx must be within -1 and {self.batch_size-1}, got {batch_idx}\")\n",
    "    if self.states.ndim >= 3:\n",
    "        return DynamicalTrajectory(self.time, self.states[:, :, batch_idx])\n",
    "    else:\n",
    "        # no batch dimension\n",
    "        return DynamicalTrajectory(self.time, self.states)"
   ]
  },
  {
   "cell_type": "code",
   "execution_count": null,
   "metadata": {},
   "outputs": [],
   "source": [
    "#| export\n",
    "#| hide\n",
    "@patch_to(DynamicalTrajectory)\n",
    "# String method\n",
    "def __str__(self) -> str:\n",
    "    time_str = np.array2string(self.time, precision=2, separator=\", \", threshold=20)\n",
    "    states_str = np.array2string(self.states, precision=2, separator=\", \", threshold=20)\n",
    "    output = f\"Time:\\n{time_str}\\n\"\n",
    "    output += f\"States:\\n{states_str}\"\n",
    "    return output"
   ]
  },
  {
   "attachments": {},
   "cell_type": "markdown",
   "metadata": {},
   "source": [
    "#| hide\n",
    "# Circadian model"
   ]
  },
  {
   "attachments": {},
   "cell_type": "markdown",
   "metadata": {},
   "source": [
    "#| hide\n",
    "## Input checking functions"
   ]
  },
  {
   "cell_type": "code",
   "execution_count": null,
   "metadata": {},
   "outputs": [],
   "source": [
    "#| export\n",
    "#| hide\n",
    "def _parameter_input_checking(parameters):\n",
    "    \"Checks if parameters is a valid input for a circadian model\"\n",
    "    if not isinstance(parameters, dict):\n",
    "        raise TypeError(\"parameters must be a dictionary\")\n",
    "    if len(parameters) == 0:\n",
    "        raise ValueError(\"parameters must not be empty\")\n",
    "    for key, value in parameters.items():\n",
    "        if not isinstance(key, str):\n",
    "            raise TypeError(\"keys of parameters must be strings\")\n",
    "        if not isinstance(value, (int, float)):\n",
    "            raise TypeError(\"values of parameters must be numeric\")\n",
    "    return True\n",
    "\n",
    "\n",
    "def _positive_int_checking(number, name):\n",
    "    \"Checks if number is a positive integer\"\n",
    "    if not isinstance(number, int):\n",
    "        raise TypeError(f\"{name} must be an integer\")\n",
    "    if number < 1:\n",
    "        raise ValueError(f\"{name} must be positive\")\n",
    "    return True\n",
    "\n",
    "\n",
    "def _initial_condition_input_checking(initial_condition, num_states):\n",
    "    \"Checks if initial_condition is a valid input for a circadian model\"\n",
    "    if not isinstance(initial_condition, np.ndarray):\n",
    "        raise TypeError(\"initial_condition must be a numpy array\")\n",
    "    if not np.issubdtype(initial_condition.dtype, np.number):\n",
    "        raise TypeError(\"initial_condition must be numeric\")\n",
    "    if initial_condition.shape[0] != num_states:\n",
    "        raise ValueError(f\"initial_condition must have length {num_states}\")\n",
    "    return True\n",
    "\n",
    "\n",
    "def _model_input_checking(input, num_inputs, time):\n",
    "    \"Checks if input has the correct shape and values for a circadian model\"\n",
    "    if not isinstance(input, np.ndarray):\n",
    "        raise TypeError(\"input must be a numpy array\")\n",
    "    if not np.issubdtype(input.dtype, np.number):\n",
    "        raise TypeError(\"input must be numeric\")\n",
    "    if input.shape[0] != len(time):\n",
    "        raise ValueError(f\"input's first dimension must have length {len(time)} based on the time array provided\")\n",
    "    if num_inputs > 1:\n",
    "        if input.shape[1] != num_inputs:\n",
    "            raise ValueError(f\"input must have {num_inputs} columns\")\n",
    "\n",
    "    \n",
    "def _light_input_checking(light):\n",
    "    \"Checks if light is a valid input for a circadian model\"\n",
    "    if not isinstance(light, np.ndarray):\n",
    "        raise TypeError(\"light must be a numpy array\")\n",
    "    if light.ndim != 1:\n",
    "        raise ValueError(\"light must be a 1D array\")\n",
    "    if not np.issubdtype(light.dtype, np.number):\n",
    "        raise TypeError(\"light must be numeric\")\n",
    "    if not np.all(light >= 0):\n",
    "        raise ValueError(\"light intensity must be nonnegative\")\n",
    "    return True\n",
    "\n",
    "\n",
    "def _wake_input_checking(wake):\n",
    "    \"Checks if wake is a valid input for a circadian model\"\n",
    "    if not isinstance(wake, np.ndarray):\n",
    "        raise TypeError(\"wake must be a numpy array\")\n",
    "    if wake.ndim != 1:\n",
    "        raise ValueError(\"wake must be a 1D array\")\n",
    "    if not np.issubdtype(wake.dtype, np.number):\n",
    "        raise TypeError(\"wake must be numeric\")\n",
    "    if not np.all(wake >= 0) and not np.all(wake <= 1):\n",
    "        raise ValueError(\"wake must be between 0 and 1\")\n",
    "    return True"
   ]
  },
  {
   "attachments": {},
   "cell_type": "markdown",
   "metadata": {},
   "source": [
    "#| hide\n",
    "## Implementation"
   ]
  },
  {
   "cell_type": "code",
   "execution_count": null,
   "metadata": {},
   "outputs": [],
   "source": [
    "#| export\n",
    "#| hide\n",
    "class CircadianModel(ABC):\n",
    "    \"Abstract base class for circadian models that defines the common interface for all implementations\"\n",
    "    def __init__(self, \n",
    "                 default_params: dict, # default parameters for the model\n",
    "                 num_states: int, # number of independent variables in the model\n",
    "                 num_inputs: int, # number of inputs to the model such as light or wake state\n",
    "                 default_initial_condition: np.ndarray # default initial conditions for the model\n",
    "                 ) -> None:\n",
    "        \"Creates a new instance of the model\"\n",
    "        _parameter_input_checking(default_params)\n",
    "        _positive_int_checking(num_states, \"num_states\")\n",
    "        _positive_int_checking(num_inputs, \"num_inputs\")\n",
    "        _initial_condition_input_checking(default_initial_condition, num_states)\n",
    "        self.__default_params = default_params\n",
    "        self._parameters = default_params\n",
    "        for param_name, param_val in default_params.items():\n",
    "            setattr(self, param_name, param_val)\n",
    "        self.__num_states = num_states\n",
    "        self.__num_inputs = num_inputs\n",
    "        self.__default_initial_condition = default_initial_condition\n",
    "        self._trajectory = None\n",
    "        self._initial_condition = default_initial_condition\n",
    "\n",
    "\n",
    "    @property\n",
    "    def parameters(self) -> dict:\n",
    "        return self._parameters\n",
    "\n",
    "    @parameters.setter\n",
    "    def parameters(self, value):\n",
    "        for param_name, param_val in value.items():\n",
    "            setattr(self, param_name, param_val)\n",
    "        self._parameters = value\n",
    "\n",
    "    @property\n",
    "    def _default_params(self) -> dict:\n",
    "        return self.__default_params\n",
    "\n",
    "    @_default_params.setter\n",
    "    def _default_params(self, value):\n",
    "        self._parameters = value\n",
    "        self.__default_params = value\n",
    "\n",
    "    @property\n",
    "    def _num_states(self) -> int: # number of independent variables in the model\n",
    "        return self.__num_states\n",
    "\n",
    "    @_num_states.setter\n",
    "    def _num_states(self, value):\n",
    "        self.__num_states = value\n",
    "\n",
    "    @property\n",
    "    def _num_inputs(self) -> int: # number of inputs to the model such as light or wake state\n",
    "        return self.__num_inputs\n",
    "    \n",
    "    @_num_inputs.setter\n",
    "    def _num_inputs(self, value):\n",
    "        self.__num_inputs = value\n",
    "\n",
    "    @property\n",
    "    def _default_initial_condition(self) -> np.ndarray:\n",
    "        return self.__default_initial_condition\n",
    "    \n",
    "    @_default_initial_condition.setter\n",
    "    def _default_initial_condition(self, value):\n",
    "        self.__default_initial_condition = value\n",
    "\n",
    "    @property\n",
    "    def trajectory(self) -> DynamicalTrajectory:\n",
    "        return self._trajectory\n",
    "    \n",
    "    @trajectory.setter\n",
    "    def trajectory(self, value):\n",
    "        self._trajectory = value\n",
    "\n",
    "    @property\n",
    "    def initial_condition(self) -> np.ndarray:\n",
    "        return self._initial_condition\n",
    "    \n",
    "    @initial_condition.setter\n",
    "    def initial_condition(self, value):\n",
    "        self._initial_condition = value"
   ]
  },
  {
   "cell_type": "code",
   "execution_count": null,
   "metadata": {},
   "outputs": [],
   "source": [
    "#| export\n",
    "#| hide\n",
    "@patch_to(CircadianModel)\n",
    "def derv(self,\n",
    "         t: float, # time\n",
    "         state: np.ndarray, # dynamical state of the model\n",
    "         input: np.ndarray, # inputs to the model such as light or wake state\n",
    "         ) -> np.ndarray:\n",
    "    \"Right-hand-side of the differential equation model with state and light as inputs\"\n",
    "    return NotImplementedError(\"derv is not implemented for this model\")"
   ]
  },
  {
   "cell_type": "code",
   "execution_count": null,
   "metadata": {},
   "outputs": [],
   "source": [
    "#| export\n",
    "#| hide\n",
    "@patch_to(CircadianModel)\n",
    "def step_rk4(self,\n",
    "             t: float, # time\n",
    "             state: np.ndarray, # dynamical state of the model\n",
    "             input: np.ndarray, # inputs to the model such as light or wake state\n",
    "             dt: float, # step size in hours \n",
    "             ) -> np.ndarray:\n",
    "    \"Integrate the state of the model for one timestep using a fourth-order Runge-Kutta algorithm. Assumes a constant light value for the time step\"\n",
    "    k1 = self.derv(t, state, input)\n",
    "    k2 = self.derv(t, state + k1 * dt / 2.0, input)\n",
    "    k3 = self.derv(t, state + k2 * dt / 2.0, input)\n",
    "    k4 = self.derv(t, state + k3 * dt, input)\n",
    "    state = state + (dt / 6.0) * (k1 + 2.0*k2 + 2.0*k3 + k4)\n",
    "    return state"
   ]
  },
  {
   "cell_type": "code",
   "execution_count": null,
   "metadata": {},
   "outputs": [],
   "source": [
    "#| export\n",
    "#| hide\n",
    "@patch_to(CircadianModel)\n",
    "def integrate(self,\n",
    "              time: np.ndarray, # time points for integration. Time difference between consecutive values determines step size of the solver\n",
    "              initial_condition: np.ndarray=None, # initial state of the model\n",
    "              input: np.ndarray=None, # model input (such as light or wake) for each time point \n",
    "              ) -> DynamicalTrajectory:\n",
    "    \"Solve the model for specific timepoints given initial conditions and model inputs\"\n",
    "    # input checking\n",
    "    _time_input_checking(time)\n",
    "    if input is None:\n",
    "        raise ValueError(\"a model input must be provided via the input argument\")\n",
    "    else:\n",
    "        _model_input_checking(input, self._num_inputs, time)\n",
    "    if initial_condition is None:\n",
    "        initial_condition = self._default_initial_condition\n",
    "    else:\n",
    "        _initial_condition_input_checking(initial_condition, self._num_states)\n",
    "    \n",
    "    self.initial_condition = initial_condition\n",
    "    \n",
    "    n = len(time)\n",
    "    sol = np.zeros((n, *initial_condition.shape))\n",
    "    sol[0,...] = initial_condition\n",
    "    state = initial_condition\n",
    "\n",
    "    for idx in range(1, n):\n",
    "        t = time[idx]\n",
    "        dt = t - time[idx-1]\n",
    "        input_value = input[idx,...]\n",
    "        state = self.step_rk4(t, state, input_value, dt)\n",
    "        sol[idx,...] = state\n",
    "    \n",
    "    self._trajectory = DynamicalTrajectory(time, sol)\n",
    "    return self._trajectory"
   ]
  },
  {
   "cell_type": "code",
   "execution_count": null,
   "metadata": {},
   "outputs": [],
   "source": [
    "#| export\n",
    "#| hide\n",
    "@patch_to(CircadianModel)\n",
    "def __call__(self,\n",
    "             time: np.ndarray, # time points for integration. Time difference between each consecutive pair of values determines step size of the solver\n",
    "             initial_condition: np.ndarray=None, # initial state of the model\n",
    "             input: np.ndarray=None, # model input (such as light or wake) for each time point\n",
    "             ):\n",
    "    \"Wrapper to integrate\"\n",
    "    return self.integrate(time, initial_condition, input)"
   ]
  },
  {
   "cell_type": "code",
   "execution_count": null,
   "metadata": {},
   "outputs": [],
   "source": [
    "#| export\n",
    "#| hide\n",
    "@patch_to(CircadianModel)\n",
    "def get_parameters_array(self)-> np.array:\n",
    "    \"Returns the parameters for the model as a numpy array\"\n",
    "    parameter_array = np.zeros(len(self.parameters))\n",
    "    for idx, value in enumerate(self.parameters.values()):\n",
    "        parameter_array[idx] = value\n",
    "    return parameter_array"
   ]
  },
  {
   "cell_type": "code",
   "execution_count": null,
   "metadata": {},
   "outputs": [],
   "source": [
    "#| export\n",
    "#| hide\n",
    "@patch_to(CircadianModel)\n",
    "def phase(self,\n",
    "          trajectory: DynamicalTrajectory=None, # trajectory to calculate the phase for. If None, the phase is calculated for the current trajectory \n",
    "          time: float=None # timepoint to calculate the phase at. If None, the phase is calculated for the entire trajectory\n",
    "          ) -> float:\n",
    "    \"Calculates the phase of the model at a given timepoint\"\n",
    "    raise NotImplementedError(\"phase is not implemented for this model\")"
   ]
  },
  {
   "cell_type": "code",
   "execution_count": null,
   "metadata": {},
   "outputs": [],
   "source": [
    "#| export\n",
    "#| hide\n",
    "@patch_to(CircadianModel)\n",
    "def amplitude(self,\n",
    "              trajectory: DynamicalTrajectory=None, # trajectory to calculate the amplitude for. If None, the amplitude is calculated for the current trajectory \n",
    "              time: float=None, # timepoint to calculate the amplitude at. If None, the amplitude is calculated for the entire trajectory\n",
    "              ) -> float:\n",
    "    \"Calculates the amplitude of the model at a given timepoint\"\n",
    "    raise NotImplementedError(\"amplitude is not implemented for this model\")"
   ]
  },
  {
   "cell_type": "code",
   "execution_count": null,
   "metadata": {},
   "outputs": [],
   "source": [
    "#| export\n",
    "#| hide\n",
    "@patch_to(CircadianModel)\n",
    "def cbt(self,\n",
    "        trajectory: DynamicalTrajectory=None, # trajectory to calculate the cbt for. If None, the cbt is calculated for the current trajectory\n",
    "        ) -> np.ndarray: # array of times when the cbt occurs\n",
    "    \"Finds the core body temperature minumum markers along a trajectory\"\n",
    "    raise NotImplementedError(\"cbt is not implemented for this model\")"
   ]
  },
  {
   "cell_type": "code",
   "execution_count": null,
   "metadata": {},
   "outputs": [],
   "source": [
    "#| export\n",
    "#| hide\n",
    "@patch_to(CircadianModel)\n",
    "def dlmos(self,\n",
    "          trajectory: DynamicalTrajectory=None, # trajectory to calculate the dlmos for. If None, the dlmos are calculated for the current trajectory\n",
    "          ) -> np.ndarray: # array of times when dlmo occurs \n",
    "    \"Finds the Dim Light Melatonin Onset (DLMO) markers along a trajectory\"\n",
    "    raise NotImplementedError(\"dlmo is not implemented for this model\")"
   ]
  },
  {
   "cell_type": "code",
   "execution_count": null,
   "metadata": {},
   "outputs": [],
   "source": [
    "#| export\n",
    "#| hide\n",
    "@patch_to(CircadianModel)\n",
    "def equilibrate(self,\n",
    "                time: np.ndarray, # time points for integration. Time difference between each consecutive pair of values determines step size of the solver\n",
    "                input: np.ndarray, # model input (such as light or wake) for each time point\n",
    "                num_loops: int=10 # number of times to loop the input\n",
    "                ) -> np.ndarray: # final state of the model\n",
    "    \"Equilibrate the model by looping the given light_estimate. Assumes the schedule repeats periodically after it ends\"\n",
    "    # input checking\n",
    "    _time_input_checking(time)\n",
    "    _model_input_checking(input, self._num_inputs, time)\n",
    "    _positive_int_checking(num_loops, \"num_loops\")\n",
    "    \n",
    "    initial_condition = self._default_initial_condition\n",
    "    dlmos = []\n",
    "    for _ in range(num_loops):\n",
    "        sol = self.integrate(time, initial_condition, input).states\n",
    "        dlmos.append(self.dlmos())\n",
    "        initial_condition = sol[-1, ...]\n",
    "    # check that the output is equilibrated\n",
    "    is_equilibrated = np.all(np.isclose(dlmos[-1][-1], dlmos[-2][-1], atol=1e-3))\n",
    "    if not is_equilibrated:\n",
    "        warnings.warn(\"The model did not equilibrate. Try increasing the number of loops.\")\n",
    "    final_state = sol[-1, ...]\n",
    "    return final_state"
   ]
  },
  {
   "cell_type": "code",
   "execution_count": null,
   "metadata": {},
   "outputs": [],
   "source": [
    "#| export\n",
    "#| hide\n",
    "def _get_default_initial_condition(\n",
    "        model: CircadianModel, # model to calculate the default initial condition for\n",
    "        num_loops: int=10 # number of times to loop the regular schedule\n",
    "        ) -> np.ndarray:\n",
    "    \"Calculates a default initial condition by simulating the given model on a 16 hour light, 8 hour darkness schedule until convergence\"\n",
    "    # input checking\n",
    "    if not isinstance(model, CircadianModel):\n",
    "        raise TypeError(\"model must be a CircadianModel\")\n",
    "    model._default_initial_condition = 0.5 * np.ones(model._num_states)\n",
    "    schedule = LightSchedule.Regular(lights_on=8, lights_off=24)    \n",
    "    time = np.arange(0.0, 24.0, 0.1)\n",
    "    if model._num_inputs == 1:\n",
    "        light_input = schedule(time)\n",
    "        default_initial_condition = model.equilibrate(time, light_input, num_loops)\n",
    "    elif model._num_inputs == 2:\n",
    "        light_input = schedule(time)\n",
    "        wake_input = np.zeros_like(light_input)\n",
    "        wake_input[light_input > 0] = 0\n",
    "        wake_input[light_input == 0] = 1\n",
    "        input = np.stack((light_input, wake_input), axis=1)\n",
    "        default_initial_condition = model.equilibrate(time, input, num_loops)\n",
    "    return default_initial_condition\n",
    "\n",
    "def _check_cbtmin_spacing(\n",
    "        cbtmin_times: np.ndarray, # array of times when the cbtmin occurs\n",
    "        min_spacing: float=6.0, # minimum spacing between cbtmin markers\n",
    "        ) -> bool:\n",
    "    \"Checks if the spacing between cbtmin markers is valid\"\n",
    "    cbtmin_spacing = np.diff(cbtmin_times)\n",
    "    if np.any(cbtmin_spacing < min_spacing):\n",
    "        # raise a warning\n",
    "        warnings.warn(f\"The data contains cbtmin markers that are spaced by less than {min_spacing} hours. Removal of duplicate cbtmin markers is recommended.\")"
   ]
  },
  {
   "attachments": {},
   "cell_type": "markdown",
   "metadata": {},
   "source": [
    "#| hide\n",
    "## Forger99"
   ]
  },
  {
   "cell_type": "code",
   "execution_count": null,
   "metadata": {},
   "outputs": [],
   "source": [
    "#| export\n",
    "#| hide\n",
    "class Forger99(CircadianModel): \n",
    "    \"Implementation of Forger's 1999 model from the article 'A simpler model of the human circadian pacemaker'\"\n",
    "    def __init__(self, params=None):\n",
    "        default_params = {\n",
    "            'taux': 24.2, 'mu': 0.23, 'G': 33.75, \n",
    "            'alpha_0': 0.05, 'beta': 0.0075, 'p': 0.50, \n",
    "            'I0': 9500.0, 'k': 0.55, 'cbt_to_dlmo': 7.0,\n",
    "            }\n",
    "        num_states = 3 # x, xc, n\n",
    "        num_inputs = 1 # light\n",
    "        default_initial_condition = np.array([-0.0843259, -1.09607546, 0.45584306]) # condition at midnight for 16L, 8D schedule\n",
    "        super(Forger99, self).__init__(default_params, num_states, num_inputs, default_initial_condition)\n",
    "        if params is not None:\n",
    "            self.parameters = params\n",
    "\n",
    "    def integrate(self,\n",
    "                  time: np.ndarray, # time points for integration. Time difference between each consecutive pair of values determines step size of the solver\n",
    "                  initial_condition: np.ndarray=None, # initial state of the model\n",
    "                  input: np.ndarray=None, # model input (such as light or wake) for each time point\n",
    "                  ) -> DynamicalTrajectory:\n",
    "        \"Solve the model for specific timepoints given initial conditions and model inputs\"\n",
    "        # input checking for Forger99\n",
    "        if input is not None:\n",
    "            _light_input_checking(input)\n",
    "        return super().integrate(time, initial_condition, input)\n",
    "\n",
    "    def __repr__(self) -> str:\n",
    "        return self.__str__()\n",
    "    \n",
    "    def __str__(self) -> str:\n",
    "        return \"Forger99\""
   ]
  },
  {
   "cell_type": "code",
   "execution_count": null,
   "metadata": {},
   "outputs": [],
   "source": [
    "#| export\n",
    "#| hide\n",
    "@patch_to(Forger99)\n",
    "def derv(self, \n",
    "         t: float, # time\n",
    "         state: np.ndarray, # dynamical state (x, xc, n)\n",
    "         input: float # light intensity in lux\n",
    "         ) -> np.ndarray: # derivative of the state\n",
    "     \"Right-hand-side of the differential equation model\"\n",
    "     x = state[0,...]\n",
    "     xc = state[1,...]\n",
    "     n = state[2,...]\n",
    "     light = input\n",
    "\n",
    "     alpha = self.alpha_0 * pow((light / self.I0), self.p)\n",
    "     Bhat = self.G * (1.0 - n) * alpha * (1 - 0.4 * x) * (1 - 0.4 * xc)\n",
    "     mu_term = self.mu * (xc - 4.0 / 3.0 * pow(xc, 3.0))\n",
    "     taux_term = pow(24.0 / (0.99669 * self.taux), 2.0) + self.k * Bhat\n",
    "\n",
    "     dydt = np.zeros_like(state)\n",
    "     dydt[0,...] = np.pi / 12.0 * (xc + Bhat)\n",
    "     dydt[1,...] = np.pi / 12.0 * (mu_term - x * taux_term)\n",
    "     dydt[2,...] = 60.0 * (alpha * (1.0 - n) - self.beta * n)\n",
    "\n",
    "     return dydt"
   ]
  },
  {
   "cell_type": "code",
   "execution_count": null,
   "metadata": {},
   "outputs": [],
   "source": [
    "#| export\n",
    "#| hide\n",
    "@patch_to(Forger99)\n",
    "def phase(self,\n",
    "          trajectory: DynamicalTrajectory=None, # trajectory to calculate the phase. If None, the current trajectory is used\n",
    "          time: float=None # a time point to calculate the phase at. If None, the phase is calculated for the entire trajectory\n",
    "          ) -> float:\n",
    "    if trajectory is None:\n",
    "        trajectory = self.trajectory\n",
    "    else: \n",
    "        if not isinstance(trajectory, DynamicalTrajectory):\n",
    "            raise ValueError(\"trajectory must be a DynamicalTrajectory\")\n",
    "    if time is None:\n",
    "        x = trajectory.states[:, 0]\n",
    "        y = -1.0 * trajectory.states[:, 1]\n",
    "    else:\n",
    "        if not isinstance(time, (float, int)):\n",
    "            raise ValueError(\"time must be a float or an int\")\n",
    "        else:\n",
    "            state = trajectory(time)\n",
    "            x = state[0] \n",
    "            y = -1.0 * state[1]\n",
    "    return np.angle(x + complex(0,1) * y)"
   ]
  },
  {
   "cell_type": "code",
   "execution_count": null,
   "metadata": {},
   "outputs": [],
   "source": [
    "#| export\n",
    "#| hide\n",
    "@patch_to(Forger99)\n",
    "def amplitude(self,\n",
    "              trajectory: DynamicalTrajectory=None, # trajectory to calculate the amplitude. If None, the current trajectory is used\n",
    "              time: float=None # a time point to calculate the amplitude at. If None, the amplitude is calculated for the entire trajectory\n",
    "              ) -> float:\n",
    "    if trajectory is None:\n",
    "        trajectory = self.trajectory\n",
    "    else: \n",
    "        if not isinstance(trajectory, DynamicalTrajectory):\n",
    "            raise ValueError(\"trajectory must be a DynamicalTrajectory\")\n",
    "    if time is None:\n",
    "        x = trajectory.states[:, 0]\n",
    "        y = -1.0 * trajectory.states[:, 1]\n",
    "    else:\n",
    "        if not isinstance(time, (float, int)):\n",
    "            raise ValueError(\"time must be a float or an int\")\n",
    "        else:\n",
    "            state = trajectory(time)\n",
    "            x = state[0] \n",
    "            y = -1.0 * state[1]\n",
    "    return np.sqrt(x**2 + y**2)"
   ]
  },
  {
   "cell_type": "code",
   "execution_count": null,
   "metadata": {},
   "outputs": [],
   "source": [
    "#| export\n",
    "#| hide\n",
    "@patch_to(Forger99)\n",
    "def cbt(self,\n",
    "        trajectory: DynamicalTrajectory=None, # trajectory to calculate the cbt. If None, the current trajectory is used\n",
    "        ) -> np.ndarray:\n",
    "    \"Finds the core body temperature minumum markers for the model along a trajectory as the minimum of x\"\n",
    "    if trajectory is None:\n",
    "        trajectory = self.trajectory\n",
    "    else:\n",
    "        if not isinstance(trajectory, DynamicalTrajectory):\n",
    "            raise ValueError(\"trajectory must be a DynamicalTrajectory\")\n",
    "    inverted_x = -1*trajectory.states[:,0]\n",
    "    cbt_min_idxs, _ = find_peaks(inverted_x)\n",
    "    cbtmin_times = trajectory.time[cbt_min_idxs]\n",
    "    _check_cbtmin_spacing(cbtmin_times)\n",
    "    return cbtmin_times"
   ]
  },
  {
   "cell_type": "code",
   "execution_count": null,
   "metadata": {},
   "outputs": [],
   "source": [
    "#| export\n",
    "#| hide\n",
    "@patch_to(Forger99)\n",
    "def dlmos(self,\n",
    "          trajectory: DynamicalTrajectory=None, # trajectory to calculate the dlmo. If None, the current trajectory is used \n",
    "          ) -> np.ndarray:\n",
    "    \"Finds the Dim Light Melatonin Onset (DLMO) markers for the model along a trajectory\"\n",
    "    if trajectory is None:\n",
    "        trajectory = self.trajectory\n",
    "    else:\n",
    "        if not isinstance(trajectory, DynamicalTrajectory):\n",
    "            raise ValueError(\"trajectory must be a DynamicalTrajectory\")\n",
    "    return self.cbt(trajectory) - self.cbt_to_dlmo"
   ]
  },
  {
   "cell_type": "code",
   "execution_count": null,
   "metadata": {},
   "outputs": [
    {
     "name": "stdout",
     "output_type": "stream",
     "text": [
      "[-0.0843259  -1.09607546  0.45584306]\n"
     ]
    }
   ],
   "source": [
    "#| hide\n",
    "# get default initial condition\n",
    "model = Forger99()\n",
    "default_initial_condition = _get_default_initial_condition(model, num_loops=30)\n",
    "print(default_initial_condition)"
   ]
  },
  {
   "attachments": {},
   "cell_type": "markdown",
   "metadata": {},
   "source": [
    "#| hide\n",
    "## Hannay19"
   ]
  },
  {
   "cell_type": "code",
   "execution_count": null,
   "metadata": {},
   "outputs": [],
   "source": [
    "#| export\n",
    "#| hide\n",
    "class Hannay19(CircadianModel):\n",
    "    \"Implementation of Hannay's 2019 single population model from the article 'Macroscopic models for human circadian rhythms'\"\n",
    "    def __init__(self, params=None):\n",
    "        default_params = {\n",
    "            'tau': 23.84, 'K': 0.06358, 'gamma': 0.024, \n",
    "            'Beta1': -0.09318, 'A1': 0.3855, 'A2': 0.1977, \n",
    "            'BetaL1': -0.0026, 'BetaL2': -0.957756, 'sigma': 0.0400692, \n",
    "            'G': 33.75, 'alpha_0': 0.05, 'delta': 0.0075, 'p': 1.5, 'I0': 9325.0,\n",
    "            'cbt_to_dlmo': 7.0}\n",
    "        num_states = 3 # R, Psi, n\n",
    "        num_inputs = 1 # light\n",
    "        default_initial_condition = np.array([0.82041911, 1.71383697, 0.52318122]) # condition at midnight for 16L, 8D schedule\n",
    "        super(Hannay19, self).__init__(default_params, num_states, num_inputs, default_initial_condition)\n",
    "        if params is not None:\n",
    "            self.parameters = params\n",
    "\n",
    "    def integrate(self,\n",
    "                time: np.ndarray, # time points for integration. Time difference between each consecutive pair of values determines step size of the solver\n",
    "                initial_condition: np.ndarray=None, # initial state of the model\n",
    "                input: np.ndarray=None, # model input (such as light or wake) for each time point\n",
    "                ) -> DynamicalTrajectory:\n",
    "        \"Solve the model for specific timepoints given initial conditions and model inputs\"\n",
    "        # input checking for Hannay19\n",
    "        if input is not None:\n",
    "            _light_input_checking(input)\n",
    "        return super().integrate(time, initial_condition, input)\n",
    "\n",
    "    def __repr__(self) -> str:\n",
    "        return self.__str__()\n",
    "    \n",
    "    def __str__(self) -> str:\n",
    "        return \"Hannay19\""
   ]
  },
  {
   "cell_type": "code",
   "execution_count": null,
   "metadata": {},
   "outputs": [],
   "source": [
    "#| export\n",
    "#| hide\n",
    "@patch_to(Hannay19)\n",
    "def derv(self,\n",
    "         t: float, # time\n",
    "         state: np.ndarray, # dynamical state (R, Psi, n)\n",
    "         input: float # light intensity in lux\n",
    "         ) -> np.ndarray: # derivative of the state\n",
    "    \"Right-hand-side of the differential equation model\"\n",
    "    R = state[0,...]\n",
    "    Psi = state[1,...]\n",
    "    n = state[2,...]\n",
    "    light = input   \n",
    "\n",
    "    alpha = self.alpha_0 * pow(light, self.p) / (pow(light, self.p) + self.I0)\n",
    "\n",
    "    Bhat = self.G * (1.0 - n) * alpha\n",
    "    A1_term_amp = self.A1 * 0.5 * Bhat * (1.0 - pow(R, 4.0)) * np.cos(Psi + self.BetaL1)\n",
    "    A2_term_amp = self.A2 * 0.5 * Bhat * R * (1.0 - pow(R, 8.0)) * np.cos(2.0 * Psi + self.BetaL2)\n",
    "    LightAmp = A1_term_amp + A2_term_amp\n",
    "    A1_term_phase = self.A1 * Bhat * 0.5 * (pow(R, 3.0) + 1.0 / R) * np.sin(Psi + self.BetaL1)\n",
    "    A2_term_phase = self.A2 * Bhat * 0.5 * (1.0 + pow(R, 8.0)) * np.sin(2.0 * Psi + self.BetaL2)\n",
    "    LightPhase = self.sigma * Bhat - A1_term_phase - A2_term_phase\n",
    "\n",
    "    dydt = np.zeros_like(state)\n",
    "    dydt[0,...] = -1.0 * self.gamma * R + self.K * np.cos(self.Beta1) / 2.0 * R * (1.0 - pow(R, 4.0)) + LightAmp\n",
    "    dydt[1,...] = 2*np.pi/self.tau + self.K / 2.0 * np.sin(self.Beta1) * (1 + pow(R, 4.0)) + LightPhase\n",
    "    dydt[2,...] = 60.0 * (alpha * (1.0 - n) - self.delta * n)\n",
    "\n",
    "    return dydt"
   ]
  },
  {
   "cell_type": "code",
   "execution_count": null,
   "metadata": {},
   "outputs": [],
   "source": [
    "#| export\n",
    "#| hide\n",
    "@patch_to(Hannay19)\n",
    "def phase(self,\n",
    "          trajectory: DynamicalTrajectory=None, # trajectory to calculate the phase. If None, the current trajectory is used\n",
    "          time: float=None # a time point to calculate the phase at. If None, the phase is calculated for the entire trajectory\n",
    "          ) -> float:\n",
    "    if trajectory is None:\n",
    "        trajectory = self.trajectory\n",
    "    else: \n",
    "        if not isinstance(trajectory, DynamicalTrajectory):\n",
    "            raise ValueError(\"trajectory must be a DynamicalTrajectory\")\n",
    "    if time is None:\n",
    "        x = np.cos(trajectory.states[:, 1])\n",
    "        y = np.sin(trajectory.states[:, 1])\n",
    "    else:\n",
    "        if not isinstance(time, (float, int)):\n",
    "            raise ValueError(\"time must be a float or an int\")\n",
    "        else:\n",
    "            state = trajectory(time)\n",
    "            x = np.cos(state[1])\n",
    "            y = np.sin(state[1])\n",
    "    return np.angle(x + complex(0,1) * y)"
   ]
  },
  {
   "cell_type": "code",
   "execution_count": null,
   "metadata": {},
   "outputs": [],
   "source": [
    "#| export\n",
    "#| hide\n",
    "@patch_to(Hannay19)\n",
    "def amplitude(self,\n",
    "              trajectory: DynamicalTrajectory=None, # trajectory to calculate the amplitude. If None, the current trajectory is used\n",
    "              time: float=None # a time point to calculate the amplitude at. If None, the amplitude is calculated for the entire trajectory\n",
    "              ) -> float:\n",
    "    if trajectory is None:\n",
    "        trajectory = self.trajectory\n",
    "    else: \n",
    "        if not isinstance(trajectory, DynamicalTrajectory):\n",
    "            raise ValueError(\"trajectory must be a DynamicalTrajectory\")\n",
    "    if time is None:\n",
    "        amplitude = trajectory.states[:, 0]\n",
    "    else:\n",
    "        if not isinstance(time, (float, int)):\n",
    "            raise ValueError(\"time must be a float or an int\")\n",
    "        else:\n",
    "            state = trajectory(time)\n",
    "            amplitude = state[0] \n",
    "    return amplitude"
   ]
  },
  {
   "cell_type": "code",
   "execution_count": null,
   "metadata": {},
   "outputs": [],
   "source": [
    "#| export\n",
    "#| hide\n",
    "@patch_to(Hannay19)\n",
    "def cbt(self,\n",
    "        trajectory: DynamicalTrajectory=None # trajectory to calculate the cbt. If None, the current trajectory is used\n",
    "        ) -> np.ndarray:\n",
    "    \"Finds the core body temperature minumum markers for the model along a trajectory as the times where the phase is pi\"\n",
    "    if trajectory is None:\n",
    "        trajectory = self.trajectory\n",
    "    else:\n",
    "        if not isinstance(trajectory, DynamicalTrajectory):\n",
    "            raise ValueError(\"trajectory must be a DynamicalTrajectory\")\n",
    "    inverted_x = -np.cos(trajectory.states[:,1])\n",
    "    cbt_min_idxs, _ = find_peaks(inverted_x)\n",
    "    cbtmin_times = trajectory.time[cbt_min_idxs]\n",
    "    _check_cbtmin_spacing(cbtmin_times)\n",
    "    return cbtmin_times"
   ]
  },
  {
   "cell_type": "code",
   "execution_count": null,
   "metadata": {},
   "outputs": [],
   "source": [
    "#| export\n",
    "#| hide\n",
    "@patch_to(Hannay19)\n",
    "def dlmos(self,\n",
    "          trajectory: DynamicalTrajectory=None # trajectory to calculate the dlmo. If None, the current trajectory is used\n",
    "          ) -> np.ndarray:\n",
    "    \"Finds the Dim Light Melatonin Onset (DLMO) markers for the model along a trajectory\"\n",
    "    if trajectory is None:\n",
    "        trajectory = self.trajectory\n",
    "    else:\n",
    "        if not isinstance(trajectory, DynamicalTrajectory):\n",
    "            raise ValueError(\"trajectory must be a DynamicalTrajectory\")\n",
    "    return self.cbt(trajectory) - self.cbt_to_dlmo"
   ]
  },
  {
   "cell_type": "code",
   "execution_count": null,
   "metadata": {},
   "outputs": [
    {
     "name": "stdout",
     "output_type": "stream",
     "text": [
      "[0.82041911 1.71383697 0.52318122]\n"
     ]
    }
   ],
   "source": [
    "#| hide\n",
    "# get default initial condition\n",
    "model = Hannay19()\n",
    "default_initial_condition = _get_default_initial_condition(model, num_loops=30)\n",
    "default_initial_condition[1] = np.mod(default_initial_condition[1], 2*np.pi)\n",
    "print(default_initial_condition)"
   ]
  },
  {
   "attachments": {},
   "cell_type": "markdown",
   "metadata": {},
   "source": [
    "#| hide\n",
    "## Hannay19TP"
   ]
  },
  {
   "cell_type": "code",
   "execution_count": null,
   "metadata": {},
   "outputs": [],
   "source": [
    "#| export\n",
    "#| hide\n",
    "class Hannay19TP(CircadianModel):\n",
    "    \"Implementation of Hannay's 2019 two population model from the article 'Macroscopic models for human circadian rhythms'\"\n",
    "    def __init__(self, params=None):\n",
    "        default_params = {\n",
    "            'tauV': 24.25, 'tauD': 24.0, 'Kvv': 0.05, \n",
    "            'Kdd': 0.04, 'Kvd': 0.05, 'Kdv': 0.01, \n",
    "            'gamma': 0.024, 'A1': 0.440068, 'A2': 0.159136, \n",
    "            'BetaL': 0.06452, 'BetaL2': -1.38935, 'sigma': 0.0477375, \n",
    "            'G': 33.75, 'alpha_0': 0.05, 'delta': 0.0075, 'p': 1.5, \n",
    "            'I0': 9325.0, 'cbt_to_dlmo': 7.0,\n",
    "            }\n",
    "        num_states = 5 # Rv, Rd, Psiv, Psid, n\n",
    "        num_inputs = 1 # light\n",
    "        default_initial_condition = np.array([0.82423745, 0.82304996, 1.75233424, 1.863457, 0.52318122]) # condition at midnight for 16L, 8D schedule\n",
    "        super(Hannay19TP, self).__init__(default_params, num_states, num_inputs, default_initial_condition)\n",
    "        if params is not None:\n",
    "            self.parameters = params\n",
    "\n",
    "    def integrate(self,\n",
    "                time: np.ndarray, # time points for integration. Time difference between each consecutive pair of values determines step size of the solver\n",
    "                initial_condition: np.ndarray=None, # initial state of the model\n",
    "                input: np.ndarray=None, # model input (such as light or wake) for each time point\n",
    "                ) -> DynamicalTrajectory:\n",
    "        \"Solve the model for specific timepoints given initial conditions and model inputs\"\n",
    "        # input checking for Hannay19TP\n",
    "        if input is not None:\n",
    "            _light_input_checking(input)\n",
    "        return super().integrate(time, initial_condition, input)\n",
    "\n",
    "    def __repr__(self) -> str:\n",
    "        return self.__str__()\n",
    "    \n",
    "    def __str__(self) -> str:\n",
    "        return \"Hannay19TP\""
   ]
  },
  {
   "cell_type": "code",
   "execution_count": null,
   "metadata": {},
   "outputs": [],
   "source": [
    "#| export\n",
    "#| hide\n",
    "@patch_to(Hannay19TP)\n",
    "def derv(self,\n",
    "         t: float, # time\n",
    "         state: np.ndarray, # dynamical state (Rv, Rd, Psiv, Psid, n)\n",
    "         input: float # light intensity in lux\n",
    "         ) -> np.ndarray: # derivative of the state\n",
    "     \"Right-hand-side of the differential equation model\"\n",
    "     Rv = state[0,...]\n",
    "     Rd = state[1,...]\n",
    "     Psiv = state[2,...]\n",
    "     Psid = state[3,...]\n",
    "     n = state[4,...]\n",
    "     light = input\n",
    "\n",
    "     alpha = self.alpha_0 * pow(light, self.p) / (pow(light, self.p) + self.I0)\n",
    "     Bhat = self.G * (1.0 - n) * alpha\n",
    "\n",
    "     A1_term_amp = self.A1 * 0.5 * Bhat * (1.0 - pow(Rv, 4.0)) * np.cos(Psiv + self.BetaL)\n",
    "     A2_term_amp = self.A2 * 0.5 * Bhat * Rv * (1.0 - pow(Rv, 8.0)) * np.cos(2.0 * Psiv + self.BetaL2)\n",
    "     LightAmp = A1_term_amp + A2_term_amp\n",
    "     A1_term_phase = self.A1 * Bhat * 0.5 * (pow(Rv, 3.0) + 1.0 / Rv) * np.sin(Psiv + self.BetaL)\n",
    "     A2_term_phase = self.A2 * Bhat * 0.5 * (1.0 + pow(Rv, 8.0)) * np.sin(2.0 * Psiv + self.BetaL2)\n",
    "     LightPhase = self.sigma * Bhat - A1_term_phase - A2_term_phase\n",
    "\n",
    "     dydt = np.zeros_like(state)\n",
    "     dydt[0,...] = -self.gamma * Rv + self.Kvv / 2.0 * Rv * (1 - pow(Rv, 4.0)) + self.Kdv / 2.0 * Rd * (1 - pow(Rv, 4.0)) * np.cos(Psid - Psiv) + LightAmp\n",
    "     dydt[1,...] = -self.gamma * Rd + self.Kdd / 2.0 * Rd * (1 - pow(Rd, 4.0)) + self.Kvd / 2.0 * Rv * (1.0 - pow(Rd, 4.0)) * np.cos(Psid - Psiv)\n",
    "     dydt[2,...] = 2.0 * np.pi / self.tauV + self.Kdv / 2.0 * Rd * (pow(Rv, 3.0) + 1.0 / Rv) * np.sin(Psid - Psiv) + LightPhase\n",
    "     dydt[3,...] = 2.0 * np.pi / self.tauD - self.Kvd / 2.0 * Rv * (pow(Rd, 3.0) + 1.0 / Rd) * np.sin(Psid - Psiv)\n",
    "     dydt[4,...] = 60.0 * (alpha * (1.0 - n) - self.delta * n)\n",
    "\n",
    "     return dydt"
   ]
  },
  {
   "cell_type": "code",
   "execution_count": null,
   "metadata": {},
   "outputs": [],
   "source": [
    "#| export\n",
    "#| hide\n",
    "@patch_to(Hannay19TP)\n",
    "def phase(self,\n",
    "          trajectory: DynamicalTrajectory=None, # trajectory to calculate the phase. If None, the current trajectory is used\n",
    "          time: float=None # a time point to calculate the phase at. If None, the phase is calculated for the entire trajectory\n",
    "          ) -> float:\n",
    "    if trajectory is None:\n",
    "        trajectory = self.trajectory\n",
    "    else: \n",
    "        if not isinstance(trajectory, DynamicalTrajectory):\n",
    "            raise ValueError(\"trajectory must be a DynamicalTrajectory\")\n",
    "    if time is None:\n",
    "        time = trajectory.time\n",
    "        x = np.cos(trajectory.states[:, 2])\n",
    "        y = np.sin(trajectory.states[:, 2])\n",
    "    else:\n",
    "        if not isinstance(time, (float, int)):\n",
    "            raise ValueError(\"time must be a float or an int\")\n",
    "        else:\n",
    "            state = trajectory(time)\n",
    "            x = np.cos(state[2])\n",
    "            y = np.sin(state[2])\n",
    "    return np.angle(x + complex(0,1) * y)"
   ]
  },
  {
   "cell_type": "code",
   "execution_count": null,
   "metadata": {},
   "outputs": [],
   "source": [
    "#| export\n",
    "#| hide\n",
    "@patch_to(Hannay19TP)\n",
    "def amplitude(self,\n",
    "              trajectory: DynamicalTrajectory=None, # trajectory to calculate the amplitude. If None, the current trajectory is used\n",
    "              time: float=None # a time point to calculate the amplitude at. If None, the amplitude is calculated for the entire trajectory\n",
    "              ) -> float:\n",
    "    if trajectory is None:\n",
    "        trajectory = self.trajectory\n",
    "    else: \n",
    "        if not isinstance(trajectory, DynamicalTrajectory):\n",
    "            raise ValueError(\"trajectory must be a DynamicalTrajectory\")\n",
    "    if time is None:\n",
    "        time = trajectory.time\n",
    "        amplitude = trajectory.states[:, 0]\n",
    "    else:\n",
    "        if not isinstance(time, (float, int)):\n",
    "            raise ValueError(\"time must be a float or an int\")\n",
    "        else:\n",
    "            state = trajectory(time)\n",
    "            amplitude = state[0] \n",
    "    return amplitude"
   ]
  },
  {
   "cell_type": "code",
   "execution_count": null,
   "metadata": {},
   "outputs": [],
   "source": [
    "#| export\n",
    "#| hide\n",
    "@patch_to(Hannay19TP)\n",
    "def cbt(self,\n",
    "        trajectory: DynamicalTrajectory=None, # trajectory to calculate the cbt. If None, the current trajectory is used\n",
    "        ) -> np.ndarray:\n",
    "    \"Finds the core body temperature minumum markers for the model along a trajectory as the times where the phase is pi\"\n",
    "    if trajectory is None:\n",
    "        trajectory = self.trajectory\n",
    "    else:\n",
    "        if not isinstance(trajectory, DynamicalTrajectory):\n",
    "            raise ValueError(\"trajectory must be a DynamicalTrajectory\")\n",
    "    inverted_x = -np.cos(trajectory.states[:,2])\n",
    "    cbt_min_idxs, _ = find_peaks(inverted_x)\n",
    "    cbtmin_times = trajectory.time[cbt_min_idxs]\n",
    "    _check_cbtmin_spacing(cbtmin_times)\n",
    "    return cbtmin_times"
   ]
  },
  {
   "cell_type": "code",
   "execution_count": null,
   "metadata": {},
   "outputs": [],
   "source": [
    "#| export\n",
    "#| hide\n",
    "@patch_to(Hannay19TP)\n",
    "def dlmos(self,\n",
    "          trajectory: DynamicalTrajectory=None # trajectory to calculate the dlmo. If None, the current trajectory is used\n",
    "          ) -> np.ndarray:\n",
    "    \"Finds the Dim Light Melatonin Onset (DLMO) markers for the model along a trajectory\"\n",
    "    if trajectory is None:\n",
    "        trajectory = self.trajectory\n",
    "    else:\n",
    "        if not isinstance(trajectory, DynamicalTrajectory):\n",
    "            raise ValueError(\"trajectory must be a DynamicalTrajectory\")\n",
    "    return self.cbt(trajectory) - self.cbt_to_dlmo"
   ]
  },
  {
   "cell_type": "code",
   "execution_count": null,
   "metadata": {},
   "outputs": [
    {
     "name": "stdout",
     "output_type": "stream",
     "text": [
      "[0.82423745 0.82304996 1.75233424 1.863457   0.52318122]\n"
     ]
    }
   ],
   "source": [
    "#| hide\n",
    "# get default initial condition\n",
    "model = Hannay19TP()\n",
    "default_initial_condition = _get_default_initial_condition(model, num_loops=30)\n",
    "default_initial_condition[2] = np.mod(default_initial_condition[2], 2*np.pi)\n",
    "default_initial_condition[3] = np.mod(default_initial_condition[3], 2*np.pi)\n",
    "print(default_initial_condition)"
   ]
  },
  {
   "attachments": {},
   "cell_type": "markdown",
   "metadata": {},
   "source": [
    "#| hide\n",
    "## Jewett99"
   ]
  },
  {
   "cell_type": "code",
   "execution_count": null,
   "metadata": {},
   "outputs": [],
   "source": [
    "#| export\n",
    "#| hide\n",
    "class Jewett99(CircadianModel):\n",
    "    \"Implementation of Jewett's 1999 model from the article 'Revised Limit Cycle Oscillator Model of Human Circadian Pacemaker'\"\n",
    "    def __init__(self, params=None):\n",
    "        default_params = {\n",
    "            'taux': 24.2, 'mu': 0.13, 'G': 19.875,\n",
    "            'beta': 0.013, 'k': 0.55, 'q': 1.0/3,\n",
    "            'I0': 9500, 'p': 0.6, 'alpha_0': 0.16,\n",
    "            'phi_ref': 0.8, 'cbt_to_dlmo': 7.0}\n",
    "        num_states = 3 # x, xc, n\n",
    "        num_inputs = 1 # light\n",
    "        default_initial_condition = np.array([-0.10097101, -1.21985662, 0.50529415]) # condition at midnight for 16L, 8D schedule\n",
    "        super(Jewett99, self).__init__(default_params, num_states, num_inputs, default_initial_condition)\n",
    "        if params is not None:\n",
    "            self.parameters = params\n",
    "\n",
    "    def integrate(self,\n",
    "                  time: np.ndarray, # time points for integration. Time difference between each consecutive pair of values determines step size of the solver\n",
    "                  initial_condition: np.ndarray=None, # initial state of the model\n",
    "                  input: np.ndarray=None, # model input (such as light or wake) for each time point\n",
    "                  ) -> DynamicalTrajectory:\n",
    "        \"Solve the model for specific timepoints given initial conditions and model inputs\"\n",
    "        # input checking for Jewett99\n",
    "        if input is not None:\n",
    "            _light_input_checking(input)\n",
    "        return super().integrate(time, initial_condition, input)\n",
    "\n",
    "    def __repr__(self) -> str:\n",
    "        return self.__str__()\n",
    "    \n",
    "    def __str__(self) -> str:\n",
    "        return \"Jewett99\""
   ]
  },
  {
   "cell_type": "code",
   "execution_count": null,
   "metadata": {},
   "outputs": [],
   "source": [
    "#| export\n",
    "#| hide\n",
    "@patch_to(Jewett99)\n",
    "def derv(self,\n",
    "         t: float, # time\n",
    "         state: np.ndarray, # dynamical state (x, xc, n)\n",
    "         input: float # light intensity in lux\n",
    "         ) -> np.ndarray: # derivative of the state\n",
    "    \"Right-hand-side of the differential equation model\"\n",
    "    x = state[0,...]\n",
    "    xc = state[1,...]\n",
    "    n = state[2,...]\n",
    "    light = input\n",
    "\n",
    "    alpha = self.alpha_0 * (light / self.I0) ** self.p\n",
    "    Bhat = self.G * alpha * (1 - n) * (1 - 0.4 * x) * (1 - 0.4 * xc)\n",
    "    mu_term = self.mu * (1.0/3.0 * x + 4.0/3.0 * x**3 - 256.0/105.0 * x**7)\n",
    "    taux_term = pow(24.0 / (0.99729 * self.taux), 2) + self.k * Bhat \n",
    "\n",
    "    dydt = np.zeros_like(state)\n",
    "    dydt[0,...] = np.pi/12 * (xc + mu_term + Bhat)\n",
    "    dydt[1,...] = np.pi/12 * (self.q * Bhat * xc - x * taux_term)\n",
    "    dydt[2,...] = 60.0 * (alpha * (1 - n) - self.beta * n)\n",
    "    \n",
    "    return dydt"
   ]
  },
  {
   "cell_type": "code",
   "execution_count": null,
   "metadata": {},
   "outputs": [],
   "source": [
    "#| export\n",
    "#| hide\n",
    "@patch_to(Jewett99)\n",
    "def phase(self,\n",
    "          trajectory: DynamicalTrajectory=None, # trajectory to calculate the phase. If None, the current trajectory is used\n",
    "          time: float=None # a time point to calculate the phase at. If None, the phase is calculated for the entire trajectory\n",
    "          ) -> float:\n",
    "    if trajectory is None:\n",
    "        trajectory = self.trajectory\n",
    "    else: \n",
    "        if not isinstance(trajectory, DynamicalTrajectory):\n",
    "            raise ValueError(\"trajectory must be a DynamicalTrajectory\")\n",
    "    if time is None:\n",
    "        x = trajectory.states[:, 0]\n",
    "        y = -1.0 * trajectory.states[:, 1]\n",
    "    else:\n",
    "        if not isinstance(time, (float, int)):\n",
    "            raise ValueError(\"time must be a float or an int\")\n",
    "        else:\n",
    "            state = trajectory(time)\n",
    "            x = state[0] \n",
    "            y = -1.0 * state[1]\n",
    "    return np.angle(x + complex(0,1) * y)"
   ]
  },
  {
   "cell_type": "code",
   "execution_count": null,
   "metadata": {},
   "outputs": [],
   "source": [
    "#| export\n",
    "#| hide\n",
    "@patch_to(Jewett99)\n",
    "def amplitude(self,\n",
    "              trajectory: DynamicalTrajectory=None, # trajectory to calculate the amplitude. If None, the current trajectory is used\n",
    "              time: float=None # a time point to calculate the amplitude at. If None, the amplitude is calculated for the entire trajectory\n",
    "              ) -> float:\n",
    "    if trajectory is None:\n",
    "        trajectory = self.trajectory\n",
    "    else: \n",
    "        if not isinstance(trajectory, DynamicalTrajectory):\n",
    "            raise ValueError(\"trajectory must be a DynamicalTrajectory\")\n",
    "    if time is None:\n",
    "        x = trajectory.states[:, 0]\n",
    "        y = -1.0 * trajectory.states[:, 1]\n",
    "    else:\n",
    "        if not isinstance(time, (float, int)):\n",
    "            raise ValueError(\"time must be a float or an int\")\n",
    "        else:\n",
    "            state = trajectory(time)\n",
    "            x = state[0] \n",
    "            y = -1.0 * state[1]\n",
    "    return np.sqrt(x**2 + y**2)"
   ]
  },
  {
   "cell_type": "code",
   "execution_count": null,
   "metadata": {},
   "outputs": [],
   "source": [
    "#| export\n",
    "#| hide\n",
    "@patch_to(Jewett99)\n",
    "def cbt(self,\n",
    "        trajectory: DynamicalTrajectory=None, # trajectory to calculate the cbt. If None, the current trajectory is used\n",
    "        ) -> np.ndarray:\n",
    "    \"Finds the core body temperature minumum markers for the model along a trajectory as the corrected minimum of x\"\n",
    "    if trajectory is None:\n",
    "        trajectory = self.trajectory\n",
    "    else:\n",
    "        if not isinstance(trajectory, DynamicalTrajectory):\n",
    "            raise ValueError(\"trajectory must be a DynamicalTrajectory\")\n",
    "    inverted_x = -1*trajectory.states[:,0]\n",
    "    cbt_min_idxs, _ = find_peaks(inverted_x)\n",
    "    cbtmin_times = trajectory.time[cbt_min_idxs] + self.phi_ref\n",
    "    _check_cbtmin_spacing(cbtmin_times)\n",
    "    return cbtmin_times"
   ]
  },
  {
   "cell_type": "code",
   "execution_count": null,
   "metadata": {},
   "outputs": [],
   "source": [
    "#| export\n",
    "#| hide\n",
    "@patch_to(Jewett99)\n",
    "def dlmos(self,\n",
    "          trajectory: DynamicalTrajectory=None # trajectory to calculate the dlmo. If None, the current trajectory is used\n",
    "          ) -> np.ndarray:\n",
    "    \"Finds the Dim Light Melatonin Onset (DLMO) markers for the model along a trajectory\"\n",
    "    if trajectory is None:\n",
    "        trajectory = self.trajectory\n",
    "    else:\n",
    "        if not isinstance(trajectory, DynamicalTrajectory):\n",
    "            raise ValueError(\"trajectory must be a DynamicalTrajectory\")\n",
    "    return self.cbt(trajectory) - self.cbt_to_dlmo"
   ]
  },
  {
   "cell_type": "code",
   "execution_count": null,
   "metadata": {},
   "outputs": [
    {
     "name": "stdout",
     "output_type": "stream",
     "text": [
      "[-0.10097101 -1.21985662  0.50529415]\n"
     ]
    }
   ],
   "source": [
    "#| hide\n",
    "# get default initial condition\n",
    "model = Jewett99()\n",
    "default_initial_condition = _get_default_initial_condition(model, num_loops=30)\n",
    "print(default_initial_condition)"
   ]
  },
  {
   "attachments": {},
   "cell_type": "markdown",
   "metadata": {},
   "source": [
    "#| hide\n",
    "## Hilaire07"
   ]
  },
  {
   "cell_type": "code",
   "execution_count": null,
   "metadata": {},
   "outputs": [],
   "source": [
    "#| export\n",
    "#| hide\n",
    "class Hilaire07(CircadianModel):\n",
    "    \"Implementation of Hilaire's 2007 model from the article 'Addition of a non-photic component to a light-based mathematical model of the human circadian pacemaker'\"\n",
    "    def __init__(self, params=None):\n",
    "        default_params = {\n",
    "            'taux': 24.2, 'G': 37.0, 'k': 0.55, 'mu': 0.13, 'beta': 0.007, \n",
    "            'q': 1.0/3.0, 'rho': 0.032, 'I0': 9500.0, 'p': 0.5, 'a0': 0.1, \n",
    "            'phi_xcx': -2.98, 'phi_ref': 0.97, 'cbt_to_dlmo': 7.0,\n",
    "            }\n",
    "        num_states = 3 # x, xc, n\n",
    "        num_inputs = 2 # light, wake\n",
    "        default_initial_condition = np.array([-0.0480751, -1.22504441, 0.51854818])\n",
    "        super(Hilaire07, self).__init__(default_params, num_states, num_inputs, default_initial_condition)\n",
    "        if params is not None:\n",
    "            self.parameters = params\n",
    "\n",
    "    def integrate(self,\n",
    "                  time: np.ndarray, # time points for integration. Time difference between each consecutive pair of values determines step size of the solver\n",
    "                  initial_condition: np.ndarray=None, # initial state of the model\n",
    "                  input: np.ndarray=None, # model input (such as light or wake) for each time point\n",
    "                  ) -> DynamicalTrajectory:\n",
    "        \"Solve the model for specific timepoints given initial conditions and model inputs\"\n",
    "        # input checking\n",
    "        if input is not None:\n",
    "            _light_input_checking(input[0,...])\n",
    "            _wake_input_checking(input[1,...])\n",
    "        return super().integrate(time, initial_condition, input)\n",
    "\n",
    "    def __repr__(self) -> str:\n",
    "        return self.__str__()\n",
    "    \n",
    "    def __str__(self) -> str:\n",
    "        return \"Hilaire07\""
   ]
  },
  {
   "cell_type": "code",
   "execution_count": null,
   "metadata": {},
   "outputs": [],
   "source": [
    "#| export\n",
    "#| hide\n",
    "@patch_to(Hilaire07)\n",
    "def derv(self,\n",
    "         t: float, # time\n",
    "         state: np.ndarray, # dynamical state (x, xc, n)\n",
    "         input: np.ndarray # model input (light, wake)\n",
    "         ) -> np.ndarray: # derivative of the state\n",
    "     \"Right-hand-side of the differential equation model\"\n",
    "     x = state[0,...]\n",
    "     xc = state[1,...]\n",
    "     n = state[2,...]\n",
    "     light = input[0,...] \n",
    "     wake = input[1,...]\n",
    "     \n",
    "     alpha = self.a0 * (np.power(light / self.I0, self.p)) * (light / (light + 100.0))\n",
    "     Bhat = self.G * (1 - n) * alpha * (1 - 0.4 * x) * (1 - 0.4 * xc) \n",
    "     # From article: sigma equals either 1 (for sleep/rest) or 0 (for wake/activity),\n",
    "     sigma = 1.0 if wake < 0.5 else 0.0\n",
    "     # Calculate psi_cx\n",
    "     C = t % 24\n",
    "     CBTmin = self.phi_xcx + self.phi_ref\n",
    "     CBTminlocal = CBTmin * 24.0 / (2*np.pi)\n",
    "     psi_cx = C - CBTminlocal\n",
    "     psi_cx = psi_cx % 24\n",
    "     # Define Ns\n",
    "     Nsh = self.rho * (1.0/3.0 - sigma)\n",
    "     if (psi_cx > 16.5 and psi_cx < 21.0):\n",
    "          Nsh = self.rho * (1.0/3.0)\n",
    "     Ns = Nsh * (1 - np.tanh(10.0 * x))\n",
    "\n",
    "     mu_term = self.mu * (1.0 / 3.0 * x + 4.0 / 3.0 * np.power(x, 3.0) - 256.0 / 105.0 * np.power(x, 7.0))\n",
    "     taux_term = (np.power((24.0 / (0.99729 * self.taux)), 2) + self.k * Bhat)\n",
    "     \n",
    "     dydt = np.zeros_like(state)\n",
    "     dydt[0,...] = np.pi / 12.0 * (xc + mu_term + Bhat + Ns)\n",
    "     dydt[1,...] = np.pi / 12.0 * (self.q * Bhat * xc - x * taux_term)\n",
    "     dydt[2,...] = 60.0 * (alpha * (1.0 - n) - self.beta * n)\n",
    "     \n",
    "     return dydt"
   ]
  },
  {
   "cell_type": "code",
   "execution_count": null,
   "metadata": {},
   "outputs": [],
   "source": [
    "#| export\n",
    "#| hide\n",
    "@patch_to(Hilaire07)\n",
    "def phase(self,\n",
    "          trajectory: DynamicalTrajectory=None, # trajectory to calculate the phase. If None, the current trajectory is used\n",
    "          time: float=None # a time point to calculate the phase at. If None, the phase is calculated for the entire trajectory\n",
    "          ) -> float:\n",
    "    if trajectory is None:\n",
    "        trajectory = self.trajectory\n",
    "    else: \n",
    "        if not isinstance(trajectory, DynamicalTrajectory):\n",
    "            raise ValueError(\"trajectory must be a DynamicalTrajectory\")\n",
    "    if time is None:\n",
    "        x = trajectory.states[:, 0]\n",
    "        y = -1.0 * trajectory.states[:, 1]\n",
    "    else:\n",
    "        if not isinstance(time, (float, int)):\n",
    "            raise ValueError(\"time must be a float or an int\")\n",
    "        else:\n",
    "            state = trajectory(time)\n",
    "            x = state[0] \n",
    "            y = -1.0 * state[1]\n",
    "    return np.angle(x + complex(0,1) * y)"
   ]
  },
  {
   "cell_type": "code",
   "execution_count": null,
   "metadata": {},
   "outputs": [],
   "source": [
    "#| export\n",
    "#| hide\n",
    "@patch_to(Hilaire07)\n",
    "def amplitude(self,\n",
    "              trajectory: DynamicalTrajectory=None, # trajectory to calculate the amplitude. If None, the current trajectory is used\n",
    "              time: float=None # a time point to calculate the amplitude at. If None, the amplitude is calculated for the entire trajectory\n",
    "              ) -> float:\n",
    "    if trajectory is None:\n",
    "        trajectory = self.trajectory\n",
    "    else: \n",
    "        if not isinstance(trajectory, DynamicalTrajectory):\n",
    "            raise ValueError(\"trajectory must be a DynamicalTrajectory\")\n",
    "    if time is None:\n",
    "        x = trajectory.states[:, 0]\n",
    "        y = -1.0 * trajectory.states[:, 1]\n",
    "    else:\n",
    "        if not isinstance(time, (float, int)):\n",
    "            raise ValueError(\"time must be a float or an int\")\n",
    "        else:\n",
    "            state = trajectory(time)\n",
    "            x = state[0] \n",
    "            y = -1.0 * state[1]\n",
    "    return np.sqrt(x**2 + y**2)"
   ]
  },
  {
   "cell_type": "code",
   "execution_count": null,
   "metadata": {},
   "outputs": [],
   "source": [
    "#| export\n",
    "#| hide\n",
    "@patch_to(Hilaire07)\n",
    "def cbt(self,\n",
    "        trajectory: DynamicalTrajectory=None, # trajectory to calculate the cbt. If None, the current trajectory is used\n",
    "        ) -> np.ndarray:\n",
    "    \"Finds the core body temperature minumum markers for the model along a trajectory as the corrected minimum of x\"\n",
    "    if trajectory is None:\n",
    "        trajectory = self.trajectory\n",
    "    else:\n",
    "        if not isinstance(trajectory, DynamicalTrajectory):\n",
    "            raise ValueError(\"trajectory must be a DynamicalTrajectory\")\n",
    "    inverted_x = -1 * trajectory.states[:,0]\n",
    "    cbt_min_idxs, _ = find_peaks(inverted_x)\n",
    "    cbtmin_times = trajectory.time[cbt_min_idxs] + self.phi_ref\n",
    "    _check_cbtmin_spacing(cbtmin_times)\n",
    "    return cbtmin_times"
   ]
  },
  {
   "cell_type": "code",
   "execution_count": null,
   "metadata": {},
   "outputs": [],
   "source": [
    "#| export\n",
    "#| hide\n",
    "@patch_to(Hilaire07)\n",
    "def dlmos(self,\n",
    "          trajectory: DynamicalTrajectory=None # trajectory to calculate the dlmo. If None, the current trajectory is used\n",
    "          ) -> np.ndarray:\n",
    "    \"Finds the Dim Light Melatonin Onset (DLMO) markers for the model along a trajectory\"\n",
    "    if trajectory is None:\n",
    "        trajectory = self.trajectory\n",
    "    else:\n",
    "        if not isinstance(trajectory, DynamicalTrajectory):\n",
    "            raise ValueError(\"trajectory must be a DynamicalTrajectory\")\n",
    "    return self.cbt(trajectory) - self.cbt_to_dlmo"
   ]
  },
  {
   "cell_type": "code",
   "execution_count": null,
   "metadata": {},
   "outputs": [
    {
     "name": "stdout",
     "output_type": "stream",
     "text": [
      "[-0.17427752 -1.2205597   0.51854818]\n"
     ]
    }
   ],
   "source": [
    "#| hide\n",
    "# get default initial condition\n",
    "model = Hilaire07()\n",
    "default_initial_condition = _get_default_initial_condition(model, num_loops=50)\n",
    "print(default_initial_condition)"
   ]
  },
  {
   "cell_type": "markdown",
   "metadata": {},
   "source": [
    "#| hide \n",
    "# Skeldon23"
   ]
  },
  {
   "cell_type": "code",
   "execution_count": null,
   "metadata": {},
   "outputs": [],
   "source": [
    "#| export\n",
    "#| hide\n",
    "class Skeldon23(CircadianModel):\n",
    "    \"Implementation of Skeldon's 2023 model from the article 'Method to determine whether sleep phenotypes are driven by endogenous circadian rhythms or environmental light by combining longitudinal data and personalised mathematical models'\"\n",
    "    def __init__(self, params=None):\n",
    "        default_params = {\n",
    "            # sleep/wake regulation parameters\n",
    "            'mu': 17.78, 'chi': 45.0, 'H0': 13.0, 'Delta': 1.0, 'ca': 1.72,\n",
    "            # light/circadian parameters\n",
    "            'tauc': 24.2, 'f': 0.99669, 'G': 19.9, 'p': 0.6, 'k': 0.55, 'b': 0.4,\n",
    "            'gamma': 0.23, 'alpha_0': 0.16, 'beta': 0.013, 'I0': 9500.0,\n",
    "            'kappa': 24.0 / (2.0 * np.pi),\n",
    "            # circadian modulation of wakefulness parameters\n",
    "            'c20': 0.7896, 'alpha21': -0.3912, 'alpha22': 0.7583,\n",
    "            'beta21': -0.4442, 'beta22': 0.0250, 'beta23': -0.9647, \n",
    "            # initial sleep state\n",
    "            'S0': 0.0,\n",
    "            # dlmo calculation\n",
    "            'cbt_to_dlmo': 7.0,\n",
    "            }\n",
    "        num_states = 4 # x, xc, n, H\n",
    "        num_inputs = 1 # light\n",
    "        default_initial_condition = np.array([0.23995682, -1.1547196, 0.50529415, 12.83846474])\n",
    "        super(Skeldon23, self).__init__(default_params, num_states, num_inputs, default_initial_condition)\n",
    "        if params is not None:\n",
    "            self.parameters = params\n",
    "            if 'S0' in params:\n",
    "                self.current_sleep_state = params['S0'] # 0 for wake, 1 for sleep\n",
    "        else:\n",
    "            self.current_sleep_state = default_params['S0'] # 0 for wake, 1 for sleep\n",
    "        # sleep/wake\n",
    "        self.sleep_state = np.array([self.current_sleep_state])\n",
    "        # light received by the retina (in lux)\n",
    "        self.received_light = np.array([])\n",
    "\n",
    "    def integrate(self,\n",
    "                  time: np.ndarray, # time points for integration. Time difference between each consecutive pair of values determines step size of the solver\n",
    "                  initial_condition: np.ndarray=None, # initial state of the model\n",
    "                  input: np.ndarray=None, # model input (such as light or wake) for each time point\n",
    "                  ) -> DynamicalTrajectory:\n",
    "        \"Solve the model for specific timepoints given initial conditions and model inputs\"\n",
    "        # input checking\n",
    "        if input is not None:\n",
    "            _light_input_checking(input)\n",
    "        # reset sleep state and received light\n",
    "        self.sleep_state = np.array([self.current_sleep_state])\n",
    "        self.received_light = np.array([input[0]])\n",
    "        return super().integrate(time, initial_condition, input)\n",
    "\n",
    "    def step_rk4(self,\n",
    "                t: float, # time\n",
    "                state: np.ndarray, # dynamical state of the model\n",
    "                input: np.ndarray, # inputs to the model such as light or wake state\n",
    "                dt: float, # step size in hours \n",
    "                ) -> np.ndarray:\n",
    "        \"Integrate the state of the model for one timestep using a fourth-order Runge-Kutta algorithm. Assumes a constant light value for the time step\"\n",
    "        # store received light\n",
    "        self.received_light = np.append(self.received_light, (1.0 - self.current_sleep_state) * input)\n",
    "        # calculate the derivative\n",
    "        new_state = super().step_rk4(t, state, input, dt)\n",
    "        # calculate the new sleep state\n",
    "        x = state[0,...]\n",
    "        xc = state[1,...]\n",
    "        H = state[3,...]\n",
    "        S = self.current_sleep_state\n",
    "        new_sleep_state = S\n",
    "        linear_term = self.c20 + self.alpha21 * xc + self.alpha22 * x\n",
    "        quadratic_term = self.beta21 * xc * xc + self.beta22 * xc * x + self.beta23 * x * x\n",
    "        C = linear_term + quadratic_term # circadian modulation of wakefulness\n",
    "        if S == 0.0:\n",
    "            # going from wake to sleep\n",
    "            H_plus = self.H0 + 0.5 * self.Delta + self.ca * C\n",
    "            if H >= H_plus:\n",
    "                new_sleep_state = 1.0\n",
    "        elif S == 1.0:\n",
    "            # going from sleep to wake\n",
    "            H_minus = self.H0 - 0.5 * self.Delta + self.ca * C\n",
    "            if H <= H_minus:\n",
    "                new_sleep_state = 0.0\n",
    "        else:\n",
    "            raise ValueError(\"current sleep state must be 0 or 1\")\n",
    "        # update current sleep state and add value to sleep state array\n",
    "        self.current_sleep_state = new_sleep_state \n",
    "        self.sleep_state = np.append(self.sleep_state, new_sleep_state)\n",
    "\n",
    "        return new_state\n",
    "\n",
    "    def __repr__(self) -> str:\n",
    "        return self.__str__()\n",
    "    \n",
    "    def __str__(self) -> str:\n",
    "        return \"Skeldon23\""
   ]
  },
  {
   "cell_type": "code",
   "execution_count": null,
   "metadata": {},
   "outputs": [],
   "source": [
    "#| export\n",
    "#| hide\n",
    "@patch_to(Skeldon23)\n",
    "def derv(self, \n",
    "         t: float, # time\n",
    "         state: np.ndarray, # dynamical state (y, x, n, H)\n",
    "         input: float # light intensity in lux\n",
    "         ) -> np.ndarray: # derivative of the state\n",
    "     \"Right-hand-side of the differential equation model\"\n",
    "     x = state[0,...]\n",
    "     xc = state[1,...]\n",
    "     n = state[2,...]\n",
    "     H = state[3,...]\n",
    "     S = self.current_sleep_state\n",
    "     light = (1.0 - S) * input\n",
    "\n",
    "     # circadian model derivative\n",
    "     alpha = self.alpha_0 * pow((light / self.I0), self.p)\n",
    "     B = self.G * (1.0 - n) * alpha * (1.0 - self.b * x) * (1.0 - self.b * xc)\n",
    "     gamma_term = self.gamma * (xc - 4.0 / 3.0 * pow(xc, 3.0))\n",
    "     tauc_term = pow(24.0 / (self.f * self.tauc), 2.0) + self.k * B\n",
    "\n",
    "     dydt = np.zeros_like(state)\n",
    "     dydt[0,...] = (1.0 / self.kappa) * (xc + B)\n",
    "     dydt[1,...] = (1.0 / self.kappa) * (gamma_term - x * tauc_term)\n",
    "     dydt[2,...] = 60.0 * (alpha * (1.0 - n) - self.beta * n)\n",
    "\n",
    "     # sleep pressure signal (H(t)) derivative\n",
    "     dydt[3,...] = (1.0 / self.chi) * (- H + (1.0 - S) * self.mu)\n",
    "\n",
    "\n",
    "     return dydt"
   ]
  },
  {
   "cell_type": "code",
   "execution_count": null,
   "metadata": {},
   "outputs": [],
   "source": [
    "#| export\n",
    "#| hide\n",
    "@patch_to(Skeldon23)\n",
    "def phase(self,\n",
    "          trajectory: DynamicalTrajectory=None, # trajectory to calculate the phase. If None, the current trajectory is used\n",
    "          time: float=None # a time point to calculate the phase at. If None, the phase is calculated for the entire trajectory\n",
    "          ) -> float:\n",
    "        if trajectory is None:\n",
    "            trajectory = self.trajectory\n",
    "        else: \n",
    "            if not isinstance(trajectory, DynamicalTrajectory):\n",
    "                raise ValueError(\"trajectory must be a DynamicalTrajectory\")\n",
    "        if time is None:\n",
    "            x = trajectory.states[:, 0]\n",
    "            y = -1.0 * trajectory.states[:, 1]\n",
    "        else:\n",
    "            if not isinstance(time, (float, int)):\n",
    "                raise ValueError(\"time must be a float or an int\")\n",
    "            else:\n",
    "                state = trajectory(time)\n",
    "                x = state[0] \n",
    "                y = -1.0 * state[1]\n",
    "        return np.angle(x + complex(0,1) * y)"
   ]
  },
  {
   "cell_type": "code",
   "execution_count": null,
   "metadata": {},
   "outputs": [],
   "source": [
    "#| export\n",
    "#| hide\n",
    "@patch_to(Skeldon23)\n",
    "def amplitude(self,\n",
    "              trajectory: DynamicalTrajectory=None, # trajectory to calculate the amplitude. If None, the current trajectory is used\n",
    "              time: float=None # a time point to calculate the amplitude at. If None, the amplitude is calculated for the entire trajectory\n",
    "              ) -> float:\n",
    "        if trajectory is None:\n",
    "            trajectory = self.trajectory\n",
    "        else: \n",
    "            if not isinstance(trajectory, DynamicalTrajectory):\n",
    "                raise ValueError(\"trajectory must be a DynamicalTrajectory\")\n",
    "        if time is None:\n",
    "            x = trajectory.states[:, 0]\n",
    "            y = -1.0 * trajectory.states[:, 1]\n",
    "        else:\n",
    "            if not isinstance(time, (float, int)):\n",
    "                raise ValueError(\"time must be a float or an int\")\n",
    "            else:\n",
    "                state = trajectory(time)\n",
    "                x = state[0] \n",
    "                y = -1.0 * state[1]\n",
    "        return np.sqrt(x**2 + y**2)"
   ]
  },
  {
   "cell_type": "code",
   "execution_count": null,
   "metadata": {},
   "outputs": [],
   "source": [
    "#| export\n",
    "#| hide\n",
    "@patch_to(Skeldon23)\n",
    "def cbt(self,\n",
    "        trajectory: DynamicalTrajectory=None, # trajectory to calculate the cbt. If None, the current trajectory is used\n",
    "        ) -> np.ndarray:\n",
    "    \"Finds the core body temperature minumum markers for the model along a trajectory as the minimum of x\"\n",
    "    if trajectory is None:\n",
    "        trajectory = self.trajectory\n",
    "    else:\n",
    "        if not isinstance(trajectory, DynamicalTrajectory):\n",
    "            raise ValueError(\"trajectory must be a DynamicalTrajectory\")\n",
    "    inverted_x = -1 * trajectory.states[:,0]\n",
    "    cbt_min_idxs, _ = find_peaks(inverted_x)\n",
    "    cbtmin_times = trajectory.time[cbt_min_idxs]\n",
    "    _check_cbtmin_spacing(cbtmin_times)\n",
    "    return cbtmin_times"
   ]
  },
  {
   "cell_type": "code",
   "execution_count": null,
   "metadata": {},
   "outputs": [],
   "source": [
    "#| export\n",
    "#| hide\n",
    "@patch_to(Skeldon23)\n",
    "def dlmos(self,\n",
    "            trajectory: DynamicalTrajectory=None # trajectory to calculate the dlmo. If None, the current trajectory is used\n",
    "            ) -> np.ndarray:\n",
    "        \"Finds the Dim Light Melatonin Onset (DLMO) markers for the model along a trajectory\"\n",
    "        if trajectory is None:\n",
    "            trajectory = self.trajectory\n",
    "        else:\n",
    "            if not isinstance(trajectory, DynamicalTrajectory):\n",
    "                raise ValueError(\"trajectory must be a DynamicalTrajectory\")\n",
    "        return self.cbt(trajectory) - self.cbt_to_dlmo"
   ]
  },
  {
   "cell_type": "code",
   "execution_count": null,
   "metadata": {},
   "outputs": [
    {
     "name": "stdout",
     "output_type": "stream",
     "text": [
      "[ 0.23995682 -1.1547196   0.50529415 12.83846474]\n"
     ]
    }
   ],
   "source": [
    "#| hide\n",
    "# get default initial condition\n",
    "model = Skeldon23()\n",
    "default_initial_condition = _get_default_initial_condition(model, num_loops=30)\n",
    "print(default_initial_condition)"
   ]
  },
  {
   "attachments": {},
   "cell_type": "markdown",
   "metadata": {},
   "source": [
    "#| hide\n",
    "## Nakao02 - TODO"
   ]
  },
  {
   "cell_type": "code",
   "execution_count": null,
   "metadata": {},
   "outputs": [],
   "source": [
    "#| hide\n",
    "# TODO: Implement Nakao's 2002 model from the article 'A phase dynamics model of human circadian rhythms'"
   ]
  },
  {
   "attachments": {},
   "cell_type": "markdown",
   "metadata": {},
   "source": [
    "#| hide\n",
    "# Documentation"
   ]
  },
  {
   "attachments": {},
   "cell_type": "markdown",
   "metadata": {},
   "source": [
    "# Overview"
   ]
  },
  {
   "attachments": {},
   "cell_type": "markdown",
   "metadata": {},
   "source": [
    "The `circadian.models` module contains the essential tools for simulating circadian rhythms. The base class `DynamicalTrajectory` handles differential equation solutions, while the `CircadianModel` class handles the implementation of the models themselves. The first part of the documentation focuses on [how to simulate circadian rhythms](#simulating-circadian-rhythms) while the second part [describes each model briefly](#implemented-models). For a description of each implementation see the [API Documentation](#api-documentation)."
   ]
  },
  {
   "attachments": {},
   "cell_type": "markdown",
   "metadata": {},
   "source": [
    "# Simulating circadian rhythms"
   ]
  },
  {
   "attachments": {},
   "cell_type": "markdown",
   "metadata": {},
   "source": [
    "To simulate a circadian model we need to provide a set of timepoints where we want to calculate the solution and a set of light inputs for each timepoint"
   ]
  },
  {
   "attachments": {},
   "cell_type": "markdown",
   "metadata": {},
   "source": [
    "```python\n",
    "import numpy as np\n",
    "import matplotlib.pyplot as plt\n",
    "from circadian.models import Forger99\n",
    "from circadian.lights import LightSchedule\n",
    "\n",
    "simulation_days = 5\n",
    "dt = 0.5 # hours\n",
    "time = np.arange(0, 24 * simulation_days, dt)\n",
    "\n",
    "light_schedule = LightSchedule.Regular()\n",
    "light_input = light_schedule(time)\n",
    "\n",
    "model = Forger99()\n",
    "trajectory = model(time, input=light_input)\n",
    "```"
   ]
  },
  {
   "cell_type": "code",
   "execution_count": null,
   "metadata": {},
   "outputs": [],
   "source": [
    "#| hide\n",
    "import numpy as np\n",
    "import matplotlib.pyplot as plt\n",
    "from circadian.models import Forger99, Jewett99, Hannay19, Hannay19TP\n",
    "from circadian.lights import LightSchedule"
   ]
  },
  {
   "cell_type": "code",
   "execution_count": null,
   "metadata": {},
   "outputs": [],
   "source": [
    "#| echo: false\n",
    "simulation_days = 5\n",
    "dt = 0.5 # hours\n",
    "time = np.arange(0, 24 * simulation_days, dt)\n",
    "\n",
    "light_schedule = LightSchedule.Regular()\n",
    "light_input = light_schedule(time)\n",
    "\n",
    "model = Forger99()\n",
    "trajectory = model(time, input=light_input)"
   ]
  },
  {
   "attachments": {},
   "cell_type": "markdown",
   "metadata": {},
   "source": [
    "we can plot the solution by acessing the trajectory's `states`"
   ]
  },
  {
   "cell_type": "code",
   "execution_count": null,
   "metadata": {},
   "outputs": [
    {
     "data": {
      "image/png": "[encoded data removed]",
      "text/plain": [
       "<Figure size 640x480 with 1 Axes>"
      ]
     },
     "metadata": {},
     "output_type": "display_data"
    }
   ],
   "source": [
    "plt.plot(time/24.0, trajectory.states[:,0], label='x')\n",
    "plt.xlabel('Time (days)')\n",
    "plt.ylabel('State')\n",
    "plt.legend(loc='upper center', bbox_to_anchor=(0.94, 1.1), ncol=2) #| hide_line\n",
    "plt.ylim([-1.1, 1.1]) #| hide_line\n",
    "plt.show()"
   ]
  },
  {
   "attachments": {},
   "cell_type": "markdown",
   "metadata": {},
   "source": [
    "## Custom parameters and initial conditions"
   ]
  },
  {
   "attachments": {},
   "cell_type": "markdown",
   "metadata": {},
   "source": [
    "In the example above, we are not defining initial conditions nor parameters. This is because each model in the library has a default set of parameters and initial conditions. Initial conditions and parameters used in the simulation can be accessed by"
   ]
  },
  {
   "cell_type": "code",
   "execution_count": null,
   "metadata": {},
   "outputs": [
    {
     "data": {
      "text/plain": [
       "array([-0.0843259 , -1.09607546,  0.45584306])"
      ]
     },
     "execution_count": null,
     "metadata": {},
     "output_type": "execute_result"
    }
   ],
   "source": [
    "model.initial_condition"
   ]
  },
  {
   "cell_type": "code",
   "execution_count": null,
   "metadata": {},
   "outputs": [
    {
     "data": {
      "text/plain": [
       "{'taux': 24.2,\n",
       " 'mu': 0.23,\n",
       " 'G': 33.75,\n",
       " 'alpha_0': 0.05,\n",
       " 'beta': 0.0075,\n",
       " 'p': 0.5,\n",
       " 'I0': 9500.0,\n",
       " 'k': 0.55,\n",
       " 'cbt_to_dlmo': 7.0}"
      ]
     },
     "execution_count": null,
     "metadata": {},
     "output_type": "execute_result"
    }
   ],
   "source": [
    "model.parameters"
   ]
  },
  {
   "attachments": {},
   "cell_type": "markdown",
   "metadata": {},
   "source": [
    "We can run simulations with custom parameters and initial conditions by"
   ]
  },
  {
   "cell_type": "code",
   "execution_count": null,
   "metadata": {},
   "outputs": [],
   "source": [
    "simulation_days = 5\n",
    "dt = 0.5 # hours\n",
    "time = np.arange(0, 24 * simulation_days, dt)\n",
    "\n",
    "light_schedule = LightSchedule.Regular()\n",
    "light_input = light_schedule(time)\n",
    "\n",
    "custom_parameters = {\n",
    "    'taux': 14.0, 'mu': 0.3, 'G': 34.0, 'alpha_0': 0.07,\n",
    "    'delta': 0.0095, 'p': 0.7, 'I0': 9300.0, 'kparam': 0.75,\n",
    "    'cbt_to_dlmo': 7.0}\n",
    "custom_initial_condition = np.array([0.5, 0.1, 0.1])\n",
    "\n",
    "model = Forger99(custom_parameters)\n",
    "trajectory = model(time, custom_initial_condition, light_input)"
   ]
  },
  {
   "cell_type": "code",
   "execution_count": null,
   "metadata": {},
   "outputs": [
    {
     "data": {
      "image/png": "[encoded data removed]",
      "text/plain": [
       "<Figure size 640x480 with 1 Axes>"
      ]
     },
     "metadata": {},
     "output_type": "display_data"
    }
   ],
   "source": [
    "plt.plot(time/24.0, trajectory.states[:,0], label='x')\n",
    "plt.xlabel('Time (days)')\n",
    "plt.ylabel('State')\n",
    "plt.legend(loc='upper center', bbox_to_anchor=(0.94, 1.1), ncol=2) #| hide_line\n",
    "plt.ylim([-1.1, 1.1]) #| hide_line\n",
    "plt.show()"
   ]
  },
  {
   "attachments": {},
   "cell_type": "markdown",
   "metadata": {},
   "source": [
    "When defining custom parameters we can specify only a subset and the rest will maintain their default values (or any previously defined values)."
   ]
  },
  {
   "cell_type": "code",
   "execution_count": null,
   "metadata": {},
   "outputs": [],
   "source": [
    "simulation_days = 5\n",
    "dt = 0.5 # hours\n",
    "time = np.arange(0, 24 * simulation_days, dt)\n",
    "\n",
    "light_schedule = LightSchedule.Regular()\n",
    "light_input = light_schedule(time)\n",
    "\n",
    "model = Forger99({'taux': 48.0})\n",
    "trajectory = model(time,  input=light_input)"
   ]
  },
  {
   "cell_type": "code",
   "execution_count": null,
   "metadata": {},
   "outputs": [
    {
     "data": {
      "image/png": "[encoded data removed]",
      "text/plain": [
       "<Figure size 640x480 with 1 Axes>"
      ]
     },
     "metadata": {},
     "output_type": "display_data"
    }
   ],
   "source": [
    "#| echo: false\n",
    "plt.plot(time/24.0, trajectory.states[:,0], label='x')\n",
    "plt.xlabel('Time (days)')\n",
    "plt.ylabel('State')\n",
    "plt.legend(loc='upper center', bbox_to_anchor=(0.94, 1.1), ncol=2) #| hide_line\n",
    "plt.show()"
   ]
  },
  {
   "attachments": {},
   "cell_type": "markdown",
   "metadata": {},
   "source": [
    "## Simulating from multiple initial conditions"
   ]
  },
  {
   "attachments": {},
   "cell_type": "markdown",
   "metadata": {},
   "source": [
    "Models accept arrays of initial conditions allowing to simulate from multiple initial conditions at once. For example, to simulate the Forger99 model from 100 different initial conditions we can do"
   ]
  },
  {
   "cell_type": "code",
   "execution_count": null,
   "metadata": {},
   "outputs": [],
   "source": [
    "simulation_days = 10\n",
    "dt = 0.5 # hours\n",
    "time = np.arange(0, 24 * simulation_days, dt)\n",
    "\n",
    "light_schedule = LightSchedule.Regular()\n",
    "light_input = light_schedule(time)\n",
    "\n",
    "x_values = np.linspace(-1.0, 1.0, 10)\n",
    "xc_values = np.linspace(-1.0, 1.0, 10)\n",
    "x_xc_stack = np.dstack(np.meshgrid(x_values, xc_values)).reshape(-1, 2)\n",
    "multiple_initial_conditions = np.hstack((x_xc_stack, np.zeros((x_xc_stack.shape[0], 1))))\n",
    "multiple_initial_conditions = multiple_initial_conditions.T\n",
    "\n",
    "model = Forger99()\n",
    "trajectory = model(time, multiple_initial_conditions, light_input)"
   ]
  },
  {
   "attachments": {},
   "cell_type": "markdown",
   "metadata": {},
   "source": [
    "Note that we have to format the initial conditions as a numpy array of dimensions (3, n) where n is the total number of initial conditions and 3 is the number of states in the model."
   ]
  },
  {
   "attachments": {},
   "cell_type": "markdown",
   "metadata": {},
   "source": [
    "The resulting trajectory contains all the solutions in the same order as the initial conditions"
   ]
  },
  {
   "cell_type": "code",
   "execution_count": null,
   "metadata": {},
   "outputs": [
    {
     "data": {
      "text/plain": [
       "(480, 3, 100)"
      ]
     },
     "execution_count": null,
     "metadata": {},
     "output_type": "execute_result"
    }
   ],
   "source": [
    "trajectory.states.shape"
   ]
  },
  {
   "attachments": {},
   "cell_type": "markdown",
   "metadata": {},
   "source": [
    "We can plot the solution for each initial condition by"
   ]
  },
  {
   "cell_type": "code",
   "execution_count": null,
   "metadata": {},
   "outputs": [
    {
     "data": {
      "image/png": "[encoded data removed]",
      "text/plain": [
       "<Figure size 640x480 with 1 Axes>"
      ]
     },
     "metadata": {},
     "output_type": "display_data"
    }
   ],
   "source": [
    "for idx in range(trajectory.states.shape[2]):\n",
    "    plt.plot(time/24.0, trajectory.states[:,0,idx], \n",
    "             color='b', alpha=0.1)\n",
    "plt.xlabel('Time (days)')\n",
    "plt.ylabel('State')\n",
    "plt.show()"
   ]
  },
  {
   "attachments": {},
   "cell_type": "markdown",
   "metadata": {},
   "source": [
    "This is the recommended method to simulate multiple initial conditions--by passing a numpy array to the model. Our implementation takes advantage of numpy's vectorization to speed up the calculation. If we simulate each initial condition individually, the simulation will be slower."
   ]
  },
  {
   "attachments": {},
   "cell_type": "markdown",
   "metadata": {},
   "source": [
    "## Estimation of circadian phase markers"
   ]
  },
  {
   "attachments": {},
   "cell_type": "markdown",
   "metadata": {},
   "source": [
    "Models support the estimation of Dim Light Melatonin Onset (DLMO) and Core Body Temperature Minimum (CBTmin) directly from the solution"
   ]
  },
  {
   "cell_type": "code",
   "execution_count": null,
   "metadata": {},
   "outputs": [],
   "source": [
    "simulation_days = 5\n",
    "dt = 0.5 # hours\n",
    "time = np.arange(0, 24 * simulation_days, dt)\n",
    "\n",
    "light_schedule = LightSchedule.Regular()\n",
    "light_input = light_schedule(time)\n",
    "\n",
    "model = Forger99()\n",
    "trajectory = model(time, input=light_input)\n",
    "\n",
    "cbt_times = model.cbt()\n",
    "dlmo_times = model.dlmos()"
   ]
  },
  {
   "cell_type": "code",
   "execution_count": null,
   "metadata": {},
   "outputs": [],
   "source": [
    "#| hide\n",
    "import matplotlib.lines as lines"
   ]
  },
  {
   "cell_type": "code",
   "execution_count": null,
   "metadata": {},
   "outputs": [
    {
     "data": {
      "image/png": "[encoded data removed]",
      "text/plain": [
       "<Figure size 640x480 with 1 Axes>"
      ]
     },
     "metadata": {},
     "output_type": "display_data"
    }
   ],
   "source": [
    "#| echo: false\n",
    "plt.plot(time/24.0, trajectory.states[:,0], label='x')\n",
    "for cbt_time in cbt_times:\n",
    "    plt.axvline(x=cbt_time/24.0, color='r', linestyle='--')\n",
    "for dlmo_time in dlmo_times:\n",
    "    plt.axvline(x=dlmo_time/24.0, color='g', linestyle='--')\n",
    "plt.xlabel('Time (days)')\n",
    "plt.ylabel('State')\n",
    "cbt_line = lines.Line2D([], [], color='red', linestyle='--', label='CBTmin')\n",
    "dlmo_line = lines.Line2D([], [], color='green', linestyle='--', label='DLMO')\n",
    "plt.legend(handles=[cbt_line, dlmo_line], loc='upper center', bbox_to_anchor=(0.8, 1.1), ncol=2)\n",
    "plt.show()"
   ]
  },
  {
   "attachments": {},
   "cell_type": "markdown",
   "metadata": {},
   "source": [
    "## Amplitude and phase calculation"
   ]
  },
  {
   "attachments": {},
   "cell_type": "markdown",
   "metadata": {},
   "source": [
    "Models also support the calculation of amplitude and phase at any desired timepoint"
   ]
  },
  {
   "cell_type": "code",
   "execution_count": null,
   "metadata": {},
   "outputs": [
    {
     "name": "stdout",
     "output_type": "stream",
     "text": [
      "Final phase: 1.816519098567579\n",
      "Final amplitude: 1.0736079380242345\n"
     ]
    }
   ],
   "source": [
    "simulation_days = 5\n",
    "dt = 0.5 # hours\n",
    "time = np.arange(0, 24 * simulation_days, dt)\n",
    "\n",
    "light_schedule = LightSchedule.Regular()\n",
    "light_input = light_schedule(time)\n",
    "\n",
    "model = Forger99()\n",
    "trajectory = model(time, input=light_input)\n",
    "\n",
    "t_final = time[-1]\n",
    "final_phase = model.phase(time=t_final)\n",
    "final_amplitude = model.amplitude(time=t_final)\n",
    "print(\"Final phase: {}\".format(final_phase)) #| hide_line\n",
    "print(\"Final amplitude: {}\".format(final_amplitude)) #| hide_line"
   ]
  },
  {
   "attachments": {},
   "cell_type": "markdown",
   "metadata": {},
   "source": [
    "# Implemented models"
   ]
  },
  {
   "attachments": {},
   "cell_type": "markdown",
   "metadata": {},
   "source": [
    "## Forger99"
   ]
  },
  {
   "attachments": {},
   "cell_type": "markdown",
   "metadata": {},
   "source": [
    "The `Forger99` model is taken from [Forger, Jewett, and Kronauer's 1999 article](https://doi.org/10.1177/074873099129000867) which defines a simplification of previous iterations of the van der Pol based oscillator models published in the 1990s. It is one of the most popular models in the circadian literature. The implementation in this package uses the parameters taken from [Serkh and Forger 2014](https://doi.org/10.1371/journal.pcbi.1003523) rather than the parameters from the original paper."
   ]
  },
  {
   "attachments": {},
   "cell_type": "markdown",
   "metadata": {},
   "source": [
    "The model states are defined by three dynamic variables: $x$, $x_c$, and $n$. These states are related to circadian rhythms by defining the core body temperature minimum (a biomarker for circadian state) to be the minimum of the $x$ variable."
   ]
  },
  {
   "attachments": {},
   "cell_type": "markdown",
   "metadata": {},
   "source": [
    "The differential equations governing the evolution of the `Forger99` model are:"
   ]
  },
  {
   "attachments": {},
   "cell_type": "markdown",
   "metadata": {},
   "source": [
    "$\\frac{dx}{dt} = \\frac{\\pi}{12}(x_c + B)$"
   ]
  },
  {
   "attachments": {},
   "cell_type": "markdown",
   "metadata": {},
   "source": [
    "$\\frac{dx_c}{dt} = \\frac{\\pi}{12}\\left\\{\\mu \\left( x_c - \\frac{4x_{c}^3}{3} \\right) - x \\left[ \\left( \\frac{24}{0.99669 \\tau_x} \\right)^2 + kB \\right] \\right\\}$"
   ]
  },
  {
   "attachments": {},
   "cell_type": "markdown",
   "metadata": {},
   "source": [
    "$\\frac{dn}{dt} = 60[\\alpha(I)(1-n)-\\beta n]$"
   ]
  },
  {
   "attachments": {},
   "cell_type": "markdown",
   "metadata": {},
   "source": [
    "where"
   ]
  },
  {
   "attachments": {},
   "cell_type": "markdown",
   "metadata": {},
   "source": [
    "$\\alpha(I) = \\alpha_0\\left( \\frac{I^p}{I_0^p}\\right)$"
   ]
  },
  {
   "attachments": {},
   "cell_type": "markdown",
   "metadata": {},
   "source": [
    "$B = G(1-n)\\alpha(I)(1-0.4x)(1-0.4x_c)$"
   ]
  },
  {
   "attachments": {},
   "cell_type": "markdown",
   "metadata": {},
   "source": [
    "The default parameters for this model are:"
   ]
  },
  {
   "cell_type": "code",
   "execution_count": null,
   "metadata": {},
   "outputs": [
    {
     "data": {
      "text/plain": [
       "{'taux': 24.2,\n",
       " 'mu': 0.23,\n",
       " 'G': 33.75,\n",
       " 'alpha_0': 0.05,\n",
       " 'beta': 0.0075,\n",
       " 'p': 0.5,\n",
       " 'I0': 9500.0,\n",
       " 'k': 0.55,\n",
       " 'cbt_to_dlmo': 7.0}"
      ]
     },
     "execution_count": null,
     "metadata": {},
     "output_type": "execute_result"
    }
   ],
   "source": [
    "model = Forger99()\n",
    "model.parameters"
   ]
  },
  {
   "attachments": {},
   "cell_type": "markdown",
   "metadata": {},
   "source": [
    "The `cbt_to_dlmo` parameter is used to convert the core body temperature minimum to DLMO. The default behavior is DLMO ocurring 7 hours before CBTmin."
   ]
  },
  {
   "attachments": {},
   "cell_type": "markdown",
   "metadata": {},
   "source": [
    "## Jewett99"
   ]
  },
  {
   "attachments": {},
   "cell_type": "markdown",
   "metadata": {},
   "source": [
    "The `Jewett99` model is taken from [Jewett, Forger, and Kronauer's 1999 article](https://doi.org/10.1177/074873049901400608) which defines several refinements to a van der Pol oscillator model developed by Kronauer previously. One of the main features of this model are the high-order terms in the differential equations which allow for a more accurate representation of the circadian system than previous models."
   ]
  },
  {
   "attachments": {},
   "cell_type": "markdown",
   "metadata": {},
   "source": [
    "Similarly to `Forger99` the model states are defined by three dynamic variables: $x$, $x_c$, and $n$. The variable $x$ is related to the core body temperature and $n$ to the processed light input."
   ]
  },
  {
   "attachments": {},
   "cell_type": "markdown",
   "metadata": {},
   "source": [
    "The differential equations governing the evolution of the `Jewett99` model are:"
   ]
  },
  {
   "attachments": {},
   "cell_type": "markdown",
   "metadata": {},
   "source": [
    "$\\frac{dx}{dt} = \\frac{\\pi}{12} \\left[x_c + \\mu \\left(\\frac{x}{3} + \\frac{4x^3}{3} - \\frac{256 x^7}{105}\\right) + B\\right]$"
   ]
  },
  {
   "attachments": {},
   "cell_type": "markdown",
   "metadata": {},
   "source": [
    "$\\frac{dx_c}{dt} = \\frac{\\pi}{12} \\left\\{ q B x_c - \\left[ \\left( \\frac{24}{0.99729 \\tau_{x}} \\right)^2 + k B \\right] x \\right\\}$"
   ]
  },
  {
   "attachments": {},
   "cell_type": "markdown",
   "metadata": {},
   "source": [
    "$\\frac{dn}{dt} = 60[\\alpha(I)(1-n)-\\beta n]$"
   ]
  },
  {
   "attachments": {},
   "cell_type": "markdown",
   "metadata": {},
   "source": [
    "where"
   ]
  },
  {
   "attachments": {},
   "cell_type": "markdown",
   "metadata": {},
   "source": [
    "$\\alpha(I) = \\alpha_0\\left( \\frac{I^p}{I_0^p}\\right)$"
   ]
  },
  {
   "attachments": {},
   "cell_type": "markdown",
   "metadata": {},
   "source": [
    "$B = G(1-n)\\alpha(I)(1-0.4x)(1-0.4x_c)$"
   ]
  },
  {
   "attachments": {},
   "cell_type": "markdown",
   "metadata": {},
   "source": [
    "The default parameters for this model are:"
   ]
  },
  {
   "cell_type": "code",
   "execution_count": null,
   "metadata": {},
   "outputs": [
    {
     "data": {
      "text/plain": [
       "{'taux': 24.2,\n",
       " 'mu': 0.13,\n",
       " 'G': 19.875,\n",
       " 'beta': 0.013,\n",
       " 'k': 0.55,\n",
       " 'q': 0.3333333333333333,\n",
       " 'I0': 9500,\n",
       " 'p': 0.6,\n",
       " 'alpha_0': 0.16,\n",
       " 'phi_ref': 0.8,\n",
       " 'cbt_to_dlmo': 7.0}"
      ]
     },
     "execution_count": null,
     "metadata": {},
     "output_type": "execute_result"
    }
   ],
   "source": [
    "model = Jewett99()\n",
    "model.parameters"
   ]
  },
  {
   "attachments": {},
   "cell_type": "markdown",
   "metadata": {},
   "source": [
    "The `cbt_to_dlmo` and `phi_ref` parameters are used to calculate the core body temperature minimum and convert it to DLMO. The CBTmin is calculated as the minimum of the $x$ variable plus a shift of $\\phi_{\\text{ref}}=0.8$ hours. The DLMO is calculated as CBTmin minus 7.0 hours."
   ]
  },
  {
   "attachments": {},
   "cell_type": "markdown",
   "metadata": {},
   "source": [
    "## Hannay19"
   ]
  },
  {
   "attachments": {},
   "cell_type": "markdown",
   "metadata": {},
   "source": [
    "The `Hannay19` model is taken from [Hannay, Booth, and Forger's 2019 article](https://doi.org/10.1177/0748730419878298). This model isn't based on a van der Pol oscillator and instead it is systematically derived from a high-dimensional model for each clock neuron using the $m^2$ ansatz ([Hannay et al. 2018](https://doi.org/10.1126/sciadv.1701047)). The `Hannay19` implementation corresponds to the single population model within the article."
   ]
  },
  {
   "attachments": {},
   "cell_type": "markdown",
   "metadata": {},
   "source": [
    "The model describes the circadian state using polar coordinates and features a slight modification fo the light processing function found in van der Pol type models. Thus, the model states are defined by: $R$, $\\psi$, and $n$."
   ]
  },
  {
   "attachments": {},
   "cell_type": "markdown",
   "metadata": {},
   "source": [
    "The differential equations governing the evolution of the `Hannay19` model are:"
   ]
  },
  {
   "attachments": {},
   "cell_type": "markdown",
   "metadata": {},
   "source": [
    "$\\frac{dR}{dt} = - (D + \\gamma)R + \\frac{K}{2}cos(\\beta)R(1-R^4) + L_R(R, \\psi)$"
   ]
  },
  {
   "attachments": {},
   "cell_type": "markdown",
   "metadata": {},
   "source": [
    "$\\frac{d\\psi}{dt} = \\omega_0 + \\frac{K}{2}sin(\\beta)(1+R^4) + L_{\\psi}(R,\\psi)$"
   ]
  },
  {
   "attachments": {},
   "cell_type": "markdown",
   "metadata": {},
   "source": [
    "$\\frac{dn}{dt} = 60\\left[\\alpha(I)(1-n)-\\delta n \\right]$"
   ]
  },
  {
   "attachments": {},
   "cell_type": "markdown",
   "metadata": {},
   "source": [
    "where"
   ]
  },
  {
   "attachments": {},
   "cell_type": "markdown",
   "metadata": {},
   "source": [
    "$L_R(R,\\psi) = \\frac{A_1}{2}B(t)(1-R^4)cos(\\psi + \\beta_{L1}) + \\frac{A_2}{2}B(t)R(1-R^8)cos(2\\psi + \\beta_{L2})$"
   ]
  },
  {
   "attachments": {},
   "cell_type": "markdown",
   "metadata": {},
   "source": [
    "$L_{\\psi}(R, \\psi) = \\sigma B(t) - \\frac{A_1}{2}B(t)\\left(\\frac{1}{R} + R^3 \\right)\\sin(\\psi + \\beta_{L1}) - \\frac{A_2}{2}B(t)(1+R^8)\\sin(2\\psi + \\beta_{L2})$"
   ]
  },
  {
   "attachments": {},
   "cell_type": "markdown",
   "metadata": {},
   "source": [
    "$\\alpha(I) = \\frac{\\alpha_0 I^p}{I^p + I_0}$"
   ]
  },
  {
   "attachments": {},
   "cell_type": "markdown",
   "metadata": {},
   "source": [
    "$B(t) = G(1-n)\\alpha(L)$"
   ]
  },
  {
   "attachments": {},
   "cell_type": "markdown",
   "metadata": {},
   "source": [
    "The default parameters for this model are:"
   ]
  },
  {
   "cell_type": "code",
   "execution_count": null,
   "metadata": {},
   "outputs": [
    {
     "data": {
      "text/plain": [
       "{'tau': 23.84,\n",
       " 'K': 0.06358,\n",
       " 'gamma': 0.024,\n",
       " 'Beta1': -0.09318,\n",
       " 'A1': 0.3855,\n",
       " 'A2': 0.1977,\n",
       " 'BetaL1': -0.0026,\n",
       " 'BetaL2': -0.957756,\n",
       " 'sigma': 0.0400692,\n",
       " 'G': 33.75,\n",
       " 'alpha_0': 0.05,\n",
       " 'delta': 0.0075,\n",
       " 'p': 1.5,\n",
       " 'I0': 9325.0,\n",
       " 'cbt_to_dlmo': 7.0}"
      ]
     },
     "execution_count": null,
     "metadata": {},
     "output_type": "execute_result"
    }
   ],
   "source": [
    "model = Hannay19()\n",
    "model.parameters"
   ]
  },
  {
   "attachments": {},
   "cell_type": "markdown",
   "metadata": {},
   "source": [
    "The `cbt_to_dlmo` parameter is used to convert the core body temperature minimum to DLMO. The default behavior is DLMO ocurring 7 hours before CBTmin."
   ]
  },
  {
   "attachments": {},
   "cell_type": "markdown",
   "metadata": {},
   "source": [
    "## Hannay19TP"
   ]
  },
  {
   "attachments": {},
   "cell_type": "markdown",
   "metadata": {},
   "source": [
    "The `Hannay19TP` model comes from the same article as `Hannay19` but stems from two populations of clock neurons rather than one. These two populations are the dorsal and ventral ones which define the model states to be: $R_v$, $R_d$, $\\psi_v$, $\\psi_d$, and $n$."
   ]
  },
  {
   "attachments": {},
   "cell_type": "markdown",
   "metadata": {},
   "source": [
    "The differential equations governing the evolution of the `Hannay19TP` model are:"
   ]
  },
  {
   "attachments": {},
   "cell_type": "markdown",
   "metadata": {},
   "source": [
    "$\\frac{dR_v}{dt} = -\\gamma R_v + \\frac{K_{vv}}{2} R_v (1 - R_{v}^4) + \\frac{K_{dv}}{2}R_d (1 - R_{v}^4)\\cos(\\psi_d - \\psi_v) + L_R(R_v, \\psi_v)$"
   ]
  },
  {
   "attachments": {},
   "cell_type": "markdown",
   "metadata": {},
   "source": [
    "$\\frac{dR_d}{dt} = -\\gamma R_d + \\frac{K_{dd}}{2} R_d (1 - R_{d}^4) + \\frac{K_{vd}}{2} R_v (1 - R_{d}^4)\\cos(\\psi_d - \\psi_v)$"
   ]
  },
  {
   "attachments": {},
   "cell_type": "markdown",
   "metadata": {},
   "source": [
    "$\\frac{d\\psi_v}{dt} = \\omega_v + \\frac{K_{dv}}{2} R_d \\left( \\frac{1}{R_v} + R_{v}^3\\right)\\sin(\\psi_d - \\psi_v) + L_\\psi(R_v, \\psi_v)$"
   ]
  },
  {
   "attachments": {},
   "cell_type": "markdown",
   "metadata": {},
   "source": [
    "$\\frac{d\\psi_d}{dt} = \\omega_d - \\frac{K_{vd}}{2} R_v \\left( \\frac{1}{R_d} + R_{d}^3\\right)\\sin(\\psi_d - \\psi_v)$"
   ]
  },
  {
   "attachments": {},
   "cell_type": "markdown",
   "metadata": {},
   "source": [
    "$\\frac{dn}{dt} = 60\\left[\\alpha(I)(1-n)-\\delta n \\right]$"
   ]
  },
  {
   "attachments": {},
   "cell_type": "markdown",
   "metadata": {},
   "source": [
    "where"
   ]
  },
  {
   "attachments": {},
   "cell_type": "markdown",
   "metadata": {},
   "source": [
    "$L_R(R_v,\\psi_v) = \\frac{A_1}{2}B(t)(1-R_v^4)cos(\\psi_v + \\beta_{L1}) + \\frac{A_2}{2}B(t)R_v(1-R_v^8)cos(2\\psi_v + \\beta_{L2})$"
   ]
  },
  {
   "attachments": {},
   "cell_type": "markdown",
   "metadata": {},
   "source": [
    "$L_{\\psi}(R_v, \\psi_v) = \\sigma B(t) - \\frac{A_1}{2}B(t)\\left(\\frac{1}{R_v} + R_v^3 \\right)\\sin(\\psi_v + \\beta_{L1}) - \\frac{A_2}{2}B(t)(1+R_v^8)\\sin(2\\psi_v + \\beta_{L2})$"
   ]
  },
  {
   "attachments": {},
   "cell_type": "markdown",
   "metadata": {},
   "source": [
    "$\\alpha(I) = \\frac{\\alpha_0 I^p}{I^p + I_0}$"
   ]
  },
  {
   "attachments": {},
   "cell_type": "markdown",
   "metadata": {},
   "source": [
    "$B(t) = G(1-n)\\alpha(L)$"
   ]
  },
  {
   "attachments": {},
   "cell_type": "markdown",
   "metadata": {},
   "source": [
    "The default parameters for this model are:"
   ]
  },
  {
   "cell_type": "code",
   "execution_count": null,
   "metadata": {},
   "outputs": [
    {
     "data": {
      "text/plain": [
       "{'tauV': 24.25,\n",
       " 'tauD': 24.0,\n",
       " 'Kvv': 0.05,\n",
       " 'Kdd': 0.04,\n",
       " 'Kvd': 0.05,\n",
       " 'Kdv': 0.01,\n",
       " 'gamma': 0.024,\n",
       " 'A1': 0.440068,\n",
       " 'A2': 0.159136,\n",
       " 'BetaL': 0.06452,\n",
       " 'BetaL2': -1.38935,\n",
       " 'sigma': 0.0477375,\n",
       " 'G': 33.75,\n",
       " 'alpha_0': 0.05,\n",
       " 'delta': 0.0075,\n",
       " 'p': 1.5,\n",
       " 'I0': 9325.0,\n",
       " 'cbt_to_dlmo': 7.0}"
      ]
     },
     "execution_count": null,
     "metadata": {},
     "output_type": "execute_result"
    }
   ],
   "source": [
    "model = Hannay19TP()\n",
    "model.parameters"
   ]
  },
  {
   "attachments": {},
   "cell_type": "markdown",
   "metadata": {},
   "source": [
    "The `cbt_to_dlmo` parameter is used to convert the core body temperature minimum to DLMO. The default behavior is DLMO ocurring 7 hours before CBTmin."
   ]
  },
  {
   "cell_type": "markdown",
   "metadata": {},
   "source": [
    "# Hilaire07"
   ]
  },
  {
   "cell_type": "markdown",
   "metadata": {},
   "source": [
    "The `Hilaire07` model is taken from [Hilaire et al. 2007](https://doi.org/10.1016/j.jtbi.2007.04.001) which extends the `Jewett99` model to include a non-photic input. The model states are defined by three dynamic variables: $x$, $x_c$, and $n$ whereas the inputs are light and sleep/wake state. The variable $x$ is related to the core body temperature and $n$ to the processed light input."
   ]
  },
  {
   "cell_type": "markdown",
   "metadata": {},
   "source": [
    "The differential equations governing the evolution of the `Hilaire07` model are:"
   ]
  },
  {
   "cell_type": "markdown",
   "metadata": {},
   "source": [
    "$\\frac{dx}{dt} = \\frac{\\pi}{12} \\left[x_c + \\mu \\left(\\frac{x}{3} + \\frac{4x^3}{3} - \\frac{256 x^7}{105}\\right) + B + N_{s}\\right]$"
   ]
  },
  {
   "cell_type": "markdown",
   "metadata": {},
   "source": [
    "$\\frac{dx_c}{dt} = \\frac{\\pi}{12} \\left\\{ q B x_c - \\left[ \\left( \\frac{24}{0.99729 \\tau_{x}} \\right)^2 + k B \\right] x \\right\\}$"
   ]
  },
  {
   "cell_type": "markdown",
   "metadata": {},
   "source": [
    "$\\frac{dn}{dt} = 60[\\alpha(I)(1-n)-\\beta n]$"
   ]
  },
  {
   "cell_type": "markdown",
   "metadata": {},
   "source": [
    "where"
   ]
  },
  {
   "cell_type": "markdown",
   "metadata": {},
   "source": [
    "$\\alpha(I) = \\alpha_0\\left( \\frac{I^p}{I_0^p}\\right) \\left( \\frac{I}{I + 100} \\right)$"
   ]
  },
  {
   "cell_type": "markdown",
   "metadata": {},
   "source": [
    "$B = G(1-n)\\alpha(I)(1-0.4x)(1-0.4x_c)$"
   ]
  },
  {
   "cell_type": "markdown",
   "metadata": {},
   "source": [
    "$N_{s} = \\hat{N}_{s} \\left[1 - \\tanh(10x) \\right]$"
   ]
  },
  {
   "cell_type": "markdown",
   "metadata": {},
   "source": [
    "$\\hat{N}_{s} = \\left\\{\\begin{matrix}\n",
    "\\frac{\\rho}{3} & \\text{if} \\ \\ \\ \\psi_{cx} \\in (16.5, 21.0) \\\\ \n",
    "(\\frac{1}{3} - \\sigma) \\rho & \\text{otherwise}\n",
    "\\end{matrix}\\right.$"
   ]
  },
  {
   "cell_type": "markdown",
   "metadata": {},
   "source": [
    "$\\psi_{cx} = \\left[ (t \\mod 24) - 24\\frac{\\phi_{xcx} + \\phi_{ref}}{2\\pi} \\right]\\mod 24$"
   ]
  },
  {
   "cell_type": "markdown",
   "metadata": {},
   "source": [
    "$\\sigma = \\left\\{\\begin{matrix}\n",
    "1 & \\text{if asleep} \\\\ \n",
    "0 & \\text{if awake}\n",
    "\\end{matrix}\\right.$"
   ]
  },
  {
   "cell_type": "markdown",
   "metadata": {},
   "source": [
    "Note that both $I$ and $\\sigma$ are inputs to the model"
   ]
  },
  {
   "cell_type": "markdown",
   "metadata": {},
   "source": [
    "The default parameters for this model are:"
   ]
  },
  {
   "cell_type": "code",
   "execution_count": null,
   "metadata": {},
   "outputs": [],
   "source": [
    "model = Hilaire07()\n",
    "model.parameters"
   ]
  },
  {
   "cell_type": "markdown",
   "metadata": {},
   "source": [
    "The `cbt_to_dlmo` and `phi_ref` parameters are used to calculate the core body temperature minimum and convert it to DLMO. The CBTmin is calculated as the minimum of the $x$ variable plus a shift of $\\phi_{\\text{ref}}=0.97$ hours. The DLMO is calculated as CBTmin minus 7.0 hours."
   ]
  },
  {
   "cell_type": "markdown",
   "metadata": {},
   "source": [
    "# Skeldon23"
   ]
  },
  {
   "cell_type": "markdown",
   "metadata": {},
   "source": [
    "The `Skeldon23` model is based on [Skeldon et al. 2023](https://doi.org/10.1101/2023.06.14.544757) which combines a sleep pressure model with `Forger99` to estimate realistic sleep/wake patterns. The model states are defined by four dynamic variables: $x$, $x_c$, $n$, and $H$. The variable $x$ is related to the core body temperature, $n$ to the processed light input, and $H$ to the sleep pressure signal. Note that in our implementation we have favored `Forger99`'s notation of variables. In the original article, Skeldon et al. use variables $x$ and $y$ to indicate $x_c$ and $x$ respectively. Additionally, in this implementation, we have rescaled parameters to be defined in terms of hours rather than seconds. In addition to providing the states over time, the model also predicts sleep/wake patterns for each timepoint."
   ]
  },
  {
   "cell_type": "markdown",
   "metadata": {},
   "source": [
    "The differential equations governing the evolution of the `Skeldon23` model are:"
   ]
  },
  {
   "cell_type": "markdown",
   "metadata": {},
   "source": [
    "$\\frac{dx}{dt} = \\frac{1}{\\kappa} \\left(x_c + B \\right)$"
   ]
  },
  {
   "cell_type": "markdown",
   "metadata": {},
   "source": [
    "$\\frac{dx_c}{dt} = \\frac{1}{\\kappa}\\left\\{\\gamma \\left( x_c - \\frac{4x_{c}^3}{3} \\right) - x \\left[ \\left( \\frac{24}{f \\tau_x} \\right)^2 + kB \\right] \\right\\}$"
   ]
  },
  {
   "cell_type": "markdown",
   "metadata": {},
   "source": [
    "$\\frac{dn}{dt} = 60[\\alpha(\\tilde{I})(1-n)-\\beta n]$"
   ]
  },
  {
   "cell_type": "markdown",
   "metadata": {},
   "source": [
    "$\\frac{dH}{dt} = \\frac{1}{\\chi} \\left[-H + (1 - S)\\mu \\right] $"
   ]
  },
  {
   "cell_type": "markdown",
   "metadata": {},
   "source": [
    "where"
   ]
  },
  {
   "cell_type": "markdown",
   "metadata": {},
   "source": [
    "$S = \\left\\{\\begin{matrix}\n",
    "1 & \\text{if asleep} \\\\ \n",
    "0 & \\text{if awake}\n",
    "\\end{matrix}\\right.$"
   ]
  },
  {
   "cell_type": "markdown",
   "metadata": {},
   "source": [
    "$\\tilde{I} = (1 - S) I$"
   ]
  },
  {
   "cell_type": "markdown",
   "metadata": {},
   "source": [
    "$\\alpha(\\tilde{I}) = \\alpha_0\\left( \\frac{\\tilde{I}}{I_0}\\right)^p$"
   ]
  },
  {
   "cell_type": "markdown",
   "metadata": {},
   "source": [
    "$B = G(1-n)\\alpha(\\tilde{I})(1-bx)(1-bx_c)$"
   ]
  },
  {
   "cell_type": "markdown",
   "metadata": {},
   "source": [
    "the variable $S$ switches automatically based on the sleep pressure signal $H$ and the circadian input to the sleep model $C$:"
   ]
  },
  {
   "cell_type": "markdown",
   "metadata": {},
   "source": [
    "$C(t) = c_{20} + \\alpha_{21}x_{c} + \\alpha_{22}x + \\beta_{21}x_{c}^2 + \\beta_{22}x_{c}x + \\beta_{23}x^2$ "
   ]
  },
  {
   "cell_type": "markdown",
   "metadata": {},
   "source": [
    "The change from wake to sleep occurs when $H$ reaches"
   ]
  },
  {
   "cell_type": "markdown",
   "metadata": {},
   "source": [
    "$H^{+}(t) = \\overline{H}_{0} + \\frac{\\Delta}{2} + c_{a} C(t)$"
   ]
  },
  {
   "cell_type": "markdown",
   "metadata": {},
   "source": [
    "and the change from sleep to wake occurs when $H$ reaches"
   ]
  },
  {
   "cell_type": "markdown",
   "metadata": {},
   "source": [
    "$H^{-}(t) = \\overline{H}_{0} - \\frac{\\Delta}{2} + c_{a} C(t)$"
   ]
  },
  {
   "cell_type": "markdown",
   "metadata": {},
   "source": [
    "The default parameters for this model are:"
   ]
  },
  {
   "cell_type": "code",
   "execution_count": null,
   "metadata": {},
   "outputs": [
    {
     "data": {
      "text/plain": [
       "{'mu': 17.78,\n",
       " 'chi': 45.0,\n",
       " 'H0': 13.0,\n",
       " 'Delta': 1.0,\n",
       " 'ca': 1.72,\n",
       " 'tauc': 24.2,\n",
       " 'f': 0.99669,\n",
       " 'G': 19.9,\n",
       " 'p': 0.6,\n",
       " 'k': 0.55,\n",
       " 'b': 0.4,\n",
       " 'gamma': 0.23,\n",
       " 'alpha_0': 0.16,\n",
       " 'beta': 0.013,\n",
       " 'I0': 9500.0,\n",
       " 'kappa': 3.819718634205488,\n",
       " 'c20': 0.7896,\n",
       " 'alpha21': -0.3912,\n",
       " 'alpha22': 0.7583,\n",
       " 'beta21': -0.4442,\n",
       " 'beta22': 0.025,\n",
       " 'beta23': -0.9647,\n",
       " 'S0': 0.0,\n",
       " 'cbt_to_dlmo': 7.0}"
      ]
     },
     "execution_count": null,
     "metadata": {},
     "output_type": "execute_result"
    }
   ],
   "source": [
    "model = Skeldon23()\n",
    "model.parameters"
   ]
  },
  {
   "cell_type": "markdown",
   "metadata": {},
   "source": [
    "The `cbt_to_dlmo` parameter is used to convert the core body temperature minimum to DLMO. The default behavior is DLMO ocurring 7 hours before CBTmin."
   ]
  },
  {
   "attachments": {},
   "cell_type": "markdown",
   "metadata": {},
   "source": [
    "# API Documentation"
   ]
  },
  {
   "cell_type": "code",
   "execution_count": null,
   "metadata": {},
   "outputs": [
    {
     "data": {
      "text/markdown": [
       "---\n",
       "\n",
       "[source](https://github.com/Arcascope/circadian/blob/main/circadian/models.py#L43){target=\"_blank\" style=\"float:right; font-size:smaller\"}\n",
       "\n",
       "### DynamicalTrajectory\n",
       "\n",
       ">      DynamicalTrajectory (time:numpy.ndarray, states:numpy.ndarray)\n",
       "\n",
       "A class to store solutions of differential equation models that contains both the time points and the states\n",
       "\n",
       "|    | **Type** | **Details** |\n",
       "| -- | -------- | ----------- |\n",
       "| time | ndarray | time points |\n",
       "| states | ndarray | state at time points |\n",
       "| **Returns** | **None** |  |"
      ],
      "text/plain": [
       "---\n",
       "\n",
       "[source](https://github.com/Arcascope/circadian/blob/main/circadian/models.py#L43){target=\"_blank\" style=\"float:right; font-size:smaller\"}\n",
       "\n",
       "### DynamicalTrajectory\n",
       "\n",
       ">      DynamicalTrajectory (time:numpy.ndarray, states:numpy.ndarray)\n",
       "\n",
       "A class to store solutions of differential equation models that contains both the time points and the states\n",
       "\n",
       "|    | **Type** | **Details** |\n",
       "| -- | -------- | ----------- |\n",
       "| time | ndarray | time points |\n",
       "| states | ndarray | state at time points |\n",
       "| **Returns** | **None** |  |"
      ]
     },
     "execution_count": null,
     "metadata": {},
     "output_type": "execute_result"
    }
   ],
   "source": [
    "show_doc(DynamicalTrajectory)"
   ]
  },
  {
   "cell_type": "code",
   "execution_count": null,
   "metadata": {},
   "outputs": [
    {
     "data": {
      "text/markdown": [
       "---\n",
       "\n",
       "[source](https://github.com/Arcascope/circadian/blob/main/circadian/models.py#L63){target=\"_blank\" style=\"float:right; font-size:smaller\"}\n",
       "\n",
       "### DynamicalTrajectory.__call__\n",
       "\n",
       ">      DynamicalTrajectory.__call__ (timepoint:float)\n",
       "\n",
       "Return the state at time t, linearly interpolated\n",
       "\n",
       "|    | **Type** | **Details** |\n",
       "| -- | -------- | ----------- |\n",
       "| timepoint | float |  |\n",
       "| **Returns** | **ndarray** | **state of the system** |"
      ],
      "text/plain": [
       "---\n",
       "\n",
       "[source](https://github.com/Arcascope/circadian/blob/main/circadian/models.py#L63){target=\"_blank\" style=\"float:right; font-size:smaller\"}\n",
       "\n",
       "### DynamicalTrajectory.__call__\n",
       "\n",
       ">      DynamicalTrajectory.__call__ (timepoint:float)\n",
       "\n",
       "Return the state at time t, linearly interpolated\n",
       "\n",
       "|    | **Type** | **Details** |\n",
       "| -- | -------- | ----------- |\n",
       "| timepoint | float |  |\n",
       "| **Returns** | **ndarray** | **state of the system** |"
      ]
     },
     "execution_count": null,
     "metadata": {},
     "output_type": "execute_result"
    }
   ],
   "source": [
    "show_doc(DynamicalTrajectory.__call__)"
   ]
  },
  {
   "cell_type": "code",
   "execution_count": null,
   "metadata": {},
   "outputs": [
    {
     "data": {
      "text/markdown": [
       "---\n",
       "\n",
       "[source](https://github.com/Arcascope/circadian/blob/main/circadian/models.py#L102){target=\"_blank\" style=\"float:right; font-size:smaller\"}\n",
       "\n",
       "### DynamicalTrajectory.get_batch\n",
       "\n",
       ">      DynamicalTrajectory.get_batch (batch_idx:int)\n",
       "\n",
       "Obtain the trajectory for a single batch"
      ],
      "text/plain": [
       "---\n",
       "\n",
       "[source](https://github.com/Arcascope/circadian/blob/main/circadian/models.py#L102){target=\"_blank\" style=\"float:right; font-size:smaller\"}\n",
       "\n",
       "### DynamicalTrajectory.get_batch\n",
       "\n",
       ">      DynamicalTrajectory.get_batch (batch_idx:int)\n",
       "\n",
       "Obtain the trajectory for a single batch"
      ]
     },
     "execution_count": null,
     "metadata": {},
     "output_type": "execute_result"
    }
   ],
   "source": [
    "show_doc(DynamicalTrajectory.get_batch)"
   ]
  },
  {
   "cell_type": "code",
   "execution_count": null,
   "metadata": {},
   "outputs": [
    {
     "data": {
      "text/markdown": [
       "---\n",
       "\n",
       "[source](https://github.com/Arcascope/circadian/blob/main/circadian/models.py#L199){target=\"_blank\" style=\"float:right; font-size:smaller\"}\n",
       "\n",
       "### CircadianModel\n",
       "\n",
       ">      CircadianModel (default_params:dict, num_states:int, num_inputs:int,\n",
       ">                      default_initial_condition:numpy.ndarray)\n",
       "\n",
       "Abstract base class for circadian models that defines the common interface for all implementations\n",
       "\n",
       "|    | **Type** | **Details** |\n",
       "| -- | -------- | ----------- |\n",
       "| default_params | dict | default parameters for the model |\n",
       "| num_states | int | number of independent variables in the model |\n",
       "| num_inputs | int | number of inputs to the model such as light or wake state |\n",
       "| default_initial_condition | ndarray | default initial conditions for the model |\n",
       "| **Returns** | **None** |  |"
      ],
      "text/plain": [
       "---\n",
       "\n",
       "[source](https://github.com/Arcascope/circadian/blob/main/circadian/models.py#L199){target=\"_blank\" style=\"float:right; font-size:smaller\"}\n",
       "\n",
       "### CircadianModel\n",
       "\n",
       ">      CircadianModel (default_params:dict, num_states:int, num_inputs:int,\n",
       ">                      default_initial_condition:numpy.ndarray)\n",
       "\n",
       "Abstract base class for circadian models that defines the common interface for all implementations\n",
       "\n",
       "|    | **Type** | **Details** |\n",
       "| -- | -------- | ----------- |\n",
       "| default_params | dict | default parameters for the model |\n",
       "| num_states | int | number of independent variables in the model |\n",
       "| num_inputs | int | number of inputs to the model such as light or wake state |\n",
       "| default_initial_condition | ndarray | default initial conditions for the model |\n",
       "| **Returns** | **None** |  |"
      ]
     },
     "execution_count": null,
     "metadata": {},
     "output_type": "execute_result"
    }
   ],
   "source": [
    "show_doc(CircadianModel)"
   ]
  },
  {
   "cell_type": "code",
   "execution_count": null,
   "metadata": {},
   "outputs": [
    {
     "data": {
      "text/markdown": [
       "---\n",
       "\n",
       "[source](https://github.com/Arcascope/circadian/blob/main/circadian/models.py#L293){target=\"_blank\" style=\"float:right; font-size:smaller\"}\n",
       "\n",
       "### CircadianModel.step_rk4\n",
       "\n",
       ">      CircadianModel.step_rk4 (state:numpy.ndarray, input:numpy.ndarray,\n",
       ">                               dt:float)\n",
       "\n",
       "Integrate the state of the model for one timestep using a fourth-order Runge-Kutta algorithm. Assumes a constant light value for the time step\n",
       "\n",
       "|    | **Type** | **Details** |\n",
       "| -- | -------- | ----------- |\n",
       "| state | ndarray | dynamical state of the model |\n",
       "| input | ndarray | inputs to the model such as light or wake state |\n",
       "| dt | float | step size in hours |\n",
       "| **Returns** | **ndarray** |  |"
      ],
      "text/plain": [
       "---\n",
       "\n",
       "[source](https://github.com/Arcascope/circadian/blob/main/circadian/models.py#L293){target=\"_blank\" style=\"float:right; font-size:smaller\"}\n",
       "\n",
       "### CircadianModel.step_rk4\n",
       "\n",
       ">      CircadianModel.step_rk4 (state:numpy.ndarray, input:numpy.ndarray,\n",
       ">                               dt:float)\n",
       "\n",
       "Integrate the state of the model for one timestep using a fourth-order Runge-Kutta algorithm. Assumes a constant light value for the time step\n",
       "\n",
       "|    | **Type** | **Details** |\n",
       "| -- | -------- | ----------- |\n",
       "| state | ndarray | dynamical state of the model |\n",
       "| input | ndarray | inputs to the model such as light or wake state |\n",
       "| dt | float | step size in hours |\n",
       "| **Returns** | **ndarray** |  |"
      ]
     },
     "execution_count": null,
     "metadata": {},
     "output_type": "execute_result"
    }
   ],
   "source": [
    "show_doc(CircadianModel.step_rk4)"
   ]
  },
  {
   "cell_type": "code",
   "execution_count": null,
   "metadata": {},
   "outputs": [
    {
     "data": {
      "text/markdown": [
       "---\n",
       "\n",
       "[source](https://github.com/Arcascope/circadian/blob/main/circadian/models.py#L308){target=\"_blank\" style=\"float:right; font-size:smaller\"}\n",
       "\n",
       "### CircadianModel.integrate\n",
       "\n",
       ">      CircadianModel.integrate (time:numpy.ndarray,\n",
       ">                                initial_condition:numpy.ndarray=None,\n",
       ">                                input:numpy.ndarray=None)\n",
       "\n",
       "Solve the model for specific timepoints given initial conditions and model inputs\n",
       "\n",
       "|    | **Type** | **Default** | **Details** |\n",
       "| -- | -------- | ----------- | ----------- |\n",
       "| time | ndarray |  | time points for integration. Time difference between consecutive values determines step size of the solver |\n",
       "| initial_condition | ndarray | None | initial state of the model |\n",
       "| input | ndarray | None | model input (such as light or wake) for each time point |\n",
       "| **Returns** | **DynamicalTrajectory** |  |  |"
      ],
      "text/plain": [
       "---\n",
       "\n",
       "[source](https://github.com/Arcascope/circadian/blob/main/circadian/models.py#L308){target=\"_blank\" style=\"float:right; font-size:smaller\"}\n",
       "\n",
       "### CircadianModel.integrate\n",
       "\n",
       ">      CircadianModel.integrate (time:numpy.ndarray,\n",
       ">                                initial_condition:numpy.ndarray=None,\n",
       ">                                input:numpy.ndarray=None)\n",
       "\n",
       "Solve the model for specific timepoints given initial conditions and model inputs\n",
       "\n",
       "|    | **Type** | **Default** | **Details** |\n",
       "| -- | -------- | ----------- | ----------- |\n",
       "| time | ndarray |  | time points for integration. Time difference between consecutive values determines step size of the solver |\n",
       "| initial_condition | ndarray | None | initial state of the model |\n",
       "| input | ndarray | None | model input (such as light or wake) for each time point |\n",
       "| **Returns** | **DynamicalTrajectory** |  |  |"
      ]
     },
     "execution_count": null,
     "metadata": {},
     "output_type": "execute_result"
    }
   ],
   "source": [
    "show_doc(CircadianModel.integrate)"
   ]
  },
  {
   "cell_type": "code",
   "execution_count": null,
   "metadata": {},
   "outputs": [
    {
     "data": {
      "text/markdown": [
       "---\n",
       "\n",
       "[source](https://github.com/Arcascope/circadian/blob/main/circadian/models.py#L343){target=\"_blank\" style=\"float:right; font-size:smaller\"}\n",
       "\n",
       "### CircadianModel.__call__\n",
       "\n",
       ">      CircadianModel.__call__ (time:numpy.ndarray,\n",
       ">                               initial_condition:numpy.ndarray=None,\n",
       ">                               input:numpy.ndarray=None)\n",
       "\n",
       "Wrapper to integrate\n",
       "\n",
       "|    | **Type** | **Default** | **Details** |\n",
       "| -- | -------- | ----------- | ----------- |\n",
       "| time | ndarray |  | time points for integration. Time difference between each consecutive pair of values determines step size of the solver |\n",
       "| initial_condition | ndarray | None | initial state of the model |\n",
       "| input | ndarray | None | model input (such as light or wake) for each time point |"
      ],
      "text/plain": [
       "---\n",
       "\n",
       "[source](https://github.com/Arcascope/circadian/blob/main/circadian/models.py#L343){target=\"_blank\" style=\"float:right; font-size:smaller\"}\n",
       "\n",
       "### CircadianModel.__call__\n",
       "\n",
       ">      CircadianModel.__call__ (time:numpy.ndarray,\n",
       ">                               initial_condition:numpy.ndarray=None,\n",
       ">                               input:numpy.ndarray=None)\n",
       "\n",
       "Wrapper to integrate\n",
       "\n",
       "|    | **Type** | **Default** | **Details** |\n",
       "| -- | -------- | ----------- | ----------- |\n",
       "| time | ndarray |  | time points for integration. Time difference between each consecutive pair of values determines step size of the solver |\n",
       "| initial_condition | ndarray | None | initial state of the model |\n",
       "| input | ndarray | None | model input (such as light or wake) for each time point |"
      ]
     },
     "execution_count": null,
     "metadata": {},
     "output_type": "execute_result"
    }
   ],
   "source": [
    "show_doc(CircadianModel.__call__)"
   ]
  },
  {
   "cell_type": "code",
   "execution_count": null,
   "metadata": {},
   "outputs": [
    {
     "data": {
      "text/markdown": [
       "---\n",
       "\n",
       "[source](https://github.com/Arcascope/circadian/blob/main/circadian/models.py#L353){target=\"_blank\" style=\"float:right; font-size:smaller\"}\n",
       "\n",
       "### CircadianModel.get_parameters_array\n",
       "\n",
       ">      CircadianModel.get_parameters_array ()\n",
       "\n",
       "Returns the parameters for the model as a numpy array"
      ],
      "text/plain": [
       "---\n",
       "\n",
       "[source](https://github.com/Arcascope/circadian/blob/main/circadian/models.py#L353){target=\"_blank\" style=\"float:right; font-size:smaller\"}\n",
       "\n",
       "### CircadianModel.get_parameters_array\n",
       "\n",
       ">      CircadianModel.get_parameters_array ()\n",
       "\n",
       "Returns the parameters for the model as a numpy array"
      ]
     },
     "execution_count": null,
     "metadata": {},
     "output_type": "execute_result"
    }
   ],
   "source": [
    "show_doc(CircadianModel.get_parameters_array)"
   ]
  },
  {
   "cell_type": "code",
   "execution_count": null,
   "metadata": {},
   "outputs": [
    {
     "data": {
      "text/markdown": [
       "---\n",
       "\n",
       "[source](https://github.com/Arcascope/circadian/blob/main/circadian/models.py#L396){target=\"_blank\" style=\"float:right; font-size:smaller\"}\n",
       "\n",
       "### CircadianModel.equilibrate\n",
       "\n",
       ">      CircadianModel.equilibrate (time:numpy.ndarray, input:numpy.ndarray,\n",
       ">                                  num_loops:int=10)\n",
       "\n",
       "Equilibrate the model by looping the given light_estimate. Assumes the schedule repeats periodically after it ends\n",
       "\n",
       "|    | **Type** | **Default** | **Details** |\n",
       "| -- | -------- | ----------- | ----------- |\n",
       "| time | ndarray |  | time points for integration. Time difference between each consecutive pair of values determines step size of the solver |\n",
       "| input | ndarray |  | model input (such as light or wake) for each time point |\n",
       "| num_loops | int | 10 | number of times to loop the input |\n",
       "| **Returns** | **ndarray** |  | **final state of the model** |"
      ],
      "text/plain": [
       "---\n",
       "\n",
       "[source](https://github.com/Arcascope/circadian/blob/main/circadian/models.py#L396){target=\"_blank\" style=\"float:right; font-size:smaller\"}\n",
       "\n",
       "### CircadianModel.equilibrate\n",
       "\n",
       ">      CircadianModel.equilibrate (time:numpy.ndarray, input:numpy.ndarray,\n",
       ">                                  num_loops:int=10)\n",
       "\n",
       "Equilibrate the model by looping the given light_estimate. Assumes the schedule repeats periodically after it ends\n",
       "\n",
       "|    | **Type** | **Default** | **Details** |\n",
       "| -- | -------- | ----------- | ----------- |\n",
       "| time | ndarray |  | time points for integration. Time difference between each consecutive pair of values determines step size of the solver |\n",
       "| input | ndarray |  | model input (such as light or wake) for each time point |\n",
       "| num_loops | int | 10 | number of times to loop the input |\n",
       "| **Returns** | **ndarray** |  | **final state of the model** |"
      ]
     },
     "execution_count": null,
     "metadata": {},
     "output_type": "execute_result"
    }
   ],
   "source": [
    "show_doc(CircadianModel.equilibrate)"
   ]
  },
  {
   "cell_type": "code",
   "execution_count": null,
   "metadata": {},
   "outputs": [
    {
     "data": {
      "text/markdown": [
       "---\n",
       "\n",
       "[source](https://github.com/Arcascope/circadian/blob/main/circadian/models.py#L371){target=\"_blank\" style=\"float:right; font-size:smaller\"}\n",
       "\n",
       "### CircadianModel.amplitude\n",
       "\n",
       ">      CircadianModel.amplitude (trajectory:__main__.DynamicalTrajectory=None,\n",
       ">                                time:float=None)\n",
       "\n",
       "Calculates the amplitude of the model at a given timepoint\n",
       "\n",
       "|    | **Type** | **Default** | **Details** |\n",
       "| -- | -------- | ----------- | ----------- |\n",
       "| trajectory | DynamicalTrajectory | None | trajectory to calculate the amplitude for. If None, the amplitude is calculated for the current trajectory |\n",
       "| time | float | None | timepoint to calculate the amplitude at. If None, the amplitude is calculated for the entire trajectory |\n",
       "| **Returns** | **float** |  |  |"
      ],
      "text/plain": [
       "---\n",
       "\n",
       "[source](https://github.com/Arcascope/circadian/blob/main/circadian/models.py#L371){target=\"_blank\" style=\"float:right; font-size:smaller\"}\n",
       "\n",
       "### CircadianModel.amplitude\n",
       "\n",
       ">      CircadianModel.amplitude (trajectory:__main__.DynamicalTrajectory=None,\n",
       ">                                time:float=None)\n",
       "\n",
       "Calculates the amplitude of the model at a given timepoint\n",
       "\n",
       "|    | **Type** | **Default** | **Details** |\n",
       "| -- | -------- | ----------- | ----------- |\n",
       "| trajectory | DynamicalTrajectory | None | trajectory to calculate the amplitude for. If None, the amplitude is calculated for the current trajectory |\n",
       "| time | float | None | timepoint to calculate the amplitude at. If None, the amplitude is calculated for the entire trajectory |\n",
       "| **Returns** | **float** |  |  |"
      ]
     },
     "execution_count": null,
     "metadata": {},
     "output_type": "execute_result"
    }
   ],
   "source": [
    "show_doc(CircadianModel.amplitude)"
   ]
  },
  {
   "cell_type": "code",
   "execution_count": null,
   "metadata": {},
   "outputs": [
    {
     "data": {
      "text/markdown": [
       "---\n",
       "\n",
       "[source](https://github.com/Arcascope/circadian/blob/main/circadian/models.py#L362){target=\"_blank\" style=\"float:right; font-size:smaller\"}\n",
       "\n",
       "### CircadianModel.phase\n",
       "\n",
       ">      CircadianModel.phase (trajectory:__main__.DynamicalTrajectory=None,\n",
       ">                            time:float=None)\n",
       "\n",
       "Calculates the phase of the model at a given timepoint\n",
       "\n",
       "|    | **Type** | **Default** | **Details** |\n",
       "| -- | -------- | ----------- | ----------- |\n",
       "| trajectory | DynamicalTrajectory | None | trajectory to calculate the phase for. If None, the phase is calculated for the current trajectory |\n",
       "| time | float | None | timepoint to calculate the phase at. If None, the phase is calculated for the entire trajectory |\n",
       "| **Returns** | **float** |  |  |"
      ],
      "text/plain": [
       "---\n",
       "\n",
       "[source](https://github.com/Arcascope/circadian/blob/main/circadian/models.py#L362){target=\"_blank\" style=\"float:right; font-size:smaller\"}\n",
       "\n",
       "### CircadianModel.phase\n",
       "\n",
       ">      CircadianModel.phase (trajectory:__main__.DynamicalTrajectory=None,\n",
       ">                            time:float=None)\n",
       "\n",
       "Calculates the phase of the model at a given timepoint\n",
       "\n",
       "|    | **Type** | **Default** | **Details** |\n",
       "| -- | -------- | ----------- | ----------- |\n",
       "| trajectory | DynamicalTrajectory | None | trajectory to calculate the phase for. If None, the phase is calculated for the current trajectory |\n",
       "| time | float | None | timepoint to calculate the phase at. If None, the phase is calculated for the entire trajectory |\n",
       "| **Returns** | **float** |  |  |"
      ]
     },
     "execution_count": null,
     "metadata": {},
     "output_type": "execute_result"
    }
   ],
   "source": [
    "show_doc(CircadianModel.phase)"
   ]
  },
  {
   "cell_type": "code",
   "execution_count": null,
   "metadata": {},
   "outputs": [
    {
     "data": {
      "text/markdown": [
       "---\n",
       "\n",
       "[source](https://github.com/Arcascope/circadian/blob/main/circadian/models.py#L380){target=\"_blank\" style=\"float:right; font-size:smaller\"}\n",
       "\n",
       "### CircadianModel.cbt\n",
       "\n",
       ">      CircadianModel.cbt (trajectory:__main__.DynamicalTrajectory=None)\n",
       "\n",
       "Finds the core body temperature minumum markers along a trajectory\n",
       "\n",
       "|    | **Type** | **Default** | **Details** |\n",
       "| -- | -------- | ----------- | ----------- |\n",
       "| trajectory | DynamicalTrajectory | None | trajectory to calculate the cbt for. If None, the cbt is calculated for the current trajectory |\n",
       "| **Returns** | **ndarray** |  | **array of times when the cbt occurs** |"
      ],
      "text/plain": [
       "---\n",
       "\n",
       "[source](https://github.com/Arcascope/circadian/blob/main/circadian/models.py#L380){target=\"_blank\" style=\"float:right; font-size:smaller\"}\n",
       "\n",
       "### CircadianModel.cbt\n",
       "\n",
       ">      CircadianModel.cbt (trajectory:__main__.DynamicalTrajectory=None)\n",
       "\n",
       "Finds the core body temperature minumum markers along a trajectory\n",
       "\n",
       "|    | **Type** | **Default** | **Details** |\n",
       "| -- | -------- | ----------- | ----------- |\n",
       "| trajectory | DynamicalTrajectory | None | trajectory to calculate the cbt for. If None, the cbt is calculated for the current trajectory |\n",
       "| **Returns** | **ndarray** |  | **array of times when the cbt occurs** |"
      ]
     },
     "execution_count": null,
     "metadata": {},
     "output_type": "execute_result"
    }
   ],
   "source": [
    "show_doc(CircadianModel.cbt)"
   ]
  },
  {
   "cell_type": "code",
   "execution_count": null,
   "metadata": {},
   "outputs": [
    {
     "data": {
      "text/markdown": [
       "---\n",
       "\n",
       "[source](https://github.com/Arcascope/circadian/blob/main/circadian/models.py#L388){target=\"_blank\" style=\"float:right; font-size:smaller\"}\n",
       "\n",
       "### CircadianModel.dlmos\n",
       "\n",
       ">      CircadianModel.dlmos (trajectory:__main__.DynamicalTrajectory=None)\n",
       "\n",
       "Finds the Dim Light Melatonin Onset (DLMO) markers along a trajectory\n",
       "\n",
       "|    | **Type** | **Default** | **Details** |\n",
       "| -- | -------- | ----------- | ----------- |\n",
       "| trajectory | DynamicalTrajectory | None | trajectory to calculate the dlmos for. If None, the dlmos are calculated for the current trajectory |\n",
       "| **Returns** | **ndarray** |  | **array of times when dlmo occurs** |"
      ],
      "text/plain": [
       "---\n",
       "\n",
       "[source](https://github.com/Arcascope/circadian/blob/main/circadian/models.py#L388){target=\"_blank\" style=\"float:right; font-size:smaller\"}\n",
       "\n",
       "### CircadianModel.dlmos\n",
       "\n",
       ">      CircadianModel.dlmos (trajectory:__main__.DynamicalTrajectory=None)\n",
       "\n",
       "Finds the Dim Light Melatonin Onset (DLMO) markers along a trajectory\n",
       "\n",
       "|    | **Type** | **Default** | **Details** |\n",
       "| -- | -------- | ----------- | ----------- |\n",
       "| trajectory | DynamicalTrajectory | None | trajectory to calculate the dlmos for. If None, the dlmos are calculated for the current trajectory |\n",
       "| **Returns** | **ndarray** |  | **array of times when dlmo occurs** |"
      ]
     },
     "execution_count": null,
     "metadata": {},
     "output_type": "execute_result"
    }
   ],
   "source": [
    "show_doc(CircadianModel.dlmos)"
   ]
  },
  {
   "cell_type": "code",
   "execution_count": null,
   "metadata": {},
   "outputs": [
    {
     "data": {
      "text/markdown": [
       "---\n",
       "\n",
       "[source](https://github.com/Arcascope/circadian/blob/main/circadian/models.py#LNone){target=\"_blank\" style=\"float:right; font-size:smaller\"}\n",
       "\n",
       "### Forger99\n",
       "\n",
       ">      Forger99 (params=None)\n",
       "\n",
       "Implementation of Forger's 1999 model from the article 'A simpler model of the human circadian pacemaker'"
      ],
      "text/plain": [
       "---\n",
       "\n",
       "[source](https://github.com/Arcascope/circadian/blob/main/circadian/models.py#LNone){target=\"_blank\" style=\"float:right; font-size:smaller\"}\n",
       "\n",
       "### Forger99\n",
       "\n",
       ">      Forger99 (params=None)\n",
       "\n",
       "Implementation of Forger's 1999 model from the article 'A simpler model of the human circadian pacemaker'"
      ]
     },
     "execution_count": null,
     "metadata": {},
     "output_type": "execute_result"
    }
   ],
   "source": [
    "show_doc(Forger99)"
   ]
  },
  {
   "cell_type": "code",
   "execution_count": null,
   "metadata": {},
   "outputs": [
    {
     "data": {
      "text/markdown": [
       "---\n",
       "\n",
       "[source](https://github.com/Arcascope/circadian/blob/main/circadian/models.py#LNone){target=\"_blank\" style=\"float:right; font-size:smaller\"}\n",
       "\n",
       "### Jewett99\n",
       "\n",
       ">      Jewett99 (params=None)\n",
       "\n",
       "Implementation of Jewett's 1999 model from the article 'Revised Limit Cycle Oscillator Model of Human Circadian Pacemaker'"
      ],
      "text/plain": [
       "---\n",
       "\n",
       "[source](https://github.com/Arcascope/circadian/blob/main/circadian/models.py#LNone){target=\"_blank\" style=\"float:right; font-size:smaller\"}\n",
       "\n",
       "### Jewett99\n",
       "\n",
       ">      Jewett99 (params=None)\n",
       "\n",
       "Implementation of Jewett's 1999 model from the article 'Revised Limit Cycle Oscillator Model of Human Circadian Pacemaker'"
      ]
     },
     "execution_count": null,
     "metadata": {},
     "output_type": "execute_result"
    }
   ],
   "source": [
    "show_doc(Jewett99)"
   ]
  },
  {
   "cell_type": "code",
   "execution_count": null,
   "metadata": {},
   "outputs": [
    {
     "data": {
      "text/markdown": [
       "---\n",
       "\n",
       "[source](https://github.com/Arcascope/circadian/blob/main/circadian/models.py#LNone){target=\"_blank\" style=\"float:right; font-size:smaller\"}\n",
       "\n",
       "### Hannay19\n",
       "\n",
       ">      Hannay19 (params=None)\n",
       "\n",
       "Implementation of Hannay's 2019 single population model from the article 'Macroscopic models for human circadian rhythms'"
      ],
      "text/plain": [
       "---\n",
       "\n",
       "[source](https://github.com/Arcascope/circadian/blob/main/circadian/models.py#LNone){target=\"_blank\" style=\"float:right; font-size:smaller\"}\n",
       "\n",
       "### Hannay19\n",
       "\n",
       ">      Hannay19 (params=None)\n",
       "\n",
       "Implementation of Hannay's 2019 single population model from the article 'Macroscopic models for human circadian rhythms'"
      ]
     },
     "execution_count": null,
     "metadata": {},
     "output_type": "execute_result"
    }
   ],
   "source": [
    "show_doc(Hannay19)"
   ]
  },
  {
   "cell_type": "code",
   "execution_count": null,
   "metadata": {},
   "outputs": [
    {
     "data": {
      "text/markdown": [
       "---\n",
       "\n",
       "[source](https://github.com/Arcascope/circadian/blob/main/circadian/models.py#LNone){target=\"_blank\" style=\"float:right; font-size:smaller\"}\n",
       "\n",
       "### Hannay19TP\n",
       "\n",
       ">      Hannay19TP (params=None)\n",
       "\n",
       "Implementation of Hannay's 2019 two population model from the article 'Macroscopic models for human circadian rhythms'"
      ],
      "text/plain": [
       "---\n",
       "\n",
       "[source](https://github.com/Arcascope/circadian/blob/main/circadian/models.py#LNone){target=\"_blank\" style=\"float:right; font-size:smaller\"}\n",
       "\n",
       "### Hannay19TP\n",
       "\n",
       ">      Hannay19TP (params=None)\n",
       "\n",
       "Implementation of Hannay's 2019 two population model from the article 'Macroscopic models for human circadian rhythms'"
      ]
     },
     "execution_count": null,
     "metadata": {},
     "output_type": "execute_result"
    }
   ],
   "source": [
    "show_doc(Hannay19TP)"
   ]
  },
  {
   "cell_type": "code",
   "execution_count": null,
   "metadata": {},
   "outputs": [
    {
     "data": {
      "text/markdown": [
       "---\n",
       "\n",
       "### Hilaire07\n",
       "\n",
       ">      Hilaire07 (params=None)\n",
       "\n",
       "Implementation of Hilaire's 2007 model from the article 'Addition of a non-photic component to a light-based mathematical model of the human circadian pacemaker'"
      ],
      "text/plain": [
       "---\n",
       "\n",
       "### Hilaire07\n",
       "\n",
       ">      Hilaire07 (params=None)\n",
       "\n",
       "Implementation of Hilaire's 2007 model from the article 'Addition of a non-photic component to a light-based mathematical model of the human circadian pacemaker'"
      ]
     },
     "execution_count": null,
     "metadata": {},
     "output_type": "execute_result"
    }
   ],
   "source": [
    "show_doc(Hilaire07)"
   ]
  },
  {
   "cell_type": "code",
   "execution_count": null,
   "metadata": {},
   "outputs": [
    {
     "data": {
      "text/markdown": [
       "---\n",
       "\n",
       "### Skeldon23\n",
       "\n",
       ">      Skeldon23 (params=None)\n",
       "\n",
       "Implementation of Skeldon's 2023 model from the article 'Method to determine whether sleep phenotypes are driven by endogenous circadian rhythms or environmental light by combining longitudinal data and personalised mathematical models'"
      ],
      "text/plain": [
       "---\n",
       "\n",
       "### Skeldon23\n",
       "\n",
       ">      Skeldon23 (params=None)\n",
       "\n",
       "Implementation of Skeldon's 2023 model from the article 'Method to determine whether sleep phenotypes are driven by endogenous circadian rhythms or environmental light by combining longitudinal data and personalised mathematical models'"
      ]
     },
     "execution_count": null,
     "metadata": {},
     "output_type": "execute_result"
    }
   ],
   "source": [
    "show_doc(Skeldon23)"
   ]
  },
  {
   "cell_type": "code",
   "execution_count": null,
   "metadata": {},
   "outputs": [],
   "source": [
    "#| hide\n",
    "import nbdev; nbdev.nbdev_export()"
   ]
  }
 ],
 "metadata": {
  "kernelspec": {
   "display_name": "python3",
   "language": "python",
   "name": "python3"
  }
 },
 "nbformat": 4,
 "nbformat_minor": 4
}
