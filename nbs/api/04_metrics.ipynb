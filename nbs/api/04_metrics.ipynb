{
 "cells": [
  {
   "attachments": {},
   "cell_type": "markdown",
   "metadata": {},
   "source": [
    "# Metrics \n",
    "\n",
    "> Defines metrics to quantify circadian disruption "
   ]
  },
  {
   "cell_type": "code",
   "execution_count": null,
   "metadata": {},
   "outputs": [],
   "source": [
    "#| default_exp metrics"
   ]
  },
  {
   "cell_type": "code",
   "execution_count": null,
   "metadata": {},
   "outputs": [],
   "source": [
    "#| hide \n",
    "%load_ext autoreload\n",
    "%autoreload 2"
   ]
  },
  {
   "cell_type": "code",
   "execution_count": null,
   "metadata": {},
   "outputs": [],
   "source": [
    "#| hide\n",
    "from nbdev.showdoc import *\n",
    "from fastcore.test import *\n",
    "from fastcore.basics import *\n",
    "import matplotlib.pyplot as plt"
   ]
  },
  {
   "cell_type": "code",
   "execution_count": null,
   "metadata": {},
   "outputs": [],
   "source": [
    "#| export\n",
    "import warnings\n",
    "import numpy as np\n",
    "from typing import List\n",
    "from circadian.models import Hannay19\n",
    "from circadian.lights import LightSchedule"
   ]
  },
  {
   "cell_type": "code",
   "execution_count": null,
   "metadata": {},
   "outputs": [],
   "source": [
    "#| export\n",
    "#| hide\n",
    "def esri(time: np.ndarray, # time in hours to use for the simulation \n",
    "         light_schedule: np.ndarray, # light schedule in lux \n",
    "         analysis_days: int=4, # number of days used to calculate ESRI\n",
    "         esri_dt: float=1.0, # time resolution of the ESRI calculation in hours\n",
    "         initial_amplitude: float=0.1, # initial amplitude for the simulation. This is the ESRI value for constant darkness\n",
    "         phase_at_midnight: float=1.65238233, # phase at midnight. Default value corresponds to a 8 hour darkness and 16 hour light schedule with wake at 8 am.\n",
    "         ) -> List: # list with ESRI timepoints and ESRI values. Negative ESRI values are turned into NaNs\n",
    "        \"Calculate the ESRI metric for a given light schedule. Follows the implementation from Moreno et al. 2023 'Validation of the Entrainment Signal Regularity Index and associations with children's changes in BMI'\"\n",
    "        # validate inputs\n",
    "        if not isinstance(time, np.ndarray):\n",
    "            raise TypeError(f'time must be a numpy array, not {type(time)}')\n",
    "        if not isinstance(light_schedule, np.ndarray):\n",
    "            raise TypeError(f'light_schedule must be a numpy array, not {type(light_schedule)}')\n",
    "        if len(time) != len(light_schedule):\n",
    "            raise ValueError(f'time and light_schedule must be the same length')\n",
    "        if not np.all(np.isclose(np.diff(time), np.diff(time)[0])):\n",
    "            raise ValueError(f'time must have a fixed time resolution (time between timepoints must be constant)')\n",
    "        if not isinstance(analysis_days, int):\n",
    "            raise TypeError(f'analysis_days must be an integer, not {type(analysis_days)}')\n",
    "        if analysis_days < 1:\n",
    "            raise ValueError(f'analysis_days must be greater than 0')\n",
    "        if not isinstance(esri_dt, (int, float)):\n",
    "            raise TypeError(f'esri_dt must be a float or an int, not {type(esri_dt)}')\n",
    "        if esri_dt <= 0:\n",
    "            raise ValueError(f'esri_dt must be greater than 0')\n",
    "        if not isinstance(initial_amplitude, (int, float)):\n",
    "            raise TypeError(f'initial_amplitude must be a float or an int, not {type(initial_amplitude)}')\n",
    "        if initial_amplitude < 0:\n",
    "            raise ValueError(f'initial_amplitude must be non-negative')\n",
    "        # calculate ESRI \n",
    "        model = Hannay19(params={'K': 0.0, 'gamma': 0.0}) # with these parameters, amplitude is constant in the absence of light\n",
    "        simulation_dt = np.diff(time)[0]\n",
    "        esri_time = np.arange(time[0], time[-1] - analysis_days*24, esri_dt)\n",
    "        esri_array = np.zeros_like(esri_time)\n",
    "        for idx, t in enumerate(esri_time):\n",
    "            initial_phase = phase_at_midnight + np.mod(t, 24.0) * np.pi / 12 # assumes regular schedule with wake at 8 am\n",
    "            initial_condition = np.array([initial_amplitude, initial_phase, 0.0])\n",
    "            simulation_time = np.arange(t, t + analysis_days*24, simulation_dt)\n",
    "            simulation_light = np.interp(simulation_time, time, light_schedule)\n",
    "            trajectory = model(simulation_time, initial_condition, simulation_light)\n",
    "            esri_value = trajectory.states[-1, 0] # model amplitude at the end of the simulation\n",
    "            esri_array[idx] = esri_value\n",
    "        # clean up any negative values\n",
    "        esri_array[esri_array < 0] = np.NaN\n",
    "        # if there's any NaNs, throw a warning thay probably dt was too small\n",
    "        if np.any(np.isnan(esri_array)):\n",
    "            warnings.warn(f'ESRI calculation failed for certain timepoints (NaN ESRI values). Try decreasing the time resolution of the `time` and `light_schedule` arrays.')\n",
    "        return esri_time, esri_array"
   ]
  },
  {
   "cell_type": "code",
   "execution_count": null,
   "metadata": {},
   "outputs": [
    {
     "data": {
      "text/markdown": [
       "---\n",
       "\n",
       "[source](https://github.com/Arcascope/circadian/blob/main/circadian/metrics.py#L14){target=\"_blank\" style=\"float:right; font-size:smaller\"}\n",
       "\n",
       "### esri\n",
       "\n",
       ">      esri (time:numpy.ndarray, light_schedule:numpy.ndarray,\n",
       ">            analysis_days:int=4, esri_dt:float=1.0,\n",
       ">            initial_amplitude:float=0.1, phase_at_midnight:float=1.65238233)\n",
       "\n",
       "Calculate the ESRI metric for a given light schedule. Follows the implementation from Moreno et al. 2023 'Validation of the Entrainment Signal Regularity Index and associations with children's changes in BMI'\n",
       "\n",
       "|    | **Type** | **Default** | **Details** |\n",
       "| -- | -------- | ----------- | ----------- |\n",
       "| time | ndarray |  | time in hours to use for the simulation |\n",
       "| light_schedule | ndarray |  | light schedule in lux |\n",
       "| analysis_days | int | 4 | number of days used to calculate ESRI |\n",
       "| esri_dt | float | 1.0 | time resolution of the ESRI calculation in hours |\n",
       "| initial_amplitude | float | 0.1 | initial amplitude for the simulation. This is the ESRI value for constant darkness |\n",
       "| phase_at_midnight | float | 1.65238233 | phase at midnight. Default value corresponds to a 8 hour darkness and 16 hour light schedule with wake at 8 am. |\n",
       "| **Returns** | **List** |  | **list with ESRI timepoints and ESRI values. Negative ESRI values are turned into NaNs** |"
      ],
      "text/plain": [
       "---\n",
       "\n",
       "[source](https://github.com/Arcascope/circadian/blob/main/circadian/metrics.py#L14){target=\"_blank\" style=\"float:right; font-size:smaller\"}\n",
       "\n",
       "### esri\n",
       "\n",
       ">      esri (time:numpy.ndarray, light_schedule:numpy.ndarray,\n",
       ">            analysis_days:int=4, esri_dt:float=1.0,\n",
       ">            initial_amplitude:float=0.1, phase_at_midnight:float=1.65238233)\n",
       "\n",
       "Calculate the ESRI metric for a given light schedule. Follows the implementation from Moreno et al. 2023 'Validation of the Entrainment Signal Regularity Index and associations with children's changes in BMI'\n",
       "\n",
       "|    | **Type** | **Default** | **Details** |\n",
       "| -- | -------- | ----------- | ----------- |\n",
       "| time | ndarray |  | time in hours to use for the simulation |\n",
       "| light_schedule | ndarray |  | light schedule in lux |\n",
       "| analysis_days | int | 4 | number of days used to calculate ESRI |\n",
       "| esri_dt | float | 1.0 | time resolution of the ESRI calculation in hours |\n",
       "| initial_amplitude | float | 0.1 | initial amplitude for the simulation. This is the ESRI value for constant darkness |\n",
       "| phase_at_midnight | float | 1.65238233 | phase at midnight. Default value corresponds to a 8 hour darkness and 16 hour light schedule with wake at 8 am. |\n",
       "| **Returns** | **List** |  | **list with ESRI timepoints and ESRI values. Negative ESRI values are turned into NaNs** |"
      ]
     },
     "execution_count": null,
     "metadata": {},
     "output_type": "execute_result"
    }
   ],
   "source": [
    "show_doc(esri)"
   ]
  },
  {
   "cell_type": "code",
   "execution_count": null,
   "metadata": {},
   "outputs": [],
   "source": [
    "\n",
    "\n",
    "def sleep_metrics(\n",
    "    time: np.ndarray, # array of time values\n",
    "    sleep_state: np.ndarray, # array of sleep state values\n",
    ") -> List[np.ndarray]:\n",
    "    \"Calculate sleep duration and mid-sleep time\"\n",
    "    if not isinstance(time, np.ndarray):\n",
    "        time = np.array(time)\n",
    "        raise ValueError(\"time must be a numpy array\")\n",
    "    if not isinstance(sleep_state, np.ndarray):\n",
    "        sleep_state = np.array(sleep_state)\n",
    "        raise ValueError(\"sleep_state must be a numpy array\")\n",
    "    if len(time) != len(sleep_state):\n",
    "        raise ValueError(\"time and sleep_state must have the same length\")\n",
    "\n",
    "    sleep_start_idxs = np.where(np.diff(sleep) == 1)[0]\n",
    "    sleep_end_idxs = np.where(np.diff(sleep) == -1)[0] \n",
    "    # trim any incomplete sleep windows\n",
    "    if sleep_start_idxs[0] > sleep_end_idxs[0]:\n",
    "        sleep_end_idxs = sleep_end_idxs[1:]\n",
    "    if sleep_start_idxs[-1] > sleep_end_idxs[-1]:\n",
    "        sleep_start_idxs = sleep_start_idxs[:-1]\n",
    "\n",
    "    sleep_duration = np.mean(time[sleep_end_idxs] - time[sleep_start_idxs])\n",
    "    sleep_midpoints = (time[sleep_start_idxs] + time[sleep_end_idxs]) / 2.0\n",
    "    mid_sleep_time = np.mean(np.mod(sleep_midpoints, 24.0))\n",
    "\n",
    "    return sleep_duration, mid_sleep_time"
   ]
  },
  {
   "cell_type": "code",
   "execution_count": null,
   "metadata": {},
   "outputs": [],
   "source": [
    "#| hide\n",
    "import nbdev; nbdev.nbdev_export()"
   ]
  }
 ],
 "metadata": {
  "kernelspec": {
   "display_name": "python3",
   "language": "python",
   "name": "python3"
  }
 },
 "nbformat": 4,
 "nbformat_minor": 2
}
