{
 "cells": [
  {
   "attachments": {},
   "cell_type": "markdown",
   "metadata": {},
   "source": [
    "# Metrics \n",
    "\n",
    "> Metric to quantify circadian disruption "
   ]
  },
  {
   "cell_type": "code",
   "execution_count": null,
   "metadata": {},
   "outputs": [],
   "source": [
    "#| default_exp metrics"
   ]
  },
  {
   "cell_type": "code",
   "execution_count": null,
   "metadata": {},
   "outputs": [],
   "source": [
    "#| hide \n",
    "%load_ext autoreload\n",
    "%autoreload 2"
   ]
  },
  {
   "cell_type": "code",
   "execution_count": null,
   "metadata": {},
   "outputs": [],
   "source": [
    "#| hide\n",
    "from nbdev.showdoc import *\n",
    "from fastcore.test import *\n",
    "from fastcore.basics import *"
   ]
  },
  {
   "cell_type": "code",
   "execution_count": null,
   "metadata": {},
   "outputs": [],
   "source": [
    "#| export\n",
    "import numpy as np\n",
    "from typing import List\n",
    "from circadian.models import Hannay19\n",
    "from circadian.utils import phase_ic_guess\n",
    "from circadian.readers import WearableData"
   ]
  },
  {
   "cell_type": "code",
   "execution_count": null,
   "metadata": {},
   "outputs": [],
   "source": [
    "#| export\n",
    "#| hide\n",
    "def esri(awObj: WearableData, \n",
    "                gamma: float = 0.0,\n",
    "                multiplier: float = 1.0,\n",
    "                num_days: float = 4.5):\n",
    "\n",
    "    spmodel = Hannay19({'K': 0.0, 'gamma': gamma})\n",
    "    psi0 = phase_ic_guess(awObj.time_total[0])\n",
    "\n",
    "    idx = awObj.time_total < awObj.time_total[0]+24*num_days\n",
    "    sol = spmodel.integrate(awObj.time_total[idx], \n",
    "                            np.array([0.10, psi0, 0.0]),\n",
    "                            multiplier*awObj.steps[idx],) \n",
    "    return sol.time, sol.states"
   ]
  },
  {
   "cell_type": "code",
   "execution_count": null,
   "metadata": {},
   "outputs": [],
   "source": [
    "#| export\n",
    "#| hide\n",
    "def esri_trajectory(awObj: WearableData,\n",
    "                    gamma: float = 0.0,\n",
    "                    multiplier: float = 1.0,\n",
    "                    num_days: float = 4.5,\n",
    "                    ):\n",
    "    spmodel = Hannay19({'K': 0.0, 'gamma': gamma})\n",
    "    compactness_trajectory = []\n",
    "    time_trajectory = []\n",
    "    timestamps = []\n",
    "    timeStart = awObj.time_total[0]\n",
    "    timestampStart = awObj.timestamp[0]\n",
    "    while timeStart < awObj.time_total[-1] - 24*num_days:\n",
    "        try:\n",
    "            psi0 = phase_ic_guess(timeStart)\n",
    "            idxStart = (awObj.time_total > timeStart)\n",
    "            tsFilter = awObj.time_total[idxStart]\n",
    "            idx = tsFilter < np.array(tsFilter[0])+24*num_days\n",
    "            stepsFilter = awObj.steps[idxStart]\n",
    "            trajectory = spmodel.integrate(\n",
    "                tsFilter[idx], np.array([0.10, psi0, 0.0], \n",
    "                multiplier*stepsFilter[idx]))\n",
    "            sol = trajectory.states\n",
    "            if sol[0, -1] > 0.0:\n",
    "                compactness_trajectory.append(sol[0, -1])\n",
    "                time_trajectory.append(timeStart)\n",
    "                timestamps.append(\n",
    "                    3600.0*(timeStart - awObj.time_total[0]) + timestampStart)\n",
    "        except:\n",
    "            print(\"Error in trajectory\")\n",
    "        timeStart += 1.0\n",
    "    return time_trajectory, timestamps, compactness_trajectory"
   ]
  },
  {
   "cell_type": "code",
   "execution_count": null,
   "metadata": {},
   "outputs": [],
   "source": [
    "\n",
    "\n",
    "def sleep_metrics(\n",
    "    time: np.ndarray, # array of time values\n",
    "    sleep_state: np.ndarray, # array of sleep state values\n",
    ") -> List[np.ndarray]:\n",
    "    \"Calculate sleep duration and mid-sleep time\"\n",
    "    if not isinstance(time, np.ndarray):\n",
    "        time = np.array(time)\n",
    "        raise ValueError(\"time must be a numpy array\")\n",
    "    if not isinstance(sleep_state, np.ndarray):\n",
    "        sleep_state = np.array(sleep_state)\n",
    "        raise ValueError(\"sleep_state must be a numpy array\")\n",
    "    if len(time) != len(sleep_state):\n",
    "        raise ValueError(\"time and sleep_state must have the same length\")\n",
    "\n",
    "    sleep_start_idxs = np.where(np.diff(sleep) == 1)[0]\n",
    "    sleep_end_idxs = np.where(np.diff(sleep) == -1)[0] \n",
    "    # trim any incomplete sleep windows\n",
    "    if sleep_start_idxs[0] > sleep_end_idxs[0]:\n",
    "        sleep_end_idxs = sleep_end_idxs[1:]\n",
    "    if sleep_start_idxs[-1] > sleep_end_idxs[-1]:\n",
    "        sleep_start_idxs = sleep_start_idxs[:-1]\n",
    "\n",
    "    sleep_duration = np.mean(time[sleep_end_idxs] - time[sleep_start_idxs])\n",
    "    sleep_midpoints = (time[sleep_start_idxs] + time[sleep_end_idxs]) / 2.0\n",
    "    mid_sleep_time = np.mean(np.mod(sleep_midpoints, 24.0))\n",
    "\n",
    "    return sleep_duration, mid_sleep_time"
   ]
  },
  {
   "cell_type": "code",
   "execution_count": null,
   "metadata": {},
   "outputs": [],
   "source": [
    "#| hide\n",
    "import nbdev; nbdev.nbdev_export()"
   ]
  }
 ],
 "metadata": {
  "kernelspec": {
   "display_name": "python3",
   "language": "python",
   "name": "python3"
  }
 },
 "nbformat": 4,
 "nbformat_minor": 2
}
