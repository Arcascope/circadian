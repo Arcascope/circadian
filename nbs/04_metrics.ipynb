{
 "cells": [
  {
   "attachments": {},
   "cell_type": "markdown",
   "metadata": {},
   "source": [
    "# Metrics \n",
    "\n",
    "> Metric to quantify circadian disruption "
   ]
  },
  {
   "cell_type": "code",
   "execution_count": 1,
   "metadata": {},
   "outputs": [],
   "source": [
    "#| default_exp metrics"
   ]
  },
  {
   "cell_type": "code",
   "execution_count": 2,
   "metadata": {},
   "outputs": [],
   "source": [
    "#| hide\n",
    "from nbdev.showdoc import *"
   ]
  },
  {
   "cell_type": "code",
   "execution_count": 3,
   "metadata": {},
   "outputs": [],
   "source": [
    "#| export\n",
    "\n",
    "import numpy as np\n",
    "from circadian.models import SinglePopModel\n",
    "from circadian.utils import phase_ic_guess\n",
    "from circadian.readers import WearableData"
   ]
  },
  {
   "cell_type": "code",
   "execution_count": 4,
   "metadata": {},
   "outputs": [],
   "source": [
    "#| export\n",
    "\n",
    "def esri(awObj: WearableData, \n",
    "                gamma: float = 0.0,\n",
    "                multiplier: float = 1.0,\n",
    "                num_days: float = 4.5):\n",
    "\n",
    "    spmodel = SinglePopModel({'K': 0.0, 'gamma': gamma})\n",
    "    psi0 = phase_ic_guess(awObj.time_total[0])\n",
    "\n",
    "    idx = awObj.time_total < awObj.time_total[0]+24*num_days\n",
    "    sol = spmodel.integrate_model(\n",
    "        awObj.time_total[idx], multiplier*awObj.steps[idx],\n",
    "        np.array([0.10, psi0, 0.0])\n",
    "    )\n",
    "    return awObj.time_total[idx], sol\n",
    "\n"
   ]
  },
  {
   "cell_type": "code",
   "execution_count": 5,
   "metadata": {},
   "outputs": [],
   "source": [
    "#| export\n",
    "\n",
    "\n",
    "def esri_trajectory(awObj,\n",
    "                           gamma: float = 0.0,\n",
    "                           multiplier: float = 1.0,\n",
    "                           num_days: float = 4.5,\n",
    "                           ):\n",
    "\n",
    "    spmodel = SinglePopModel({'K': 0.0, 'gamma': gamma})\n",
    "    compactness_trajectory = []\n",
    "    time_trajectory = []\n",
    "    timestamps = []\n",
    "    timeStart = awObj.time_total[0]\n",
    "    timestampStart = awObj.date_time[0]\n",
    "    while timeStart < awObj.time_total[-1] - 24*num_days:\n",
    "        try:\n",
    "            psi0 = phase_ic_guess(timeStart)\n",
    "            idxStart = (awObj.time_total > timeStart)\n",
    "            tsFilter = awObj.time_total[idxStart]\n",
    "            idx = tsFilter < np.array(tsFilter[0])+24*num_days\n",
    "            stepsFilter = awObj.steps[idxStart]\n",
    "            sol = spmodel.integrate_model(\n",
    "                tsFilter[idx], multiplier*stepsFilter[idx],\n",
    "                np.array([0.10, psi0, 0.0])\n",
    "            )\n",
    "            if sol[0, -1] > 0.0:\n",
    "                compactness_trajectory.append(sol[0, -1])\n",
    "                time_trajectory.append(timeStart)\n",
    "                timestamps.append(\n",
    "                    3600.0*(timeStart - awObj.time_total[0]) + timestampStart)\n",
    "        except:\n",
    "            print(\"Error in trajectory\")\n",
    "        timeStart += 1.0\n",
    "    return time_trajectory, timestamps, compactness_trajectory\n"
   ]
  },
  {
   "cell_type": "code",
   "execution_count": 6,
   "metadata": {},
   "outputs": [],
   "source": [
    "#| hide\n",
    "import nbdev; nbdev.nbdev_export()"
   ]
  }
 ],
 "metadata": {
  "kernelspec": {
   "display_name": "base",
   "language": "python",
   "name": "python3"
  },
  "language_info": {
   "codemirror_mode": {
    "name": "ipython",
    "version": 3
   },
   "file_extension": ".py",
   "mimetype": "text/x-python",
   "name": "python",
   "nbconvert_exporter": "python",
   "pygments_lexer": "ipython3",
   "version": "3.9.10"
  },
  "vscode": {
   "interpreter": {
    "hash": "c6e4e9f98eb68ad3b7c296f83d20e6de614cb42e90992a65aa266555a3137d0d"
   }
  }
 },
 "nbformat": 4,
 "nbformat_minor": 2
}
