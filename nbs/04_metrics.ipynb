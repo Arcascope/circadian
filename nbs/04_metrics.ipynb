{
 "cells": [
  {
   "attachments": {},
   "cell_type": "markdown",
   "metadata": {},
   "source": [
    "# Metrics \n",
    "\n",
    "> Metric to quantify circadian disruption "
   ]
  },
  {
   "cell_type": "code",
   "execution_count": null,
   "metadata": {},
   "outputs": [],
   "source": [
    "#| default_exp metrics"
   ]
  },
  {
   "cell_type": "code",
   "execution_count": null,
   "metadata": {},
   "outputs": [],
   "source": [
    "#| hide \n",
    "%load_ext autoreload\n",
    "%autoreload 2"
   ]
  },
  {
   "cell_type": "code",
   "execution_count": null,
   "metadata": {},
   "outputs": [],
   "source": [
    "#| hide\n",
    "from nbdev.showdoc import *\n",
    "from fastcore.test import *\n",
    "from fastcore.basics import *"
   ]
  },
  {
   "cell_type": "code",
   "execution_count": null,
   "metadata": {},
   "outputs": [],
   "source": [
    "#| export\n",
    "import numpy as np\n",
    "from circadian.models import Hannay19\n",
    "from circadian.utils import phase_ic_guess\n",
    "from circadian.readers import WearableData"
   ]
  },
  {
   "cell_type": "code",
   "execution_count": null,
   "metadata": {},
   "outputs": [],
   "source": [
    "#| export\n",
    "#| hide\n",
    "def esri(awObj: WearableData, \n",
    "                gamma: float = 0.0,\n",
    "                multiplier: float = 1.0,\n",
    "                num_days: float = 4.5):\n",
    "\n",
    "    spmodel = Hannay19({'K': 0.0, 'gamma': gamma})\n",
    "    psi0 = phase_ic_guess(awObj.time_total[0])\n",
    "\n",
    "    idx = awObj.time_total < awObj.time_total[0]+24*num_days\n",
    "    sol = spmodel.integrate(awObj.time_total[idx], \n",
    "                            np.array([0.10, psi0, 0.0]),\n",
    "                            multiplier*awObj.steps[idx],) \n",
    "    return sol.time, sol.states"
   ]
  },
  {
   "cell_type": "code",
   "execution_count": null,
   "metadata": {},
   "outputs": [],
   "source": [
    "#| export\n",
    "#| hide\n",
    "def esri_trajectory(awObj: WearableData,\n",
    "                    gamma: float = 0.0,\n",
    "                    multiplier: float = 1.0,\n",
    "                    num_days: float = 4.5,\n",
    "                    ):\n",
    "    spmodel = Hannay19({'K': 0.0, 'gamma': gamma})\n",
    "    compactness_trajectory = []\n",
    "    time_trajectory = []\n",
    "    timestamps = []\n",
    "    timeStart = awObj.time_total[0]\n",
    "    timestampStart = awObj.timestamp[0]\n",
    "    while timeStart < awObj.time_total[-1] - 24*num_days:\n",
    "        try:\n",
    "            psi0 = phase_ic_guess(timeStart)\n",
    "            idxStart = (awObj.time_total > timeStart)\n",
    "            tsFilter = awObj.time_total[idxStart]\n",
    "            idx = tsFilter < np.array(tsFilter[0])+24*num_days\n",
    "            stepsFilter = awObj.steps[idxStart]\n",
    "            trajectory = spmodel.integrate(\n",
    "                tsFilter[idx], np.array([0.10, psi0, 0.0], \n",
    "                multiplier*stepsFilter[idx]))\n",
    "            sol = trajectory.states\n",
    "            if sol[0, -1] > 0.0:\n",
    "                compactness_trajectory.append(sol[0, -1])\n",
    "                time_trajectory.append(timeStart)\n",
    "                timestamps.append(\n",
    "                    3600.0*(timeStart - awObj.time_total[0]) + timestampStart)\n",
    "        except:\n",
    "            print(\"Error in trajectory\")\n",
    "        timeStart += 1.0\n",
    "    return time_trajectory, timestamps, compactness_trajectory"
   ]
  },
  {
   "cell_type": "code",
   "execution_count": null,
   "metadata": {},
   "outputs": [],
   "source": [
    "#| hide\n",
    "import nbdev; nbdev.nbdev_export()"
   ]
  }
 ],
 "metadata": {
  "kernelspec": {
   "display_name": "python3",
   "language": "python",
   "name": "python3"
  }
 },
 "nbformat": 4,
 "nbformat_minor": 2
}
